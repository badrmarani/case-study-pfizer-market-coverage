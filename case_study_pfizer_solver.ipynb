{
 "cells": [
  {
   "cell_type": "code",
<<<<<<< HEAD
   "execution_count": null,
=======
   "execution_count": 1,
>>>>>>> 84445a50b93bf30ba36bc435057d46967fa87b93
   "metadata": {
    "id": "cesGCjZjh1Q5"
   },
   "outputs": [],
   "source": [
    "%reset -f"
   ]
  },
  {
   "cell_type": "code",
   "execution_count": null,
   "metadata": {
    "colab": {
     "base_uri": "https://localhost:8080/"
    },
    "id": "2pwpiYG6YF2y",
    "outputId": "32029141-6e2e-4977-a39b-469b6da60810"
   },
   "outputs": [],
   "source": [
    "!pip install --quiet gurobipy scienceplots latex\n",
    "!apt-get install texlive-latex-extra texlive-fonts-recommended dvipng cm-super"
   ]
  },
  {
   "cell_type": "code",
<<<<<<< HEAD
   "execution_count": null,
=======
   "execution_count": 4,
>>>>>>> 84445a50b93bf30ba36bc435057d46967fa87b93
   "metadata": {
    "id": "XM18NBdHqCwD"
   },
   "outputs": [],
   "source": [
    "import scienceplots\n",
    "\n",
    "import gurobipy as gp\n",
    "from gurobipy import GRB\n",
    "\n",
    "import matplotlib.pyplot as plt\n",
    "import pandas as pd\n",
    "import numpy as np\n",
    "import math\n",
    "import itertools\n",
    "from tqdm.notebook import tqdm\n",
    "\n",
    "import os\n",
    "\n",
    "os.makedirs(\"figures/\", exist_ok=True)"
   ]
  },
  {
   "cell_type": "code",
   "execution_count": null,
   "metadata": {
    "colab": {
     "base_uri": "https://localhost:8080/"
    },
    "id": "ZBA49bSlgH0-",
    "outputId": "0bd28ff7-cfb9-4d1a-f497-3ad23a355ec6"
   },
<<<<<<< HEAD
   "outputs": [],
=======
   "outputs": [
    {
     "name": "stdout",
     "output_type": "stream",
     "text": [
      "Restricted license - for non-production use only - expires 2026-11-23\n"
     ]
    }
   ],
>>>>>>> 84445a50b93bf30ba36bc435057d46967fa87b93
   "source": [
    "params = {\n",
    "    \"WLSACCESSID\": os.environ[\"WLSACCESSID\"],\n",
    "    \"WLSSECRET\": os.environ[\"WLSSECRET\"],\n",
    "    \"LICENSEID\": os.environ[\"LICENSEID\"],\n",
    "}\n",
    "\n",
    "env = gp.Env(params=params)"
   ]
  },
  {
   "cell_type": "code",
<<<<<<< HEAD
   "execution_count": null,
=======
   "execution_count": 8,
>>>>>>> 84445a50b93bf30ba36bc435057d46967fa87b93
   "metadata": {
    "id": "PG2FWqdXKa3N"
   },
   "outputs": [],
   "source": [
    "def convert_dict_to_binary_matrix(d):\n",
    "    df = pd.concat([pd.Series(v, name=k).astype(str) for k, v in d.items()], axis=1)\n",
    "    df = pd.get_dummies(df.stack()).groupby(level=1).sum().clip(upper=1)\n",
    "    df.columns = [int(c) for c in df.columns]\n",
    "    df = df.reindex(sorted(df.columns), axis=1)\n",
    "    return df.values\n",
    "\n",
    "\n",
    "def get_report(assignments):\n",
    "    \"\"\"This function takes the best optimal solution found by Gurobi\n",
    "    and generate a `smallish` report as to ease reading the results.\n",
    "    \"\"\"\n",
    "    t = assignments.argmax(axis=0) + 1\n",
    "\n",
    "    solution = {}\n",
    "    bricks = np.arange(1, num_bricks + 1)\n",
    "    for i in range(1, 4 + 1):\n",
    "        indices = np.nonzero(t == i)\n",
    "        solution[i] = (\n",
    "            distances[i - 1, indices].sum(),\n",
    "            index_values[indices].sum(),\n",
    "            bricks[indices],\n",
    "        )\n",
    "\n",
    "    print(\"Structure of Sales Territories:\")\n",
    "    for k, v in solution.items():\n",
    "        distance_per_sr, index_value_per_sr, assigned_bricks = v\n",
    "        print(\n",
    "            f\"SR{k} (iv:{index_value_per_sr:.3f} - distance:{distance_per_sr:.3f}):\",\n",
    "            assigned_bricks,\n",
    "        )\n",
    "\n",
    "    total_distance = np.sum(distances * assignments)\n",
    "    disruption = np.sum((assignments - x_current_structure) ** 2 * index_values / 2)\n",
    "\n",
    "    print(\"Disruption:\", disruption)\n",
    "    print(\"Total distance:\", total_distance)\n",
    "    return disruption, total_distance"
   ]
  },
  {
   "cell_type": "markdown",
   "metadata": {
    "id": "T8pL4wT9VI3J"
   },
   "source": [
    "# Parameters"
   ]
  },
  {
   "cell_type": "code",
<<<<<<< HEAD
   "execution_count": null,
=======
   "execution_count": 9,
>>>>>>> 84445a50b93bf30ba36bc435057d46967fa87b93
   "metadata": {
    "id": "hkyxkNQuKFLR"
   },
   "outputs": [],
   "source": [
    "current_structure_of_sales_territories = {\n",
    "    1: [4, 5, 6, 7, 8, 15],\n",
    "    2: [10, 11, 12, 13, 14],\n",
    "    3: [9, 16, 17, 18],\n",
    "    4: [1, 2, 3, 19, 20, 21, 22],\n",
    "}\n",
    "\n",
    "x_current_structure = convert_dict_to_binary_matrix(current_structure_of_sales_territories)"
   ]
  },
  {
   "cell_type": "code",
<<<<<<< HEAD
   "execution_count": null,
=======
   "execution_count": 11,
>>>>>>> 84445a50b93bf30ba36bc435057d46967fa87b93
   "metadata": {
    "id": "jxzZCJt_5g2H"
   },
   "outputs": [],
   "source": [
    "distances_df = pd.read_excel(\"/content/distances.xlsx\", index_col=1, header=1)\n",
    "distances_df.dropna(inplace=True, axis=1)\n",
    "distances = distances_df.values.T\n",
    "\n",
    "distances_between_bricks_df = pd.read_excel(\n",
    "    \"/content/distances.xlsx\", index_col=1, header=1, sheet_name=1\n",
    ")\n",
    "distances_between_bricks_df.dropna(inplace=True, axis=1)\n",
    "distances_between_bricks = distances_between_bricks_df.values\n",
    "\n",
    "index_values_df = pd.read_excel(\n",
    "    \"/content/indexValues.xlsx\",\n",
    "    header=None,\n",
    "    names=[\"brick\", \"index_value\"],\n",
    "    index_col=0,\n",
    ")\n",
    "index_values = index_values_df.values.squeeze(1)"
   ]
  },
  {
   "cell_type": "code",
<<<<<<< HEAD
   "execution_count": null,
=======
   "execution_count": 12,
>>>>>>> 84445a50b93bf30ba36bc435057d46967fa87b93
   "metadata": {
    "colab": {
     "base_uri": "https://localhost:8080/"
    },
    "id": "MKbdyP0V-UZY",
    "outputId": "1a051972-77e7-4561-9f31-5b2762b4ac7f"
   },
<<<<<<< HEAD
   "outputs": [],
=======
   "outputs": [
    {
     "name": "stdout",
     "output_type": "stream",
     "text": [
      "Number of bricks: 22\n",
      "Number of sales representatives: 4\n"
     ]
    }
   ],
>>>>>>> 84445a50b93bf30ba36bc435057d46967fa87b93
   "source": [
    "num_bricks = distances_df.shape[0]\n",
    "num_sr = distances_df.shape[1]\n",
    "\n",
    "print(\"Number of bricks:\", num_bricks)\n",
    "print(\"Number of sales representatives:\", num_sr)"
   ]
  },
  {
   "cell_type": "code",
<<<<<<< HEAD
   "execution_count": null,
=======
   "execution_count": 13,
>>>>>>> 84445a50b93bf30ba36bc435057d46967fa87b93
   "metadata": {
    "id": "fkb43DXU6vwF"
   },
   "outputs": [],
   "source": [
    "results = {\n",
    "    \"disruption\": [],\n",
    "    \"total_distance\": [],\n",
    "}"
   ]
  },
  {
   "cell_type": "code",
<<<<<<< HEAD
   "execution_count": null,
=======
   "execution_count": 14,
>>>>>>> 84445a50b93bf30ba36bc435057d46967fa87b93
   "metadata": {
    "colab": {
     "base_uri": "https://localhost:8080/"
    },
    "id": "91Kiqc7U3h5G",
    "outputId": "e07280dc-9db5-403f-f983-b1fe8dfad723"
   },
<<<<<<< HEAD
   "outputs": [],
=======
   "outputs": [
    {
     "name": "stdout",
     "output_type": "stream",
     "text": [
      "Structure of Sales Territories:\n",
      "SR1 (iv:0.951 - distance:19.300): [ 4  5  6  7  8 15]\n",
      "SR2 (iv:1.338 - distance:33.320): [10 11 12 13 14]\n",
      "SR3 (iv:0.705 - distance:10.050): [ 9 16 17 18]\n",
      "SR4 (iv:1.007 - distance:124.740): [ 1  2  3 19 20 21 22]\n",
      "Disruption: 0.0\n",
      "Total distance: 187.41\n"
     ]
    }
   ],
>>>>>>> 84445a50b93bf30ba36bc435057d46967fa87b93
   "source": [
    "# current structure\n",
    "disruption, total_distance = get_report(assignments=x_current_structure)\n",
    "\n",
    "results[\"disruption\"].append(disruption)\n",
    "results[\"total_distance\"].append(total_distance)"
   ]
  },
  {
   "cell_type": "markdown",
   "metadata": {
    "id": "-o3YTT2aU80h"
   },
   "source": [
    "# Mathematical Formulation"
   ]
  },
  {
   "cell_type": "code",
<<<<<<< HEAD
   "execution_count": null,
=======
   "execution_count": 15,
>>>>>>> 84445a50b93bf30ba36bc435057d46967fa87b93
   "metadata": {
    "id": "POcIx8djU8b7"
   },
   "outputs": [],
   "source": [
    "def add_workload_balance_constraint(model, index_values, x, lb, ub, num_bricks, num_sr):\n",
    "    model.addConstrs(\n",
    "        (\n",
    "            lb <= gp.quicksum(index_values[j] * x[i][j] for j in range(num_bricks))\n",
    "            for i in range(num_sr)\n",
    "        ),\n",
    "        name=\"left_workload_balance\",\n",
    "    )\n",
    "\n",
    "    model.addConstrs(\n",
    "        (\n",
    "            gp.quicksum(index_values[j] * x[i][j] for j in range(num_bricks)) <= ub\n",
    "            for i in range(num_sr)\n",
    "        ),\n",
    "        name=\"right_workload_balance\",\n",
    "    )\n",
    "\n",
    "    return model\n",
    "\n",
    "\n",
    "def add_no_partial_assignment_cosntraint(model, x, num_bricks, num_sr):\n",
    "    model.addConstrs(\n",
    "        (gp.quicksum(x[i][j] for i in range(num_sr)) == 1 for j in range(num_bricks)),\n",
    "        name=\"no_partial_assignments\",\n",
    "    )\n",
    "\n",
    "    return model\n",
    "\n",
    "\n",
    "def add_constraints(model, index_values, x, lb, ub, num_bricks, num_sr):\n",
    "    model.update()\n",
    "    model = add_workload_balance_constraint(model, index_values, x, lb, ub, num_bricks, num_sr)\n",
    "    model = add_no_partial_assignment_cosntraint(model, x, num_bricks, num_sr)\n",
    "    return model"
   ]
  },
  {
   "cell_type": "code",
<<<<<<< HEAD
   "execution_count": null,
=======
   "execution_count": 16,
>>>>>>> 84445a50b93bf30ba36bc435057d46967fa87b93
   "metadata": {
    "editable": true,
    "id": "AXfXHf60qInX",
    "slideshow": {
     "slide_type": ""
    },
    "tags": []
   },
   "outputs": [],
   "source": [
    "def get_ideal_nadir_point(\n",
    "    workload_balance_lower_bound: float,\n",
    "    workload_balance_upper_bound: float,\n",
    "):\n",
    "    model = gp.Model(\"pfizer\")\n",
    "    model.params.outputflag = 0\n",
    "\n",
    "    # Decision variables\n",
    "    x = model.addMVar((num_sr, num_bricks), vtype=GRB.BINARY)\n",
    "\n",
    "    # Add constraints\n",
    "    model = add_constraints(\n",
    "        model,\n",
    "        index_values,\n",
    "        x,\n",
    "        lb=workload_balance_lower_bound,\n",
    "        ub=workload_balance_upper_bound,\n",
    "        num_bricks=num_bricks,\n",
    "        num_sr=num_sr,\n",
    "    )\n",
    "\n",
    "    # Minimize the total distance\n",
    "    model.setObjective(\n",
    "        gp.quicksum(distances[i][j] * x[i][j] for i in range(num_sr) for j in range(num_bricks)),\n",
    "        GRB.MINIMIZE,\n",
    "    )\n",
    "\n",
    "    model.update()\n",
    "    model.optimize()\n",
    "    max_disruption, max_total_distance = get_report(assignments=x.x)\n",
    "    min_disruption, min_total_distance = get_report(assignments=x.x)\n",
    "\n",
    "    model = gp.Model(\"pfizer\")\n",
    "    model.params.outputflag = 0\n",
    "\n",
    "    # Decision variables\n",
    "    x = model.addMVar((num_sr, num_bricks), vtype=GRB.BINARY)\n",
    "\n",
    "    # Add constraints\n",
    "    model = add_constraints(\n",
    "        model,\n",
    "        index_values,\n",
    "        x,\n",
    "        lb=workload_balance_lower_bound,\n",
    "        ub=workload_balance_upper_bound,\n",
    "        num_bricks=num_bricks,\n",
    "        num_sr=num_sr,\n",
    "    )\n",
    "\n",
    "    # Minimize the total disruption between SRs\n",
    "    model.setObjective(\n",
    "        gp.quicksum(\n",
    "            index_values[j]\n",
    "            * (x[i][j] - x_current_structure[i][j])\n",
    "            * (x[i][j] - x_current_structure[i][j])\n",
    "            / 2\n",
    "            for i in range(num_sr)\n",
    "            for j in range(num_bricks)\n",
    "        ),\n",
    "        GRB.MINIMIZE,\n",
    "    )\n",
    "\n",
    "    model.update()\n",
    "    model.optimize()\n",
    "    disruption, total_distance = get_report(assignments=x.x)\n",
    "\n",
    "    min_disruption = min(min_disruption, disruption)\n",
    "    min_total_distance = min(min_total_distance, total_distance)\n",
    "\n",
    "    max_disruption = max(max_disruption, disruption)\n",
    "    max_total_distance = max(max_total_distance, total_distance)\n",
    "\n",
    "    return min_disruption, min_total_distance, max_disruption, max_total_distance"
   ]
  },
  {
   "cell_type": "markdown",
   "metadata": {
    "id": "XH1iRCZa1pOv"
   },
   "source": [
    "# Mono-objective problem"
   ]
  },
  {
   "cell_type": "markdown",
   "metadata": {
    "id": "zrrqts-q1Uyi"
   },
   "source": [
    "## Minimize the totale distance"
   ]
  },
  {
   "cell_type": "code",
<<<<<<< HEAD
   "execution_count": null,
=======
   "execution_count": 17,
>>>>>>> 84445a50b93bf30ba36bc435057d46967fa87b93
   "metadata": {
    "id": "DxqydbYSXuW6"
   },
   "outputs": [],
   "source": [
    "lb = 0.8\n",
    "ub = 1.2"
   ]
  },
  {
   "cell_type": "code",
<<<<<<< HEAD
   "execution_count": null,
=======
   "execution_count": 18,
>>>>>>> 84445a50b93bf30ba36bc435057d46967fa87b93
   "metadata": {
    "colab": {
     "base_uri": "https://localhost:8080/"
    },
    "id": "lArQuNwQ1bSy",
    "outputId": "aa07a093-ca32-4faa-cb0b-8e2f04f3caed"
   },
<<<<<<< HEAD
   "outputs": [],
=======
   "outputs": [
    {
     "name": "stdout",
     "output_type": "stream",
     "text": [
      "Restricted license - for non-production use only - expires 2026-11-23\n",
      "Gurobi Optimizer version 12.0.2 build v12.0.2rc0 (linux64 - \"Ubuntu 22.04.4 LTS\")\n",
      "\n",
      "CPU model: Intel(R) Xeon(R) CPU @ 2.20GHz, instruction set [SSE2|AVX|AVX2]\n",
      "Thread count: 1 physical cores, 2 logical processors, using up to 2 threads\n",
      "\n",
      "Optimize a model with 30 rows, 88 columns and 264 nonzeros\n",
      "Model fingerprint: 0x45a7461b\n",
      "Variable types: 0 continuous, 88 integer (88 binary)\n",
      "Coefficient statistics:\n",
      "  Matrix range     [4e-02, 1e+00]\n",
      "  Objective range  [8e-01, 5e+01]\n",
      "  Bounds range     [1e+00, 1e+00]\n",
      "  RHS range        [8e-01, 1e+00]\n",
      "Found heuristic solution: objective 346.1500000\n",
      "Presolve time: 0.00s\n",
      "Presolved: 30 rows, 88 columns, 264 nonzeros\n",
      "Variable types: 0 continuous, 88 integer (88 binary)\n",
      "\n",
      "Root relaxation: objective 1.488330e+02, 25 iterations, 0.00 seconds (0.00 work units)\n",
      "\n",
      "    Nodes    |    Current Node    |     Objective Bounds      |     Work\n",
      " Expl Unexpl |  Obj  Depth IntInf | Incumbent    BestBd   Gap | It/Node Time\n",
      "\n",
      "     0     0  148.83305    0    6  346.15000  148.83305  57.0%     -    0s\n",
      "H    0     0                     181.0200000  148.83305  17.8%     -    0s\n",
      "H    0     0                     154.6000000  148.83305  3.73%     -    0s\n",
      "     0     0  148.83305    0    6  154.60000  148.83305  3.73%     -    0s\n",
      "\n",
      "Explored 1 nodes (25 simplex iterations) in 0.03 seconds (0.00 work units)\n",
      "Thread count was 2 (of 2 available processors)\n",
      "\n",
      "Solution count 3: 154.6 181.02 346.15 \n",
      "\n",
      "Optimal solution found (tolerance 1.00e-04)\n",
      "Best objective 1.546000000000e+02, best bound 1.546000000000e+02, gap 0.0000%\n"
     ]
    }
   ],
>>>>>>> 84445a50b93bf30ba36bc435057d46967fa87b93
   "source": [
    "model = gp.Model(\"pfizer\")\n",
    "\n",
    "# Decision variables\n",
    "x = model.addMVar((num_sr, num_bricks), vtype=GRB.BINARY)\n",
    "\n",
    "# Add constraints\n",
    "model = add_constraints(model, index_values, x, lb=lb, ub=ub, num_bricks=num_bricks, num_sr=num_sr)\n",
    "\n",
    "# Minimize the total distance\n",
    "model.setObjective(\n",
    "    gp.quicksum(distances[i][j] * x[i][j] for i in range(num_sr) for j in range(num_bricks)),\n",
    "    GRB.MINIMIZE,\n",
    ")\n",
    "\n",
    "model.update()\n",
    "model.optimize()"
   ]
  },
  {
   "cell_type": "code",
<<<<<<< HEAD
   "execution_count": null,
=======
   "execution_count": 19,
>>>>>>> 84445a50b93bf30ba36bc435057d46967fa87b93
   "metadata": {
    "colab": {
     "base_uri": "https://localhost:8080/"
    },
    "id": "OnkU3D7-2a7D",
    "outputId": "e84c0b2b-8068-4348-a424-f437b700a7fd"
   },
<<<<<<< HEAD
   "outputs": [],
=======
   "outputs": [
    {
     "name": "stdout",
     "output_type": "stream",
     "text": [
      "Structure of Sales Territories:\n",
      "SR1 (iv:1.038 - distance:64.370): [ 4  5  6  7  8  9 12 19 20]\n",
      "SR2 (iv:1.045 - distance:7.530): [11 13 14 18]\n",
      "SR3 (iv:1.115 - distance:6.570): [10 15 16 17]\n",
      "SR4 (iv:0.803 - distance:76.130): [ 1  2  3 21 22]\n",
      "Disruption: 1.2055\n",
      "Total distance: 154.6\n"
     ]
    }
   ],
>>>>>>> 84445a50b93bf30ba36bc435057d46967fa87b93
   "source": [
    "disruption, total_distance = get_report(assignments=x.x)\n",
    "\n",
    "results[\"disruption\"].append(disruption)\n",
    "results[\"total_distance\"].append(total_distance)"
   ]
  },
  {
   "cell_type": "markdown",
   "metadata": {
    "id": "BraG-_oQ1dC_"
   },
   "source": [
    "## Minimize the total disruption between SRs"
   ]
  },
  {
   "cell_type": "code",
<<<<<<< HEAD
   "execution_count": null,
=======
   "execution_count": 20,
>>>>>>> 84445a50b93bf30ba36bc435057d46967fa87b93
   "metadata": {
    "colab": {
     "base_uri": "https://localhost:8080/"
    },
    "id": "rfxMiNFb2nrj",
    "outputId": "8d7e125e-537d-4e64-eea4-7cb2ec730007"
   },
<<<<<<< HEAD
   "outputs": [],
=======
   "outputs": [
    {
     "name": "stdout",
     "output_type": "stream",
     "text": [
      "Gurobi Optimizer version 12.0.2 build v12.0.2rc0 (linux64 - \"Ubuntu 22.04.4 LTS\")\n",
      "\n",
      "CPU model: Intel(R) Xeon(R) CPU @ 2.20GHz, instruction set [SSE2|AVX|AVX2]\n",
      "Thread count: 1 physical cores, 2 logical processors, using up to 2 threads\n",
      "\n",
      "Optimize a model with 30 rows, 88 columns and 264 nonzeros\n",
      "Model fingerprint: 0xcdcbe25c\n",
      "Model has 88 quadratic objective terms\n",
      "Variable types: 0 continuous, 88 integer (88 binary)\n",
      "Coefficient statistics:\n",
      "  Matrix range     [4e-02, 1e+00]\n",
      "  Objective range  [4e-02, 8e-01]\n",
      "  QObjective range [4e-02, 8e-01]\n",
      "  Bounds range     [1e+00, 1e+00]\n",
      "  RHS range        [8e-01, 1e+00]\n",
      "Found heuristic solution: objective 3.0391000\n",
      "Presolve time: 0.00s\n",
      "Presolved: 30 rows, 88 columns, 264 nonzeros\n",
      "Variable types: 0 continuous, 88 integer (88 binary)\n",
      "\n",
      "Root relaxation: objective 1.377000e-01, 10 iterations, 0.00 seconds (0.00 work units)\n",
      "\n",
      "    Nodes    |    Current Node    |     Objective Bounds      |     Work\n",
      " Expl Unexpl |  Obj  Depth IntInf | Incumbent    BestBd   Gap | It/Node Time\n",
      "\n",
      "     0     0    0.13770    0    2    3.03910    0.13770  95.5%     -    0s\n",
      "H    0     0                       0.4668000    0.13770  70.5%     -    0s\n",
      "H    0     0                       0.1843000    0.13770  25.3%     -    0s\n",
      "H    0     0                       0.1696000    0.13770  18.8%     -    0s\n",
      "     0     0    0.13770    0    4    0.16960    0.13770  18.8%     -    0s\n",
      "\n",
      "Explored 1 nodes (13 simplex iterations) in 0.03 seconds (0.00 work units)\n",
      "Thread count was 2 (of 2 available processors)\n",
      "\n",
      "Solution count 4: 0.1696 0.1843 0.4668 3.0391 \n",
      "\n",
      "Optimal solution found (tolerance 1.00e-04)\n",
      "Best objective 1.696000000000e-01, best bound 1.696000000000e-01, gap 0.0000%\n"
     ]
    }
   ],
>>>>>>> 84445a50b93bf30ba36bc435057d46967fa87b93
   "source": [
    "model = gp.Model(\"pfizer\")\n",
    "\n",
    "# Decision variables\n",
    "x = model.addMVar((num_sr, num_bricks), vtype=GRB.BINARY)\n",
    "\n",
    "# Add constraints\n",
    "model = add_constraints(\n",
    "    model, index_values, x, lb=0.8, ub=1.2, num_bricks=num_bricks, num_sr=num_sr\n",
    ")\n",
    "\n",
    "# Minimize the total disruption between SRs\n",
    "model.setObjective(\n",
    "    gp.quicksum(\n",
    "        index_values[j]\n",
    "        * (x[i][j] - x_current_structure[i][j])\n",
    "        * (x[i][j] - x_current_structure[i][j])\n",
    "        / 2\n",
    "        for i in range(num_sr)\n",
    "        for j in range(num_bricks)\n",
    "    ),\n",
    "    GRB.MINIMIZE,\n",
    ")\n",
    "\n",
    "model.update()\n",
    "model.optimize()"
   ]
  },
  {
   "cell_type": "code",
<<<<<<< HEAD
   "execution_count": null,
=======
   "execution_count": 21,
>>>>>>> 84445a50b93bf30ba36bc435057d46967fa87b93
   "metadata": {
    "colab": {
     "base_uri": "https://localhost:8080/"
    },
    "id": "FqF12Hyu1ZII",
    "outputId": "c1519d6f-fb8d-43cd-febd-30cf6c00a7b6"
   },
<<<<<<< HEAD
   "outputs": [],
=======
   "outputs": [
    {
     "name": "stdout",
     "output_type": "stream",
     "text": [
      "Structure of Sales Territories:\n",
      "SR1 (iv:0.951 - distance:19.300): [ 4  5  6  7  8 15]\n",
      "SR2 (iv:1.168 - distance:7.820): [10 13 14]\n",
      "SR3 (iv:0.874 - distance:37.090): [ 9 11 12 16 17 18]\n",
      "SR4 (iv:1.007 - distance:124.740): [ 1  2  3 19 20 21 22]\n",
      "Disruption: 0.1696\n",
      "Total distance: 188.95\n"
     ]
    }
   ],
>>>>>>> 84445a50b93bf30ba36bc435057d46967fa87b93
   "source": [
    "disruption, total_distance = get_report(assignments=x.x)\n",
    "\n",
    "results[\"disruption\"].append(disruption)\n",
    "results[\"total_distance\"].append(total_distance)"
   ]
  },
  {
   "cell_type": "code",
<<<<<<< HEAD
   "execution_count": null,
=======
   "execution_count": 22,
>>>>>>> 84445a50b93bf30ba36bc435057d46967fa87b93
   "metadata": {
    "colab": {
     "base_uri": "https://localhost:8080/",
     "height": 143
    },
    "id": "JypPQWM-5KCk",
    "outputId": "0215ce54-2af6-4745-aecc-40374fdde163"
   },
<<<<<<< HEAD
   "outputs": [],
=======
   "outputs": [
    {
     "data": {
      "application/vnd.google.colaboratory.intrinsic+json": {
       "summary": "{\n  \"name\": \"df\",\n  \"rows\": 3,\n  \"fields\": [\n    {\n      \"column\": \"Disruption\",\n      \"properties\": {\n        \"dtype\": \"number\",\n        \"std\": 0.6525696923190146,\n        \"min\": 0.0,\n        \"max\": 1.2055,\n        \"num_unique_values\": 3,\n        \"samples\": [\n          0.0,\n          1.2055,\n          0.1696\n        ],\n        \"semantic_type\": \"\",\n        \"description\": \"\"\n      }\n    },\n    {\n      \"column\": \"Total distance\",\n      \"properties\": {\n        \"dtype\": \"number\",\n        \"std\": 19.402706855831568,\n        \"min\": 154.6,\n        \"max\": 188.95,\n        \"num_unique_values\": 3,\n        \"samples\": [\n          187.41,\n          154.6,\n          188.95\n        ],\n        \"semantic_type\": \"\",\n        \"description\": \"\"\n      }\n    }\n  ]\n}",
       "type": "dataframe",
       "variable_name": "df"
      },
      "text/html": [
       "\n",
       "  <div id=\"df-49a5f80f-55d1-4739-b996-66772911b60f\" class=\"colab-df-container\">\n",
       "    <div>\n",
       "<style scoped>\n",
       "    .dataframe tbody tr th:only-of-type {\n",
       "        vertical-align: middle;\n",
       "    }\n",
       "\n",
       "    .dataframe tbody tr th {\n",
       "        vertical-align: top;\n",
       "    }\n",
       "\n",
       "    .dataframe thead th {\n",
       "        text-align: right;\n",
       "    }\n",
       "</style>\n",
       "<table border=\"1\" class=\"dataframe\">\n",
       "  <thead>\n",
       "    <tr style=\"text-align: right;\">\n",
       "      <th></th>\n",
       "      <th>Disruption</th>\n",
       "      <th>Total distance</th>\n",
       "    </tr>\n",
       "  </thead>\n",
       "  <tbody>\n",
       "    <tr>\n",
       "      <th>Current structure</th>\n",
       "      <td>0.0000</td>\n",
       "      <td>187.41</td>\n",
       "    </tr>\n",
       "    <tr>\n",
       "      <th>Minimizing the total distance</th>\n",
       "      <td>1.2055</td>\n",
       "      <td>154.60</td>\n",
       "    </tr>\n",
       "    <tr>\n",
       "      <th>Minimizing the total disruption</th>\n",
       "      <td>0.1696</td>\n",
       "      <td>188.95</td>\n",
       "    </tr>\n",
       "  </tbody>\n",
       "</table>\n",
       "</div>\n",
       "    <div class=\"colab-df-buttons\">\n",
       "\n",
       "  <div class=\"colab-df-container\">\n",
       "    <button class=\"colab-df-convert\" onclick=\"convertToInteractive('df-49a5f80f-55d1-4739-b996-66772911b60f')\"\n",
       "            title=\"Convert this dataframe to an interactive table.\"\n",
       "            style=\"display:none;\">\n",
       "\n",
       "  <svg xmlns=\"http://www.w3.org/2000/svg\" height=\"24px\" viewBox=\"0 -960 960 960\">\n",
       "    <path d=\"M120-120v-720h720v720H120Zm60-500h600v-160H180v160Zm220 220h160v-160H400v160Zm0 220h160v-160H400v160ZM180-400h160v-160H180v160Zm440 0h160v-160H620v160ZM180-180h160v-160H180v160Zm440 0h160v-160H620v160Z\"/>\n",
       "  </svg>\n",
       "    </button>\n",
       "\n",
       "  <style>\n",
       "    .colab-df-container {\n",
       "      display:flex;\n",
       "      gap: 12px;\n",
       "    }\n",
       "\n",
       "    .colab-df-convert {\n",
       "      background-color: #E8F0FE;\n",
       "      border: none;\n",
       "      border-radius: 50%;\n",
       "      cursor: pointer;\n",
       "      display: none;\n",
       "      fill: #1967D2;\n",
       "      height: 32px;\n",
       "      padding: 0 0 0 0;\n",
       "      width: 32px;\n",
       "    }\n",
       "\n",
       "    .colab-df-convert:hover {\n",
       "      background-color: #E2EBFA;\n",
       "      box-shadow: 0px 1px 2px rgba(60, 64, 67, 0.3), 0px 1px 3px 1px rgba(60, 64, 67, 0.15);\n",
       "      fill: #174EA6;\n",
       "    }\n",
       "\n",
       "    .colab-df-buttons div {\n",
       "      margin-bottom: 4px;\n",
       "    }\n",
       "\n",
       "    [theme=dark] .colab-df-convert {\n",
       "      background-color: #3B4455;\n",
       "      fill: #D2E3FC;\n",
       "    }\n",
       "\n",
       "    [theme=dark] .colab-df-convert:hover {\n",
       "      background-color: #434B5C;\n",
       "      box-shadow: 0px 1px 3px 1px rgba(0, 0, 0, 0.15);\n",
       "      filter: drop-shadow(0px 1px 2px rgba(0, 0, 0, 0.3));\n",
       "      fill: #FFFFFF;\n",
       "    }\n",
       "  </style>\n",
       "\n",
       "    <script>\n",
       "      const buttonEl =\n",
       "        document.querySelector('#df-49a5f80f-55d1-4739-b996-66772911b60f button.colab-df-convert');\n",
       "      buttonEl.style.display =\n",
       "        google.colab.kernel.accessAllowed ? 'block' : 'none';\n",
       "\n",
       "      async function convertToInteractive(key) {\n",
       "        const element = document.querySelector('#df-49a5f80f-55d1-4739-b996-66772911b60f');\n",
       "        const dataTable =\n",
       "          await google.colab.kernel.invokeFunction('convertToInteractive',\n",
       "                                                    [key], {});\n",
       "        if (!dataTable) return;\n",
       "\n",
       "        const docLinkHtml = 'Like what you see? Visit the ' +\n",
       "          '<a target=\"_blank\" href=https://colab.research.google.com/notebooks/data_table.ipynb>data table notebook</a>'\n",
       "          + ' to learn more about interactive tables.';\n",
       "        element.innerHTML = '';\n",
       "        dataTable['output_type'] = 'display_data';\n",
       "        await google.colab.output.renderOutput(dataTable, element);\n",
       "        const docLink = document.createElement('div');\n",
       "        docLink.innerHTML = docLinkHtml;\n",
       "        element.appendChild(docLink);\n",
       "      }\n",
       "    </script>\n",
       "  </div>\n",
       "\n",
       "\n",
       "    <div id=\"df-6852b904-baf0-412a-8f2c-2978e7dae373\">\n",
       "      <button class=\"colab-df-quickchart\" onclick=\"quickchart('df-6852b904-baf0-412a-8f2c-2978e7dae373')\"\n",
       "                title=\"Suggest charts\"\n",
       "                style=\"display:none;\">\n",
       "\n",
       "<svg xmlns=\"http://www.w3.org/2000/svg\" height=\"24px\"viewBox=\"0 0 24 24\"\n",
       "     width=\"24px\">\n",
       "    <g>\n",
       "        <path d=\"M19 3H5c-1.1 0-2 .9-2 2v14c0 1.1.9 2 2 2h14c1.1 0 2-.9 2-2V5c0-1.1-.9-2-2-2zM9 17H7v-7h2v7zm4 0h-2V7h2v10zm4 0h-2v-4h2v4z\"/>\n",
       "    </g>\n",
       "</svg>\n",
       "      </button>\n",
       "\n",
       "<style>\n",
       "  .colab-df-quickchart {\n",
       "      --bg-color: #E8F0FE;\n",
       "      --fill-color: #1967D2;\n",
       "      --hover-bg-color: #E2EBFA;\n",
       "      --hover-fill-color: #174EA6;\n",
       "      --disabled-fill-color: #AAA;\n",
       "      --disabled-bg-color: #DDD;\n",
       "  }\n",
       "\n",
       "  [theme=dark] .colab-df-quickchart {\n",
       "      --bg-color: #3B4455;\n",
       "      --fill-color: #D2E3FC;\n",
       "      --hover-bg-color: #434B5C;\n",
       "      --hover-fill-color: #FFFFFF;\n",
       "      --disabled-bg-color: #3B4455;\n",
       "      --disabled-fill-color: #666;\n",
       "  }\n",
       "\n",
       "  .colab-df-quickchart {\n",
       "    background-color: var(--bg-color);\n",
       "    border: none;\n",
       "    border-radius: 50%;\n",
       "    cursor: pointer;\n",
       "    display: none;\n",
       "    fill: var(--fill-color);\n",
       "    height: 32px;\n",
       "    padding: 0;\n",
       "    width: 32px;\n",
       "  }\n",
       "\n",
       "  .colab-df-quickchart:hover {\n",
       "    background-color: var(--hover-bg-color);\n",
       "    box-shadow: 0 1px 2px rgba(60, 64, 67, 0.3), 0 1px 3px 1px rgba(60, 64, 67, 0.15);\n",
       "    fill: var(--button-hover-fill-color);\n",
       "  }\n",
       "\n",
       "  .colab-df-quickchart-complete:disabled,\n",
       "  .colab-df-quickchart-complete:disabled:hover {\n",
       "    background-color: var(--disabled-bg-color);\n",
       "    fill: var(--disabled-fill-color);\n",
       "    box-shadow: none;\n",
       "  }\n",
       "\n",
       "  .colab-df-spinner {\n",
       "    border: 2px solid var(--fill-color);\n",
       "    border-color: transparent;\n",
       "    border-bottom-color: var(--fill-color);\n",
       "    animation:\n",
       "      spin 1s steps(1) infinite;\n",
       "  }\n",
       "\n",
       "  @keyframes spin {\n",
       "    0% {\n",
       "      border-color: transparent;\n",
       "      border-bottom-color: var(--fill-color);\n",
       "      border-left-color: var(--fill-color);\n",
       "    }\n",
       "    20% {\n",
       "      border-color: transparent;\n",
       "      border-left-color: var(--fill-color);\n",
       "      border-top-color: var(--fill-color);\n",
       "    }\n",
       "    30% {\n",
       "      border-color: transparent;\n",
       "      border-left-color: var(--fill-color);\n",
       "      border-top-color: var(--fill-color);\n",
       "      border-right-color: var(--fill-color);\n",
       "    }\n",
       "    40% {\n",
       "      border-color: transparent;\n",
       "      border-right-color: var(--fill-color);\n",
       "      border-top-color: var(--fill-color);\n",
       "    }\n",
       "    60% {\n",
       "      border-color: transparent;\n",
       "      border-right-color: var(--fill-color);\n",
       "    }\n",
       "    80% {\n",
       "      border-color: transparent;\n",
       "      border-right-color: var(--fill-color);\n",
       "      border-bottom-color: var(--fill-color);\n",
       "    }\n",
       "    90% {\n",
       "      border-color: transparent;\n",
       "      border-bottom-color: var(--fill-color);\n",
       "    }\n",
       "  }\n",
       "</style>\n",
       "\n",
       "      <script>\n",
       "        async function quickchart(key) {\n",
       "          const quickchartButtonEl =\n",
       "            document.querySelector('#' + key + ' button');\n",
       "          quickchartButtonEl.disabled = true;  // To prevent multiple clicks.\n",
       "          quickchartButtonEl.classList.add('colab-df-spinner');\n",
       "          try {\n",
       "            const charts = await google.colab.kernel.invokeFunction(\n",
       "                'suggestCharts', [key], {});\n",
       "          } catch (error) {\n",
       "            console.error('Error during call to suggestCharts:', error);\n",
       "          }\n",
       "          quickchartButtonEl.classList.remove('colab-df-spinner');\n",
       "          quickchartButtonEl.classList.add('colab-df-quickchart-complete');\n",
       "        }\n",
       "        (() => {\n",
       "          let quickchartButtonEl =\n",
       "            document.querySelector('#df-6852b904-baf0-412a-8f2c-2978e7dae373 button');\n",
       "          quickchartButtonEl.style.display =\n",
       "            google.colab.kernel.accessAllowed ? 'block' : 'none';\n",
       "        })();\n",
       "      </script>\n",
       "    </div>\n",
       "\n",
       "  <div id=\"id_bdccd0b4-f364-463f-9ac6-70235b4d1d8c\">\n",
       "    <style>\n",
       "      .colab-df-generate {\n",
       "        background-color: #E8F0FE;\n",
       "        border: none;\n",
       "        border-radius: 50%;\n",
       "        cursor: pointer;\n",
       "        display: none;\n",
       "        fill: #1967D2;\n",
       "        height: 32px;\n",
       "        padding: 0 0 0 0;\n",
       "        width: 32px;\n",
       "      }\n",
       "\n",
       "      .colab-df-generate:hover {\n",
       "        background-color: #E2EBFA;\n",
       "        box-shadow: 0px 1px 2px rgba(60, 64, 67, 0.3), 0px 1px 3px 1px rgba(60, 64, 67, 0.15);\n",
       "        fill: #174EA6;\n",
       "      }\n",
       "\n",
       "      [theme=dark] .colab-df-generate {\n",
       "        background-color: #3B4455;\n",
       "        fill: #D2E3FC;\n",
       "      }\n",
       "\n",
       "      [theme=dark] .colab-df-generate:hover {\n",
       "        background-color: #434B5C;\n",
       "        box-shadow: 0px 1px 3px 1px rgba(0, 0, 0, 0.15);\n",
       "        filter: drop-shadow(0px 1px 2px rgba(0, 0, 0, 0.3));\n",
       "        fill: #FFFFFF;\n",
       "      }\n",
       "    </style>\n",
       "    <button class=\"colab-df-generate\" onclick=\"generateWithVariable('df')\"\n",
       "            title=\"Generate code using this dataframe.\"\n",
       "            style=\"display:none;\">\n",
       "\n",
       "  <svg xmlns=\"http://www.w3.org/2000/svg\" height=\"24px\"viewBox=\"0 0 24 24\"\n",
       "       width=\"24px\">\n",
       "    <path d=\"M7,19H8.4L18.45,9,17,7.55,7,17.6ZM5,21V16.75L18.45,3.32a2,2,0,0,1,2.83,0l1.4,1.43a1.91,1.91,0,0,1,.58,1.4,1.91,1.91,0,0,1-.58,1.4L9.25,21ZM18.45,9,17,7.55Zm-12,3A5.31,5.31,0,0,0,4.9,8.1,5.31,5.31,0,0,0,1,6.5,5.31,5.31,0,0,0,4.9,4.9,5.31,5.31,0,0,0,6.5,1,5.31,5.31,0,0,0,8.1,4.9,5.31,5.31,0,0,0,12,6.5,5.46,5.46,0,0,0,6.5,12Z\"/>\n",
       "  </svg>\n",
       "    </button>\n",
       "    <script>\n",
       "      (() => {\n",
       "      const buttonEl =\n",
       "        document.querySelector('#id_bdccd0b4-f364-463f-9ac6-70235b4d1d8c button.colab-df-generate');\n",
       "      buttonEl.style.display =\n",
       "        google.colab.kernel.accessAllowed ? 'block' : 'none';\n",
       "\n",
       "      buttonEl.onclick = () => {\n",
       "        google.colab.notebook.generateWithVariable('df');\n",
       "      }\n",
       "      })();\n",
       "    </script>\n",
       "  </div>\n",
       "\n",
       "    </div>\n",
       "  </div>\n"
      ],
      "text/plain": [
       "                                 Disruption  Total distance\n",
       "Current structure                    0.0000          187.41\n",
       "Minimizing the total distance        1.2055          154.60\n",
       "Minimizing the total disruption      0.1696          188.95"
      ]
     },
     "execution_count": 22,
     "metadata": {},
     "output_type": "execute_result"
    }
   ],
>>>>>>> 84445a50b93bf30ba36bc435057d46967fa87b93
   "source": [
    "df = pd.DataFrame(\n",
    "    results,\n",
    "    index=[\n",
    "        \"Current structure\",\n",
    "        \"Minimizing the total distance\",\n",
    "        \"Minimizing the total disruption\",\n",
    "    ],\n",
    ")\n",
    "\n",
    "df.rename(\n",
    "    columns={\n",
    "        \"disruption\": \"Disruption\",\n",
    "        \"total_distance\": \"Total distance\",\n",
    "    },\n",
    "    inplace=True,\n",
    ")\n",
    "\n",
    "df"
   ]
  },
  {
   "cell_type": "code",
<<<<<<< HEAD
   "execution_count": null,
=======
   "execution_count": 23,
>>>>>>> 84445a50b93bf30ba36bc435057d46967fa87b93
   "metadata": {
    "colab": {
     "base_uri": "https://localhost:8080/",
     "height": 475
    },
    "id": "cltpAcJD79jw",
    "outputId": "29c3f197-992c-4de0-a865-1b77d55f3563"
   },
<<<<<<< HEAD
   "outputs": [],
=======
   "outputs": [
    {
     "data": {
      "text/plain": [
       "<matplotlib.legend.Legend at 0x7c03bc2439d0>"
      ]
     },
     "execution_count": 23,
     "metadata": {},
     "output_type": "execute_result"
    },
    {
     "data": {
      "image/png": "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",
      "text/plain": [
       "<Figure size 1500x500 with 2 Axes>"
      ]
     },
     "metadata": {},
     "output_type": "display_data"
    }
   ],
>>>>>>> 84445a50b93bf30ba36bc435057d46967fa87b93
   "source": [
    "fig, axes = plt.subplots(1, 2, figsize=(15, 5))\n",
    "df.T.iloc[[0], :].plot(kind=\"bar\", ax=axes[0], legend=False, grid=True, rot=0)\n",
    "df.T.iloc[[1], :].plot(kind=\"bar\", ax=axes[1], legend=False, grid=True, rot=0)\n",
    "\n",
    "lines, labels = fig.axes[0].get_legend_handles_labels()\n",
    "fig.legend(lines, labels, loc=\"upper center\", ncol=3)"
   ]
  },
  {
   "cell_type": "markdown",
   "metadata": {
    "id": "KitvkGXC1uSl"
   },
   "source": [
    "# Multi-objective problem"
   ]
  },
  {
   "cell_type": "markdown",
   "metadata": {
    "id": "UHzZC4fQoY-N"
   },
   "source": [
    "## The $\\varepsilon$ - constraint method"
   ]
  },
  {
   "cell_type": "code",
<<<<<<< HEAD
   "execution_count": null,
=======
   "execution_count": 24,
>>>>>>> 84445a50b93bf30ba36bc435057d46967fa87b93
   "metadata": {
    "id": "I3PXu4Z7d3dx"
   },
   "outputs": [],
   "source": [
    "def epsilon_constrain_method(\n",
    "    x_current_structure,\n",
    "    index_values,\n",
    "    error: float = 1e-3,\n",
    "    workload_balance_lower_bound: float = 0.8,\n",
    "    workload_balance_upper_bound: float = 1.2,\n",
    "):\n",
    "    F1, F2 = [], []\n",
    "    X = []\n",
    "\n",
    "    epsilon = math.inf\n",
    "\n",
    "    for i in tqdm(itertools.count(start=1)):\n",
    "        model = gp.Model(\"pfizer\", env=env)\n",
    "        model.params.outputflag = 0\n",
    "\n",
    "        # Decision variables\n",
    "        x = model.addMVar((num_sr, num_bricks), vtype=GRB.BINARY)\n",
    "\n",
    "        # Constraints\n",
    "        model = add_constraints(\n",
    "            model,\n",
    "            index_values,\n",
    "            x,\n",
    "            lb=workload_balance_lower_bound,\n",
    "            ub=workload_balance_upper_bound,\n",
    "            num_bricks=num_bricks,\n",
    "            num_sr=num_sr,\n",
    "        )\n",
    "\n",
    "        # The epsilon constraint\n",
    "        model.addConstr(\n",
    "            gp.quicksum(\n",
    "                index_values[j]\n",
    "                * (x[i][j] - x_current_structure[i][j])\n",
    "                * (x[i][j] - x_current_structure[i][j])\n",
    "                / 2\n",
    "                for i in range(num_sr)\n",
    "                for j in range(num_bricks)\n",
    "            )\n",
    "            <= epsilon,\n",
    "            name=\"disruption\",\n",
    "        )\n",
    "\n",
    "        # Minimize the total distance\n",
    "        model.setObjective(\n",
    "            gp.quicksum(\n",
    "                distances[i][j] * x[i][j] for i in range(num_sr) for j in range(num_bricks)\n",
    "            ),\n",
    "            GRB.MINIMIZE,\n",
    "        )\n",
    "\n",
    "        model.update()\n",
    "        model.optimize()\n",
    "\n",
    "        if model.status == 3:\n",
    "            print(\"Model was proven to be unbounded.\", \"No more non-dominated solutions.\")\n",
    "            break\n",
    "        else:\n",
    "            f1 = model.getObjective().getValue()\n",
    "            f2 = sum(\n",
    "                index_values[j] * (x.x[i][j] - x_current_structure[i][j]) ** 2 / 2\n",
    "                for i in range(num_sr)\n",
    "                for j in range(num_bricks)\n",
    "            )\n",
    "\n",
    "            F1.append(f1)\n",
    "            F2.append(f2)\n",
    "            X.append(x.x)\n",
    "\n",
    "            epsilon = f2 - error\n",
    "            print(f\"Iteration {i}: f1:{f1:.3f}, f2:{f2:.3f}\")\n",
    "\n",
    "    return F1, F2, X"
   ]
  },
  {
   "cell_type": "markdown",
   "metadata": {
    "id": "heITtLZXopyn"
   },
   "source": [
    "## The weighted sum"
   ]
  },
  {
   "cell_type": "code",
<<<<<<< HEAD
   "execution_count": null,
=======
   "execution_count": 25,
>>>>>>> 84445a50b93bf30ba36bc435057d46967fa87b93
   "metadata": {
    "id": "ueaC43sHqG0e"
   },
   "outputs": [],
   "source": [
    "def weighted_sum_method(\n",
    "    x_current_structure,\n",
    "    index_values,\n",
    "    weights,\n",
    "    workload_balance_lower_bound: float = 0.8,\n",
    "    workload_balance_upper_bound: float = 1.2,\n",
    "):\n",
    "    F1, F2 = [], []\n",
    "    X = []\n",
    "\n",
    "    for w in tqdm(weights):\n",
    "        model = gp.Model(\"pfizer\", env=env)\n",
    "        model.params.outputflag = 0\n",
    "\n",
    "        # decision variables\n",
    "        x = model.addMVar((num_sr, num_bricks), vtype=GRB.BINARY)\n",
    "\n",
    "        # Constraints\n",
    "        model = add_constraints(\n",
    "            model,\n",
    "            index_values,\n",
    "            x,\n",
    "            lb=workload_balance_lower_bound,\n",
    "            ub=workload_balance_upper_bound,\n",
    "            num_bricks=num_bricks,\n",
    "            num_sr=num_sr,\n",
    "        )\n",
    "\n",
    "        # minimize the weighted sum between the total distance and the disruption\n",
    "        f1f2 = gp.quicksum(\n",
    "            distances[i][j] * x[i][j]\n",
    "            + w\n",
    "            * index_values[j]\n",
    "            * (x[i][j] - x_current_structure[i][j])\n",
    "            * (x[i][j] - x_current_structure[i][j])\n",
    "            / 2\n",
    "            for i in range(num_sr)\n",
    "            for j in range(num_bricks)\n",
    "        )\n",
    "\n",
    "        model.setObjective(f1f2, GRB.MINIMIZE)\n",
    "        model.update()\n",
    "        model.optimize()\n",
    "\n",
    "        f1 = sum(distances[i][j] * x.x[i][j] for i in range(num_sr) for j in range(num_bricks))\n",
    "        f2 = sum(\n",
    "            index_values[j] * (x.x[i][j] - x_current_structure[i][j]) ** 2 / 2\n",
    "            for i in range(num_sr)\n",
    "            for j in range(num_bricks)\n",
    "        )\n",
    "\n",
    "        F1.append(f1)\n",
    "        F2.append(f2)\n",
    "        X.append(x.x)\n",
    "\n",
    "    return F1, F2, X"
   ]
  },
  {
   "cell_type": "markdown",
   "metadata": {
    "id": "c7othoD-4d1T"
   },
   "source": [
    "## Summary"
   ]
  },
  {
   "cell_type": "code",
   "execution_count": null,
   "metadata": {
    "colab": {
     "base_uri": "https://localhost:8080/",
     "height": 810,
     "referenced_widgets": [
      "588cee82c2f3438bb5eb094db2b1ba1c",
      "3c572fc38e8545fb8b7e3640da639a17",
      "ed87948799d741b4a0e12f85939408c0",
      "2884bea4542142d5980134dfa52c7b53",
      "1cfc3260891b4f6d80f4c9e4e5c65d01",
      "5f04270c849847118c171941ae651f7a",
      "9c026f2aa18b4827b6fca2d8a7b02496",
      "b44145f9059c44a39c95f32e8a7f60e1",
      "c428db705c234f40a06b9dcb09f77bf1",
      "436cabd1e13140c895e785522b048192",
      "d7a003df208a47e39dff9c0a273a0dc6",
      "65f37f2943384498949958824830330e",
      "5760d571840c4bc88824a2b1103900e0",
      "e52afdfc621841eea79d896deb1b2ae8",
      "378580a5978741b7bb23b1dbf1ccf3d8",
      "00ee634812c947159592d453cd61996e",
      "f6483dd24dea455cb1627c4700949848",
      "d6b3ef832f9d48da955474047d3864ee",
      "84f158d619c146a8bd740a5c5e30b40f",
      "77689e2162104b41a181619dca339b38",
      "8fe94de7273f49999214da89826a9fdd",
      "f102e3318e894160934137ebb82959ab"
     ]
    },
    "id": "ud-ihs_Nw_E4",
    "outputId": "6190b4c0-f6bf-4741-b016-fa886af56618"
   },
   "outputs": [],
   "source": [
    "lb = 0.8\n",
    "ub = 1.2\n",
    "\n",
    "(\n",
    "    F1_epsilon_method_no_partial_assignement,\n",
    "    F2_epsilon_method_no_partial_assignement,\n",
    "    X,\n",
    ") = epsilon_constrain_method(\n",
    "    x_current_structure,\n",
    "    index_values=index_values,\n",
    "    error=1e-4,\n",
    "    workload_balance_lower_bound=lb,\n",
    "    workload_balance_upper_bound=ub,\n",
    ")\n",
    "\n",
    "weights = np.linspace(0.0, 200.0, 100)\n",
    "F1_weighted_no_partial_assignement, F2_weighted_no_partial_assignement, X = weighted_sum_method(\n",
    "    x_current_structure=x_current_structure,\n",
    "    index_values=index_values,\n",
    "    weights=weights,\n",
    "    workload_balance_lower_bound=lb,\n",
    "    workload_balance_upper_bound=ub,\n",
    ")\n",
    "\n",
    "logs = []\n",
    "logs.append(\n",
    "    [\n",
    "        f\"{lb}, {ub}\",\n",
    "        F1_weighted_no_partial_assignement,\n",
    "        F2_weighted_no_partial_assignement,\n",
    "    ]\n",
    ")\n",
    "\n",
    "# ideal and nadir point\n",
    "ideal_disruption, ideal_distance, nadir_disruption, nadir_distance = get_ideal_nadir_point(lb, ub)"
   ]
  },
  {
   "cell_type": "code",
   "execution_count": null,
   "metadata": {
    "colab": {
     "base_uri": "https://localhost:8080/",
     "height": 534
    },
    "id": "u7kdvjlueL7k",
    "outputId": "bc59fc65-1b6d-4ffa-f784-cfe8b68ee423"
   },
<<<<<<< HEAD
   "outputs": [],
=======
   "outputs": [
    {
     "data": {
      "image/png": "iVBORw0KGgoAAAANSUhEUgAAAhAAAAIFCAYAAACDG8ShAAAAOnRFWHRTb2Z0d2FyZQBNYXRwbG90bGliIHZlcnNpb24zLjEwLjAsIGh0dHBzOi8vbWF0cGxvdGxpYi5vcmcvlHJYcgAAAAlwSFlzAAAPYQAAD2EBqD+naQAAbh5JREFUeJzt3Xt8U/X9P/BX2nIrUpICFSkgJOWiDNSkFVFsVRKm+KXe0rKqc+BXWv2K22RbA5u671edkM7rxM3GzdvEjibe+lP8jga/3gFLA4pOYG3AQhEQmlCwXNvz++PQ2LRpOWmTfHJ5PR+PPtrkc3LOu5+2eb/7OZ9zPipJkiQQERERBSFJdABEREQUe1hAEBERUdBYQBAREVHQWEAQERFR0FhAEBERUdBYQBAREVHQWEAQERFR0FhAEBERUdBYQBAREVHQUkQHEA5TpkyBTqcL+nWNjY3IzMwM2CZJEiRJgkqlgkqlUrS/uro6ZGVlBR1Hb+KLln2GI8Zo78dY+LmEug+B6O/HRPxdDMc++bsYnfusq6uDTqcLOi91p2N89fX1+Oqrr878IikOzZ07N+Sv+/rrryWDwSB9/fXXivc3c+bMXsXRnd5+X5HcZzhijPZ+jIWfS6j7UJKivx8T8XcxHPvk72J07nPmzJm9ykvd6Rif0lh5CqODoqIi0SH0KBzxhXqf0d6HQGx8z+zH6NtfOMTC704i9mMs/FxCrVfx9bls6YXa2lpJr9d3eb6+vl4qLS2VysvLpdLSUsnj8fi1Wa1WyW63S1ar1a+ts3BUj9EwApGo2I99xz4MDfZj37EPQyPUIxAdKc2hEZ8D4XA4oNVq4XK5urSZTCbU1tZCrVbD5XLBYrGgvLwcAFBQUIDa2loAgNvtxsKFC2G32yMae7Bmz54tOoS4wH7sO/ZhaLAf+459GBrR0I8RP4VhNpuh1+u7PO90OgEAarUaAKDX62Gz2QDIBUNHWq3Wt300i4YfcDxgP/Yd+zA02I99xz4MjWjox6i5CsPr9QZ83uVyYePGjUhPT/d7Pj09HS6XK2AxEg46nQ6rV6+GRqOJyPGIiIh6IjovRU0Bodfr/UYa2k9xNDU1dVtcNDU1RSI0AEC/fv2QkZERseMRERH1RHReipoCQqvVwmq1wmazobCw0FdMdB556Ki7wqKurg6XX3657/Hs2bP7PNxz9OhR7NixA+PHj8egQYMUvcbj8WDDhg19Oi6xH0OBfRga7Me+Yx+Ghsfjwfvvvx90XgpkzZo1WLNmje9xS0uLsheGdOpmELo7dH19vVRbWyt5PB4JgOTxeKTy8vIuV22o1Wqpuro64D6i5SqM9evXhzyORMR+7Dv2YWiwH/uOfRga69evF34VRlTdB8LtdkOr1fpOZ+j1eqjVahiNxoDbZ2dnRzhCIiIiAgSvhdH5FITBYPA9V15eDqvVCkA+vdGR2+1Gdna274oNIiIiiqyIz4FwOp2orq4GACxbtgw5OTkwm80AAKvVCqfTiaamJhQUFPiNPNjtdlgsFuTk5KCmpibq7wFBREQUzyJeQBiNRhiNRt/oQkfFxcXdvq59kiUAX8ERSSNGjMDdd9+NESNGRPzYREREnY0YMQK333W7sLwUVXMgotmwYcOwYMECDBs2THQoREREaDjRgF/u+SUaTjQIOT4LCIUOHz6MDz/8EIcPHxYdChEREV5yvYSTbSfxsutlIcdnAaHE3/+O1LQ0zMzLQ2paGvD3v4uOiIiIEpgkSaj8VyUAoPJflZAkKeIxsIA4E5UKuO02JEPurGQAuO02+XkiIiIBmo8349uWbwEAe1r24PN9n0c8hqi5E2VUOlORoFIBAqo+IiJKHFsPbMXne/0LhIOeg0hWJaNVakWyKhmPfvoo5k6c67fNBSMvwOThk8MWFwuI7ig9TfH3vwM//Wl4YyEiooR133v34bWvX/N77rfjf4tWqRUA0Cq1YuWWlVi5ZaXfNubzzLAXhu+WB3FZQHzzzTe46qqrcO211+Laa68FAKSlpWHUqFE4ceJEl+XBAWDy5Mm+1x49ehQTTp+2OJPW225D8k9/ira2Nmzfvt2v7fDhwzh16hRSUlKwe/duHDlyxK89IyMD6enpaG5uxp49e/zaBgwYgPHjxwMAtm3b1uX81vjx4zFgwAB8++23OHTokF9beno6MjIy0NLSgoYG/9m5KSkpyMrKAiCvGXLq1Cm/9rFjxyI1NRX79+/vsljZ0KFDcc455+D48ePYsWOHX5tKpcKkSZMAADt27MDx48f92keNGoW0tDQ0NTVh//79fm1nnXUWRo8ejVOnTqGurg6dtX/vDQ0NXe7RfvbZZ0Oj0QTsw0GDBuHcc88FAGzdurXLfrVaLfr37489e/agubnZr2348OEYPnw4vv/+e+zatcuvrX///r6bm/373/9Ga2urX3tPfahWqzFy5EgcO3YMO3fu9GtLSkrCxIkTAcg3Sztx4oRfe2ZmJoYMGYKDBw/iu+++82sbMmQIMjMzcfLkSdTX13f5Xnvqw5EjR0KtVsPr9WLv3r1+bampqRg7dmzA329AXg2wX79+aGxs7DLBeMSIERg2bBgOHz6MxsZGv7aOfbh9+3a0tbX5tY8bNw4DBw7E3r17u9xwrqff7+TkZEyYMAFA4D4cM2YMBg8ejAMHDuDAgQN+bcG+R3TU/vvt8Xiwb98+v7Yz9WFWVhbfI9C394iJEyciKSkpbt8jLJMtaDnSgnd3vdslxu5cM+YalE4u9X1fZ3qPmDhxIlatWoXnn39e8UKVcVlAAEBzczMqKipQUVEBALjmmmvw0EMPYd++fbj11lu7bL9x40YAwH//939jy5Yt+EzhcdpPchw9erTLfufNmweDwQCNRoPHH38cH374oV/7vffei1tuuQWfffYZlixZ4tc2adIkrFwpV5Pz58/HyZMn/dorKyuh1Wrx17/+FW+99ZZf2/z587Fo0SJ8/fXXKCkp8WvLyMjA6tWrAQA///nPu/yhlpeXw2AwoLKyEi+++KJf23XXXYf7778fjY2NXb7Xfv36Yd26dQCA++67D9u2bfNrX758OYxGI95991088cQTfm25ubl4/PHHcfjw4YA/m6eeegoAUFZWhvXr1/u1lZaWorCwEB9//DEeeOABv7apU6fihRdeAICA+33jjTcwZswY/OUvf8G77/r/YRYXF6O4uBhffPEF7rnnHr+20aNH48033wQA3HXXXV0S3PPPP49p06bhlVdewauvvurXVlBQAIvFgp07d3aJKTU11fc7smTJki5J7PHHH0dubi6qqqrwzDPP+LXNmjULVqsVHo8n4Pf69NNPAwAefvhh30q37e677z5cf/31eP/99/Hwww/7ten1ethsNpw6dSrgflevXo2MjAz86U9/wtq1a/3a7r77bixYsACbNm3C4sWL/dq0Wi0qK+UJYHfccUeXN/1XXnkFkydPxksvvdTlpnE333wzFi9ejLq6Otx+++1+bWq1Gk6nEwCwePFi7N69u0s/zJgxA6+//jpsNptfW7DvER09+OCDmDNnDqqrq1FWVubXdskll2DFihUB3yMAoLq6mu8R6Nt7xAcffIDBgwfH9XuEBAkTdBOwa9ounGrzL+raJauS0S+5H25Ouxmb/7wZd+EuX9uZ3iM+/fRTFBUV4f/+7/8UL8ylkkRM3Qyzq6++Gk8++aTfc0GPQJx3nrIRCADJkhTwv4vdu3fjiiuu4H8X6Nt/F16vF5dccknc/nfRLpwjED31IUcgZEreIzZs2ICRI0dyBKIP7xEbNmxARkYGRyB6+R4hpUu4qPwi3DvmXjyy4xH/7ydlEDaVbMJw1fCg3yM69uGiRYtQVVXVZZvO4rKAyM/PV/TN9+jvf5evtjiTl1/udg7Ehg0bMH369L7FQezHEGAfhgb7se/Yh31T11SHCU9PwG/H/7ZLAQEAdffUQZeu69MxlOZQXsbZHaUTIzmBkoiIIuS1f72GJJWcupNVyX6fk1RJXSZbhhMLiJ6caXAm/gZviIgoiq36ahXaJPmUX/aIbJz34XkwDDcAANqkNqz6alXEYmEBcSaSBLz8MloBtEGe84CXX2bxQEREEdVwqAGb9m5CsioZ5484H89f8TxSD6XihStfwPJZy5GsSobrWxd2Hdp15p2FAAsIJX76U/z766/x4siRkIYNAwLMYCUiIgqnJFUS5mTNwaf/+Smy0rN8pzKSVEmwzLTgk9s/wZysOVBF6E7JLCAUGjduHIwPP4yUgweBTpcfERERhdvotNF455Z3cHHmxQDkvPTKK69g3LhxAIDpo6fjnVvewei00RGJhwWEQgMHDsTYwkIgORnodK02ERFRpA0cOBCTJ0/GwIEDhRyfBYRCe/fuhfXPf8aJqVNZQBARkXB79+6F1Wrtcv+WSGEBoZDX64XdbsdhvR744ANOoiQiIqHa81Lnm61FCguIIB3NzgZ27wY63SGMiIgokcRlAdHY2Ij8/HzfOhih1KLXy8t4f/BByPdNREQkSkVFBfLz87vcer47cVlAZGZmoqqqCkVFRSHfd9vQocC0aZwHQUREcaWoqAhVVVXIzMxUtH1cFhDhkJ6ejptvvhnp6elAXh5HIIiISCi/vCQACwiFMjIysHjxYmRkZAC5uYDbLc+FICIiEsAvLwnAAkKhlpYWfPHFF/JSsbm58pM8jUFERIL45SUBWEAo1NDQgNtvvx0NDQ3AiBHAeeexgCAiImH88pIALCB6KzeXBQQRESUsFhC9lZcHfP01sH+/6EiIiIgijgVEb7XPg/joI7FxEBERCcACQqHk5GSo1WokJyfLT2RmAjodL+ckIiIhuuSlCEsRctQYNGHCBDidTv8nOQ+CiIgECZiXIogjEH2Rlwd88QXg8YiOhIiIKKLisoAIx1oYbrcb119/Pdxu9w9P5ubKq3J+/HHIjkNERKREwLzUB1wLA+FZC+PEiRPYvXs3Tpw48cOT48YBY8ZwHgQREUVcwLzUB1wLI5JUKs6DICKihMQCoq/y8gCXCzh8WHQkREREEcMCoq9yc4HWVuDTT0VHQkREFDEsIBQaM2YMnn76aYwZM8a/YeJE4OyzeRqDiIgiqtu8FCG8D4RCgwcPxowZM7o2tM+D4ERKIiKKoG7zUoRwBEKhAwcOwGaz4cCBA10bc3OBzz4Djh6NfGBERJSQesxLEcACQqEef1B5ecDJk8D69ZEPjIiIEhILiHgwZQqQns55EERElDBYQIRCUhJw+eWcB0FERAmDBUSo5OYC69YBIbojGBERUTSLywIiHGthpKWl4ZprrkFaWlrgDfLygGPHgI0bQ3ZMIiKi7pwxLwUp2LUw4vIyzva1MEJp1KhReOihh7rf4IILgCFD5NMYl14a0mMTERF1dsa8FKSioiIUFRUhPz9f0fZxOQIRDidOnMCuXbu6X7QkJQW47DJOpCQioog4Y14KMxYQCrndbtxwww09L5ualycv7X3qVOQCIyKihKQoL4URC4hQys0FjhwBNm8WHQkREVFYsYAIpexsYNAgXs5JRERxjwVEKPXvD8yYwXkQREQU94QUEC6XCwaDocvzbrcbNpsNDocDZWVlfud1XC4XXC6Xb7v2r6NOXh7w0UdAW5voSIiIiMIm4pdxOhwOaLXagAWAw+FAaWmp73FJSQnKy8sBAOXl5bDZbAAAo9EIu90emYBPmzx5MjYqucdDbi7w+98DX34Z/qCIiChhKc5LYRLxEQiz2Qy9Xh+wbdWqVd2+zmAwwOPxwOPxoLq6Gmq1OkwR9tH06fKpDM6DICKiOBZVcyDS09NhMBjgdrvhdDphMpn82tVqtbDC4ZtvvsGCBQvwzTff9LzhoEHAxRdzHgQREYWV4rwUJlFVQLSfltDpdLDb7TCbzb42r9cLh8MBh8MBi8US8etejx49ii1btuDo0aNn3jg3Vy4gJCn8gRERUUIKKi+FgUqSxGQ5lUqFzod2OBxQq9Vwu90oKSlBcXGxbw6E1+v1jT64XC4UFBSgvr4+4L7PP/98DBs2zPd49uzZmD17dp/iPXz4MDZt2oSLLroIQ4YM6XHboRs2YPIvfoGPbDb0nzatT8clwOPxQKPRiA4jprEPQ4P92Hfsw9DweDxISUlRnJd6smbNGqxZs8b3uKWlBbW1tWd+oSRI50PX19dLpaWlfo/VarVUX18vSZIk1dbW+to8Ho8EwNfW2dy5c0Me79dffy0ZDAbp66+/PvPGzc2SlJws1S9ZEvI4EtH69etFhxDz2IehwX7sO/ZhaKxfvz64vBQEpTk0ak5huFwu5OTk+B5rtVosXboUXq8XLpcLs2bN6vKa9PT0SIao3JAhgMGAtGi91JSIiKiPhBYQXq/X97Ver0dNTY1f+8GDB6HX66HVamG1Wn3PO51OmM3miE6oHDVqFB588EGMGjVK2Qtyc5G2aRPnQRARUVgEnZdCLOL3gXA6naiurgYALFu2DDk5OTCbzdBqtTCZTCgrK/MVBiUlJQDkqy+ys7N9bfX19RG/D0RaWhrmzJmj/AV5eej/6KPAjh2AVhu+wIiIKCEFnZdCLOIFhNFohNFo9BtR6NwWiF6v7/b+EZHQfv8Jk8mkbALQzJmQVCqoPvyQBQQREYVc0HkpxKJmDkS027dvH8rKyrBv3z5lL1Cr0TJhAm8oRUREYRF0XgoxFhBhdPjCC3lDKSIiikssIMKo+cILAbcb2L1bdChEREQhxQIijA5fdJH8BUchiIgozrCAUCg1NRWXXHIJUlNTFb/mlEYDnHceCwgiIgq53uSlUIr4VRixauzYsVixYkXwL8zLA95/P+TxEBFRYut1XgoRjkAo1NbWhu+//x5tbW3BvTA3F9i6Fdi/PzyBERFRQup1XgqRuCwgGhsbkZ+fj4qKipDtc/v27cjLy8P27duDe2FurvyZpzGIiCiEep2XulFRUYH8/Hw0NjYq2j4uC4jMzExUVVWhqKhIdChAZiag07GAICKiqFZUVISqqipkZmYq2j4uC4iok5fHG0oREVFcYQERCbm5wJYtQFOT6EiIiIhCggVEJOTmyqtyfvKJ6EiIiIhCggWEQllZWaiurkZWVlbwLx43DhgzhqcxiIgoZPqUl0KA94FQKCUlpfernalU8igEJ1ISEVGI9CkvhQBHIBTavXs3Fi9ejN29XdciLw9wuYDDh0MbGBERJaQ+56U+YgGh0JEjR/Dhhx/iyJEjvdtBbi7Q2gp8+mloAyMiooTU57zURywgImXiRODsszkPgoiI4gILiEjhPAgiIoojLCAiKS8P+OwzoKVFdCRERER9EpcFRDjWwsjIyMC9996LjIyM3u8kNxc4eRLYsCFkcRERUWIKSV7qINi1MOLyMs72tTBCKT09HbfcckvfdjJlCpCeLp/GuPLK0ARGREQJKSR5qYOioiIUFRUhPz9f0fZxOQIRDs3NzXA6nWhubu79TpKSgMsv50RKIiLqs5DkpT5gAaHQnj17sGTJEuzZs6dvO8rNBdatA06cCE1gRESUkEKWl3qJBUSk5eUBx44BNTWiIyEiIuo1FhCRdsEFwJAhvJyTiIhiGguISEtJAWbO5DwIIiKKaSwgFBowYAAmTZqEAQMG9H1nubny0t6nTvV9X0RElJBCmpd6gQWEQuPHj8fKlSsxfvz4vu8sLw84cgTYtKnv+yIiooQU0rzUCywgRDAYgEGDOA+CiIhiFgsIhbZt24YZM2Zg27Ztfd9Z//7ApZdyHgQREfVaSPNSL7CAUEiSJJw8eRKSJIVmh7m5wEcfAW1todkfEREllJDnpSDFZQERjrUwQi43F/B6gS+/FB0JERFR0GthxGUB0b4WRlFRkehQujd9unwqg6cxiIgoChQVFaGqqgqZmZmKto/LAiImDBoEXHwxJ1ISEVFMYgGh0Pjx41FZWRnay2Xy8uQCQtD5KyIiil1hyUtBYAGh0IABA6DVakN7w47cXGD/fkDQDFoiIopdYclLQWABodC3336Lhx56CN9++23odnrppUByMudBEBFR0MKSl4LAAkKhQ4cO4a233sKhQ4dCt9OzzpJvKsV5EEREFKSw5KUgsIAQLS9PHoHgPAgiIoohLCBEy80FGhuBHTtER0JERKQYCwjRZs4EVCqexiAiopjCAkKh9PR0zJ8/H+np6aHdsVoNXHABJ1ISEVFQwpaXFEoRctQYlJGRgUWLFoVn57m5wNtvh2ffREQUl8KalxSIyxGIcKyF0dLSgtraWrS0tIRsnz55eYDbDezeHfp9ExFRXAp1XuJaGAjPWhgNDQ0oKSlBQ0NDyPbpc/nl8mfOgyAiIoVCnZe4FkYsGjECOP98zoMgIqKYwQIiWuTmcgSCiIhiBguIaJGXB2zdCuzbJzoSIiKiM2IBoVBKSgoyMjKQkhKmC1fa50F89FF49k9ERHEl7HnpTMcXctQYlJWVhdWrV4fvAJmZgE4nn8Ywm8N3HCIiigthz0tnIKSAcLlcWLhwIWpra/2ed7vdcDqdSE9Ph9vthtlshlar9bU5HA5otVq43W4UFxdDrVYLiD6M2tfFICIiinIRP4XhcDgAyEVEoLbi4mKYzWaUlpbCarX62goKClBaWgqz2Qyz2YyFCxdGLGYAqKurw5w5c1BXVxe+g+TmAlu2AE1N4TsGERHFhYjkpR5EvIAwm83Q6/UB21atWhXwebfb7fdYq9XC6XSGPLaenDp1Cvv378epU6fCd5C8PHlVzo8/Dt8xiIgoLkQkL/UgqiZRpqenw2Aw+E5lmEwmAPCd1ui8baBRjJh27rnAmDG8nJOIiKJeVBUQdrsdAKDT6WC322E+PZnQ6/UG3L4p3ob6VSrOgyAiopgQVVdhOJ1OWK1WuN1ulJSUAADKy8u73b67wqKurg6Xt18WCWD27NmYPXt2n2I7fPgw5s2bh927d+PQoUOKXuPxeLBhw4agjjNi9GiMf/VVbHzvPbQNHtybUONOb/qR/LEPQ4P92Hfsw9DweDy9ykuBrFmzBmvWrPE9Vrq2RtQUEG63GzU1Nb6Jk0ajEQaDARaLBWq1ustoQ1NTU7dXYWRlZaGqqiqk8bW0tECj0eC8885Damqqotds2LAB06dPD+5AGg2wfDlyTpwArrqqF5HGn171I/lhH4YG+7Hv2IehsWHDBkydOjXovBTI9OnTcf/99/se5+fnK3pd1JzCcLlcyMnJ8T3WarVYunQpvF4vjEZjwNdkZ2dHKjykpqbCYDD06YekyIQJwNlncx4EERH1KGJ5qRtCC4iOpyD0ej1qamr82g8ePAi9Xu+7F0Q7t9uN7OzsiN4HYv/+/VixYgX2798f3gNxHgQRESkQsbzUjYifwnA6naiurgYALFu2DDk5Ob4bRplMJpSVlfkKg/Z5EIA8wdJisSAnJwc1NTW+CZeR0tTUhBdffBFGoxEZGRnhPVhuLnDvvUBLCyCosiQiougW0bwUQMQLCKPRCKPR6HeTqM5tgWi1Wt9rzPF+q+fcXODkSWDDBuDKK0VHQ0RE1EXUzIGgDqZMAdLTeRqDiIiiFguIaJSUJK/OyYmUREQUpVhAKDR06FBcd911GDp0aGQOmJcHrFsHHD8emeMREVFMiXhe6iRq7gMR7c455xy/62TDLjcXOHYM2LgRuOyyyB2XiIhiQsTzUiccgVDo+PHjcLvdOB6pEYELLwSGDOE8CCIiCijieakTFhAK7dixA4WFhdixY0dkDpicDMycyXkQREQUUMTzUicsIKJZXh7wySeAoKVaiYiIuhOXBURjYyPy8/NRUVEhOpS+yc0FjhwBNm0SHQkREcW5iooK5Ofno7GxUdH2cVlAZGZmoqqqCkVFRaJD6RuDARg0iKcxiIgo7IqKilBVVYXMzExF28dlAREOKpUK/fr1g0qlitxB+/cHLr2UEymJiKgLIXmpA17GqdCkSZOwbt26yB84Nxd44gmgrU2+wRQREREE5qXTmJGiXV4e4PUCW7aIjoSIiMiHBYRCO3bswC233BL5y2Uuvlg+lcF5EERE1IGwvHQaCwiFjh8/jm3btkX+hh2DBgHTp3MeBBER+RGWl05jARELcnPlEQhJEh0JERERABYQsSEvD/juO2DrVtGREBERAWABERtmzJBvbc15EEREFCVYQCg0atQoLF++HKNGjYr8wc86S76pFAsIIiI6TWheAu8DoVhaWhqMRqO4APLygFdfledBCLppCBERRQ/ReSkuRyDCsRZGU1MTVq5ciaamppDtMyi5uUBjIyDoch0iIoouoc5LXAsD4VkLY//+/XjiiSewf//+kO0zKDNnyiMPvJyTiIgQ+rzEtTDilVoNXHAB50EQEVFUYAERS/LyOAJBRERRgQVELMnNledA7NolOhIiIkpwLCAUOuuss5Cbm4uzzjpLXBCXXy5/5mkMIqKEJzovsYBQaPTo0Xj88ccxevRocUGMGAGcfz4LCCIiEp6XWEAodOrUKXg8Hpw6dUpsIO3rYhARUUITnZdYQChUV1cHk8mEuro6sYHk5clrYuzbJzYOIiISSnReYgERa3Jz5c8ffSQ2DiIiSmgsIGLNqFFAVhYv5yQiIqFYQMQizoMgIiLB4rKACMdaGFElLw/YsgUQtS4HERHFnWDXwojL1Tjb18IIpYkTJ+KDDz7AoEGDQrrfXsnNlVfl/PhjID9fdDRERCRAqPNSUVERioqKkK8wr8TlCEQ4JCUlYfDgwUhKioIuGzcOGDuW8yCIiBKY6LwUBdkwNjQ0NGDRokVoaGgQHYqM8yCIiBKa6LzEAkKhlpYWrF+/Hi0tLaJDkeXmAi4X0NwsOhIiIhJAdF5iARGr8vKAtjbg009FR0JERAmIBUSsmjABOPtsnsYgIiIhWEDEKpVKHoXgREoiIhKABYRCZ599NkpLS3H22WeLDuUHublATQ0QLfMyiIgoYkTnJRYQCmk0GhQWFkKj0YgO5Qd5ecDJk8D69aIjISKiCBOdl1hAKNTc3IzVq1ejOZquejj/fCA9nfMgiIgSkOi8xAJCoT179uCBBx7Anj17RIfyg6Qk+TQG50EQESUc0XkpLguIuF8Lo6PcXPkUxvHjoiMhIqIYFuxaGHFZQLSvhVFUVCQ6lPDLywOOHZMnUxIREfVSUVERqqqqkJmZqWj7uCwgEsoFFwBDhnAeBBERRRQLCIUGDRqEqVOnRsdqnB0lJwMzZ7KAICJKMKLzUlwu5x0O5557Ll544QXRYQSWlwc8/DBw6hSQwh8pEVEiEJ2XOAIRD3JzgSNHgE2bREdCREQJggWEQlu3bkV2dja2bt0qOpSuDAYgNZWXcxIRJRDReUlIAeFyuWAwGLo873A44PV64fV6A77G5XIBANxut+9rAtC/PzBjBudBEBFRxES8gHA4HAAQsAAoKCiARqOBRqOBSqWCSqVCWVkZAKC8vBwGgwEqlQolJSXQarURjTvq5eUBH30EtLaKjoSIiBJAxAsIs9kMvV7f5Xmv1wu73Q5JknwfVqsVpaWlAACDwQCPxwOPx4Pq6mqo1eoIRx7lcnMBrxf48kvRkRARUQKIqjkQZrPZ97XD4fB7DABqtZqFQ3emT5dPZXAeBBERRUDUFBAdCwOv14umpia/0xRerxcOhwMOhwMWiwVutzui8Wm1WrzxxhvRe+pk4EBArQZ+8QtApZI/nnlGdFRERBQmovNSVN40wGKxwGq1+j1XXFzsKzK0Wi1MJhPq6+sjFlP//v0xZsyYiB0vaCpV1+cWLZI/JCny8RARUViJzksqSRKTXVQqFQId2uv1wmAwdCkOXC6Xb+6E1+uFRqNBfX19wMrr/PPPx7Bhw3yPZ8+ejdmzZ/cp3mPHjmHnzp0YN24cBg4cqOg1Ho8nIuu0Z19yiW8oqWMZ0d67bQA2rl8f9jjCJVL9GM/Yh6HBfuw79mFoeDweDBo0KOi8FMiaNWuwZs0a3+OWlhbU1tae+YWSIN0durq6WtLr9X7P1dbWSmq12vfY4/FIACSPxxNwH3Pnzg1ZnO2+/vpryWAwSF9//bXi16xfvz7kcXSxYoUkyWMMPX+sWBH+WMIkIv0Y59iHocF+7Dv2YWisX7++V3lJCaU5VOgciO7u95Cenu73nFar9Tul4XQ6YTabOaESkE9RhHI7IiIiBSI+B8LpdKK6uhoAsGzZMuTk5HS52qLzaQm1Wo3s7GyUlZVBrVajvr4edrs9YjETERGRv4gXEEajEUajscskyXbt933oTK/XB7x/BBEREUVe1FzGGe2GDx+O4uJiDB8+XHQo/lasCO12REQUE0TnJRYQCon+QXXr7rtDux0REcUE0XmJBYRC33//PdatW4fvv/9edChdnelKXN4Hgogo7ojOSywgFNq1axfuuece7Nq1S3QogUlS19MUOh0wbhxw9KiQkIiIKHxE5yUWEPHk7rv97/6wejXQ2Ag89pjoyIiIKM6wgIhnEyfKa2MsWwbs3i06GiIiiiMsIOLd/fcDQ4YA3VweS0RE1BtxWUA0NjYiPz8fFRUVIdtn//79MXr0aPTv3z9k+4yItDR5BKKiAvj4Y9HREEUdl8slOoSowb6ILaHOSxUVFcjPz0djY6Oi7eOygMjMzERVVRWKiopCtk+tVos333wzepfz7snPfgbk5AA//znQ2io6mrjh9XpRUFAAjUYDjUYDk8kU8WXmw0kVaIVXwcIRk8FgEJo4Q/09aTSaXv8eiu4LCk6o81JRURGqqqqQmZmpaPu4LCCok6Qk4KmngE2bgBdeEB1N3DAYDDCZTPB4PPB4PCgpKQm4votIFosFNptNdBhRTZKkPt/lNhb7OVDMoegLShwsIBT697//DaPRiH//+9+iQ+mdGTOAW28FfvtbIMqSXCxyu91oampCcXGx7zmz2cw3XyKKGNF5qdcFxHvvvYc777wTS5cuBQCsXbsW7733XsgCizatra3wer1ojeVTAFYr0NICPPig6EjC45NPgGuuAUaPlj9/8knYDpWeng6v1wuHw9HtNh2Hkr1er99QtclkQllZGQwGAzQaDcrKyhS1ud1umEwm6HQ6mEwmvxGP9uHngoIClJWVoaSkBDabDRaLBT/72c/gdDp9+zAYDNDpdLBYLL7XO51O6HQ6GAwGv+cD0el0sNlsMJlM0Gg0fv3QU4w9vS6QnmIK5jg2mw02m83Xp+19Afj/nHqKz2Kx4KabburSbx372WAwhLSfvV6v73vU6XS+34WevveOuvsd7C7mjtuH8udI4SE8L/VmrfAlS5ZIhYWFksvlkrKzsyVJkiSv1+v7WjSla5kHozfrrkfluvePPCJJKSmS9K9/iY5EMUX9+PHH8veVnCzfBSM5WX788cdhi8tut0sAJLVaLRUXF0u1tbV+7Wq1Wqqvr5ckSZI8Ho/U8c9Nq9VKpaWlkiRJUm1trQTA9/qe2tRqte/r6upqSavV+u1Tq9VKdrvd91xxcbFUXl7u14cd92E2m6Xq6mpffNXV1X7fW3fUarVkNpt923aMo6cYe3pdZ2eKKZjjAJCsVqskSZJktVp9be3btv+ceorPbrf7+lGtVvvikqQf+rlzH/W1n8vLy32/C5Ik+cXZ0/fecbvufge7i1npMZT+HDuLyvfFGLR+/fpe5SUllObQXo1AOBwOrFq1ChdddBGk07dJHjp0aNSd/6UA7r0XGDtW/hxPt7h++GH5+2mvxFtb5ccPPxy2Q5rNZng8Hjz33HNoamry+09OiXnz5gGQV5o1m81YtWpVj202mw1Go9F3msRoNEKtVvsds6SkBGazudtjOhwOZGdn+/axdOlS2O12VFZW+lbKbd+30viNRqPvv1YlMQZ6XSA9xRTscQD4+kWv1/c4UbC7+Dr2a2FhYY/7CGU/OxwO3/el1WoVfe99FcqfI8WvXi3nPXToUHz++ee44IILfENimzZtwtChQ0MaHIXBwIHA448D118PvP02MHeu6IhCY8uWrleYtLbKz4eRWq2G2WyG2WxGWVkZrFaroqTQWU5ODurr63tsq6+v7zLbWqvV+r15n+nYbrfbN7Te8TVerzfomdyBtlcSY6DXFRQU+LbRarWw2+09xhTMcdRqtd/j9PT0oL8vQD4F8Pe//x3PP/88nE6nb7+BhKqfi4uLUVtbC5PJBLVaDbvdruh776ve/hwpsfRqBKKyshJXXnklfvzjH8Pj8eCuu+5CYWEh/vrXv4Y6vqgxduxYPP/88xg7dqzoUPouPx8wmeRRiOPHRUcTGlOnAsnJ/s8lJ8vPR4her0dTU1OvXltTUwOdTtdjm06n65Ik3G633xt5T0mtvd1oNKK2ttb3YbVaoVarg05AgY7V2xjtdrsvHrvd7tuuu5hC0RfdCfS69mIgMzNTUZEYyn4uLy+HJEmwWq0oKSlR9L33VTj7l0JHdF7qVQGh1Wp9M9BLSkqg1+uxceNGXHjhhSEOL3qkpqZi2rRpSE1NFR1K36lUwJNPAjt3yp/jwX33yd9XexGRnCw/vv/+sBzO6XSipKTEb4KaxWLxDesC8n+6HYf2A+0DkG/e43A4/IbIA7UVFhbC6XT6hs4dDge8Xm+PyUytVvtGNrxeb5d9eL1eOJ3OLs/39pLE3sSodF8dYwrlcZRwu91Qq9W46qqroFarsXHjRr/2cPWzy+Xy/Q61f2/BfO89/Q52jrmjSPcv9Y7wvNSbCRavvfaatGnTJr/nHA6H9Nprr/VmdyEXjkmU+/btkx577DFp3759il8T9ZOFfvELSTrrLEnas0d0JD1S3I8ffyxJV18tSZmZ8udPPglrXFarVdJqtRIASavV+ibpdW43Go2+r9tptVqpuLhY0uv1klqt9pv42FNbbW2t73mj0eib8Nb+uo6P27cHIE2aNMm3n/Z9aLVaSa/X+03oU6vVkl6v7xJvZz1Nzuspxp5eF0hPMSk9jiRJXeLrzaRDvV4vDRkyRDKbzZLZbPb7ebf3s16vD2k/2+123/eo1Wp9+1D6vff0Oxgo5o6vDeXPsaOof1+MEevXr+9VXlJCaQ7tVQGRlZUlHTp0yO85j8cjZWVl9WZ3IcerMBTyeCRp+HBJuu020ZH0KOr7sRe0Wm2XqzaUtPVWPPahCOzHvmMfhkbMXoVx8OBBpKWl+T2nVqtx8ODBvgyGhEw41sKIS2o18Ic/AC+/DGzYIDoaIiISKCJrYWRnZ+ONN97we+69996Lmlm54VgLI279538CF14I3HMP0NYmOhoiIhIk2LUwenUZ57PPPovs7GyUlpbCaDSivr7eN9OYYkxyMvCnPwG5ufJIxPz5oiNKCN1dsnmmNiKiaNGnqzCWLVsGrVaLkpISHDx4EOPGjQtxeNFDrVajoKAgPi9duvxyYN48YMkSoLlZdDRERKSA6LzUqxGIdj3d8S7ejBw58oz3rY9pf/wjMGmSPCfCahUdDRERnYHovNSrEYjXX38dWVlZSE5O9n0kJSUhufONfOLIsWPHsHXrVhw7dkx0KOExZow8AvHEE0CsrjhKRJRAROelXhUQCxcuhNVqRVNTk+/D4/H0+i58sWDnzp249dZbsXPnTtGhhM9vfgOMGgUsXiw6EiIiOgPRealXBYTBYMBNN92EoUOHdvmgGDZoEPDoo/IaGf/7v6Kj6bXDh0VHEL16WgCKiCgYvSogCgoKMG/ePLz++uvYvHkzdu7c6fugGHfTTcAVVwC//CVw4oToaIK2aRMwbJj8OZxMJlOP5x7bF5nrLY1GE5YVDg0GA4sIIgqJXk2ibD99UV1d7fe8SqWKmptJUS+pVMBTTwEXXQSsWBFzpzMqKoCTJ4F//EP+FsifpHAJd4vFAp1Oh+Li4jBHRESxqlcjEHV1dX7zH9o/4rl4SEpKQmpqKpKSetVlsWXaNODOO4H/+R9g3z7R0SgmScCqVfLXq1bJj4mI4pXovJQA2TA0Jk6ciA8//BATJ04UHUpkPPigfJOp3/1OdCSKbd4MNDTIX3/zDfD555E7ttPphE6ng8Fg6HJqo30paJ1O59fW/l9+5+fPxGQyoaysDAaDARqNBmVlZV2OZzKZoNPpYDKZ/FZa7HhqRKfTwWazwWQyQaPRwOFwAABKSkpgs9lgsVhgMBh8K4MSUXQRnZd6fR+I9957Dy6Xy2/UYdiwYfj1r38dksD6on0tjKKiIt7OureGDQMeeki+xfVddwEGg+iI/Gzd2rVAqKqSa57WVvnzo48Cc+f6b3PBBcDkyaGNxev1wmQyobq6Gkaj0ZeI2xkMBqxduxZ6vR4FBQVwOp0wGo3IycmB9fQ9NzQaDUwmk6Llkt1uNw4ePIja2lq4XC4YDAYYjUbo9foux3M6nTAYDHj11Ve77Kf9NGR1dTUcDgcsFgvMZjPKy8t9++EpDKLEUVFRgYqKivCuhbFkyRKYzWbU1dXBbrfD4/GguroaNTU1vdldyIVjLQy3243CwsKwTGyLWiUlwJQpwM9/HnXnA+67D/jJT/w/Xn1VLh4A+fPKlV23uf/+0MdSWVkJo9HoS/4diwCHw4Hs7Gxfcl+6dCnsdjsA/xuxFRYWBjW5cd68eQAAvV4Ps9mMVafP3dhsNr9iwmg0Qq1W47PPPutxP0ajMbF+t4niQKjzUkTWwnjttdd893y48847UVZWhrS0NN+bUTw6ceIE3G43TsTglQm9lpIiT6icNUvOzrfcIjoin7/9TQ6vfc6DEj/5CfDss6GPxev1druQnNvt9p3CaNdeYHi9XthsNtTX18PpdPb6drQ5OTm+9TPq6+u7xKLVarFnz56Ar42WBfCIKHii81KvRiA6zuTW6XRYu3YtAPBcaTy66irgxhuB0lLgyBHR0fgMHSpfcfH888DAgXIxEUhKitz+wgtyDRSOW5Wo1epu/wNQq9UwGo2+xeZqa2thtVp9RYVWq4XValV06qI7NTU10Ol0AOS/x86xuN1ujBo1qtv4iIh6o1cFhNlsxuuvvw4AKC4uxm9+8xvk5ORg/PjxIQ2OosSjjwIHDwLLlomOxI9KBSxYIE+e7Ncv8Db9+snt8+fL24dDYWEhnE6n7xSEzWbrts3r9cLpdMLtdkOtVsNsNkOtVmPjxo1BHbO9WHe5XHA4HL7TIZ2P53A44PV6cfHFFwe1f7Va7RvV6DgJk4ioXa8KiOXLl+PGG28EAAwdOhTV1dVYvnx50G+CFCPGj5dvc/3YY0AUnidPTgaOHg3cdvRo96MToaJWq2G32zFr1izfqYr2UwPtbQsXLoROp8OsWbMA/HAaQ6PRoKCgAFqtFsOGDVN8zPr6ehgMBsyaNQt2u93veGvXrsXChQuh0WhQXl7e5X4tSsybN893pQdHFokoIKkX1q5d2+U5r9crvfbaa73ZXcjNnTs35Ptsbm6WPvjgA6m5uVnxa9avXx/yOIQ5ckSSRo+WpBtuiPihz9SPy5dLUlKSJAGSlJwsf05JkT8nJUmS1RqhQCNEq9VKtbW1Qb0mrn4XBWI/9h37MDTWr1/fq7ykhNIc2qsRiEDXrA8dOhTLomyIO5SGDBmC3NxcDBkyRHQoYgweDJSVAW+8AZye8xItVq0C2trkr3NzgdpaYOZM+XFbW3ATLYmIYoXovBTU4O5f//pXAPKkrPav29XV1aG2tjZ0kUWZgwcPoqqqCvn5+UENNceVn/wE+POfgV/8Qp5YEO5zAwo0NMjrXiQnA488Avz610BSklzj/PGP8n2wXC5g1y55xXIionghOi8FNQJRV1eHuro6SJKEjRs3+n0AiOsC4rvvvsMzzzyD7777TnQo4qhUwJ/+BPzrX8Bf/iI6GgBysTBnDvDpp/KFIu13dE1KAiwW4JNP5PZwTaAUob6+3nefByJKXKLzUlD/Qi5fvhyAPCv72XBcUE/R76KLgDvuAB54ACgqAoYPFxrO6NHAO+903z59es/tRETUO72aA5GVleVbuvu9997DhAkTMGHCBPzf//1fKGOjaPWHP8h3pgzHbR2JiCgm9KqAKC8vx7hx4wAABQUFsFgs+Oc//xk1981vXwujoqJCdCjxacQI4Pe/B2y2yK5YRUREYVNRUYH8/PzwroUhnb4T5dq1a+HxeHDHHXdAq9VGzXLe4VgLY8iQIZg1a1biXoXR2aJFwMSJUblOBhFRIgh1Xgp2LYxeFRBarRZLly5FSUmJb9Rhx44dcX1f/czMTFitVsUdG/f69QOefBL48EPg9OJQ0eLw8cOiQyAiCjvRealXBUT7ne8sFotvMqXX68XSpUtDGlw0OXnyJPbv34+TJ0+KDiV6/PjH8nrZv/410NIiOhoAwKZvN2FY2TBs+naT6FD6JJiVOWPpWEQUOqLzkuICYvPmzb6vPR4PTCYTTCYTdu7ciZ07d0Kj0fitOBhv6uvrMWfOHN/6AHTa448D+/bJN5mKAhVfVuBk20n848t/hPU4BQUFUKlUXW7zXFBQ4LcWRjBUHa41NRgMEUvskTwWEYWO6Lyk6DLOTZs2ITs7G62trQAAvV4PlUrltyonIL8BRss8CIqQrCzg3nsBq1Ve2ercc4WFIkkSVn0p33Zy1VersNy43C8ph5per4fFYgnL/U86/22Fk9JjWSwW6HS6qJksTURiKRqBuOiii3zFAwA0NTXh4MGDaGpq8vtg8ZCgfvc7QKORF9wSaPPezWhobgAAfHPoG3y+L7xXiJSUlMDtdvO/dyJKSL2aAwEAzc3NaG5uDmUsFKuGDAGWL5cnU77/fkQOufXAVqz6cpXfx6PrHkWyKhkAkKxKxqOfPtplm60HtoY0DqvVGnBtmHbt/7XrdLou2zmdTuh0OhgMhi5tGo0G7tMrn7afYigoKEBZN6eKTCaTb/VMjUbTZbvGxkaYTCbodDqYTCa/Jbo7Hkun08Fms8FkMkGj0cDhcACQiyWbzQaLxcIVOokIQJB3ogSAJUuWwGaz4dChQ5AkCSqVCiUlJVi+fDnS0tIU7cPlcmHhwoVdhn4dDodvmWO1Wu3X5na74XA4oNVq4Xa7UVxc3GUbEujWW39YJ8PlkhenCKP73rsPr339WrftrVIrVm5ZiZVbVvo9bz7PDHth6K4aKS4uhsVigcvlCnh76ZycHFitVgByojaZTDAajfB6vTCZTKiurobRaPQl6kC8Xi8KCgpgtVphNpsDbuN2u3Hw4EHU1tbC5XLBYDDAaDT6Ypo/fz7ef/996PV6OJ1OGAyGgOdNm5qaUF1djerqajgcDlgsFpjNZpSXlwOQixmewiAiIMgRiKysLGzatAl2ux1NTU3weDyoqanBgQMHYDAYFI1ItL9RBhr2LSgogEajgUajgUqlgkql8v0nVVBQgNLSUpjNZpjNZixcuDCY0Pts4sSJ+PTTTzFx4sSIHjdmJCXJ62R88QXw3HNhP9zf8v+GeVPmBfWan0z5Cf6a/9czbxikpUuXdrsSbceEX1hY6Pu9r6yshNFo9BXM7Z+7U1JS0m3x0G7ePLk/9Ho9zGYzVp1ehtRmsyEnJ8dXTBiNRqjV6m5HEdr3YzQafSMTRBR9ROclxQXEXXfdBbPZjH/+85+YNWsWhg4diqFDh0Kv16OyshILFy7scSi3ndlsDvifmtfrhd1uhyRJvg+r1YrS0tIub2JarTbiQ6hJSUno378/kpJ6fdYn/l18MTB/PnDffYDHE9ZDDR04FBU3VeD5/OcxMGUgUpICD6alJKVgYMpAvHDdC3j1plcxdODQkMdSWloKp9MZMNl6vV6UlZWhpKQETqfTN0/I6/UGdd+UMxUYneXk5PhOU9TX12PUqFF+7e0jeYHE8/1ciOKJ6Lyk+KhOp9O3mFYg7W+ifdHxPyyHw+F77HQ6kZ6e7rdtenp6RCevNTQ0oLi4GA0NDRE7Zkx65BHg+HH5VtdhplKpsOCiBdhcshn9kvoF3KZfUj9sLtmM+RfOD+sVGUuXLu1SQLvdbhgMBmi1WlitVr8iQK1WB/XffbCn62pqaqDT6QDI8xr27NnTJbbuCgWeGiSKDaLzkuICYujQM//npmSb7nR80/J6vWhqavK9wXWc8NVRU1NTr48XrJaWFrhcLrREyQ2TotY558iLbP35z8CXX0bkkMlJyTh66mjAtqOnjnY7OhFKxcXFXUYh3G431Go1zGYz1Gq1b9l7QD6d4XQ6fUVwb+8d0VF7Ae9yufwK8MLCQtTU1PiO5XA44PV6gx7VUKvVvnkT3f1NElHkiM5Lit9Zlfz3Fqr/8CwWi2/iWU+6exOrq6vD5Zdf7ns8e/ZszJ49u08xHT58GPPmzcPu3btx6NAhRa/xeDzYsGFDn44bi1QzZmDaOefg+IIF2Pr000Affy/O1I8vu19GEpLQhjYkq5LRKrX6PichCU/88wn8VPvTPsXQWVNTE3bs2OEX13/8x3/glVde8T0/ZMgQfP/990hLS0NOTg7UajW+//5732seeeQRXHHFFRg1ahSMRiMyMzN9ba2trdi8eTO+++47HD9+3Pd1d44fP45169Zh8uTJ2LNnDx555BF89913vtc88sgjuPnmm7Fnzx5MnjwZf/zjHwMeq+PXhw/LtwRv3+7888/H/Pnz8dZbb+FnP/sZrrrqqpD2aSxI1L/pUGIfhobH4+lVXgpkzZo1WLNmje+x0oJEJSm8i0x6ejpKSkp63MZmsym+F0SgG1EBclHQeYa4zWZDeXm531UbGo0Gdrs94H9R+fn5qKqqUhSHUlu3bsWtt96KV155BZMnT1b0mg0bNmD69OkhjSNmvP22fJvr118HbrihT7s6Uz/qy/XYtFe+dfWV467Eo7Mfxa/W/Arv73xfbj9Hj9ri0N/sKZrodDrY7faA84uABP9dDCH2Y9+xD0Njw4YNGDp0aNB5SQmlOVTxKYxZs2ahvr6+x49Zs2b1KWgA2LhxY5dzsN0NtWZnZ/f5eBQm114LXH018KtfAceOhe0wDYcasGnvJiSrkmE1WuG8zQn9OXqsvW0tls9ajmRVMlzfurDr0K6wxUBElIgUn8Kwh2HFRa/X26VYcLlcXSZMdp7s5Xa7kZ2dHdHJXiNHjsR9992HkSNHRuyYMU2lAp54Apg6FXjsMflulWGQpErCnKw5+P0Vv8fFmRf7PW+ZacEV467Agx88GNYJlEREIojOS+GfXdaJ0+lEdXU1AGDZsmXIycnpcn17oNnhdrsdFosFOTk5qKmpCUtB0xO1Wo3rr78+oseMeZMnAz//uXxlxs9+BoweHfJDjE4bjXdueafb9umjp/fYHi+4yBtR4hGdlyJeQLTfPKe7SZKlpaUBn2+/FA7AGW+oEw5erxfvv/8+rrjiCl7mFowHHgBeeQWwWICVK8+8PRERKSI6L/GuSArt3bsXDz/8MPbu3Ss6lNgydKg8AvHqq8Ann4iOhogobojOSywgKPwWLAAMBvl0xmefyfMj2j/CsBQ2ERGFHwsICr/2dTJcLqDz5VvZ2X2+TwQREUUeCwiKjMsu67mdRQQRUUxhAaFQamoq9Ho9UlNTRYcSe5SepuDpDCIixUTnpYhfhRGrxo4dG5L1ChKS0ht+ZWcDym6MSkSU8ETnpbgcgWhsbER+fj4qKipCts+2tjacOHECbW1tIdsnERFRb4U6L1VUVCA/Px+NjY2Kto/LAiIzMxNVVVUoKioK2T63b9+OSy+9FNu3bw/ZPomIiHor1HmpqKgIVVVVyMzMVLR9XBYQFGU6LGMdku2IiEg4FhAUfgaDsu3++EfgwIHwxkJERCHBAoIi40yTI1euBKqrgSlT5CXAiYgoqrGAoMiRpK6nKTZulJ+/+Wbgq6+AGTOAm26SHx88KCZOIiI6I17GqZBOp8Pq1auh0WhEhxLbDIbuRyNGjgTeeEMejfj5z+XRiGefBc45J7IxEhHFANF5iSMQCvXr1w8ZGRno16+f6FDim0oF3HqrPBpx8cXADTdA9/vfA01NoiMjIooqovMSCwiFGhsbYbFYFF8fS310zjnAW28BL70E9aefyqMRVVWioyIiihqi8xILCIUOHz6MtWvX4vDhw6JDSRwqFXDbbfji1VflUx/XXQfcdhvg8YiOjIhIONF5iQUERb2TI0YA/+//AS+8II9CTJkCvP226LCIiBIaCwiKDSoVMH++PDfiwguBuXPlx16v2LiIiBJUXBYQ4VgLg6JEZibwzjvA3/4mX7ExZQqwerXoqIiIYh7XwkB41sIYMWIE7r77bowYMSJk+6ReUqmA228HvvwSmDoVuPZa+TFHI4gogYQ6L3EtjDAZNmwYFixYgGHDhokOhdqNGQO8+y7w3HOAwwH86EfA//6v6KiIiCJCdF5iAaHQ4cOH8eGHH/IqjGijUgF33CGPRpx/PnDNNfLjQ4dER0ZEFFai8xILCIUaGxuxePFi3gciWo0dC/zzn0B5ObBqlTwasWaN6KiIiMJGdF5iAUHxQ6UCiovl0YhJk4Af/1h+3NwsOjIiorjDAoLiz7nnyit7/uUvwKuvyhMtnU7RURERxRUWEBSfVCrgzjvl0YisLMBkkh9zDgsRUUiwgFCof//+0Gq16N+/v+hQKBjjxsmjEc88A7zyijwa8d57oqMiIuoz0XmJBYRCWq0WlZWV0Gq1okOhYCUlAf/1X8AXXwDjxwOzZgF33w0cOSI6MiKiXhOdl1hAUOLQaoG1a4GnnwZefBGYNg14/33RURERxSQWEApt374dubm52L59u+hQqC+SkoBFi+TRiNGjgSuvBO65B/j+e9GREREFRXReissCIhxrYbS1taGlpQVtbW0h2ycJpNPJow9PPSWvqzFtGvDBB6KjIiJSLNR5iWthIDxrYVAcSkoCfv5zeTRi1CjgiiuAX/yCoxFElJC4FgZRsLKy5NGIJ56Q19W44ALgo49ER0VEFNVYQBABQHIy8MtfAps3A2efDeTlAffeC7S0iI6MiCgqsYBQaNy4cXjllVcwbtw40aFQOE2cCHz4IfDoo8CzzwIXXgh88onoqIiIuhCdl1hAKDRw4EBMnjwZAwcOFB0KhVtyMrB4sTwaMWwYcPnlwK9+BRw9KjoyIiIf0XmJBYRCe/fuhdVqxd69e0WHQpEyaRLw8cdAWZl8J8sLLwTWrRMdFRERAPF5iQWEQl6vF3a7HV6vV3QoFEnJycCvfy2PRmg0wMyZwG9+w9EIIhJOdF5iAUGkxOTJ8mjEsmXynSwvughYv150VEREwrCAIFIqJQUoLQVcLiAtDbjsMsBiAY4dEx0ZEVHEsYAgCtb55wOffgr84Q/Ak08Cej3w2WeioyIiiigWEAqlp6fj5ptvRnp6uuhQKBqkpABLlsijEampwIwZwNKlwPHjoiMjogQhOi+xgFAoIyMDixcvRkZGhuhQKJpMmSLPhXjoIeCxx+TRiJoa0VERUQIQnZfisoAIx2JaLS0t+OKLL9DCOxNSZykpwG9/C9TWAgMHyqMRv/sdRyOIKKxCnZe4mBbCs5hWQ0MDbr/9djQ0NIRsnxRnpk6VRyP++7+BP/4RyM6WiwoiojAIdV7iYlpEIvXrB9x3H7BxozwyMX06cP/9wIkToiMjIgopFhBE4TBtmnxlxgMPAMuXy6MRLpfoqIiIQoYFBFG49OsnFxA1NUBSkjwa8fvfczSCiOICCwiFkpOToVarkZycLDoUijUXXiiPRvzud8AjjwAXXyzfGpuIqA9E5yUWEApNmDABTqcTEyZMEB0KxaL+/eXJlZ99BrS1ATk5wP/8D3DypOjIiChGic5LQgoIl8sFg8EQsM3pdMJms8HpdMLpdPq9xnX6HLLb7fZ9TRRTLrpInmC5dKl874jp04EvvhAdFRFR0CJeQDgcDgAIWAA4nU7Y7XYUFxdDq9WipKTE11ZeXg6DwQCVSoWSkhJotdqIxQzIRcv1118Pt9sd0eNSHOrfH3jwQWDDBnkEIjtbLiY4GkFEQRCdl1IifUCz2dxtW0lJCWpPXzev1WpRXV3tazMYDPB4PAAAtVod1hgDOXHiBHbv3o0TnABHoWIwyKMRDz0kn854803gxRfl+0kQEZ2B6LwUNXMg3G43mpqaoFar4XK54PV6u4wyqNVqIcUDUdgMGAA8/DCwbp28qqfBIC/SdeqU6MiIiHoUNQWEy+VCeno6HA4HtFotbDab73QHAHi9XjgcDjgcDlgsFp5KoPiSkyPftfJXv5Iv/ZwxA/jqK9FRERF1SyVJkiTkwCoVOh7aZrOhpKQEHo8HarUaXq8XGo3Gt43X6/WNPrhcLhQUFKC+vj7gvs8//3wMGzbM93j27NmYPXt2n+I9fPgwNm3ahIsuughDhgxR9BqPxwONRtOn41Li9ePgr76C7sEHMWDPHjTecQf23HKLfFfLPki0PgwX9mPfsQ9Dw+PxICUlJei8FMiaNWuwZs0a3+OWlhbfdIIeSYJ0PnR1dbWkVqu7bFNbWytJkuT7LEmS5PF4JABSfX19wH3PnTs3xNFK0pEjR6RPP/1UOnLkiOLXrF+/PuRxJKKE7MejRyWptFSSkpIkKSdHkr76qk+7S8g+DAP2Y9+xD0Nj/fr1vcpLSijNoVFzCqOnqypcLhdmzZrV5flIroE+ePBgzJgxA4MHD47YMSmBDRwIWK3AJ58Azc3yMuFWK+dGEJGP6LwktIDwer2+r7VaLbKzs33Pud1uaLVa6PV6aLVaWK1W37ZOpxNmszmiEyoPHDgAm82GAwcOROyYRLjkEmDTJuCee+R7R8ycCWzdKjoqIooCovNSxAsIp9MJi8UCAFi2bJnfREm73Q6LxQKbzQar1eq7jFOtViM7OxtlZWWw2WyoqamB3W6PaNyif1CUwAYNkpcH//hjwOORb439xz8Cra2iIyMigUTnpYjfB8JoNMJoNPqNKLRTq9UoLy8P+Dq9Xg+9Xh/u8Iii16WXymto3HcfYLEAb7wBvPACMGmS6MiIKAFFzRwIIlJg0CDgsceAjz4CvvtOHo147DGORhBRxLGAIIpFl10GfP45cOedwG9+A+TmAtu3i46KiBIICwiF0tLScM011yAtLU10KESy1FTgiSeADz4A9u0DLrhAfszRCKKEIDovsYBQaNSoUXjooYcwatQo0aEQ+bv8cnk0orgYWLwYuOIKoK5OdFREFGai8xILCIVOnDiBXbt2cTEtik6DBwNPPQW8/z6wZw8wbZr8uK1NdGREFCai8xILCIXcbjduuOEGrsFB0S0vD/jiC+A//xP45S+BK68EurnlOxHFNtF5KS4LiMbGRuTn56OiokJ0KESRN3gw8PTTwHvvAQ0NwLRpONtu52gEEfWooqIC+fn5aGxsVLR9XBYQmZmZqKqqQlFRkehQiMS58kpgyxZg/nyMe+wxYNYsgCNoRNSNoqIiVFVVITMzU9H2cVlAENFpZ50FPPMMvl6xAtixQ54b8ec/czSCiPqMBQRRAmjOzpZHI376U+DuuwGjEdi5U3RYRBTDWEAoNHnyZGzcuBGTJ08WHQpR7wwZAvzlL0B1tTyxcupU4NlnAUkSHRkR9YLovMQCgijRGI3yaMTNNwN33QWYTMA334iOiohiDAsIhb755hssWLAA3/CNluJBWhpQXg7885/yLbB/9CPAZuNoBFEMEZ2XWEAodPToUWzZsgVHjx4VHQpR6MyeLY9G/OQnQEkJ8OMfy5d+ElHUE52XWEAQJbqhQ4HnngPefRf4+mt5NOKvf+VoBBH1iAUEEcmuvhr48kugoABYuBC45hpg1y7RURFRlGIBQUQ/GDoU+NvfgHfekU9t/OhHwPPPczSCiLpgAaHQqFGj8OCDD3I1TkoMc+bIoxE33CCvq3HttYDC29sSUWSIzktxWUCEYy2MtLQ0zJkzR9i660QRp9EAL74IvP02sHkzMGWK/JijEURRIdR5iWthIDxrYXg8HlRWVsLj8YRsn0Qx4dprga++AvLzgQULgLlz5SXDiUioUOclroURJvv27UNZWRn27dsnOhSiyNNogJdfBqqqgNpaeTTi5Zc5GkEkkOi8xAKCiJSbO1cejbj2WuBnPwOuuw749lvRURGRACwgiCg46enAK68Ab74JfPaZPBrxyiscjSBKMCwgiKh3rrtOHo24+mp5lc8bbgD27hUdFRFFCAsIhVJTU3HJJZcgNTVVdChE0WPYMODVV4HXXwfWrZNHI159laMRRBEgOi+xgFBo7NixWLFiBcaOHSs6FKLoc8MN8miEyQTccgtw000AJxwThZXovMQCQqG2tjZ8//33aGtrEx0KUXQaPhz4xz8AhwP4+GN5NOIf/+BoBFGYiM5LLCAU2r59O/Ly8rB9+3bRoRBFt5tukkcjrroKKCqS19bYv190VERxR3ReYgFBRKE3YgRQWSl/fPCBPBpht4uOiohCiAUEEYVPQYE8GpGXBxQWyh/ffSc6KiIKARYQRBReGRny6ENFBfDee/JoxGuviY6KiPooLguIcCymRUR9oFIBP/mJPBoxcyZgNsuPDxwQHRkRncbFtBCexbSysrJQXV2NrKyskO2TKOGcfbY8+rByJVBdLY9GvPGG6KiIYlKo8xIX0wqTlJQUaDQapKSkiA6FKLapVMDNN8ujETNmADfeKD8+eFB0ZEQxRXReYgGh0O7du7F48WLs3r1bdChE8WHkSHn04e9/B/73f+XRiLfeEh0VUcwQnZdYQCh05MgRfPjhhzhy5IjoUIjih0oF3HqrPBpx8cXA9dfLj5uaREdGFPVE5yUWEEQk3jnnyKMPL70EvPOOPBpRVSU6KiLqAQsIIooOKhVw223yaITBIK/2edttgMcjOjIiCoAFBBFFl1GjgP/3/4AXXpBHIaZMAd5+W3RURNQJCwiFMjIycO+99yIjI0N0KETxT6UC5s+XRyMuvBCYO1d+7PWKjYsoiojOSywgFEpPT8ctt9yC9PR00aEQJY7MTHlOxN/+Jl+x8aMfAe++KzoqoqggOi+xgFCoubkZTqcTzc3NokMhSiwqFXD77cCXX8oFxJw58uNDh0RHRiSU6LzEAkKhPXv2YMmSJdizZ4/oUIgS05gx8ujDc88BDodcTPzzn6KjIhJGdF6KywKCa2EQxSmVCrjjDnk04rzzgKuvlh9zNIKoz7gWBsKzFgYRRZGxY+XRh/JyYNUqYOpUYM0a0VERxTSuhUFEiUGlAoqL5dGIiROBH/9Yfsx5SkQRwQJCoQEDBmDSpEkYMGCA6FCIqKNzz5VX9vzLX4BXX5VHI5xO0VERhZ3ovMQCQqHx48dj5cqVGD9+vOhQiKgzlQq48055NCIrCzCZ5MeHD4uOjChsROclFhBEFD/GjZNHI555BnjlFXk04r33REdFFJdYQCi0bds2zJgxA9u2bRMdChH1JCkJ+K//Ar74Ahg/Hpg1C7j7boAr6VKcEZ2XhBQQLpcLBoMhYJvT6YTNZoPT6YSzw3lMt9uNsrIyOBwOlJWVwRvhW9pKkoSTJ09CkqSIHpeIekmrBdauBZ5+GnjxRWDaNOD990VHRRQyovNSxAsIh8MBQC4iOnM6nbDb7SguLoZWq0VJSYmvraCgAKWlpTCbzTCbzVi4cGHEYiaiGJWUBCxaJI9GjB4NXHklcM89wPffi46MKOalRPqAZrO527aSkhLU1tYCALRaLaqrqwHIow8dabVav9EJIqIe6XTy6MOKFcCSJcDq1fJqn7m5oiMjillRMwfC7XajqakJarUaLpcLXq8XWq0WgDwy0XmxkPT09ICjGEREASUlAT//uTwaMWoUkJcH/OIXHI0g6qWoKSBcLhfS09PhcDig1Wphs9l8pzu6m+/Q1NQUsfjGjx+PyspKXsZJFOuysuTRiCeekNfVuOAC4KOPREdFFDTReSnipzC609TUBLfbDaPRCLVajeLiYmg0mh4nh3RXWNTV1eHyyy/3PZ49ezZmz54dkji/++47xdt6PB5s2LAhJMdNZOzHvmMfBjBjBga+9BK0Dz2Es/LysHfePOy+8060DRzY7UvYj33HPgwNj8eDzZs3AwguLwWyZs0arOlwK/iWlhZlL5QE6Xzo6upqSa1Wd9mmtrZWKi8vl/R6vV+bWq2WqqurA+577ty5oQ1WkqQ9e/ZIDz74oLRnzx7Fr1m/fn3I40hE7Me+Yx/24NQpSXrsMUkaOFCSJkyQpI8/7nZT9mPfsQ9DY/369b3KS0oozaFRcwqjfb5DIEajMeDz2dnZ4Qqni0OHDuGtt97CIa76RxRfkpOBxYuBzZuBYcOAyy8HfvUr4OhR0ZER9Uh0XhJaQHQ8BaHVapGdne17zu12Q6vVQq/Xdyku3G43srOzoVarIxcsEcW3SZOAjz8GysrkO1leeCGwbp3oqIiiVsTnQDidTt/lmcuWLUNOTo7v0k673Q6LxQKDwYDa2lrfdh3bcnJyUFNTA7vdHunQiSjeJScDv/418B//AcyfD8ycKY9OPPggMGiQ6OiIokrECwij0Qij0Qir1dqlTa1Wo7y8PODrtFqt7zU93UuCiKjPJk+WRyMefxx44AHg7bfl+0aoVKIjI4oaUTMHItqlp6dj/vz5Xe5HQURxKiUFKC0FXC5gyBDgssswZsUK4Ngx0ZERARCfl1hAKJSRkYFFixYhIyNDdChEFEnnnw98+inwhz9g5KpVgF4PfPaZ6KiIhOclFhAKtbS0oLa2Vvn1sUQUP1JSgCVL8OVLLwGpqcCMGcDSpcDx46IjowQmOi+xgFCooaEBJSUlaGhoEB0KEQlyVKsF1q8HHnoIeOwxeTSipkZ0WJSgROclFhBERMFISQF++1ugthYYOFAejfjd7zgaQQmHBQQRUW9MnSqPRvz3fwN//COQnS0XFUQJIi4LiMbGRuTn56OiokJ0KEQUz/r1A+67D9i4UR6ZmD4duP9+4MQJ0ZERBa2iogL5+flobGxUtH1cFhCZmZmoqqpCUVFRyPaZkpKCjIwMpKREzfpjRBQtpk2Tr8x44AFg+XJ5NMLlEh0VxblQ56WioiJUVVUhMzNT0fZxWUCEQ1ZWFlavXo2srCzRoRBRNOrXTy4gamqApCR5NOL3v+doBIWN6LzEAoKIKJQuvFAejfjd74BHHgEuvhj4/HPRURGFHAsIherq6jBnzhzU1dWJDoWIol3//vLkys8+A9ra5FMa//M/wMmToiOjOCI6L7GAUOjUqVPYv38/Tp06JToUIooVF10kT7BculS+d8T06cAXX4iOiuKE6LzEAoKIKJz695dX89ywQR6ByM6WiwmORlCMYwFBRBQJBoM8GlFaKp/OuOQS4MsvRUdF1GssIIiIImXAAODhh4F16+RVPfV64A9/AHhqlGIQCwiFxo4di/LycowdO1Z0KEQU63Jy5LtW/upX8qWfM2YAX30lOiqKMaLzEgsIhVJTU2EwGJCamio6FCKKBwMHAsuWyaMRR47IoxHLlnE0ghQTnZdYQCi0f/9+rFixAvv37xcdChHFk4svBjZtAn75S/m22JdeCvzrX6KjohggOi/FZQERjrUwmpqa8OKLL6KpqSlk+yQiAiCPRlitwCefAM3N8miE1crRCOpRqPMS18JAeNbCICIKu0sukUcj7rlHvnfEzJnA1q2io6IEwbUwiIhi2aBB8vLgH38MeDzyrbEffRRobRUdGZEfFhBERNHo0kuBzZuBu++W7x1x+eXAtm2ioyLyYQGh0NChQ3Hddddh6NChokMhokQxaBDw2GPARx8B330nj0Y8/jhHIwiA+LzEAkKhc845B/fffz/OOecc0aEQUaK57DJ5Rc877wR+/WsgLw/Yvl10VCSY6LzEAkKh48ePw+124/jx46JDIaJElJoKPPEE8MEHwN69wAUXAE8+Ka/2SQlJdF5iAaHQjh07UFhYiB07dogOhYgS2eWXy6MRxcXAvffKoxGClnMmsUTnJRYQRESxZvBg4KmngPffB/bsAaZNA/70J45GUESxgCAiilV5ecAXXwD/+Z/AL34BXHklUF8vOipKECwgiIhi2eDBwNNPA++9BzQ0yKMRK1ZwNILCjgWEQiqVCv369YNKpRIdChFRV1deCWzZAsyfL9/JctYswO0WHRWFkei8xAJCoUmTJmHdunWYNGmS6FCIiAI76yzgmWeAtWuBHTvk0Yg//5mjEXFKdF6KywIiHItpERHFjKuukkcjfvpT+U6WJhOwc6foqCjKcTEthGcxrR07duCWW27hZZxEFBuGDAH+8hegulq+zHPqVODZZwFJEh0ZhUio8xIX0wqT48ePY9u2bbyRFBHFFqNRHo24+WbgrruA2bOBb74RHRWFgOi8xAKCiCjepaUB5eXAP/8pL8g1dSpgs3E0gvqEBQQRUaKYPVsejZg3DygpAX78Y/nST6JeYAFBRJRIhg4FnnsOePdd4OuvgR/9CPjrXzkaQUFjAaHQqFGjsHz5cowaNUp0KEREfXf11cCXXwIFBcDChcA11wC7d4uOioIgOi+xgFAoLS0NRqMRaWlpokMhIgqNoUOBv/0NeOcd+dTGlCnA889zNCJGiM5LLCAUampqwsqVK9HU1CQ6FCKi0JozRx6NuOEGeV2Na68FFN4LgMQRnZdYQCi0f/9+PPHEE9i/f7/oUIiIQk+jAV58EXj7bWDzZnk04sUXORoRxUTnJRYQRET0g2uvBb76CsjPBxYsAObOlZcMJ+qEBQQREfnTaICXXwaqqoDaWnk04u9/52gE+YnLAoJrYRARhcDcufJoxLXXArfdBlx3HfDtt6KjojDhWhgIz1oYZ511FnJzc3HWWWeFbJ9ERFEvPR145RXgzTeBzz6TRyNWruRoRBQIdV7iWhhhMnr0aDz++OMYPXq06FCIiCLvuuvk0YirrwZuvVW+YmPvXtFRJTTReYkFhEKnTp2Cx+PBqVOnRIdCRCTGsGHAq68Cr78OrFsnj0ZUVHA0QhDReYkFhEJ1dXUwmUyoq6sTHQoRkVg33CCPRphM8iqfN90E7NsnOqqEIzovsYAgIqLgDR8O/OMfgMMBfPyxPBqxahVHIxIICwgiIuq9m26SRyOuugr4yU/ktTV4w72EIKSAcLlcMBgMAZ93uVwAALfb7fv6TG1ERCTQiBFAZaU8AvHBB/JohN3+Q3tDAzBkCJCcDP2VV3IJ8TgR8QLC4XAAQMACoLy8HAaDASqVCiUlJdBqtYraiIgoChQWyqMReXny14WFQL9+wLnnAkeOAG1t6Hf0qPy4Xz/R0VIfpUT6gGazuds2g8EAj8cDAFCr1YrbImHixIl4++0PkJExKOLHJiKKGRkZ8ujDqlVAT/fiOXVKLiJOnoxcbHFm4sSJ+OCDDzBokJi8FHVzINRqdbcFQk9t4fb550kYO3YwPv886rqMiCi6qFTApZeeebtTp3g6ow+SkpIwePBgJCWJyUtRlQ29Xi8cDgccDgcsFgvcbreitkgoL2/GyZOAzdYc0eMSEcWkKVOUbafVAo88ArzwAvC//wt8/rk8CbOtLbzxxYGGhgYsWrQIDYKKMJUkibnmRqVSofOhvV6vb4TB5XKhoKAA9fX1Z2zr7Pzzz8ewYcN8j2fPno3Zs2f3OlZJAqqr23DsWBIGDmyDyZQElerMr/N4PNBoNL0+LsnYj33HPgwN9qNyOTNmIElBemkD0JqWhn7N/v+ctSUn41R6Ok4MH46Tw4b5Pp9sf9zhayklwmfjW1sxZPNm9D94ECeGDcPhCy8EkpMjGoLnwAGM2LoVe2prMcpgwKkZM3odw5o1a7BmzRrf45aWFtTW1p7xdVFVQLhcLuj1egBywaDRaFBfXw+tVttjW2f5+fmoqqoKWaybNgGnD+17fOGFZ37dhg0bMH369JDFkajYj33HPgwN9mMQhgyRJ06eyVlnAYcPA8ePy7fG/vZb+aPj1x0/9u3rOjoxfDhwzjln/khN7fv39frrwC9+Aeze/cNzo0cDTz0F3Hhj3/evMIbjd92FAR0vlw1hDEpzaMQnUXbH5XJh1qxZvomS7dLT03tsC7WtW+URtI6qqoDkZAmtrSokJ0t49FEV5s713+aCC4DJk0MeDhFRbPrqK/lqCyXbAcCAAfL2Z3pNayvw3XeBi4tvvwW2bQPef1/++sQJ/9empfVcYIwcKX9WqxFwmPn11wGzuevNsnbvlp93OMJfRJyOob/IGE4TWkB0PC2h1WphtVp9bU6nE2azGWq1use2ULvvPuC117pvb22VF6JbudL/ebPZ/7JnIqKENnYskJIiT5TsTkqKvF0wkpPlRD9yJHDRRd1vJ0mAx9N9odHYCNTWyl8fPuz/2oEDfygm2j/OPht44onu77QpSfLIxLXXyleXhGNiY2urfAxJQsCz6JIE/PKX8sJnETilEvECwul0orq6GgCwbNky5OTk+IqB7OxslJWVQa1Wo76+HvbTGbmntkBOnDiBrVu3+j2XlpaGUaNG4cSJEwEnYE4+PXzw+983oKVFjXffTQMgAb4fU+fP8LX/5CfAn//chq1bt/vt8/Dhwzh16hRSUlKwe/duHOk0nJeRkYH09HQ0Nzdjz549fm0DBgzA+PHjAQDbtm3rcrpn/PjxGDBgAL799lscOnTIry09PR0ZGRloaWnpMrkmJSUFWVlZAOT7qHdehGXs2LFITU3F/v370dTU5Nc2dOhQnHPOOTh+/Dh27Njh16ZSqTBp0iQAwI4dO3D8+HG/9lGjRiEtLQ1NTU3Y3+kudWeddRZGjx6NU6dOBbyne/v33tDQgJaWFr+2s88+GxqNJmAfDho0COee/m+m8+8DIBet/fv3x549e9Dc6fzr8OHDMXz4cHz//ffYtWuXX1v//v19p87+/e9/o7W11a+9pz5Uq9UYOXIkjh07hp07d/q1JSUlYeLEiQDkm6Wd6PTfU2ZmJoYMGYKDBw/iu+++82sbMmQIMjMzcfLkyYBzg3rqw5EjR0KtVsPr9WJvp9UVU1NTMXbsWLS1tWH7dv/fbwDQ6XTo168fGhsbcbjTm/CIESMwbNgwHD58GI2NjX5tHftw+/btaOs0JD1u3DgMHDgQe/fuhdfr9Wvr6fc7OTkZEyZMABC4D8eMGYPBgwfjwIEDOHDggF+b0veIb775BkePHvVra//99ng82NdpTYgz9WFWVlb8vkds2YIJP/oRklpbu7xztiUn499btsjDvujbe8TEiRORlJQU+D1i1Chopkzp+T3iyBHUf/IJUr77zu9DfewYkvftw8l//QtJu3Yh+fvvuxzbz+7dcvHRLjkZbUlJcjJPSoJ0+uukfv2gSkpCq0qFNpVKbktOBlQqJPXrh5QBA9CWlIQTra2ASiW3JSUhqaUFAzqeOglk1y4cevttfHv6/bjdmd4jOvahUsLmQITTBRdcgH6dblJyzTXX4KGHHsKuXbtwww03dHnNxo0bAQALFizAF19swcGDc9HQsASSlIzAddYpqFStuPLKSjidP0VLy/fIy8vz22LevHm44447oNFosHjxYnz44Yd+7ffeey9uueUWOJ1OLFmyxK9t0qRJWHl6mGPGjBk42ela6crKSmi1Wjz00EN46623/Nrmz5+PRYsWoba2FiUlJX5tGRkZWL16NQBgzpw5Xf5Q22/YtWLFCrz44ot+bddddx3uv/9+uN1uFBYW+rX169cP69atAwDccsst2LZtm1/78uXLYTQasXLlSjzxxBN+bbm5uXj88cfh8XhgMpnQ2VNPPYXLLrsMixYtwvr16/3aSktLUVhYiNWrV+OBBx7wa5s6dSpeeOEFAEB2dnaX/b7xxhsYM2YM7r//frz77rt+bcXFxSguLsa6detwzz33+LWNHj0ab775JgDAaDR2SXDPP/88pk2bhscffxyvvvqqX1tBQQEsFgu2bt2KW2+91a8tNTXV9ztSWFjYJYk9/vjjyM3NxQsvvIBnnnnGr23WrFmwWq3Yv38/5syZ0+V7ffrppzFjxgwUFxd3uYnbfffdh+uvvx5vvvkmHn74Yb82vV4Pm82GEydO4NIAl+WtXr0aGRkZsFgsWLt2rV/b3XffjQULFuDDDz/E4sWL/dq0Wi0qKysByD//zm/6r7zyCiZPngyr1drln4Wbb74ZixcvxhdffIHbb7/dr02tVsPpdAIArr/+euzu9Gbb3g82mw02m82vTcl7xIYNG/Dss89iy5Ytfm0PPvgg5syZg8rKSpSVlfm1XXLJJVixYgW+/77rewQAVFdXx/17xPCWFji2bsVZKhVODhiA/zIasalTMu/Le8QHH3yAwYMHh/U9om3lSvyh0z9Ogbw2fDi+HT0ai+66C2htxdNPPoljR48iWZKQJElIBmC+8Uack5GBTz/6CF9t2YLk0yMKyZKEyRMm4GKDAZ4DB1C9Zo38utNt5548iQuaz3wl4PvFxfh1p0mQZ3qP+PTTT9G/f38UFxdj7969iuZAxGUBcfXVV+PJJ5/0e643/13s2NEfN944DseOdR2KGjiwDa+/vhNTpqR0+9/F7t27ccUVV8TvfxcdhHMEwuv14pJLLuEIRB9GIHrqQ45AyJS8R2zYsAEjR47kCEQf3iM2bNiAjIyMkL5H9DgCEaL3iFNOJ8b+7Gddtums4aWXcGrmzLC8RwyuqcGY2247YwyH3nyzTyMQixYtStwCIlRXYdTVAaffi7pt1+m6b+eM7dBgP/Yd+zA02I99F7N92NoKjBvnf/VFZ2PGADt2hG/+QYRiUJpDo+pGUtHmtdd+mAeTnCz5fU5K6nmyJRERxZHkZPkyye5uAqRSAU8+Gd7Jix1iCPiffyRi6IAFRA9WrfrhcuPs7Bacd94tMBjk4bG2NrmdiIgSxI03ypdJjh7t//yYMZG7fPJ0DCcyMsTFcBoLiG40NMg3jEpOBqxW4PnndyE1dRteeGEXli+Xn3e5gE6nx4mIKJ7deCOwcyfwf/8HvPqq/HnHjogmbtx4Iza/8QYaXnoJvxs/Hg0vvRT5GBBFN5KKNklJwJw5wO9/D1x8MfDNN4MwdepUDB48CBYLcMUVwIMPdj+aRUREcSo5WU4CgmOQ8vKwJy8PUl5exG+lDcRpAdHY2Ij8/HwUFRWhqKflZHswejTwzjs/PD733HN9l/sAwPTp/u1ERESR1Dkv9VVFRQUqKiq6XDXVnbgsIDIzM0O6FgYREVG8a/+nOz8/X9H2nAOh0NatW5GdnR3wWmEiIqJIE52XWEAQERFR0FhAEBERUdBYQBAREVHQWEAQERFR0OLyKoxw0Gq1eOONN3D22WeLDoWIiEh4XmIBoVD//v0xZswY0WEQEREBEJ+XeApDoT179uD+++/vshwsERGRCKLzEgsIhZqbm/Huu++iublZ8WvWrFkTxogSB/ux79iHocF+7Dv2YWisWbOmV3kplFhAhBH/UEKD/dh37MPQYD/2HfswNKKhH1lAdFBRUSE6hB6FI75Q7zPa+xCIje+Z/Rh9+wuHWPjdScR+jIWfS6j1Jr64LCDaF9MKtkPi8Qcc6X1Gex8CsfE9sx+jb3/hEAu/O4nYj7Hwcwm19oW08vPzFS+mpZIkSQpzXBE3ZcoU6HS6oF/X2NiIzMzMkMUR7fsLxz4TMcZE/J7Dsc9o31849pmIMSbi9xyOfYZzf/X19fjqq6/O+Jq4LCCIiIgovOLyFAYRERGFFwsIIiIiChrvRNkHbrcbDocDWq0WbrcbxcXFUKvVAbd1uVxwOp0AgJqaGjz33HPdbptogunHjiwWC5YuXcp+RPB96HQ64Xa7odVqAQBGozFCkUa3YPrR7XbD6XQiPT0dbrcbZrPZ15+JzuVyYeHChaitre1xu97+7ScCpX0oNLdI1Gt6vd73dX19vWQ2m7vd1mq1+n3d8bWJLph+bFdbWysBkDweTxgjix3B9GF1dbVUXFzs21ar1YY9vljR279pSZJ8fZro7Ha77+/zTHrzt58IgulDkbmFBUQv1dfXd/lBqdXqgNvW1tb6tdXX10sApPr6+rDGGAuC6ceO7Ha7pNVqWUBIwfdh537j76Es2H7svC0LCH9nSn69/dtPJGfqQ9G5hXMgeql96LKj9PR0uFyuLtvq9Xo899xzvsder9e3faILph/bORwOmM3mcIcWM4LpQ7fbjaamJqjVarhcLni9Xg67nxbs72J6ejoMBoPvVIbJZIpEmHGjN3/75E90bmEB0UvtP6jOmpqaAj7fMeGtWrUKRqOR5/oQfD96vV72WyfB9KHL5UJ6errvvLPNZoPD4QhzhLEh2N9Fu90OANDpdLDb7SxqgxRsf1NgInMLJ1GGWHd/FB3bHQ7HGSfGJLru+rGyshLFxcWRDSZGBerDpqYmuN1u35tMcXExNBoNJN4Oplvd/S46nU5YrVa43W6UlJQAAMrLyyMYWXw603soBSYit3AEopfUanWXSrl9aLgnFosF1dXV/C/6tGD60el0orCwMEKRxY5g+lCr1UKtVvva2j9z2Di4fnS73aipqYHRaERxcTHq6+tRWVkJt9sdoWhjX2/fQykwEbmFBUQvdXfZW3Z2drevKSsrg8VigVarhdfrZaWN4PuxsrISNpsNNpsNbrcby5YtS/jkF0wfcr5D94LpR5fLhZycHN9jrVaLpUuX8m86CL15D6XAROUWFhC91PmN2O12Izs72+8/uo7/jTgcDuj1et8PuLKykpU2guvH9v/22j8AoKSkBHq9PqIxR5tg+lCr1SI7O9v3BtN+L4hE70MguH7U6/Woqanx2/7gwYPsx046J7LOv4sdde5vkvXUh4Dg3BKRaz3iVH19vVRaWirZ7XaptLTU79I4s9nsuz63/dKajh+8XOkHSvuxncfjkaxWqwRAKi4ulmprayMccfQJpg89Ho9UXFwslZeXS8XFxbyMs4Ng+rG6ulqyWq1SeXm5VF5ezn48rbq6WiotLZUA+PqyXec+7Km/E5nSPhSdW7iYFhEREQWNpzCIiIgoaCwgiIiIKGgsIIiIiChoLCCIiIgoaCwgiIiIKGgsIIiIiChoLCCI6IxE3+1T9PGJqCsWEEQJrKCgABqNBgaDAQaDATqdzrcwVEcGg0FoEhd9fCLqigUEUYIrLi5GbW0tamtrUV9fD7VaDZ1O57eNJEkRu02zxWKBzWYTdnwiUoYFBBH5sVqt0Gq1sFgsokMhoijGAoKIuug8CqDRaOB2u+H1emEymaDT6aDT6VBWVgbgh1MMBQUFvufaXwPICwKpVCrf/kwmE8rKymAwGKDRaHyvKSkpgc1mg8VigcFggNPp7LIvt9vti8FkMvktNqTT6WCz2WAymaDRaOBwOMLXSUQJLkV0AEQUfdpX7PR6vX4r+1VWVkKv16O6uhoA/AqEgoICWK1WmM3mM+7f7Xbj4MGDqK2thcvlgsFggNFoRHl5OQC5IGlfcbUzg8GAtWvXQq/Xw+l0wmAwoL6+HgDQ1NSE6upqVFdXw+FwwGKxKIqHiILHEQgiCorD4fCNDHRckrmkpCSoZD1v3jwA8tLYZrMZq1atOuNrbDYbjEajbz6E0WiEWq32xdNxv0aj0W/ZYyIKLRYQRNRFe+LtOPoAyBMujUaj7xRBx8RtNBp7fbycnBy/UxHdqa+v9ytaALmI6VgodG4novBgAUFEXSxbtqzbUwjl5eWQJAlWq9Xvks/OxUYwampqulz5EYhOp+syquB2u/2Khr7EQUTKsYAgIj9lZWVwuVywWq1d2lwuly+Bn2nEIT093bdt58syAfhGL1wuFxwOh+/0h1qt9s1p6DwqUVhYCKfT6bsnhMPhgNfr7dPoBxH1DgsIogRns9n8biRVX1+P2tragP/Ju91u382nTCaTb9JjICUlJSgpKYHJZALQ9dRCfX09DAYDZs2aBbvd7mufN2+e7wqNjqdIALm4WLt2LRYuXAiNRoPy8nLfhE4iiiyVJEmS6CCIKLHodDrY7XbeHIoohnEEgoiIiILGAoKIiIiCxlMYREREFDSOQBAREVHQWEAQERFR0FhAEBERUdBYQBAREVHQWEAQERFR0FhAEBERUdBYQBAREVHQWEAQERFR0FhAEBERUdD+P+PVD43OpjUWAAAAAElFTkSuQmCC",
      "text/plain": [
       "<Figure size 600x600 with 1 Axes>"
      ]
     },
     "metadata": {},
     "output_type": "display_data"
    }
   ],
>>>>>>> 84445a50b93bf30ba36bc435057d46967fa87b93
   "source": [
    "with plt.style.context(\"science\"):\n",
    "    fig, ax = plt.subplots(1, 1, figsize=(6, 6))\n",
    "    # ax.scatter(F2_epsilon_method_no_partial_assignement, F1_epsilon_method_no_partial_assignement, marker=\"o\", c=\"k\", s=15, label=\"Non-dominated solution\")\n",
    "    ax.scatter(\n",
    "        F2_weighted_no_partial_assignement,\n",
    "        F1_weighted_no_partial_assignement,\n",
    "        marker=\"o\",\n",
    "        s=15,\n",
    "        c=\"r\",\n",
    "        zorder=2.5,\n",
    "        label=\"Supported non-dominated solution\",\n",
    "    )\n",
    "    ax.plot(\n",
    "        F2_weighted_no_partial_assignement,\n",
    "        F1_weighted_no_partial_assignement,\n",
    "        \"-or\",\n",
    "        zorder=2.5,\n",
    "    )\n",
    "\n",
    "    ax.scatter(ideal_disruption, ideal_distance, marker=\"*\", s=100, c=\"b\", label=\"Ideal point\")\n",
    "    ax.axvline(x=ideal_disruption, zorder=0, c=\"k\", linestyle=\"--\", alpha=0.8)\n",
    "    ax.axhline(y=ideal_distance, zorder=0, c=\"k\", linestyle=\"--\", alpha=0.8)\n",
    "\n",
    "    ax.scatter(nadir_disruption, nadir_distance, marker=\"*\", s=100, c=\"g\", label=\"Nadir point\")\n",
    "    ax.axvline(x=nadir_disruption, zorder=0, c=\"k\", linestyle=\"--\", alpha=0.8)\n",
    "    ax.axhline(y=nadir_distance, zorder=0, c=\"k\", linestyle=\"--\", alpha=0.8)\n",
    "\n",
    "    # ax.set_title(f\"{lb}, {ub}\")\n",
    "    ax.set_xlabel(\"Disruption\")\n",
    "    ax.set_ylabel(\"Distance\")\n",
    "    ax.grid()\n",
    "    ax.legend()\n",
    "\n",
    "fig.savefig(f\"figures/weighted_sum_method_{lb}_{ub}.pdf\", dpi=500)\n",
    "plt.show()"
   ]
  },
  {
   "cell_type": "code",
   "execution_count": null,
   "metadata": {
    "colab": {
     "base_uri": "https://localhost:8080/",
     "height": 534
    },
    "id": "sAXrf6syd_YO",
    "outputId": "0e9326ee-b655-46ac-c40f-8a5ec233cd43"
   },
<<<<<<< HEAD
   "outputs": [],
=======
   "outputs": [
    {
     "data": {
      "image/png": "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",
      "text/plain": [
       "<Figure size 600x600 with 1 Axes>"
      ]
     },
     "metadata": {},
     "output_type": "display_data"
    }
   ],
>>>>>>> 84445a50b93bf30ba36bc435057d46967fa87b93
   "source": [
    "with plt.style.context(\"science\"):\n",
    "    fig, ax = plt.subplots(1, 1, figsize=(6, 6))\n",
    "    ax.plot(\n",
    "        F2_epsilon_method_no_partial_assignement,\n",
    "        F1_epsilon_method_no_partial_assignement,\n",
    "        \"-ok\",\n",
    "        label=\"Non-dominated solution\",\n",
    "    )\n",
    "    # ax.scatter(F2_weighted_no_partial_assignement, F1_weighted_no_partial_assignement, marker=\"o\", s=15, c=\"r\", zorder=2.5, label=\"Supported non-dominated solution\")\n",
    "    # ax.plot(F2_weighted_no_partial_assignement, F1_weighted_no_partial_assignement, \"-or\", zorder=2.5)\n",
    "\n",
    "    ax.scatter(ideal_disruption, ideal_distance, marker=\"*\", s=100, c=\"b\", label=\"Ideal point\")\n",
    "    ax.axvline(x=ideal_disruption, zorder=0, c=\"k\", linestyle=\"--\", alpha=0.8)\n",
    "    ax.axhline(y=ideal_distance, zorder=0, c=\"k\", linestyle=\"--\", alpha=0.8)\n",
    "\n",
    "    ax.scatter(nadir_disruption, nadir_distance, marker=\"*\", s=100, c=\"g\", label=\"Nadir point\")\n",
    "    ax.axvline(x=nadir_disruption, zorder=0, c=\"k\", linestyle=\"--\", alpha=0.8)\n",
    "    ax.axhline(y=nadir_distance, zorder=0, c=\"k\", linestyle=\"--\", alpha=0.8)\n",
    "\n",
    "    # ax.set_title(f\"{lb}, {ub}\")\n",
    "    ax.set_xlabel(\"Disruption\")\n",
    "    ax.set_ylabel(\"Distance\")\n",
    "    ax.grid()\n",
    "    ax.legend()\n",
    "\n",
    "fig.savefig(f\"figures/epsilon_constraint_method_{lb}_{ub}.pdf\", dpi=500)\n",
    "plt.show()"
   ]
  },
  {
   "cell_type": "code",
   "execution_count": null,
   "metadata": {
    "colab": {
     "base_uri": "https://localhost:8080/",
     "height": 534
    },
    "id": "p3lf7hPQHquE",
    "outputId": "becfbc10-8679-44da-8b62-ca32cdbd4583"
   },
<<<<<<< HEAD
   "outputs": [],
=======
   "outputs": [
    {
     "data": {
      "image/png": "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",
      "text/plain": [
       "<Figure size 600x600 with 1 Axes>"
      ]
     },
     "metadata": {},
     "output_type": "display_data"
    }
   ],
>>>>>>> 84445a50b93bf30ba36bc435057d46967fa87b93
   "source": [
    "with plt.style.context(\"science\"):\n",
    "    fig, ax = plt.subplots(1, 1, figsize=(6, 6))\n",
    "    ax.plot(\n",
    "        F2_epsilon_method_no_partial_assignement,\n",
    "        F1_epsilon_method_no_partial_assignement,\n",
    "        \"-ok\",\n",
    "        label=\"Non-dominated solution\",\n",
    "    )\n",
    "    # ax.scatter(F2_epsilon_method_no_partial_assignement, F1_epsilon_method_no_partial_assignement, marker=\"o\", c=\"k\", s=15, label=\"Non-dominated solution\")\n",
    "    # ax.scatter(F2_weighted_no_partial_assignement, F1_weighted_no_partial_assignement, marker=\"o\", s=15, c=\"r\", zorder=2.5, label=\"Supported non-dominated solution\")\n",
    "    ax.plot(\n",
    "        F2_weighted_no_partial_assignement,\n",
    "        F1_weighted_no_partial_assignement,\n",
    "        \"-or\",\n",
    "        zorder=2.5,\n",
    "        label=\"Supported non-dominated solution\",\n",
    "    )\n",
    "\n",
    "    ax.scatter(ideal_disruption, ideal_distance, marker=\"*\", s=100, c=\"b\", label=\"Ideal point\")\n",
    "    ax.axvline(x=ideal_disruption, zorder=0, c=\"k\", linestyle=\"--\", alpha=0.8)\n",
    "    ax.axhline(y=ideal_distance, zorder=0, c=\"k\", linestyle=\"--\", alpha=0.8)\n",
    "\n",
    "    ax.scatter(nadir_disruption, nadir_distance, marker=\"*\", s=100, c=\"g\", label=\"Nadir point\")\n",
    "    ax.axvline(x=nadir_disruption, zorder=0, c=\"k\", linestyle=\"--\", alpha=0.8)\n",
    "    ax.axhline(y=nadir_distance, zorder=0, c=\"k\", linestyle=\"--\", alpha=0.8)\n",
    "\n",
    "    # ax.set_title(f\"{lb}, {ub}\")\n",
    "    ax.set_xlabel(\"Disruption\")\n",
    "    ax.set_ylabel(\"Distance\")\n",
    "    ax.grid()\n",
    "    ax.legend()\n",
    "\n",
    "fig.savefig(f\"figures/workload_balance_{lb}_{ub}.pdf\", dpi=500)\n",
    "plt.show()"
   ]
  },
  {
   "cell_type": "markdown",
   "metadata": {
    "id": "n64Q1RNT7Jb-"
   },
   "source": [
    "# Questions"
   ]
  },
  {
   "cell_type": "markdown",
   "metadata": {
    "id": "wF9bmUYzFI78"
   },
   "source": [
    "## How does varying the workload balance of each SR impact the solution?"
   ]
  },
  {
   "cell_type": "code",
   "execution_count": null,
   "metadata": {
    "colab": {
     "base_uri": "https://localhost:8080/",
     "height": 636,
     "referenced_widgets": [
      "ddc17cb00b6b43a2b240a54be3f5648e",
      "0df96f33a9dd4cdd975fb8764f39c051",
      "f107a24d1555479886878b267573dbdf",
      "6046dd1b65ff46ffb23a9d28a0a4905c",
      "f5d179dc421c469da47e150904edb7dd",
      "98ee5497e5c84f8cbecef58ff1f985b7",
      "4dba6da8b00b4bb5a584549933c2ca2e",
      "e022f76c7d1e42fc84f995ed4f7a0591",
      "88631fd9f0724fc7b04037456ec931c4",
      "1fbc67e87c6c46eaac785cf8f3137637",
      "18d975eeb00847cdaa04f9991cc5d6cc",
      "8f34b0e0eab64c18a7dba6367cdfcf90",
      "7c92d346bdb543818bcb124f9e62f5ff",
      "b473739503d24fa6beae880ad628d760",
      "244a4adb89304014ab791a98bf61c453",
      "1ebd1e001cf84bd890040c838257f80b",
      "c76b7ce6efe64e10aba7abe1f3f04129",
      "8bc6a6bbb3024e2daa15585f56e76c52",
      "7f99ee6496b5483b91067ff0c1fe4d57",
      "7c719872ccf44298a53e5608d71c55c4",
      "1f64c8d9f9dd4cf18572ba3df9176f1c",
      "a2d9771e0345414c8844037024e02732"
     ]
    },
    "id": "c1i3SHVgBt8P",
    "outputId": "d8efd962-2ac3-46de-9419-a3942c8c3b98"
   },
   "outputs": [],
   "source": [
    "lb = 0.9\n",
    "ub = 1.1\n",
    "\n",
    "F1_eps, F2_eps, X = epsilon_constrain_method(\n",
    "    x_current_structure,\n",
    "    error=1e-4,\n",
    "    index_values=index_values,\n",
    "    workload_balance_lower_bound=lb,\n",
    "    workload_balance_upper_bound=ub,\n",
    ")\n",
    "\n",
    "weights = np.linspace(0.0, 200.0, 100)\n",
    "F1, F2, X = weighted_sum_method(\n",
    "    x_current_structure=x_current_structure,\n",
    "    index_values=index_values,\n",
    "    weights=weights,\n",
    "    workload_balance_lower_bound=lb,\n",
    "    workload_balance_upper_bound=ub,\n",
    ")\n",
    "\n",
    "logs.append([f\"{lb}, {ub}\", F1, F2])\n",
    "\n",
    "# ideal and nadir point\n",
    "ideal_disruption, ideal_distance, nadir_disruption, nadir_distance = get_ideal_nadir_point(lb, ub)"
   ]
  },
  {
   "cell_type": "code",
<<<<<<< HEAD
   "execution_count": null,
=======
   "execution_count": 31,
>>>>>>> 84445a50b93bf30ba36bc435057d46967fa87b93
   "metadata": {
    "colab": {
     "base_uri": "https://localhost:8080/",
     "height": 457
    },
    "id": "jVZf-J-3ezpL",
    "outputId": "0d3d4a5a-b1b8-4106-8b32-1df601003d65"
   },
<<<<<<< HEAD
   "outputs": [],
=======
   "outputs": [
    {
     "data": {
      "image/png": "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",
      "text/plain": [
       "<Figure size 500x500 with 1 Axes>"
      ]
     },
     "metadata": {},
     "output_type": "display_data"
    }
   ],
>>>>>>> 84445a50b93bf30ba36bc435057d46967fa87b93
   "source": [
    "with plt.style.context(\"science\"):\n",
    "    fig, ax = plt.subplots(1, 1, figsize=(5, 5))\n",
    "\n",
    "    ax.plot(F2_eps, F1_eps, \"-ok\", label=\"Non-dominated solution\")\n",
    "    # ax.scatter(F2_eps, F1_eps, marker=\"o\", c=\"k\", s=15, label=\"Non-dominated solution\")\n",
    "    # ax.scatter(F2, F1, marker=\"o\", s=15, c=\"r\", zorder=2.5, label=\"Supported non-dominated solution\")\n",
    "    ax.plot(F2, F1, \"-or\", zorder=2.5, label=\"Supported non-dominated solution\")\n",
    "\n",
    "    ax.scatter(ideal_disruption, ideal_distance, marker=\"*\", s=100, c=\"b\", label=\"Ideal point\")\n",
    "    ax.axvline(x=ideal_disruption, zorder=0, c=\"k\", linestyle=\"--\", alpha=0.8)\n",
    "    ax.axhline(y=ideal_distance, zorder=0, c=\"k\", linestyle=\"--\", alpha=0.8)\n",
    "\n",
    "    ax.scatter(nadir_disruption, nadir_distance, marker=\"*\", s=100, c=\"g\", label=\"Nadir point\")\n",
    "    ax.axvline(x=nadir_disruption, zorder=0, c=\"k\", linestyle=\"--\", alpha=0.8)\n",
    "    ax.axhline(y=nadir_distance, zorder=0, c=\"k\", linestyle=\"--\", alpha=0.8)\n",
    "\n",
    "    # ax.set_title(f\"{lb}, {ub}\")\n",
    "    ax.set_xlabel(\"Disruption\")\n",
    "    ax.set_ylabel(\"Distance\")\n",
    "    ax.grid()\n",
    "    ax.legend()\n",
    "\n",
    "fig.savefig(f\"figures/workload_balance_{lb}_{ub}.pdf\", dpi=500)\n",
    "plt.show()"
   ]
  },
  {
   "cell_type": "code",
   "execution_count": null,
   "metadata": {
    "colab": {
     "base_uri": "https://localhost:8080/",
     "height": 931,
     "referenced_widgets": [
      "e6dbe919a58d4358886c36753c095552",
      "dbc4a70bc7814f919e09506b34cb32f9",
      "4e99dc4510314b12a59bfdd563ed9b47",
      "8dc6b9bf7fd2425b82e474b78b41cd2b",
      "a9185752d6784b3e98575387216b5a5e",
      "6109665f255848098415250907de35b4",
      "709aaa2fc95840dd81875431732bd063",
      "03ec252453334d83b1ee780231d8ff9c",
      "9c86a8def69743328f6961d9022eb679",
      "b1c446f590da4724828b4ced0f163350",
      "16b72c03409049e99f08f047a16e4042",
      "1df2d419244e4c3fb7ccccb5b046db00",
      "ce5ec8053a1f4591bb4038551c53bb5f",
      "344e13a5f4204dc089aac5bfd557a558",
      "cd7c8c365aa5499d9e04c58f36838055",
      "5659e46e5eca4b428e2bbd4e55ef7dcd",
      "c9c6f98fd4de44ec8cc72ea0ade5c86f",
      "baf5bf1f87dc4043b7c2ebb61caa51d2",
      "3967601a67654704a2657644740a9b86",
      "c8c0067522984157ae9cf216b013950e",
      "8985494c9ab84cadb1e5870c37000612",
      "794c65ddf2f44dd581556d8b0d681640"
     ]
    },
    "id": "_chYtey3GvU4",
    "outputId": "e7fad5cb-03fe-474f-b554-09a03609fa93"
   },
   "outputs": [],
   "source": [
    "lb = 0.7\n",
    "ub = 1.3\n",
    "\n",
    "F1_eps, F2_eps, X = epsilon_constrain_method(\n",
    "    x_current_structure,\n",
    "    error=1e-4,\n",
    "    index_values=index_values,\n",
    "    workload_balance_lower_bound=lb,\n",
    "    workload_balance_upper_bound=ub,\n",
    ")\n",
    "\n",
    "weights = np.linspace(0.0, 200.0, 100)\n",
    "F1, F2, X = weighted_sum_method(\n",
    "    x_current_structure=x_current_structure,\n",
    "    index_values=index_values,\n",
    "    weights=weights,\n",
    "    workload_balance_lower_bound=lb,\n",
    "    workload_balance_upper_bound=ub,\n",
    ")\n",
    "\n",
    "logs.append([f\"{lb}, {ub}\", F1, F2])\n",
    "\n",
    "# ideal and nadir point\n",
    "ideal_disruption, ideal_distance, nadir_disruption, nadir_distance = get_ideal_nadir_point(lb, ub)"
   ]
  },
  {
   "cell_type": "code",
<<<<<<< HEAD
   "execution_count": null,
=======
   "execution_count": 33,
>>>>>>> 84445a50b93bf30ba36bc435057d46967fa87b93
   "metadata": {
    "colab": {
     "base_uri": "https://localhost:8080/",
     "height": 457
    },
    "id": "cSM_zx5PfPIg",
    "outputId": "78debbc3-1912-4e7f-e6bc-51eb86f6ee17"
   },
<<<<<<< HEAD
   "outputs": [],
=======
   "outputs": [
    {
     "data": {
      "image/png": "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",
      "text/plain": [
       "<Figure size 500x500 with 1 Axes>"
      ]
     },
     "metadata": {},
     "output_type": "display_data"
    }
   ],
>>>>>>> 84445a50b93bf30ba36bc435057d46967fa87b93
   "source": [
    "with plt.style.context(\"science\"):\n",
    "    fig, ax = plt.subplots(1, 1, figsize=(5, 5))\n",
    "\n",
    "    ax.plot(F2_eps, F1_eps, \"-ok\", label=\"Non-dominated solution\")\n",
    "    # ax.scatter(F2_eps, F1_eps, marker=\"o\", c=\"k\", s=15, label=\"Non-dominated solution\")\n",
    "    # ax.scatter(F2, F1, marker=\"o\", s=15, c=\"r\", zorder=2.5, label=\"Supported non-dominated solution\")\n",
    "    ax.plot(F2, F1, \"-or\", zorder=2.5, label=\"Supported non-dominated solution\")\n",
    "\n",
    "    ax.scatter(ideal_disruption, ideal_distance, marker=\"*\", s=100, c=\"b\", label=\"Ideal point\")\n",
    "    ax.axvline(x=ideal_disruption, zorder=0, c=\"k\", linestyle=\"--\", alpha=0.8)\n",
    "    ax.axhline(y=ideal_distance, zorder=0, c=\"k\", linestyle=\"--\", alpha=0.8)\n",
    "\n",
    "    ax.scatter(nadir_disruption, nadir_distance, marker=\"*\", s=100, c=\"g\", label=\"Nadir point\")\n",
    "    ax.axvline(x=nadir_disruption, zorder=0, c=\"k\", linestyle=\"--\", alpha=0.8)\n",
    "    ax.axhline(y=nadir_distance, zorder=0, c=\"k\", linestyle=\"--\", alpha=0.8)\n",
    "\n",
    "    # ax.set_title(f\"{lb}, {ub}\")\n",
    "    ax.set_xlabel(\"Disruption\")\n",
    "    ax.set_ylabel(\"Distance\")\n",
    "    ax.grid()\n",
    "    ax.legend()\n",
    "\n",
    "fig.savefig(f\"figures/workload_balance_{lb}_{ub}.pdf\", dpi=500)\n",
    "plt.show()"
   ]
  },
  {
   "cell_type": "code",
   "execution_count": null,
   "metadata": {
    "colab": {
     "base_uri": "https://localhost:8080/",
     "height": 896,
     "referenced_widgets": [
      "cacd29773be34799a90365fbeb26f941",
      "03e8c3c72476458ea2358e360cc0076a",
      "4a203fd9b72e45e0b03156aec1ea68a9",
      "1a985898c1b74fe0afe6f68a51d2e0e7",
      "5624e07b851042e2b9a07b006155f42c",
      "d2ae3424c19b412587b4d55d4d992833",
      "c8c169e14c924198bc0b2e52c8e22a7f",
      "21eee9bd96814e8e98824a7748465674",
      "38c01f514fe64d04bcdb541c3275ccba",
      "5498b052b4574cc79c3ffd1fbcc1570b",
      "c5833fc5b93b4c68a523d6beff5eb30c",
      "6d00a3bab01246d898e4400b94b2df60",
      "5112134f5f764f2386ae47cd06e57569",
      "9bb393fbb6904b06900bcf4fe0b573ed",
      "ccac0d3f4e87467a9278bbffa1befa0b",
      "eb76baea79414937b96e47d8d4d20fd5",
      "35c1a7c03846431da7648b0969971a76",
      "369c18518d0b41f68b0e474f140a1d11",
      "a727b5cd7c484dd88f000a21e9a3f099",
      "c7ccb1b45ef54fd9b8b5d23de389d6bd",
      "5eea4aa93dc14bf1be3131ad72fe5f2a",
      "3ac812039f18458185ef655ed3066b58"
     ]
    },
    "id": "lo6hvEOXFezP",
    "outputId": "9626b896-902e-44fc-f675-40d989180313"
   },
   "outputs": [],
   "source": [
    "lb = 0.6\n",
    "ub = 1.4\n",
    "\n",
    "F1_eps, F2_eps, X = epsilon_constrain_method(\n",
    "    x_current_structure,\n",
    "    error=1e-4,\n",
    "    index_values=index_values,\n",
    "    workload_balance_lower_bound=lb,\n",
    "    workload_balance_upper_bound=ub,\n",
    ")\n",
    "\n",
    "weights = np.linspace(0.0, 200.0, 300)\n",
    "F1, F2, X = weighted_sum_method(\n",
    "    x_current_structure=x_current_structure,\n",
    "    index_values=index_values,\n",
    "    weights=weights,\n",
    "    workload_balance_lower_bound=lb,\n",
    "    workload_balance_upper_bound=ub,\n",
    ")\n",
    "\n",
    "logs.append([f\"{lb}, {ub}\", F1, F2])\n",
    "\n",
    "# ideal and nadir point\n",
    "ideal_disruption, ideal_distance, nadir_disruption, nadir_distance = get_ideal_nadir_point(lb, ub)"
   ]
  },
  {
   "cell_type": "code",
<<<<<<< HEAD
   "execution_count": null,
=======
   "execution_count": 35,
>>>>>>> 84445a50b93bf30ba36bc435057d46967fa87b93
   "metadata": {
    "colab": {
     "base_uri": "https://localhost:8080/",
     "height": 457
    },
    "id": "VGzjajGTfVjI",
    "outputId": "03bd82e2-59d9-4093-a376-1ab99dd35902"
   },
<<<<<<< HEAD
   "outputs": [],
=======
   "outputs": [
    {
     "data": {
      "image/png": "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",
      "text/plain": [
       "<Figure size 500x500 with 1 Axes>"
      ]
     },
     "metadata": {},
     "output_type": "display_data"
    }
   ],
>>>>>>> 84445a50b93bf30ba36bc435057d46967fa87b93
   "source": [
    "with plt.style.context(\"science\"):\n",
    "    fig, ax = plt.subplots(1, 1, figsize=(5, 5))\n",
    "\n",
    "    ax.plot(F2_eps, F1_eps, \"-ok\", label=\"Non-dominated solution\")\n",
    "    # ax.scatter(F2_eps, F1_eps, marker=\"o\", c=\"k\", s=15, label=\"Non-dominated solution\")\n",
    "    # ax.scatter(F2, F1, marker=\"o\", s=15, c=\"r\", zorder=2.5, label=\"Supported non-dominated solution\")\n",
    "    ax.plot(F2, F1, \"-or\", zorder=2.5, label=\"Supported non-dominated solution\")\n",
    "\n",
    "    ax.scatter(ideal_disruption, ideal_distance, marker=\"*\", s=100, c=\"b\", label=\"Ideal point\")\n",
    "    ax.axvline(x=ideal_disruption, zorder=0, c=\"k\", linestyle=\"--\", alpha=0.8)\n",
    "    ax.axhline(y=ideal_distance, zorder=0, c=\"k\", linestyle=\"--\", alpha=0.8)\n",
    "\n",
    "    ax.scatter(nadir_disruption, nadir_distance, marker=\"*\", s=100, c=\"g\", label=\"Nadir point\")\n",
    "    ax.axvline(x=nadir_disruption, zorder=0, c=\"k\", linestyle=\"--\", alpha=0.8)\n",
    "    ax.axhline(y=nadir_distance, zorder=0, c=\"k\", linestyle=\"--\", alpha=0.8)\n",
    "\n",
    "    # ax.set_title(f\"{lb}, {ub}\")\n",
    "    ax.set_xlabel(\"Disruption\")\n",
    "    ax.set_ylabel(\"Distance\")\n",
    "    ax.grid()\n",
    "    ax.legend()\n",
    "\n",
    "fig.savefig(f\"figures/workload_balance_{lb}_{ub}.pdf\", dpi=500)\n",
    "plt.show()"
   ]
  },
  {
   "cell_type": "code",
   "execution_count": null,
   "metadata": {
    "colab": {
     "base_uri": "https://localhost:8080/",
     "height": 1000,
     "referenced_widgets": [
      "804c14dcca764150bf28b28cef469839",
      "a2de17d7226c492f8e8512e5672e4d06",
      "f4ad50565ccb42a9a9fcebd3372676d2",
      "c7eaaaa71e8044c5809a2244dffed83b",
      "81132404ae494c00814aa73393c0bee0",
      "37bd6deb572a4ef6b0557500828d16e3",
      "e726b6d9ab7b493a857411f141da342c",
      "0a4e68f617744234b21bd36c2beda76b",
      "bab005b7a831496783ebc428424cb256",
      "ca508e26ed7c4a71a90a69fffff0459c",
      "e80a6e6dfd3e4b308513b1ca3320d187",
      "cd819533a8e74cb39b2ce9b31db3dd42",
      "8b12ef0eefa647b09fcd9fedee4201df",
      "5e6e66bc180e4fa58484710f4878c2b3",
      "d6691ea8008e4375a55e531c7fd8d2f7",
      "9bbdb3d3862a409289300e5ef4d43fdb",
      "613a38848c3042ecbcbc13fb07bf2cf8",
      "758f022832154e1299debb52a95a9af4",
      "ff74f9da5e8f439cb5b0cab8dfcc4940",
      "cb03f8b8916945e7850521fed895010e",
      "4fc23c02dd70402ca70a889798b9c080",
      "ca75159d4fe14d599c1bd6a9ff34f215"
     ]
    },
    "id": "r3Od7zH-um7l",
    "outputId": "8e565320-2b2a-4613-fe04-c36425f6a8d3"
   },
   "outputs": [],
   "source": [
    "lb = 0.0\n",
    "ub = 2.0\n",
    "\n",
    "F1_eps, F2_eps, X = epsilon_constrain_method(\n",
    "    x_current_structure,\n",
    "    error=1e-4,\n",
    "    index_values=index_values,\n",
    "    workload_balance_lower_bound=lb,\n",
    "    workload_balance_upper_bound=ub,\n",
    ")\n",
    "\n",
    "weights = np.linspace(0.0, 200.0, 100)\n",
    "F1, F2, X = weighted_sum_method(\n",
    "    x_current_structure=x_current_structure,\n",
    "    index_values=index_values,\n",
    "    weights=weights,\n",
    "    workload_balance_lower_bound=lb,\n",
    "    workload_balance_upper_bound=ub,\n",
    ")\n",
    "\n",
    "logs.append([f\"{lb}, {ub}\", F1, F2])\n",
    "\n",
    "# ideal and nadir point\n",
    "ideal_disruption, ideal_distance, nadir_disruption, nadir_distance = get_ideal_nadir_point(lb, ub)"
   ]
  },
  {
   "cell_type": "code",
<<<<<<< HEAD
   "execution_count": null,
=======
   "execution_count": 37,
>>>>>>> 84445a50b93bf30ba36bc435057d46967fa87b93
   "metadata": {
    "colab": {
     "base_uri": "https://localhost:8080/",
     "height": 461
    },
    "id": "7BX0U7Syuqag",
    "outputId": "d63a9876-1998-4acc-9da7-b56a14553e91"
   },
<<<<<<< HEAD
   "outputs": [],
=======
   "outputs": [
    {
     "data": {
      "image/png": "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",
      "text/plain": [
       "<Figure size 500x500 with 1 Axes>"
      ]
     },
     "metadata": {},
     "output_type": "display_data"
    }
   ],
>>>>>>> 84445a50b93bf30ba36bc435057d46967fa87b93
   "source": [
    "with plt.style.context(\"science\"):\n",
    "    fig, ax = plt.subplots(1, 1, figsize=(5, 5))\n",
    "\n",
    "    ax.plot(F2_eps, F1_eps, \"-ok\", label=\"Non-dominated solution\")\n",
    "    # ax.scatter(F2_eps, F1_eps, marker=\"o\", c=\"k\", s=15, label=\"Non-dominated solution\")\n",
    "    # ax.scatter(F2, F1, marker=\"o\", s=15, c=\"r\", zorder=2.5, label=\"Supported non-dominated solution\")\n",
    "    ax.plot(F2, F1, \"-or\", zorder=2.5, label=\"Supported non-dominated solution\")\n",
    "\n",
    "    ax.scatter(ideal_disruption, ideal_distance, marker=\"*\", s=100, c=\"b\", label=\"Ideal point\")\n",
    "    ax.axvline(x=ideal_disruption, zorder=0, c=\"k\", linestyle=\"--\", alpha=0.8)\n",
    "    ax.axhline(y=ideal_distance, zorder=0, c=\"k\", linestyle=\"--\", alpha=0.8)\n",
    "\n",
    "    ax.scatter(nadir_disruption, nadir_distance, marker=\"*\", s=100, c=\"g\", label=\"Nadir point\")\n",
    "    ax.axvline(x=nadir_disruption, zorder=0, c=\"k\", linestyle=\"--\", alpha=0.8)\n",
    "    ax.axhline(y=nadir_distance, zorder=0, c=\"k\", linestyle=\"--\", alpha=0.8)\n",
    "\n",
    "    # ax.set_title(f\"{lb}, {ub}\")\n",
    "    ax.set_xlabel(\"Disruption\")\n",
    "    ax.set_ylabel(\"Distance\")\n",
    "    ax.grid()\n",
    "    ax.legend()\n",
    "\n",
    "fig.savefig(f\"figures/workload_balance_{lb}_{ub}.pdf\", dpi=500)\n",
    "plt.show()"
   ]
  },
  {
   "cell_type": "code",
<<<<<<< HEAD
   "execution_count": null,
=======
   "execution_count": 38,
>>>>>>> 84445a50b93bf30ba36bc435057d46967fa87b93
   "metadata": {
    "colab": {
     "base_uri": "https://localhost:8080/",
     "height": 457
    },
    "id": "Bzb_XO17gCNB",
    "outputId": "2a29b4fb-2327-4f85-ee24-fc6ae9150b9d"
   },
<<<<<<< HEAD
   "outputs": [],
=======
   "outputs": [
    {
     "data": {
      "image/png": "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",
      "text/plain": [
       "<Figure size 500x500 with 1 Axes>"
      ]
     },
     "metadata": {},
     "output_type": "display_data"
    }
   ],
>>>>>>> 84445a50b93bf30ba36bc435057d46967fa87b93
   "source": [
    "with plt.style.context(\"science\"):\n",
    "    fig, ax = plt.subplots(1, 1, figsize=(5, 5))\n",
    "\n",
    "    for label, f1, f2 in logs:\n",
    "        ax.scatter(f2, f1, marker=\"o\", label=f\"[{label}]\")\n",
    "        ax.plot(f2, f1, \"-o\")\n",
    "\n",
    "    # ax.set_title(f\"{lb}, {ub}\")\n",
    "    ax.set_xlabel(\"Disruption\")\n",
    "    ax.set_ylabel(\"Distance\")\n",
    "    ax.grid()\n",
    "    ax.legend(title=\"Workload balance intervals\", ncol=2)\n",
    "\n",
    "fig.savefig(f\"figures/workload_balance_summary.pdf\", dpi=500)\n",
    "plt.show()"
   ]
  },
  {
   "cell_type": "markdown",
   "metadata": {
    "id": "Q27o62Bhts3O"
   },
   "source": [
    "## Would assigning a brick to multiple SRs improve the solution?"
   ]
  },
  {
   "cell_type": "code",
<<<<<<< HEAD
   "execution_count": null,
=======
   "execution_count": 39,
>>>>>>> 84445a50b93bf30ba36bc435057d46967fa87b93
   "metadata": {
    "colab": {
     "base_uri": "https://localhost:8080/"
    },
    "id": "UskHl6AXa3CW",
    "outputId": "77a5453e-758d-4beb-b740-759e72eb6734"
   },
<<<<<<< HEAD
   "outputs": [],
=======
   "outputs": [
    {
     "name": "stdout",
     "output_type": "stream",
     "text": [
      "Gurobi Optimizer version 12.0.2 build v12.0.2rc0 (linux64 - \"Ubuntu 22.04.4 LTS\")\n",
      "\n",
      "CPU model: Intel(R) Xeon(R) CPU @ 2.20GHz, instruction set [SSE2|AVX|AVX2]\n",
      "Thread count: 1 physical cores, 2 logical processors, using up to 2 threads\n",
      "\n",
      "Optimize a model with 206 rows, 176 columns and 616 nonzeros\n",
      "Model fingerprint: 0xc1015bbe\n",
      "Variable types: 88 continuous, 88 integer (88 binary)\n",
      "Coefficient statistics:\n",
      "  Matrix range     [4e-02, 1e+00]\n",
      "  Objective range  [8e-01, 5e+01]\n",
      "  Bounds range     [1e+00, 1e+00]\n",
      "  RHS range        [8e-01, 1e+00]\n",
      "Found heuristic solution: objective 470.1300000\n",
      "Presolve time: 0.00s\n",
      "Presolved: 206 rows, 176 columns, 616 nonzeros\n",
      "Variable types: 88 continuous, 88 integer (88 binary)\n",
      "\n",
      "Root relaxation: objective 1.486289e+02, 106 iterations, 0.00 seconds (0.00 work units)\n",
      "\n",
      "    Nodes    |    Current Node    |     Objective Bounds      |     Work\n",
      " Expl Unexpl |  Obj  Depth IntInf | Incumbent    BestBd   Gap | It/Node Time\n",
      "\n",
      "     0     0  148.62895    0    5  470.13000  148.62895  68.4%     -    0s\n",
      "H    0     0                     209.9800000  148.62895  29.2%     -    0s\n",
      "H    0     0                     207.7100000  148.62895  28.4%     -    0s\n",
      "H    0     0                     168.6000000  148.62895  11.8%     -    0s\n",
      "H    0     0                     154.6000000  148.62895  3.86%     -    0s\n",
      "     0     0     cutoff    0       154.60000  154.60000  0.00%     -    0s\n",
      "\n",
      "Cutting planes:\n",
      "  Gomory: 1\n",
      "  MIR: 1\n",
      "  Flow cover: 1\n",
      "\n",
      "Explored 1 nodes (110 simplex iterations) in 0.05 seconds (0.00 work units)\n",
      "Thread count was 2 (of 2 available processors)\n",
      "\n",
      "Solution count 5: 154.6 168.6 207.71 ... 470.13\n",
      "\n",
      "Optimal solution found (tolerance 1.00e-04)\n",
      "Best objective 1.546000000000e+02, best bound 1.546000000000e+02, gap 0.0000%\n",
      "Structure of Sales Territories:\n",
      "SR1 (iv:1.038 - distance:64.370): [ 4  5  6  7  8  9 12 19 20]\n",
      "SR2 (iv:1.045 - distance:7.530): [11 13 14 18]\n",
      "SR3 (iv:1.115 - distance:6.570): [10 15 16 17]\n",
      "SR4 (iv:0.803 - distance:76.130): [ 1  2  3 21 22]\n",
      "Disruption: 1.2055\n",
      "Total distance: 154.6\n"
     ]
    },
    {
     "data": {
      "text/plain": [
       "(np.float64(1.2055), np.float64(154.6))"
      ]
     },
     "execution_count": 39,
     "metadata": {},
     "output_type": "execute_result"
    }
   ],
>>>>>>> 84445a50b93bf30ba36bc435057d46967fa87b93
   "source": [
    "# monoobjectiv problem\n",
    "model = gp.Model(\"pfizer\")\n",
    "\n",
    "workload_balance_lower_bound = 0.8\n",
    "workload_balance_upper_bound = 1.2\n",
    "\n",
    "xc = model.addMVar((num_sr, num_bricks), vtype=GRB.CONTINUOUS, lb=0.0, ub=1.0)\n",
    "xd = model.addMVar((num_sr, num_bricks), vtype=GRB.BINARY)\n",
    "\n",
    "# https://support.gurobi.com/hc/en-us/articles/4414392016529-How-do-I-model-conditional-statements-in-Gurobi-\n",
    "EPS = 1e-4\n",
    "model.addConstrs(\n",
    "    (xc[i][j] >= EPS - (1 - xd[i][j]) for i in range(num_sr) for j in range(num_bricks))\n",
    ")\n",
    "\n",
    "model.addConstrs((xc[i][j] <= xd[i][j] for i in range(num_sr) for j in range(num_bricks)))\n",
    "\n",
    "model.addConstrs(\n",
    "    (\n",
    "        workload_balance_lower_bound\n",
    "        <= gp.quicksum(index_values[j] * xc[i][j] for j in range(num_bricks))\n",
    "        for i in range(num_sr)\n",
    "    ),\n",
    "    name=\"left_workload_balance\",\n",
    ")\n",
    "\n",
    "model.addConstrs(\n",
    "    (\n",
    "        gp.quicksum(index_values[j] * xc[i][j] for j in range(num_bricks))\n",
    "        <= workload_balance_upper_bound\n",
    "        for i in range(num_sr)\n",
    "    ),\n",
    "    name=\"right_workload_balance\",\n",
    ")\n",
    "\n",
    "model.addConstrs(\n",
    "    (gp.quicksum(xc[i][j] for i in range(num_sr)) == 1 for j in range(num_bricks)),\n",
    "    name=\"no_partial_assignments\",\n",
    ")\n",
    "\n",
    "\n",
    "# # Minimize the total distance\n",
    "model.setObjective(\n",
    "    gp.quicksum(distances[i][j] * xd[i][j] for i in range(num_sr) for j in range(num_bricks)),\n",
    "    GRB.MINIMIZE,\n",
    ")\n",
    "\n",
    "# Minimize the total disruption between SRs\n",
    "# model.setObjective(\n",
    "#    gp.quicksum(\n",
    "#        index_values[j] * (xc[i][j] - x_current_structure[i][j]) * (xc[i][j] - x_current_structure[i][j]) / 2\n",
    "#        for i in range(num_sr)\n",
    "#        for j in range(num_bricks)\n",
    "#    ),\n",
    "#    GRB.MINIMIZE\n",
    "# )\n",
    "\n",
    "\n",
    "model.update()\n",
    "model.optimize()\n",
    "\n",
    "df = pd.DataFrame(\n",
    "    xd.x.T,\n",
    "    columns=[f\"SR{i}\" for i in range(num_sr)],\n",
    "    index=[f\"Br{i}\" for i in range(num_bricks)],\n",
    ")\n",
    "\n",
    "get_report(xc.x)"
   ]
  },
  {
   "cell_type": "code",
   "execution_count": null,
   "metadata": {
    "colab": {
     "base_uri": "https://localhost:8080/",
     "height": 49,
     "referenced_widgets": [
      "0b9d2413db964eb095c42b97e849f744",
      "ba98b1347ee44d41bfc5268505d29d8d",
      "e8cacdb606154dfb8ea4e91d31d93647",
      "2a86fe94025d48f4801a872dd97a8927",
      "c5f1d3d90a4440a1a6110ef35a057342",
      "02ffea0eda4b41508a6be61112a88bb6",
      "e1d0eea9974f479eb58a42314dfc322b",
      "98a0ee2f42a54ffb8267f655d5f327ff",
      "1da898d233484d6da99c3cecb48dd89f",
      "e56841b43d294cd9885dcb2d02c1c5bb",
      "e4c2c43e368c454ab2a817d7e55e6030"
     ]
    },
    "id": "p5Ee9aTX62yp",
    "outputId": "457b2624-a2d7-40b3-bab9-7973fe7f7299"
   },
   "outputs": [],
   "source": [
    "F1_with_partial_assignement, F2_with_partial_assignement = [], []\n",
    "XC, XD = [], []\n",
    "\n",
    "weights = np.linspace(0.0, 200.0, 100)\n",
    "\n",
    "for w in tqdm(weights):\n",
    "    model = gp.Model(\"pfizer\", env=env)\n",
    "    model.params.outputflag = 0\n",
    "\n",
    "    workload_balance_lower_bound = 0.8\n",
    "    workload_balance_upper_bound = 1.2\n",
    "\n",
    "    xc = model.addMVar((num_sr, num_bricks), vtype=GRB.CONTINUOUS, lb=0.0, ub=1.0)\n",
    "    xd = model.addMVar((num_sr, num_bricks), vtype=GRB.BINARY)\n",
    "\n",
    "    # https://support.gurobi.com/hc/en-us/articles/4414392016529-How-do-I-model-conditional-statements-in-Gurobi-\n",
    "    EPS = 1e-4\n",
    "    model.addConstrs(\n",
    "        (xc[i][j] >= EPS - (1 - xd[i][j]) for i in range(num_sr) for j in range(num_bricks))\n",
    "    )\n",
    "\n",
    "    model.addConstrs((xc[i][j] <= xd[i][j] for i in range(num_sr) for j in range(num_bricks)))\n",
    "\n",
    "    # Constraints\n",
    "    model = add_constraints(\n",
    "        model,\n",
    "        index_values,\n",
    "        xc,\n",
    "        lb=workload_balance_lower_bound,\n",
    "        ub=workload_balance_upper_bound,\n",
    "        num_bricks=num_bricks,\n",
    "        num_sr=num_sr,\n",
    "    )\n",
    "\n",
    "    # minimize the weighted sum between the total distance and the disruption\n",
    "    f1f2 = gp.quicksum(\n",
    "        distances[i][j] * xd[i][j]\n",
    "        + w\n",
    "        * index_values[j]\n",
    "        * (xc[i][j] - x_current_structure[i][j])\n",
    "        * (xc[i][j] - x_current_structure[i][j])\n",
    "        / 2\n",
    "        for i in range(num_sr)\n",
    "        for j in range(num_bricks)\n",
    "    )\n",
    "\n",
    "    model.setObjective(f1f2, GRB.MINIMIZE)\n",
    "    model.update()\n",
    "    model.optimize()\n",
    "\n",
    "    f1 = sum(distances[i][j] * xd.x[i][j] for i in range(num_sr) for j in range(num_bricks))\n",
    "    f2 = sum(\n",
    "        index_values[j] * (xc.x[i][j] - x_current_structure[i][j]) ** 2 / 2\n",
    "        for i in range(num_sr)\n",
    "        for j in range(num_bricks)\n",
    "    )\n",
    "\n",
    "    F1_with_partial_assignement.append(f1)\n",
    "    F2_with_partial_assignement.append(f2)\n",
    "    XC.append(xc.x)\n",
    "    XD.append(xd.x)"
   ]
  },
  {
   "cell_type": "code",
<<<<<<< HEAD
   "execution_count": null,
=======
   "execution_count": 42,
>>>>>>> 84445a50b93bf30ba36bc435057d46967fa87b93
   "metadata": {
    "colab": {
     "base_uri": "https://localhost:8080/",
     "height": 534
    },
    "id": "mKK8R6JC_azJ",
    "outputId": "17b0b241-e06a-4bfd-aadf-3d8bbec27a6e"
   },
<<<<<<< HEAD
   "outputs": [],
=======
   "outputs": [
    {
     "data": {
      "image/png": "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",
      "text/plain": [
       "<Figure size 600x600 with 1 Axes>"
      ]
     },
     "metadata": {},
     "output_type": "display_data"
    }
   ],
>>>>>>> 84445a50b93bf30ba36bc435057d46967fa87b93
   "source": [
    "# plt.plot(F2_with_partial_assignement, F1_with_partial_assignement, \"-or\", zorder=2.5, label=\"cont\")\n",
    "# plt.plot(F2_weighted_no_partial_assignement, F1_weighted_no_partial_assignement, \"-ok\", zorder=2.5, label=\"disc\")\n",
    "# plt.legend()\n",
    "\n",
    "with plt.style.context(\"science\"):\n",
    "    fig, ax = plt.subplots(1, 1, figsize=(6, 6))\n",
    "\n",
    "    # for label, f1, f2 in logs:\n",
    "    #     ax.scatter(f2, f1, marker=\"o\", label=f\"[{label}]\")\n",
    "    #     ax.plot(f2, f1, \"-o\")\n",
    "\n",
    "    ax.plot(\n",
    "        F2_with_partial_assignement,\n",
    "        F1_with_partial_assignement,\n",
    "        marker=\"o\",\n",
    "        zorder=2.5,\n",
    "        label=\"With partial assignements\",\n",
    "    )\n",
    "    ax.plot(\n",
    "        F2_weighted_no_partial_assignement,\n",
    "        F1_weighted_no_partial_assignement,\n",
    "        marker=\"o\",\n",
    "        zorder=2.5,\n",
    "        label=\"No partial assignements\",\n",
    "    )\n",
    "\n",
    "    # ax.set_title(f\"{lb}, {ub}\")\n",
    "    ax.set_xlabel(\"Disruption\")\n",
    "    ax.set_ylabel(\"Distance\")\n",
    "    ax.grid()\n",
    "    ax.legend(title=\"Workload balance intervals\", ncol=1)\n",
    "\n",
    "fig.savefig(f\"figures/cont_disc_comp.pdf\", dpi=500)\n",
    "plt.show()"
   ]
  },
  {
   "cell_type": "markdown",
   "metadata": {
    "id": "HULD8zmy5mBP"
   },
   "source": [
    "## What happens when the demand (i.e. the index value) of all bricks increases by 20%?"
   ]
  },
  {
   "cell_type": "code",
<<<<<<< HEAD
   "execution_count": null,
=======
   "execution_count": 43,
>>>>>>> 84445a50b93bf30ba36bc435057d46967fa87b93
   "metadata": {
    "colab": {
     "base_uri": "https://localhost:8080/"
    },
    "id": "vg0qXdfdxHE1",
    "outputId": "ac962f28-30d6-485f-8bd7-5cbb3ad15e90"
   },
<<<<<<< HEAD
   "outputs": [],
=======
   "outputs": [
    {
     "name": "stdout",
     "output_type": "stream",
     "text": [
      "Gurobi Optimizer version 12.0.2 build v12.0.2rc0 (linux64 - \"Ubuntu 22.04.4 LTS\")\n",
      "\n",
      "CPU model: Intel(R) Xeon(R) CPU @ 2.20GHz, instruction set [SSE2|AVX|AVX2]\n",
      "Thread count: 1 physical cores, 2 logical processors, using up to 2 threads\n",
      "\n",
      "Optimize a model with 30 rows, 88 columns and 264 nonzeros\n",
      "Model fingerprint: 0x12dc40cc\n",
      "Variable types: 0 continuous, 88 integer (88 binary)\n",
      "Coefficient statistics:\n",
      "  Matrix range     [5e-02, 1e+00]\n",
      "  Objective range  [8e-01, 5e+01]\n",
      "  Bounds range     [1e+00, 1e+00]\n",
      "  RHS range        [8e-01, 1e+00]\n",
      "Presolve time: 0.00s\n",
      "Presolved: 30 rows, 88 columns, 264 nonzeros\n",
      "Variable types: 0 continuous, 88 integer (88 binary)\n",
      "\n",
      "Root relaxation: infeasible, 29 iterations, 0.00 seconds (0.00 work units)\n",
      "\n",
      "    Nodes    |    Current Node    |     Objective Bounds      |     Work\n",
      " Expl Unexpl |  Obj  Depth IntInf | Incumbent    BestBd   Gap | It/Node Time\n",
      "\n",
      "     0     0 infeasible    0               - infeasible      -     -    0s\n",
      "\n",
      "Explored 1 nodes (29 simplex iterations) in 0.02 seconds (0.00 work units)\n",
      "Thread count was 2 (of 2 available processors)\n",
      "\n",
      "Solution count 0\n",
      "\n",
      "Model is infeasible\n",
      "Best objective -, best bound -, gap -\n"
     ]
    }
   ],
>>>>>>> 84445a50b93bf30ba36bc435057d46967fa87b93
   "source": [
    "# mono-objective problem\n",
    "lb = 0.8\n",
    "ub = 1.2\n",
    "\n",
    "iv = index_values + index_values * 0.2\n",
    "\n",
    "model = gp.Model(\"pfizer\")\n",
    "\n",
    "workload_balance_lower_bound = 0.8\n",
    "workload_balance_upper_bound = 1.2\n",
    "\n",
    "x = model.addMVar((num_sr, num_bricks), vtype=GRB.BINARY)\n",
    "\n",
    "# Add constraints\n",
    "model = add_constraints(model, iv, x, lb=0.8, ub=1.2, num_bricks=num_bricks, num_sr=num_sr)\n",
    "\n",
    "# Minimize the total distance\n",
    "model.setObjective(\n",
    "    gp.quicksum(distances[i][j] * x[i][j] for i in range(num_sr) for j in range(num_bricks)),\n",
    "    GRB.MINIMIZE,\n",
    ")\n",
    "\n",
    "model.update()\n",
    "model.optimize()"
   ]
  },
  {
   "cell_type": "markdown",
   "metadata": {
    "id": "Ho_i-2CEfhYR"
   },
   "source": [
    "##No feasible solution for the mono-objective problem considering +20% in the demand and without hiring new SR"
   ]
  },
  {
   "cell_type": "markdown",
   "metadata": {
    "id": "9juGNqz7EJaw"
   },
   "source": [
    "## Why 20% is the percentage from which we have to hire a new SR?"
   ]
  },
  {
   "cell_type": "code",
   "execution_count": null,
   "metadata": {
    "id": "90g0bbMLFVge"
   },
   "outputs": [],
   "source": [
    "percentages = np.linspace(0.0, 0.5, 100)\n",
    "\n",
    "lb = 0.8\n",
    "ub = 1.2\n",
    "\n",
    "all_non_dominated_solutions = []\n",
    "\n",
    "for p in tqdm(percentages):\n",
    "    iv = index_values + index_values * p\n",
    "\n",
    "    F1, F2, X = epsilon_constrain_method(\n",
    "        x_current_structure=x_current_structure,\n",
    "        index_values=iv,\n",
    "        workload_balance_lower_bound=lb,\n",
    "        workload_balance_upper_bound=ub,\n",
    "    )\n",
    "\n",
    "    # model = gp.Model(\"pfizer\", env=env)\n",
    "    # model.params.outputflag = 0\n",
    "\n",
    "    # # Decision variables\n",
    "    # x = model.addMVar((num_sr, num_bricks), vtype=GRB.BINARY)\n",
    "\n",
    "    # # Add constraints\n",
    "    # model = add_constraints(model, iv, x, lb=lb, ub=ub, num_bricks=num_bricks, num_sr=num_sr)\n",
    "\n",
    "    # # Minimize the total distance\n",
    "    # model.setObjective(\n",
    "    #     gp.quicksum(\n",
    "    #         distances[i][j] * x[i][j]\n",
    "    #         for i in range(num_sr)\n",
    "    #         for j in range(num_bricks)\n",
    "    #     ),\n",
    "    #     GRB.MINIMIZE\n",
    "    # )\n",
    "\n",
    "    # model.update()\n",
    "    # model.optimize()\n",
    "\n",
    "    # if model.status == 3:\n",
    "    #     print(f\"When demand increases by {p}:\", \"An optimal solution is available.\" if model.status == 2 else \"Model was proven to be infeasible.\")\n",
    "    #     break\n",
    "    print(f\"p={p * 100}%\", len(set(F1)))\n",
    "\n",
    "    all_non_dominated_solutions.append([p, len(set(F1))])"
   ]
  },
  {
   "cell_type": "code",
<<<<<<< HEAD
   "execution_count": null,
=======
   "execution_count": 50,
>>>>>>> 84445a50b93bf30ba36bc435057d46967fa87b93
   "metadata": {
    "colab": {
     "base_uri": "https://localhost:8080/",
     "height": 534
    },
    "id": "ANs_YGY2F4Z5",
    "outputId": "986e5355-be95-4595-bf8a-28f8637304d2"
   },
<<<<<<< HEAD
   "outputs": [],
=======
   "outputs": [
    {
     "data": {
      "image/png": "iVBORw0KGgoAAAANSUhEUgAAAlcAAAIFCAYAAAD/fdh4AAAAOnRFWHRTb2Z0d2FyZQBNYXRwbG90bGliIHZlcnNpb24zLjEwLjAsIGh0dHBzOi8vbWF0cGxvdGxpYi5vcmcvlHJYcgAAAAlwSFlzAAAPYQAAD2EBqD+naQAAJz5JREFUeJzt3UFsW3d+J/CfEgNz8phSbuUcMlQCFOmlFSW4A3ROpnwo0HdopBjMwXuppUmPg9YaH3roySMd9rbASO4pBxOxmBTgYYCx6PTQxRaGI6YFtqcJOT0Mb41ETIAAi21XewjEWrZkk9Jf5KP0+QAGyMfH//vx/STx6/97fJw6ODg4CAAAknhj3AUAAFwkwhUAQELCFQBAQsIVAEBCwhUAQELCFQBAQsIVAEBCwhUAQELCFQBAQlfGXcBZ/MEf/EHMzs6+tLzb7UaxWEy2na+++ireeeedJGOlri3P4+lDPsbTh3yMpw/5GE8f8jFenvsQcXJ97XY7/vVf//X1AxxMsD/7sz8bavlp/cmf/EmysVLXlufx9CEf4+lDPsbTh3yMpw/5GC/PfTg4OHu+uJCHBavV6rhLOFHq2vI8nj7kYzx9yMd4+pCP8fQhH+PluQ8RZ69v6uBgcr+4uVwuR7FYjGq1eq6N+vGPfxz/+I//eG7jMxh9yAd9yAd9yAd9yIfz7kOtVotarRbdbjd2d3dfu/5En3NVLBaj0Wic+3Zu3rx57tvg9fQhH/QhH/QhH/QhH867D4eTOFmWDbT+hTwsmJpfnnzQh3zQh3zQh3zQh3zIWx+EKwCAhIQrAICEhCsAgISEKwCAhIQrAICEhCsAyJFWqzXuEnJjUvfFRF/nCmAUrt5+OLJtffPxh0Otv7y8HPV6PXZ2dqJSqRxZvri4GCsrK0nrm52djZ2dnSiVSknHHcTy8nK0Wq0olUqxs7Mz8u0f54//+I8j9bW4y+Vy7O7uxtzcXNJxBzU1NZX0NU1PT8fu7u6pfmbGvS9Oy8wVwISbm5uLtbW1cZdxrjY2NqJUKkW73c5NsDovBwcHZw4Ta2trsbW1laii0Tiu5hT7YhyEK4AJt7q6Gp1OZ2IPoQyi3W7H7OzsuMuAgQhXABfA+vr6K2evpqeno9PpREREr9eLqamp/mOzs7OxtbUVi4uLMT09HVtbW7G1tRXlcjmmp6ej2WweGater/cf29jY6C/vdDpRLpdjdnb2SC3lcjlarVYsLy8fWf9FnU4nFhcXY3Z2NhYXF6PX60XEdzMajx49irW1tSiXy8c+98XXUK/XXzvu6553nGazGbOzs1Eul1/a38Ns51X7+Plevaq+tbW1mJ2dfWl/r66uxtbWVn9/HY59Un9e9Zpe1Ov1+q9xdna2389XvfbnnfRzeFLNz6//qm28//77x+6nk+o9b8IVwAWwsrISX3zxxalmr/b29mJnZyd2dnbiwYMHsbq6Gr1eL3Z3d+PevXuxubn50nN2d3djd3c31tbW+m9+5XI5Hjx4EO12OzqdTv8NstfrxfLycty6dSvu3r17Yh3lcjnW19ej3W4fCVLr6+vxwQcfxPr6+olfmvvia3gx3B037uue96LDN+rNzc3Y3d2NhYWFgeo/7T5+XX0LCwvRbrej3W7H1tZWf39vbm4e2V+H5+Id15/XvaYXPXr0KObm5vrbXVpaeu1rH8RJNQ+6f3/3u98du59Oqve8CVcAF8S9e/fi/v37p3rurVu3IiL6b2qHb0Jzc3MvBbbDdUqlUqysrES9Xo96vR7z8/P982Pu3bsX29vb/eesrq6+8o1ta2srKpVK//mVSiUKhcJLs2aDvobDwDfIuMc97ziPHj2KSqXSf/3PB4BhtxPx6n38utf1/PMjIj744INXjnFSf171ml411uHrKpVKSXr3Omfp44v1joJPCwJcEHfv3j1yGGUYh286hULhyP2ZmZlXPm92djba7XZE/Ndhp0PPv1G/7k273W6/9MZXKpWGei3HvXEOMu5xz1teXu6vUyqVYnt7O3q93olvzsNsZ9h9fNI2e71ebG1tRbvdjmaz2R/3OJ1O59j+vOo1HWdlZSV2d3djcXExCoVCbG9vJ+nd65y2j8fVO0iAPCszVwAXyL179071ycFXvTG/yuGJ5oVCISqVSv9w4e7ubqyvrw88/uzs7Etvxp1OZ6g3/uO2Mci4xz1ve3u7/zoOZ+AKhcKJgeG02xnEcc87DEqlUinW19dfGxhO6s+rXtNJNjc34+DgINbX12N1dTVJ717nLPv3xXpHQbgCuEBWVlai2Wy+9EY0MzNz5FDZWRweYmm1WrG1tRVLS0vxwQcfRLPZ7B+a6vV6Qx0WevH59Xo9er3emWcZUo774ljP78fzqv8knU4nCoVCLC0tRaFQiC+++OLI44VCoT+j2Ov1TuzPq17TcVqtVv/n6PC1DfPaX/Vz+GLNzzvt/j2u3lEQrgAukEKhECsrKy+df7O6uhqrq6uxuLgYEac/9+TwDbBcLsfy8nJsb29HqVTqH3K5c+dOzM7Oxo0bN4Ye98mTJ3Hnzp2Ynp6Ozc3NJNezSjnu4Wu8ceNG//BasVg81/pPchgUpqenY3l5OUqlUrz11lv9x2/duhUbGxv9T96d1J/jXtOrfjY6nU4sLy/H9PR0/0T4YV77q34OX6z5eafdv8fVOwpTB6kvLTtC5XI5isViVKvVqFar57adp0+fxvXr189t/Bc9fzXow6s1H7fsshl1HziePuSDPuSDPuTDefehVqtFrVaLbrd74idWnzfRJ7QXi8VoNBrjLgMAuMAOJ3GyLBtofYcFAQASEq4AABISrgAAEhKuAAASEq4AABISrgAAEhKuAAASEq4AABISrgAAEhKuAAASEq4AABISrgAAEhKuAAASEq4AABISrgAAEhKuAAASEq4AABK6Mu4CzqLb7UaWZVGtVqNarY67nJG7evth//Y3H3944jIA4PRqtVrUarXodrsDrT/R4apYLEaj0Rh3GQDABXY4iZNl2UDrOywIAJCQcAUAkJBwBQCQkHAFAJCQcAUAkJBwBQCQkHAFAJCQcAUAkJBwBQCQkHAFAJCQcAUAkJBwBQCQkHAFAJCQcAUAkJBwBQCQkHAFAJCQcAUAkNBEh6tutxtZlkWtVht3KQDABVWr1SLLsuh2uwOtf+Wc6zlXxWIxGo3GuMsAAC6warUa1Wo1siwbaP2JnrkCAMgb4QoAICHhCgAgIeEKACAh4QoAICHhCgAgIeEKACAh4QoAICHhCgAgIeEKACAh4QoAICHhCgAgobF8cXOr1YpmsxkREc+ePYsHDx5EoVCIiIhOpxP1ej1KpVJ0Op1YWVnpPwYAkHdjCVfNZjPu3r0bEREbGxtx48aN2N3djYiI5eXl/u1OpxN37tyJ7e3tcZQJADC0kR8WbLVacf/+/f79paWlaLVa0el0otPpHFm3VCr1Z7gAACbByMPV3NxcPHjwoH+/1+tFRMTMzEw0m82YmZk5sv7MzEy0Wq1RlggAcGpjOaF9aWmpf/uTTz6JSqUShUKhH7RetLe3N6LKAADOZiznXB3q9XpRr9f751i9ar3jfPXVV/HjH/+4f//mzZtx8+bNZPX9svXbiIgozbwREU+Tjfs6P/3R9/q3nz59euZlh68jIuJP535wDhWPxv7+fv81MT76kA/6kA/6kA/n1YfHjx/H48eP+/e//fbbgZ431nC1trYWOzs7/U8DFgqFl2ap9vb2Tvy04DvvvBONRuPc6qv8j3ZEfBdY/tut6+e2nZO2GxHxtx9dP5dlk+jp06dx/frk1n9R6EM+6EM+6EM+nFcfrl+/Hn/zN3/Tv59l2UDPG9t1rjY2NmJtbS1KpVL0er3o9XpRqVSOXXd+fn7E1QEAnM5YwlW9Xo+5ubl+sHr06FEUCoUolUpH1ut0OjE/P+86VwDAxBj5YcFOpxPLy8tHlhUKhVhZWYmIiO3t7VhbW4uFhYV49uyZa1wBABNl5OGqVCrFwcHBKx9fX1+PiKOfKgQAmAS+WxAAICHhCgAgIeEKACAh4QoAICHhCgAgIeEKACAh4QoAICHhCgAgIeEKACAh4QoAICHhCgAgIeEKACAh4QoAICHhCgAgoSvjLuAsut1uZFkW1Wo1qtXquMuZKFdvP+zf/ubjD09cBgCXXa1Wi1qtFt1ud6D1JzpcFYvFaDQa4y4DALjADidxsiwbaH2HBQEAEhKuAAASEq4AABISrgAAEhKuAAASEq4AABISrgAAEhKuAAASEq4AABISrgAAEhKuAAASEq4AABISrgAAEhKuAAASEq4AABISrgAAEhKuAAASmuhw1e12I8uyqNVq4y7lwrp6+2H/34vLAOAyqNVqkWVZdLvdgda/cs71nKtisRiNRmPcZQAAF1i1Wo1qtRpZlg20/kTPXAEA5I1wBQCQkHAFAJCQcAUAkJBwBQCQkHAFAJCQcAUAkJBwBQCQkHAFAJCQcAUAkJBwBQCQkHAFAJCQcAUAkJBwBQCQkHAFAJCQcAUAkJBwBQCQ0JVxF3AW3W43siyLarUa1Wp1JNu8evth//Y3H3944jIA4GKo1WpRq9Wi2+0OtP5Eh6tisRiNRmPcZQAAF9jhJE6WZQOt77AgAEBCwhUAQELCFQBAQsIVAEBCwhUAQELCFQBAQsIVAEBCwhUAQELCFQBAQsIVAEBCwhUAQELCFQBAQsIVAEBCwhUAQELCFQBAQsIVAEBCwhUAQEITHa663W5kWRa1Wm3cpTCAq7cf9v8BwKSo1WqRZVl0u92B1r9yzvWcq2KxGI1GY9xlAAAXWLVajWq1GlmWDbT+RM9cAQDkjXAFAJCQcAUAkJBwBQCQkHAFAJCQcAUAkJBwBQCQkHAFAJCQcAUAkJBwBQCQkHAFAJCQcAUAkNBYwlWr1YpyuXzs8larFRERnU6nfxsAYFKMPFzV6/WIiGOD0+bmZpTL5ZiamorV1dUolUqjLg8A4EyujHqDS0tLJz5WLpdjf38/IiIKhcKIKgIASGfk4ep1hCoAYJLlKlz1er3+YcNnz545NAgATJypg4ODg7FseGoqXtx0r9frz1y1Wq1YXl6Odrt94hjvvfdevPXWW/37N2/ejJs3byar8Zet30ZERGnmjfj9t3/vyLKIiD+d+8GJy1Js93XbGPeyYV//WffT/v5+TE9PD/080tKHfNCHfNCHfDivPjx+/DgeP37cv//tt9/G7u7ua5+Xq3DVarVibm4uIr4LWtPT09Fut0+cvcqyLBqNxrnVePX2w4iI+OmPvhd/+9H7R5ZFRHzz8YcnLkux3ddtY9zLhn39Z91PT58+jevXrw/9PNLSh3zQh3zQh3wYVR8GzR25uc5Vq9WKGzduvLR8ZmZmDNUAAJzOWMNVr9fr3y6VSrG+vt6/32w2Y2lpyQnuAMBEGfkJ7c1mM3Z2diIi4v79+7GwsNAPUfPz87GxsRGFQiHa7XZsb2+PujwAgDMZebiqVCpRqVSOzFIdmpub659zBQAwiXJzzhUAwEUgXAEAJCRcAQAkJFwBACQkXAEAJCRcAQAkJFwBACQkXAEAJCRcAQAkJFwBACQkXAEAJCRcAQAkJFwBACR0ZdwFnEW3240sy6JarUa1Wh13OUdcvf2wf/ubjz8catlFMOjrukz7BIDJVKvVolarRbfbHWj9iQ5XxWIxGo3GuMsAAC6ww0mcLMsGWt9hQQCAhIQrAICEhCsAgISEKwCAhIQrAICEhCsAgISEKwCAhIQrAICEhCsAgISEKwCAhIQrAICEhCsAgIROHa4+//zz+MlPfhL37t2LiIgnT57E559/nqwwAIBJdKpwde/evdjc3IzV1dVoNpsRETE/Px9ra2tJiwMAmDRXTvOker0ev/71ryMi4uDgICIirl27Fr1eL1lhAACT6FQzV9euXYt/+Zd/iYiIqampiIj48ssv49q1a+kqAwCYQKeauXr06FHMz8/HwsJC7O/vx0cffRTNZjO2t7dT1wcAMFFOFa5KpVLs7e3Fp59+Gp1OJwqFQvz85z8f+cxVt9uNLMuiWq1GtVod6bbheVdvP+zf/ubjD8dYCQCp1Wq1qNVq0e12B1r/VOHqs88+i1KpFO+//35/2aeffhpTU1Px53/+56cZ8lSKxWI0Go2RbQ8AuHwOJ3GyLBto/VOdc7W2thalUunIshs3bvi0IABw6Z0qXH399dfx/e9//8iyQqEQX3/9dZKiAAAm1anC1fz8fPz93//9kWWff/75S7NZAACXzanOufrFL34R8/Pzcffu3ahUKtFut2N3dzd2d3dT1wcAMFHO9GnBer0ev/nNb6JSqRw5uR0A4LI6Vbg6tLS0lKoOAIAL4VTnXH322WfxzjvvxJtvvtn/98Ybb8Sbb76Zuj4AgIlyqpmrO3fuxNbWVlQqldT1AABMtFOFq3K57BwrAIBjnCpcLS8vx61bt+LWrVtRKpWiUCj0H3v77bcTlQYAMHlOFa7W19djb28vdnZ2jiyfmppyIVEA4FI7Vbj66quvUtcBAHAhnOrTggAAHO/U17n6/PPPo9VqHTkM+NZbb8Vf/dVfJSkMAGASnWrm6mc/+1ksLS3FV199Fdvb27G/vx87Ozvx7Nmz1PUBAEyUU81cffrpp7G3txcRET/5yU9iY2Mjvv/978etW7eSFgcAMGlONXN1cHDQvz07OxtPnjyJiIhms5mmKgCACXWqcLW0tBSfffZZRESsrKzEX//1X8fCwkL88Ic/TFrc63S73ciyLGq12ki3y+hdvf0wftn6bVy9/XDcpQBwydRqtciyLLrd7kDrn+qw4M9//vP+7WvXrsXOzk50Op24cePGaYY7tWKxGI1GY6TbBAAul2q1GtVqNbIsG2j9U81cff7550fu//CHP4z5+fn+bBYAwGV1qnC1trb20rJr167F/fv3z1wQAMAkG+qw4N/93d9FRESn0+nfPvTVV1/F7u5uusoAACbQUOHq8GtvDg4O4osvvjjyWKFQEK4AgEtvqHB1eCJ7r9eLX/ziF+dSEADAJDvVOVfvvPNO/Nu//VtEfHdy+7vvvhvvvvtu/MM//EPK2gAAJs6pwtXm5ma8/fbbERGxvLwca2tr8atf/SpWVlZS1gYAMHFOdZ2rwyu0P3nyJPb39+Mv/uIvIiKOfIkzAMBldKpwVSqV4t69e7G9vd2frfrNb34TpVIpaXEAAJPmVIcFt7e3o1QqxdraWv/E9l6vF/fu3UtaHADApBl45uqf//mf4w//8A8jImJ/fz8WFxcjIvontk9PT0e5XE5eIADAJBkoXH355ZcxPz8f//mf/xkREXNzczE1NdU/9+rQ1NSU864AgEttoHD1R3/0R/1gFRGxt7d3bgUBAEyyU51zFRHxu9/9Ln73u9+lrAUAYOINHa5+9rOfxczMTExPT0ehUIg333wz/vIv/1LQAgCIIcPVO++8E19++WVsb2/H3t5e7O/vx7Nnz+Lf//3fo1wuC1gAwKU3cLj66KOPYmlpKX71q1/FjRs34tq1a3Ht2rWYm5uLR48exZ07d2Jtbe08awUAyL2BL8XQbDbj17/+9YmP3717N959990kRQEATKqBw9W1a9eSrJNSt9uNLMuiWq1GtVod6bbJp6u3H/Zvf/Pxhycu42X2E8DxarVa1Gq16Ha7A60/cLiamppKsk5KxWIxGo3GSLcJAFwuh5M4WZYNtP7A4ardbr/26206nc6gwwEAXEgDh6sbN25Eu91+7ToAAJfZwOFqe3v7POsAALgQTn2FdgAAXiZcAQAkJFwBACQkXAEAJCRcAQAkJFwBACQkXAEAJCRcAQAkJFwBACQ0lnDVarWiXC6/tLzT6cTGxkbU6/XY2NiIXq83+uIAAM5g4K+/SaVer0epVIpWq/XSY8vLy7G7uxsR3wWtO3fu+NodAGCijDxcLS0tHbu80+kcuV8qlaLZbI6iJACAZHJzzlWz2YyZmZkjy2ZmZo6d4QIAyKvchKuTzq/a29sbbSEAAGcwdXBwcDCWDU9NxfOb3tjYiJ2dndjZ2ekvm52djfX19RMPJb733nvx1ltv9e/fvHkzbt68mazGX7Z+GxERpZk34vff/r0jyyIi/nTuB5d62ai3WZp5Izp7/+/ctnEWo9jGeRv0Nezv78f09PRoi+Ml+pAP+pAP59WHx48fx+PHj/v3v/322/654a+Sm3C1tbUVm5ubR4qenp6O7e3tqFQqx46RZVk0Go1zq/Hq7YcREfHTH30v/vaj948si4j45uMPL/WyUW/zpz/6Xvz3f/o/57aNsxjFNs7boK/h6dOncf369dEWx0v0IR/0IR9G1YdBc0duDgueFKDm5+dHXAkAwOmNNVw9f55VqVQ68lin04n5+fkoFAqjLQoA4AxGfimGZrPZP6/q/v37sbCw0D+nant7O9bW1mJhYSGePXvmGlcAwMQZebiqVCpRqVRifX39pcdKpVJ/+UknsQMA5FluzrkCALgIhCsAgISEKwCAhIQrAICEhCsAgISEKwCAhIQrAICEhCsAgISEKwCAhIQrAICEhCsAgISEKwCAhIQrAICEroy7gLPodruRZVlUq9WoVqvjLocJd/X2w/7tbz7+cKhlAFxctVotarVadLvdgdaf6HBVLBaj0WiMuwwA4AI7nMTJsmyg9R0WBABISLgCAEhIuAIASEi4AgBISLgCAEhIuAIASEi4AgBISLgCAEhIuAIASEi4AgBISLgCAEhIuAIASEi4AgBISLgCAEhIuAIASEi4AgBISLgCAEhoosNVt9uNLMuiVquNuxQYyNXbD/v/AJgMtVotsiyLbrc70PpXzrmec1UsFqPRaIy7DADgAqtWq1GtViPLsoHWn+iZKwCAvBGuAAASEq4AABISrgAAEhKuAAASEq4AABISrgAAEhKuAAASEq4AABISrgAAEhKuAAASEq4AABISrgAAEhKuAAASEq4AABISrgAAEhKuAAASmuhw1e12I8uyqNVq4y4FALigarVaZFkW3W53oPWvnHM956pYLEaj0Rh3GQDABVatVqNarUaWZQOtP9EzVwAAeSNcAQAkJFwBACQkXAEAJCRcAQAkJFwBACQkXAEAJCRcAQAkJFwBACQkXAEAJCRcAQAkJFwBACQkXAEAJCRcAQAkJFwBACQkXAEAJCRcAQAkdGXcBZxFt9uNLMuiWq1GtVoddzlwrq7efti//c3HH7522SDrPL8MgOPVarWo1WrR7XYHWn+iw1WxWIxGozHuMgCAC+xwEifLsoHWd1gQACAh4QoAICHhCgAgIeEKACAh4QoAICHhCgAgIeEKACAh4QoAICHhCgAgIeEKACAh4QoAICHhCgAgodyFq1arFa1WKyIiOp1O/zYAwCTIXbja3NyMcrkcU1NTsbq6GqVSadwlAQAM7Mq4C3hRuVyO/f39iIgoFArjLQYAYEi5C1cRQhUAMLlyF656vV7U6/WIiHj27JlDgwDARJk6ODg4GHcRz+v1ev2Zq1arFcvLy9Fut49d97333ou33nqrf//mzZtx8+bNZLX8svXbiIgozbwRv//27x1ZFhHxp3M/uNTLRr3N0swb0dn7f7l5/amWHSfP/dnf34/p6ekTa2c09CEf9CEfzqsPjx8/jsePH/fvf/vtt7G7u/va5+UuXLVarZibm4uI74LW9PR0tNvtY2evsiyLRqNxbrVcvf0wIiJ++qPvxd9+9P6RZRER33z84aVeNupt/vRH34v//k//JzevP9Wy4+S5P0+fPo3r16+fWDujoQ/5oA/5MKo+DJo7cvVpwVarFTdu3Hhp+czMzBiqAQAYXq7CValUivX19f79ZrMZS0tLTnAHACZGrk5oLxQKMT8/HxsbG1EoFKLdbsf29va4ywIAGFiuwlVExNzcXP+cKwCASZOrw4IAAJNOuAIASEi4AgBISLgCAEhIuAIASEi4AgBISLgCAEhIuAIASEi4AgBISLgCAEhIuAIASEi4AgBISLgCAEhoosNVt9uNLMuiVquNuxQ4tau3H/b/AZA/tVotsiyLbrc70PpXzrmec1UsFqPRaIy7DADgAqtWq1GtViPLsoHWn+iZKwCAvBGuAAASEq4AABISrgAAEhKuAAASEq4AABISrgAAEhKuAAASEq4AABISrgAAEhKuAAASEq4AABISrgAAEhKuAAASEq4AABISrgAAEhKuAAASEq4AABKa6HDV7XYjy7Ko1WrjLgUAuKBqtVpkWRbdbneg9a+ccz3nqlgsRqPRGHcZAMAFVq1Wo1qtRpZlA60/0TNXAAB5I1wBACQkXAEAJCRcAQAkJFwBACQkXAEAJCRcAQAkJFwBACQkXAEAJCRcAQAkJFwBACQkXAEAJCRcAQAkJFwBACQkXAEAJCRcAQAkJFwBACQ00eGq2+1GlmVRq9XGXQoAcEHVarXIsiy63e5A618553rOVbFYjEajMe4yAIALrFqtRrVajSzLBlp/omeuAADyRrgCAEhIuAIASEi4AgBISLgCAEhIuAIASEi4AgBISLgCAEhIuAIASEi4AgBISLgCAEhIuAIASEi4AgBISLgCAEhIuAIASEi4AgBISLgCAEhoosNVt9uNLMuiVquNuxQA4IKq1WqRZVl0u92B1r9yzvWcq2KxGI1GY9xlAAAXWLVajWq1GlmWDbT+RM9cAQDkjXAFAJCQcAUAkJBwBQCQkHAFAJCQcAUAkJBwBQCQkHAFAJCQcAUAkJBwBQCQkHAFAJCQcAUAkFDuvri50+lEvV6PUqkUnU4nVlZWolAojLssAICB5G7manl5Oe7evRtLS0uxtLQUd+7cGXdJ8b+f/c9xl0DoQ148fvx43CUQ+pAX+pAPeetDrsJVp9M5cr9UKkWz2RxTNf/lf3/hTT0P9CEf8vZH7LLSh3zQh3zIWx9yFa6azWbMzMwcWTYzMxOtVmuocWq1Wsqykvq/v/lfl2a81LWllOf9lnq8PPch9e9qnsfL89+lPO+31OPpQz7Gy3MfIs5eX67CVa/XO3b53t7eUOPkuWn/8W//dGnGS11bSnneb6nHy3Mf8vzHP/V4ef67lOf9lno8fcjHeHnuQ8TZ65s6ODg4SFTLmW1sbMTOzk7s7Oz0l83Ozsb6+nosLS29tP4PfvCD+I//+I/+/WKxGMViMbrdbhSLxWR1pRwvz7WlHk9t+RhPbfkYT235GE9t+Rgvz7U9P163241ut9tffuXKlfjtb3/72ufn6tOChULhpVmqvb29Ez8tOMgLBAAYpVwdFqxUKscun5+fH3ElAACnk6twVSqVjtzvdDoxPz/vOlcAwMTI1TlXEd8Fqs3NzVhYWIhnz57FvXv3zj1cDXPhUhc5PT/D7ttWqxV37tyJ3d3d0RV5CQzTh1ar1b9cyrNnz+LBgwd+HxIZpg+HPej1evHs2bO4detWzM3NjbDai+u0f/PX1tZG8v51WQz7dykiYm5uLjqdTvR6vdH/PhxwMDc317/dbrcPlpaWkqzLcIbZt9vb2we7u7sHfoTTG6YP6+vrR24//1zOZpg+FAqFg93d3YODg4ODzc3Ng1KpdO71XRan+Zt/+Ldpf3//HCu7XIbpw8rKykFEHETEQaVSGUsfcnVYcByGuXBpXi9yehEMu2+Xlpb8z/wcDNOHVqsV9+/f799fWlqKVqv10hgMb9jfh+3t7SO/D2ZL0jjt3/xOp/PSaS6c3rB9KJfLsb+/H/v7+7GzszOW34dLH66GuXBpqouc8jL7Nh+G6cPc3Fw8ePCgf//wOnUvPp/hDfv78PyHgba3t2N1dfVc67ssTvN3qV6vH3vpIE7vNH0oFApj/U9Gri7FMA7DXLg01UVOeZl9mw/D9uH5N5FPPvkkKpWKWZMETvP70Gq14pNPPonFxcVYWVk5p8oul2H70Ov1/Pyfg9P0oV6vR8R354Kurq6OfCbx0oerk5zUzLOuy3Ds23x4XR8O/5j5cMH5elUf5ubmolQqxdramtmTc3ZSHx49eiTYjtBJfXj+ZPdSqRSLi4vRbrdHV1g4LDjUhUuHvcgpg7Nv8+G0fVhbWxvbuQ0X0Wn7UCgUYnl5OZaXl/3HJIFh+tBsNuODDz4YUWWXy7C/D8+fo3X46cJRnwt66cPVMBcudZHT82Pf5sNp+rCxsRFra2tRKpWi1+t5U09gmD40m82Ynp7u3z88/OGDBWc37O/Do0ePYmtrK7a2tqLT6cT9+/edN5rAMH1otVpx48aNl5aP+lzQS39Y8HUXLm21WlEoFKJUKrnI6Tkapg8vcp5DOsP2oV6v9w9H9Xo9h0USGaYPMzMzR958Dh/zadqzG6YPLwaA1dXVsZzrcxEN+z69vr7eX7fZbMbS0tLI3yNydxHRcXjVhUuXl5djYWEh7t69+9p1OZth+tBsNmNnZyc2Njbi7t27sbCw4ByTRAbtQ6fTidnZ2SPPLRQKsb+/P4aqL55hfh/q9Xr/sMnOzk6sr697U09kmD5EfPefva2trVhbW4uVlZVYXV0VdBMYpg+HFzcuFArRbrePhK1REa4AABK69OdcAQCkJFwBACQkXAEAJCRcAQAkJFwBACQkXAEAJCRcAbk37qtcj3v7wGQRroCxWV5ejunp6SiXy1Eul2N2djZWV1dfWq9cLo814Ix7+8BkEa6AsVpZWYnd3d3Y3d2NdrsdhULhpSu/HxwcjOwq12tra7G1tTW27QOTT7gCcuXwq1vW1tbGXQrAqQhXQO68OHs0PT0dnU4ner1eLC4uxuzsbMzOzsbGxkZE/Ndhu+Xl5f6yw+dEfPd9b1NTU/3xFhcXY2NjI8rlckxPT/efs7q62v9euHK5HM1m86WxOp1Ov4bFxcXo9Xr9cWdnZ2NraysWFxdjeno66vX6+e0kILeujLsAgBfNz89Hr9eLXq935IvRHz16FHNzc7GzsxMRcSQ8LS8vx/r6+kBf4N3pdOLrr7+O3d3daLVaUS6Xo1KpxObmZkR8F9ZWVlaOfW65XI4nT57E3NxcNJvNKJfL0W63IyJib28vdnZ2YmdnJ+r1eqytrflCcbiEzFwBE6Ver/dnlEqlUn/56urqUEHm1q1bERExNzcXS0tL8cknn7z2OVtbW1GpVPrnX1UqlSgUCv16nh+3Uqn0wx9wuQhXQO4chpLnZ60ivjv5vVKp9A+7PR9qKpXKqbe3sLBw5PDeSdrt9pFAF/FdwHs+RL34OHD5CFdA7ty/f//Ew3Kbm5txcHAQ6+vrRy7b8GIQG8azZ89e+oTicWZnZ1+ajep0OkcC1VnqAC4G4QrIlY2NjWi1WrG+vv7SY61Wqx9uXjdTNTMz01/3xUsrRER/1qvVakW9Xu8fUiwUCv1zqF6czfrggw+i2Wz2r3lVr9ej1+udadYMuHiEK2Cstra2jlxEtN1ux+7u7rEzQJ1Op3/h0cXFxf4J6MdZXV2N1dXVWFxcjIiXD9e12+0ol8tx48aN2N7e7j9+69at/icJnz/sGPFd8Hry5EncuXMnpqenY3Nzs39yPcChqYODg4NxFwEwSrOzs7G9ve3CoMC5MHMFAJCQcAUAkJDDggAACZm5AgBISLgCAEhIuAIASEi4AgBISLgCAEhIuAIASEi4AgBISLgCAEhIuAIASOj/A1X+5gAAYjLmAAAAAElFTkSuQmCC",
      "text/plain": [
       "<Figure size 700x600 with 1 Axes>"
      ]
     },
     "metadata": {},
     "output_type": "display_data"
    }
   ],
>>>>>>> 84445a50b93bf30ba36bc435057d46967fa87b93
   "source": [
    "all_non_dominated_solutions = np.array(all_non_dominated_solutions)\n",
    "\n",
    "with plt.style.context(\"science\"):\n",
    "    fig, ax = plt.subplots(1, 1, figsize=(7, 6))\n",
    "\n",
    "    # plt.bar(q[:,0], q[:,1], width=0.8)\n",
    "    # plt.bar(np.linspace(20, 40, 100), np.zeros((100,)), width=0.4)\n",
    "\n",
    "    ax.bar(\n",
    "        all_non_dominated_solutions[:, 0],\n",
    "        all_non_dominated_solutions[:, 1],\n",
    "        width=3e-3,\n",
    "        label=\"Number of non-dominated solutions\",\n",
    "    )\n",
    "\n",
    "    # ax.set_title(f\"{lb}, {ub}\")\n",
    "    ax.set_xlabel(\"Disruption\")\n",
    "    ax.set_ylabel(\"Distance\")\n",
    "    ax.grid()\n",
    "    ax.legend()\n",
    "\n",
    "fig.savefig(f\"figures/increase_demand.pdf\", dpi=500)\n",
    "plt.show()"
   ]
  },
  {
   "cell_type": "markdown",
   "metadata": {
    "id": "ebWwWVudFPKW"
   },
   "source": [
    "## Would hiring a new SR solve this demand increase?"
   ]
  },
  {
   "cell_type": "code",
   "execution_count": null,
   "metadata": {
    "id": "ffp1wQ6wKDBX"
   },
   "outputs": [],
   "source": [
    "F1_hire_new_sr = []\n",
    "F2_hire_new_sr = []\n",
    "center_brick = []\n",
    "X = []\n",
    "\n",
    "iv = index_values + index_values * 0.2\n",
    "\n",
    "workload_balance_lower_bound = 0.8\n",
    "workload_balance_upper_bound = 1.2\n",
    "\n",
    "weights = np.linspace(0.0, 200.0, 100)\n",
    "\n",
    "for w in tqdm(weights):\n",
    "    model = gp.Model(\"pfizer\", env=env)\n",
    "    model.params.outputflag = 0\n",
    "\n",
    "    # Add the fifth SR\n",
    "    sr = num_sr + 1\n",
    "\n",
    "    x = model.addMVar((sr, num_bricks), vtype=GRB.BINARY)\n",
    "\n",
    "    # Center brick of the fifth SR\n",
    "    c = model.addMVar((num_bricks), vtype=GRB.BINARY)\n",
    "    model.addConstr((gp.quicksum(c[i] for i in range(num_bricks)) == 1))\n",
    "\n",
    "    # Add constraints\n",
    "    model = add_constraints(\n",
    "        model,\n",
    "        iv,\n",
    "        x,\n",
    "        lb=workload_balance_lower_bound,\n",
    "        ub=workload_balance_upper_bound,\n",
    "        num_bricks=num_bricks,\n",
    "        num_sr=sr,\n",
    "    )\n",
    "\n",
    "    # minimize the weighted sum between the total distance and the disruption\n",
    "    f1f2 = (\n",
    "        gp.quicksum(distances[i][j] * x[i][j] for i in range(sr - 1) for j in range(num_bricks))\n",
    "        + gp.quicksum(sum(distances_between_bricks[j, :] * c) * x[4][j] for j in range(num_bricks))\n",
    "        + w\n",
    "        * gp.quicksum(\n",
    "            index_values[j]\n",
    "            * (x[i][j] - x_current_structure[i][j])\n",
    "            * (x[i][j] - x_current_structure[i][j])\n",
    "            / 2\n",
    "            for i in range(num_sr)\n",
    "            for j in range(num_bricks)\n",
    "        )\n",
    "    )\n",
    "\n",
    "    model.setObjective(f1f2, GRB.MINIMIZE)\n",
    "    model.update()\n",
    "    model.optimize()\n",
    "\n",
    "    f1 = sum(distances[i][j] * x.x[i][j] for i in range(sr - 1) for j in range(num_bricks)) + sum(\n",
    "        sum(distances_between_bricks[j, :] * c.x) * x.x[4][j] for j in range(num_bricks)\n",
    "    )\n",
    "\n",
    "    f2 = sum(\n",
    "        index_values[j]\n",
    "        * (x.x[i][j] - x_current_structure[i][j])\n",
    "        * (x.x[i][j] - x_current_structure[i][j])\n",
    "        / 2\n",
    "        for i in range(num_sr)\n",
    "        for j in range(num_bricks)\n",
    "    )\n",
    "\n",
    "    F1_hire_new_sr.append(f1)\n",
    "    F2_hire_new_sr.append(f2)\n",
    "    center_brick.append(np.argmax(c.x) + 1)\n",
    "    X.append(x.x)\n",
    "    print(\"The center brick of the fifth SR is:\", np.argmax(c.x) + 1)"
   ]
  },
  {
   "cell_type": "code",
<<<<<<< HEAD
   "execution_count": null,
=======
   "execution_count": 52,
>>>>>>> 84445a50b93bf30ba36bc435057d46967fa87b93
   "metadata": {
    "colab": {
     "base_uri": "https://localhost:8080/",
     "height": 611
    },
    "id": "BbRjB0-4OnrJ",
    "outputId": "d22cff01-2c77-4fa9-e1e7-ccd340f4ab02"
   },
<<<<<<< HEAD
   "outputs": [],
=======
   "outputs": [
    {
     "data": {
      "image/png": "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",
      "text/plain": [
       "<Figure size 700x700 with 1 Axes>"
      ]
     },
     "metadata": {},
     "output_type": "display_data"
    }
   ],
>>>>>>> 84445a50b93bf30ba36bc435057d46967fa87b93
   "source": [
    "with plt.style.context(\"science\"):\n",
    "    fig, ax = plt.subplots(1, 1, figsize=(7, 7))\n",
    "\n",
    "    ax.plot(F2_hire_new_sr, F1_hire_new_sr, \"-or\", label=\"Supported non-dominated solution\")\n",
    "\n",
    "    for i, (a, b) in enumerate(zip(F2_hire_new_sr, F1_hire_new_sr)):\n",
    "        ax.text(a, b + 8e-1, f\"({center_brick[i]})\")\n",
    "\n",
    "    ax.set_xlabel(\"Disruption\")\n",
    "    ax.set_ylabel(\"Distance\")\n",
    "    ax.grid()\n",
    "    ax.legend()\n",
    "\n",
    "fig.savefig(f\"figures/center_brick_non_dominated.pdf\", dpi=500)\n",
    "plt.show()"
   ]
  },
  {
   "cell_type": "code",
<<<<<<< HEAD
   "execution_count": null,
=======
   "execution_count": 53,
>>>>>>> 84445a50b93bf30ba36bc435057d46967fa87b93
   "metadata": {
    "colab": {
     "base_uri": "https://localhost:8080/"
    },
    "id": "x5A4aILeFVH4",
    "outputId": "5d3f9ab1-43c3-4477-833d-aacc5ba5ffac"
   },
<<<<<<< HEAD
   "outputs": [],
=======
   "outputs": [
    {
     "name": "stdout",
     "output_type": "stream",
     "text": [
      "Gurobi Optimizer version 12.0.2 build v12.0.2rc0 (linux64 - \"Ubuntu 22.04.4 LTS\")\n",
      "\n",
      "CPU model: Intel(R) Xeon(R) CPU @ 2.20GHz, instruction set [SSE2|AVX|AVX2]\n",
      "Thread count: 1 physical cores, 2 logical processors, using up to 2 threads\n",
      "\n",
      "Optimize a model with 33 rows, 132 columns and 352 nonzeros\n",
      "Model fingerprint: 0xe1db8e30\n",
      "Model has 462 quadratic objective terms\n",
      "Variable types: 0 continuous, 132 integer (132 binary)\n",
      "Coefficient statistics:\n",
      "  Matrix range     [5e-02, 1e+00]\n",
      "  Objective range  [8e-01, 5e+01]\n",
      "  QObjective range [2e+00, 1e+02]\n",
      "  Bounds range     [1e+00, 1e+00]\n",
      "  RHS range        [8e-01, 1e+00]\n",
      "Found heuristic solution: objective 356.5073333\n",
      "Presolve time: 0.01s\n",
      "Presolved: 495 rows, 594 columns, 1738 nonzeros\n",
      "Variable types: 0 continuous, 594 integer (594 binary)\n",
      "\n",
      "Root relaxation: objective 5.137552e+01, 80 iterations, 0.00 seconds (0.00 work units)\n",
      "\n",
      "    Nodes    |    Current Node    |     Objective Bounds      |     Work\n",
      " Expl Unexpl |  Obj  Depth IntInf | Incumbent    BestBd   Gap | It/Node Time\n",
      "\n",
      "     0     0   51.37552    0   48  356.50733   51.37552  85.6%     -    0s\n",
      "H    0     0                     300.9673333   51.37552  82.9%     -    0s\n",
      "H    0     0                     259.4744490   51.37552  80.2%     -    0s\n",
      "H    0     0                     210.7271884   51.37552  75.6%     -    0s\n",
      "H    0     0                     210.5871884   51.37552  75.6%     -    0s\n",
      "H    0     0                     175.3041665   51.37552  70.7%     -    0s\n",
      "H    0     0                     174.4841665   51.37552  70.6%     -    0s\n",
      "     0     0  104.07043    0   38  174.48417  104.07043  40.4%     -    0s\n",
      "     0     0  106.13001    0   41  174.48417  106.13001  39.2%     -    0s\n",
      "     0     0  114.20057    0   47  174.48417  114.20057  34.5%     -    0s\n",
      "H    0     0                     167.1446654  114.20057  31.7%     -    0s\n",
      "     0     0  114.50331    0   48  167.14467  114.50331  31.5%     -    0s\n",
      "     0     0  117.20500    0   50  167.14467  117.20500  29.9%     -    0s\n",
      "     0     0  117.27754    0   50  167.14467  117.27754  29.8%     -    0s\n",
      "H    0     0                     160.4565386  117.27754  26.9%     -    0s\n",
      "     0     2  117.88183    0   50  160.45654  117.88183  26.5%     -    0s\n",
      "H   24    22                     142.1070588  119.51036  15.9%  14.2    0s\n",
      "H   81    30                     134.0441665  120.67290  10.0%  14.5    0s\n",
      "\n",
      "Cutting planes:\n",
      "  Gomory: 1\n",
      "  Cover: 17\n",
      "  Dual implied bound: 10\n",
      "  MIR: 8\n",
      "  StrongCG: 4\n",
      "  RLT: 28\n",
      "  BQP: 19\n",
      "\n",
      "Explored 175 nodes (3271 simplex iterations) in 0.41 seconds (0.15 work units)\n",
      "Thread count was 2 (of 2 available processors)\n",
      "\n",
      "Solution count 10: 134.044 142.107 160.457 ... 300.967\n",
      "\n",
      "Optimal solution found (tolerance 1.00e-04)\n",
      "Best objective 1.340441665127e+02, best bound 1.340441665127e+02, gap 0.0000%\n",
      "The center brick of the fifth SR is: 19\n"
     ]
    }
   ],
>>>>>>> 84445a50b93bf30ba36bc435057d46967fa87b93
   "source": [
    "iv = index_values + index_values * 0.2\n",
    "\n",
    "model = gp.Model(\"pfizer\")\n",
    "\n",
    "workload_balance_lower_bound = 0.8\n",
    "workload_balance_upper_bound = 1.2\n",
    "\n",
    "# Add the fifth SR\n",
    "sr = num_sr + 1\n",
    "\n",
    "x = model.addMVar((sr, num_bricks), vtype=GRB.BINARY)\n",
    "\n",
    "# Center brick of the fifth SR\n",
    "c = model.addMVar((num_bricks), vtype=GRB.BINARY)\n",
    "model.addConstr((gp.quicksum(c[i] for i in range(num_bricks)) == 1))\n",
    "\n",
    "# Add constraints\n",
    "model = add_constraints(\n",
    "    model,\n",
    "    iv,\n",
    "    x,\n",
    "    lb=workload_balance_lower_bound,\n",
    "    ub=workload_balance_upper_bound,\n",
    "    num_bricks=num_bricks,\n",
    "    num_sr=sr,\n",
    ")\n",
    "\n",
    "# Minimize the total distance\n",
    "model.setObjective(\n",
    "    gp.quicksum(distances[i][j] * x[i][j] for i in range(sr - 1) for j in range(num_bricks))\n",
    "    + gp.quicksum(sum(distances_between_bricks[j, :] * c) * x[4][j] for j in range(num_bricks)),\n",
    "    GRB.MINIMIZE,\n",
    ")\n",
    "\n",
    "model.update()\n",
    "model.optimize()\n",
    "print(\"The center brick of the fifth SR is:\", np.argmax(c.x) + 1)"
   ]
  },
  {
   "cell_type": "code",
<<<<<<< HEAD
   "execution_count": null,
=======
   "execution_count": 54,
>>>>>>> 84445a50b93bf30ba36bc435057d46967fa87b93
   "metadata": {
    "colab": {
     "base_uri": "https://localhost:8080/"
    },
    "id": "5ONJ3EYptWCc",
    "outputId": "2ef1b906-9580-4f27-99a9-74c269560d46"
   },
<<<<<<< HEAD
   "outputs": [],
=======
   "outputs": [
    {
     "name": "stdout",
     "output_type": "stream",
     "text": [
      "The center brick of the fifth SR is: 19\n"
     ]
    }
   ],
>>>>>>> 84445a50b93bf30ba36bc435057d46967fa87b93
   "source": [
    "print(\"The center brick of the fifth SR is:\", np.argmax(c.x) + 1)"
   ]
  },
  {
   "cell_type": "markdown",
   "metadata": {
    "id": "cJnnS43nEG2r"
   },
   "source": [
    "## What happens when we change the center bricks of all SRs?"
   ]
  },
  {
   "cell_type": "code",
<<<<<<< HEAD
   "execution_count": null,
=======
   "execution_count": 55,
>>>>>>> 84445a50b93bf30ba36bc435057d46967fa87b93
   "metadata": {
    "colab": {
     "base_uri": "https://localhost:8080/"
    },
    "id": "AQJebfVJaggd",
    "outputId": "c57f7151-e5a0-4a97-d439-8ec3af83af92"
   },
<<<<<<< HEAD
   "outputs": [],
=======
   "outputs": [
    {
     "data": {
      "text/plain": [
       "(4, 22)"
      ]
     },
     "execution_count": 55,
     "metadata": {},
     "output_type": "execute_result"
    }
   ],
>>>>>>> 84445a50b93bf30ba36bc435057d46967fa87b93
   "source": [
    "num_sr, num_bricks"
   ]
  },
  {
   "cell_type": "code",
   "execution_count": null,
   "metadata": {
    "colab": {
     "base_uri": "https://localhost:8080/",
     "height": 49,
     "referenced_widgets": [
      "9d998ec988704f7382d0ba5f68bc833f",
      "d01beba8f56044989b27feeac6a155b4",
      "2da8c5b8ea7341dabb43cea3e073a953",
      "2fc7131e1d1841ee829b7e8d19d76608",
      "cc73ad6f8860414b8da7c7f7aedbb7b5",
      "42fdf97b3a4f4824b29b396eb63758c2",
      "b362147fba1f491b8947b3fb9218910f",
      "40e81ec2670047129ea6881fe26254db",
      "675de70502b64b8f9f71b15d8c9f48a7",
      "3eb599daf6964a2480f914a4bac4c47b",
      "41573858d8c44a6dadf07e6eca5a3ec5"
     ]
    },
    "id": "BRjHK3PjSd3H",
    "outputId": "f6443e5d-e745-480e-bb38-47d3377fb042"
   },
   "outputs": [],
   "source": [
    "supp_nd_F1_relocate_all_new_sr = []\n",
    "supp_nd_F2_relocate_all_new_sr = []\n",
    "center_brick = []\n",
    "X = []\n",
    "\n",
    "workload_balance_lower_bound = 0.8\n",
    "workload_balance_upper_bound = 1.2\n",
    "\n",
    "weights = np.linspace(0.0, 200.0, 100)\n",
    "\n",
    "for w in tqdm(weights):\n",
    "    model = gp.Model(\"pfizer\", env=env)\n",
    "    model.params.outputflag = 0\n",
    "\n",
    "    x = model.addMVar((num_sr, num_bricks), vtype=GRB.BINARY)\n",
    "\n",
    "    c = model.addMVar((num_sr, num_bricks), vtype=GRB.BINARY)\n",
    "    model.addConstrs((gp.quicksum(c[i][j] for j in range(num_bricks)) == 1 for i in range(num_sr)))\n",
    "\n",
    "    # model.addConstrs((\n",
    "    #     gp.quicksum(c[i][j] for i in range(num_sr)) <= 1\n",
    "    #     for j in range(num_bricks)\n",
    "    # ))\n",
    "\n",
    "    # Constraints\n",
    "    model = add_constraints(\n",
    "        model,\n",
    "        index_values,\n",
    "        x,\n",
    "        lb=workload_balance_lower_bound,\n",
    "        ub=workload_balance_upper_bound,\n",
    "        num_bricks=num_bricks,\n",
    "        num_sr=num_sr,\n",
    "    )\n",
    "\n",
    "    # minimize the weighted sum between the total distance and the disruption\n",
    "    f1f2 = gp.quicksum(\n",
    "        gp.quicksum(distances_between_bricks[j, :] * c[i]) * x[i][j]\n",
    "        for i in range(num_sr)\n",
    "        for j in range(num_bricks)\n",
    "    ) + w * gp.quicksum(\n",
    "        index_values[j]\n",
    "        * (x[i][j] - x_current_structure[i][j])\n",
    "        * (x[i][j] - x_current_structure[i][j])\n",
    "        / 2\n",
    "        for i in range(num_sr)\n",
    "        for j in range(num_bricks)\n",
    "    )\n",
    "\n",
    "    model.setObjective(f1f2, GRB.MINIMIZE)\n",
    "    model.update()\n",
    "    model.optimize()\n",
    "\n",
    "    f1 = sum(\n",
    "        sum(distances_between_bricks[j, :] * c.x[i]) * x.x[i][j]\n",
    "        for i in range(num_sr)\n",
    "        for j in range(num_bricks)\n",
    "    )\n",
    "\n",
    "    f2 = sum(\n",
    "        index_values[j]\n",
    "        * (x.x[i][j] - x_current_structure[i][j])\n",
    "        * (x.x[i][j] - x_current_structure[i][j])\n",
    "        / 2\n",
    "        for i in range(num_sr)\n",
    "        for j in range(num_bricks)\n",
    "    )\n",
    "\n",
    "    supp_nd_F1_relocate_all_new_sr.append(f1)\n",
    "    supp_nd_F2_relocate_all_new_sr.append(f2)"
   ]
  },
  {
   "cell_type": "code",
<<<<<<< HEAD
   "execution_count": null,
=======
   "execution_count": 57,
>>>>>>> 84445a50b93bf30ba36bc435057d46967fa87b93
   "metadata": {
    "colab": {
     "base_uri": "https://localhost:8080/",
     "height": 611
    },
    "id": "wHY2ETcAUhRr",
    "outputId": "6aa3a7c2-3a9c-434a-af45-ac9cef905434"
   },
<<<<<<< HEAD
   "outputs": [],
=======
   "outputs": [
    {
     "data": {
      "image/png": "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",
      "text/plain": [
       "<Figure size 700x700 with 1 Axes>"
      ]
     },
     "metadata": {},
     "output_type": "display_data"
    }
   ],
>>>>>>> 84445a50b93bf30ba36bc435057d46967fa87b93
   "source": [
    "with plt.style.context(\"science\"):\n",
    "    fig, ax = plt.subplots(1, 1, figsize=(7, 7))\n",
    "\n",
    "    ax.plot(\n",
    "        supp_nd_F2_relocate_all_new_sr,\n",
    "        supp_nd_F1_relocate_all_new_sr,\n",
    "        \"-o\",\n",
    "        label=\"Relocating Sales Representatives' Offices\",\n",
    "    )\n",
    "    ax.plot(\n",
    "        F2_weighted_no_partial_assignement,\n",
    "        F1_weighted_no_partial_assignement,\n",
    "        \"-o\",\n",
    "        label=\"Fixed center bricks\",\n",
    "    )\n",
    "\n",
    "    ax.set_xlabel(\"Disruption\")\n",
    "    ax.set_ylabel(\"Distance\")\n",
    "    ax.grid()\n",
    "    ax.legend(title=\"Supported non-dominated solution\")\n",
    "\n",
    "fig.savefig(f\"figures/center_brick_non_dominated.pdf\", dpi=500)\n",
    "plt.show()"
   ]
  },
  {
   "cell_type": "code",
   "execution_count": null,
   "metadata": {
    "id": "GIlxiEg6EIBn"
   },
   "outputs": [],
   "source": [
    "lb = 0.8\n",
    "ub = 1.2\n",
    "\n",
    "iv = index_values\n",
    "\n",
    "model = gp.Model(\"pfizer\")\n",
    "\n",
    "workload_balance_lower_bound = 0.8\n",
    "workload_balance_upper_bound = 1.2\n",
    "\n",
    "x = model.addMVar((num_sr, num_bricks), vtype=GRB.BINARY)\n",
    "\n",
    "c = model.addMVar((num_sr, num_bricks), vtype=GRB.BINARY)\n",
    "model.addConstrs((gp.quicksum(c[i][j] for j in range(num_bricks)) == 1 for i in range(num_sr)))\n",
    "\n",
    "model.addConstrs((gp.quicksum(c[i][j] for i in range(num_sr)) <= 1 for j in range(num_bricks)))\n",
    "\n",
    "\n",
    "# Constraints\n",
    "model = add_constraints(\n",
    "    model,\n",
    "    index_values,\n",
    "    x,\n",
    "    lb=workload_balance_lower_bound,\n",
    "    ub=workload_balance_upper_bound,\n",
    "    num_bricks=num_bricks,\n",
    "    num_sr=num_sr,\n",
    ")\n",
    "\n",
    "# Minimize the total distance\n",
    "model.setObjective(\n",
    "    gp.quicksum(\n",
    "        sum(distances_between_bricks[j, :] * c[i]) * x[i][j]\n",
    "        for i in range(num_sr)\n",
    "        for j in range(num_bricks)\n",
    "    ),\n",
    "    GRB.MINIMIZE,\n",
    ")\n",
    "\n",
    "model.update()\n",
    "model.optimize()"
   ]
  },
  {
   "cell_type": "code",
   "execution_count": null,
   "metadata": {
    "id": "Ugaw3SHKuvC2"
   },
   "outputs": [],
   "source": [
    "np.argmax(c.x, axis=1) + 1"
   ]
  },
  {
   "cell_type": "code",
<<<<<<< HEAD
   "execution_count": null,
=======
   "execution_count": 60,
>>>>>>> 84445a50b93bf30ba36bc435057d46967fa87b93
   "metadata": {
    "colab": {
     "base_uri": "https://localhost:8080/"
    },
    "id": "1J2qMERZumxG",
    "outputId": "a377fec5-6c07-4c27-bd21-6700104de03c"
   },
<<<<<<< HEAD
   "outputs": [],
=======
   "outputs": [
    {
     "name": "stdout",
     "output_type": "stream",
     "text": [
      "Structure of Sales Territories:\n",
      "SR1 (iv:1.007 - distance:136.220): [ 1  2  3 19 20 21 22]\n",
      "SR2 (iv:1.131 - distance:12.320): [10 11 15 16]\n",
      "SR3 (iv:0.834 - distance:72.160): [ 4  5  6  7  8  9 12]\n",
      "SR4 (iv:1.029 - distance:174.010): [13 14 17 18]\n",
      "Disruption: 3.4487000000000005\n",
      "Total distance: 394.71000000000004\n"
     ]
    },
    {
     "data": {
      "text/plain": [
       "(np.float64(3.4487000000000005), np.float64(394.71000000000004))"
      ]
     },
     "execution_count": 60,
     "metadata": {},
     "output_type": "execute_result"
    }
   ],
>>>>>>> 84445a50b93bf30ba36bc435057d46967fa87b93
   "source": [
    "get_report(x.x)"
   ]
  },
  {
   "cell_type": "code",
<<<<<<< HEAD
   "execution_count": null,
=======
   "execution_count": 61,
>>>>>>> 84445a50b93bf30ba36bc435057d46967fa87b93
   "metadata": {
    "colab": {
     "base_uri": "https://localhost:8080/"
    },
    "id": "xieRAEA3WjVg",
    "outputId": "2346d963-9a8d-42ea-b7a8-c0ebe80cbd2d"
   },
<<<<<<< HEAD
   "outputs": [],
=======
   "outputs": [
    {
     "data": {
      "text/plain": [
       "(np.float64(103.56395980541878),)"
      ]
     },
     "execution_count": 61,
     "metadata": {},
     "output_type": "execute_result"
    }
   ],
>>>>>>> 84445a50b93bf30ba36bc435057d46967fa87b93
   "source": [
    "(\n",
    "    sum(\n",
    "        sum(distances_between_bricks[j, :] * c.x[i]) * x.x[i][j]\n",
    "        for i in range(num_sr)\n",
    "        for j in range(num_bricks)\n",
    "    ),\n",
    ")"
   ]
  },
  {
   "cell_type": "markdown",
   "metadata": {
    "id": "fe0yOCgfMVdL"
   },
   "source": [
    "## Fix % and number of SRs. Find p1 and p2"
   ]
  },
  {
   "cell_type": "code",
   "execution_count": null,
   "metadata": {
    "colab": {
     "base_uri": "https://localhost:8080/"
    },
    "id": "2oNEBuK4MbUw",
    "outputId": "27f92d89-e84c-4e98-aa6e-66f3570ae03e"
   },
   "outputs": [],
   "source": [
    "lb = 0.8\n",
    "ub = 1.2\n",
    "\n",
    "k = 0\n",
    "sr = num_sr + k\n",
    "iv = index_values + index_values * 0.3\n",
    "\n",
    "model = gp.Model(\"pfizer\", env=env)\n",
    "\n",
    "workload_balance_lower_bound = model.addMVar((1,), vtype=GRB.CONTINUOUS, lb=0.8)\n",
    "workload_balance_upper_bound = model.addMVar((1,), vtype=GRB.CONTINUOUS)\n",
    "\n",
    "x = model.addMVar((sr, num_bricks), vtype=GRB.BINARY)\n",
    "\n",
    "# c = model.addMVar((k, num_bricks), vtype=GRB.BINARY)\n",
    "# model.addConstrs((\n",
    "#     gp.quicksum(c[i][j] for j in range(num_bricks)) == 1\n",
    "#     for i in range(k)\n",
    "# ))\n",
    "\n",
    "\n",
    "# Constraints\n",
    "model = add_constraints(\n",
    "    model,\n",
    "    iv,\n",
    "    x,\n",
    "    lb=workload_balance_lower_bound,\n",
    "    ub=workload_balance_upper_bound,\n",
    "    num_bricks=num_bricks,\n",
    "    num_sr=sr,\n",
    ")\n",
    "\n",
    "# Minimize the total distance\n",
    "model.setObjective(\n",
    "    gp.quicksum(distances[i][j] * x[i][j] for i in range(num_sr) for j in range(num_bricks)),\n",
    "    GRB.MINIMIZE,\n",
    ")\n",
    "\n",
    "model.update()\n",
    "model.optimize()\n",
    "\n",
    "print(k, model.status)\n",
    "# if model.status == 3:\n",
    "#     print(f\"{k} don't work\")\n",
    "#     break"
   ]
  },
  {
   "cell_type": "code",
<<<<<<< HEAD
   "execution_count": null,
=======
   "execution_count": 63,
>>>>>>> 84445a50b93bf30ba36bc435057d46967fa87b93
   "metadata": {
    "colab": {
     "base_uri": "https://localhost:8080/"
    },
    "id": "yLfiqsiWM2ts",
    "outputId": "86078f24-e624-4ca1-aa48-6add0914d3c6"
   },
<<<<<<< HEAD
   "outputs": [],
=======
   "outputs": [
    {
     "data": {
      "text/plain": [
       "(array([0.8]), array([2.]))"
      ]
     },
     "execution_count": 63,
     "metadata": {},
     "output_type": "execute_result"
    }
   ],
>>>>>>> 84445a50b93bf30ba36bc435057d46967fa87b93
   "source": [
    "workload_balance_lower_bound.x, workload_balance_upper_bound.x"
   ]
  },
  {
   "cell_type": "markdown",
   "metadata": {
    "id": "hhmrXpsSQSWk"
   },
   "source": [
    "# Preference Learning"
   ]
  },
  {
   "cell_type": "markdown",
   "metadata": {
    "id": "OuooEDc8kzoV"
   },
   "source": [
    "## Preference in term of assignement of SRs"
   ]
  },
  {
   "cell_type": "code",
   "execution_count": null,
   "metadata": {
    "id": "RcgZsxXvktie"
   },
   "outputs": [],
   "source": [
    "weight_list = []\n",
    "dist_list = []\n",
    "disruption_list = []\n",
    "weights = np.arange(0, 4, 0.01)\n",
    "# weights = np.linspace(0,100,500)\n",
    "num_sr = 4\n",
    "num_bricks = 22\n",
    "workload_balance_lower_bound = 0.8\n",
    "workload_balance_upper_bound = 1.2\n",
    "pref1 = pd.read_csv(\"/content/preferences1.csv\")\n",
    "pref1 = np.array(pref1)\n",
    "pref = pref1\n",
    "for weight in weights:\n",
    "    model = gp.Model(\"pfizer\")\n",
    "    model.params.outputflag = 0\n",
    "    x = model.addMVar((num_sr, num_bricks), vtype=GRB.BINARY)\n",
    "    # model = add_constraints(model, index_values, x, lb=workload_balance_lower_bound, ub=workload_balance_upper_bound, num_bricks=num_bricks, num_sr=num_sr)\n",
    "    # obj = gp.quicksum(distances[i][j]*x[i][j] + weight*x[i][j]*pref[j][i] for i in range(num_sr) for j in range(num_bricks))\n",
    "\n",
    "    model.setObjective(\n",
    "        gp.quicksum(\n",
    "            distances[i][j] * x[i][j] + weight * x[i][j] * pref[j][i]\n",
    "            for i in range(num_sr)\n",
    "            for j in range(num_bricks)\n",
    "        ),\n",
    "        GRB.MINIMIZE,\n",
    "    )\n",
    "    model.update()\n",
    "    model.optimize()\n",
    "    # print(model.status)\n",
    "    if model.status == 2:\n",
    "        weight_list.append(weight)\n",
    "        dist = sum(distances[i][j] * x.x[i][j] for i in range(num_sr) for j in range(num_bricks))\n",
    "        dispution = sum(\n",
    "            index_values[j]\n",
    "            * (x.x[i][j] - x_current_structure[i][j])\n",
    "            * (x.x[i][j] - x_current_structure[i][j])\n",
    "            / 2\n",
    "            for i in range(num_sr)\n",
    "            for j in range(num_bricks)\n",
    "        )\n",
    "        dist_list.append(dist)\n",
    "        disruption_list.append(dispution)"
   ]
  },
  {
   "cell_type": "code",
   "execution_count": null,
   "metadata": {
    "id": "lwnpSF9EpJw_"
   },
   "outputs": [],
   "source": [
    "with plt.style.context(\"science\"):\n",
    "    fig, ax = plt.subplots(1, 1, figsize=(7, 7))\n",
    "\n",
    "    ax.plot(weights, dist_list, \"-o\", label=\"Relocating Sales Representatives' Offices\")\n",
    "    # ax.plot(F2_weighted_no_partial_assignement, F1_weighted_no_partial_assignement, \"-o\", label=\"Fixed center bricks\")\n",
    "\n",
    "    ax.set_xlabel(\"Weights\")\n",
    "    ax.set_ylabel(\"Distance\")\n",
    "    ax.grid()\n",
    "\n",
    "fig.savefig(f\"figures/weights_and_distances.pdf\", dpi=500)\n",
    "plt.show()"
   ]
  },
  {
   "cell_type": "markdown",
   "metadata": {
    "id": "2yR3FhdTku-Z"
   },
   "source": [
    "## Preference in terme of solution"
   ]
  },
  {
   "cell_type": "code",
   "execution_count": null,
   "metadata": {
    "id": "PXNQrMcSeiLM"
   },
   "outputs": [],
   "source": [
    "from gurobipy import *\n",
    "\n",
    "\n",
    "def rank(list_alternatives, partial_ranking, L):\n",
    "    nb_alternatives = len(partial_ranking)\n",
    "    nb_criteria = len(partial_ranking[0])\n",
    "\n",
    "    epsilon = 0.001\n",
    "\n",
    "    min_criterion = [np.min(list_alternatives[:, i]) for i in range(nb_criteria)]\n",
    "    max_criterion = [np.max(list_alternatives[:, i]) for i in range(nb_criteria)]\n",
    "\n",
    "    values = []\n",
    "    for i in range(nb_criteria):\n",
    "        values_criterion = []\n",
    "        for j in range(L + 1):\n",
    "            values_criterion.append(\n",
    "                min_criterion[i] + j * (max_criterion[i] - min_criterion[i]) / L\n",
    "            )\n",
    "        values.append(values_criterion)\n",
    "\n",
    "    m = Model(\"TD8-Ex2\")\n",
    "\n",
    "    # Variables de bruit :\n",
    "    noise_pos = {\n",
    "        i: m.addVar(vtype=GRB.CONTINUOUS, lb=0, name=f\"noise-pos_{i}\")\n",
    "        for i in range(nb_alternatives)\n",
    "    }\n",
    "    noise_neg = {\n",
    "        i: m.addVar(vtype=GRB.CONTINUOUS, lb=0, name=f\"noise-neg_{i}\")\n",
    "        for i in range(nb_alternatives)\n",
    "    }\n",
    "\n",
    "    # Variables de découpage linéaire sur la fonction de valeur des critères\n",
    "    s = {\n",
    "        (i, j): m.addVar(vtype=GRB.CONTINUOUS, name=f\"s_{i}_{j}\")\n",
    "        for j in range(L + 1)\n",
    "        for i in range(nb_criteria)\n",
    "    }\n",
    "\n",
    "    # estimated value of the evaluation of the alternatives\n",
    "    estimate = {\n",
    "        (i, j): m.addVar(vtype=GRB.CONTINUOUS, name=f\"estimate_{i}_{j}\")\n",
    "        for j in range(nb_criteria)\n",
    "        for i in range(nb_alternatives)\n",
    "    }\n",
    "\n",
    "    # Contraintes de normalisation\n",
    "    lower_bound = {\n",
    "        i: m.addConstr(s[i, 0] == 0, name=\"lower_bound_normalization\") for i in range(nb_criteria)\n",
    "    }\n",
    "    sum_to_one = m.addConstr(\n",
    "        (quicksum(s[i, L] for i in range(nb_criteria))) == 1, name=\"sum_to_one\"\n",
    "    )\n",
    "\n",
    "    # Contraintes de monotonie\n",
    "    monotonicity = {\n",
    "        i: {k: m.addConstr(s[i, k + 1] >= s[i, k], name=\"monotonicity\") for k in range(L)}\n",
    "        for i in range(nb_criteria)\n",
    "    }\n",
    "\n",
    "    # Contraintes de préférences\n",
    "    for i in range(nb_alternatives):\n",
    "        for j in range(nb_criteria):\n",
    "            for k in range(L):\n",
    "                if values[j][k] <= partial_ranking[i][j] <= values[j][k + 1]:\n",
    "                    m.addConstr(\n",
    "                        estimate[i, j]\n",
    "                        == s[j, k]\n",
    "                        + (\n",
    "                            (partial_ranking[i][j] - values[j][k])\n",
    "                            / (values[j][k + 1] - values[j][k])\n",
    "                        )\n",
    "                        * (s[j, k + 1] - s[j, k]),\n",
    "                        name=f\"estimate_{i}_{j}\",\n",
    "                    )\n",
    "    pref = {\n",
    "        i: m.addConstr(\n",
    "            quicksum([estimate[(i, j)] for j in range(nb_criteria)])\n",
    "            - quicksum(\n",
    "                [\n",
    "                    estimate[(l, j)]\n",
    "                    for j in range(nb_criteria)\n",
    "                    for l in range(nb_alternatives)\n",
    "                    if l == i + 1\n",
    "                ]\n",
    "            )\n",
    "            - noise_pos[i]\n",
    "            + noise_neg[i]\n",
    "            >= -noise_pos[i + 1] + noise_neg[i + 1] + epsilon\n",
    "        )\n",
    "        for i in range(nb_alternatives - 1)\n",
    "    }\n",
    "\n",
    "    # Fonction objectif\n",
    "    m.setObjective(sum(noise_pos[i] + noise_neg[i] for i in range(nb_alternatives)), GRB.MINIMIZE)\n",
    "\n",
    "    m.update()\n",
    "    # print(m.display())\n",
    "\n",
    "    # -- Choix d'un paramétrage d'affichage minimaliste --\n",
    "    m.params.outputflag = 0  # mode muet\n",
    "\n",
    "    # -- Résolution --\n",
    "    m.optimize()\n",
    "\n",
    "    # -- Vérification du statut et Affichage (le cas échéant) des solutions --\n",
    "    if m.status == GRB.INF_OR_UNBD:\n",
    "        m.setParam(GRB.Param.Presolve, 0)\n",
    "        m.optimize()\n",
    "\n",
    "    if m.status == GRB.INFEASIBLE:\n",
    "        print(m.display(), \"\\n\\tN'A PAS DE SOLUTION!!!\")\n",
    "        return None\n",
    "    elif m.status == GRB.UNBOUNDED:\n",
    "        print(m.display(), \"\\n\\tEST NON BORNÉ!!!\")\n",
    "        return None\n",
    "    else:\n",
    "        # Affichage des fonctions linéaires par morceaux :\n",
    "        # print(m.objVal)\n",
    "        # print()\n",
    "        # for i in range(nb_criteria):\n",
    "        #    for j in range(L):\n",
    "        #        print(s[i,j].x, end = \" \")\n",
    "        #    print(s[i,L].x)\n",
    "        # print()\n",
    "\n",
    "        final_evaluations = np.zeros(len(list_alternatives))\n",
    "        for i in range(len(list_alternatives)):\n",
    "            eval = 0\n",
    "            for j in range(nb_criteria):\n",
    "                eval_criterion = 0\n",
    "                for k in range(L):\n",
    "                    if values[j][k] <= list_alternatives[i][j] <= values[j][k + 1]:\n",
    "                        eval_criterion = s[j, k].x + (list_alternatives[i][j] - values[j][k]) / (\n",
    "                            values[j][k + 1] - values[j][k]\n",
    "                        ) * (s[j, k + 1].x - s[j, k].x)\n",
    "                eval = eval + eval_criterion\n",
    "            final_evaluations[i] = eval\n",
    "            # print(eval)\n",
    "\n",
    "        # Tri (et affichage) des tuples décrivant les évaluations des alternatives sur les différents critères en fonction de la fonction d'utilité linéaire par morceaux déduite\n",
    "        # zipped_lists = zip(final_evaluations,list_alternatives)\n",
    "        # sorted_zipped_lists = sorted(zipped_lists, key=lambda x: x[0], reverse=True)\n",
    "        # sorted_alternatives = [element for _, element in sorted_zipped_lists]\n",
    "        # print(sorted_alternatives)\n",
    "\n",
    "        # Output : l'ordre de préférence déduit sur les alternatives (les alternatives sont représentées par leur indice dans le tableau de départ)\n",
    "        return sorted(\n",
    "            range(len(final_evaluations)),\n",
    "            key=lambda k: final_evaluations[k],\n",
    "            reverse=True,\n",
    "        )\n",
    "\n",
    "\n",
    "# print(\"Le nouveau classement des universités est le suivant : \",rank(new_universities,reference_universities,4))\n",
    "# print(\"Le nouveau classement des voitures est le suivant : \",rank(new_cars,reference_cars,4))"
   ]
  },
  {
   "cell_type": "code",
   "execution_count": null,
   "metadata": {
    "id": "FXYLadxxCup5"
   },
   "outputs": [],
   "source": [
    "with plt.style.context(\"science\"):\n",
    "    fig, ax = plt.subplots(1, 1, figsize=(7, 7))\n",
    "\n",
    "    ax.scatter(\n",
    "        F2_weighted_no_partial_assignement,\n",
    "        F1_weighted_no_partial_assignement,\n",
    "        c=\"b\",\n",
    "        label=\"\",\n",
    "    )\n",
    "    ax.scatter(\n",
    "        F2_epsilon_method_no_partial_assignement,\n",
    "        F1_epsilon_method_no_partial_assignement,\n",
    "        c=\"b\",\n",
    "        label=\"\",\n",
    "    )\n",
    "\n",
    "    # for i, (a, b) in enumerate(zip(F2_epsilon_method_no_partial_assignement, F1_epsilon_method_no_partial_assignement)):\n",
    "    #     ax.text(a+1e-2, b+5e-1, i, size=15)\n",
    "\n",
    "    # plt.scatter(0.4996, 166.47, c=\"r\")\n",
    "\n",
    "    plt.scatter(A[:, 0], A[:, 1], c=\"r\")\n",
    "    for i, (a, b) in enumerate(zip(A[:, 0], A[:, 1])):\n",
    "        ax.text(a + 1e-2, b + 5e-1, i + 1, size=15)\n",
    "\n",
    "    ax.set_xlabel(\"Disruption\")\n",
    "    ax.set_ylabel(\"Distance\")\n",
    "    ax.grid()\n",
    "    # ax.legend()\n",
    "\n",
    "fig.savefig(f\"figures/preference_2.pdf\", dpi=500)\n",
    "plt.show()"
   ]
  },
  {
   "cell_type": "code",
   "execution_count": null,
   "metadata": {
    "id": "RJ4ThNsTkpJV"
   },
   "outputs": [],
   "source": []
  }
 ],
 "metadata": {
  "colab": {
   "provenance": []
  },
  "kernelspec": {
   "display_name": "Python 3 (ipykernel)",
   "language": "python",
   "name": "python3"
  },
  "language_info": {
   "codemirror_mode": {
    "name": "ipython",
    "version": 3
   },
   "file_extension": ".py",
   "mimetype": "text/x-python",
   "name": "python",
   "nbconvert_exporter": "python",
   "pygments_lexer": "ipython3",
   "version": "3.13.2"
  },
<<<<<<< HEAD
  "widgets": {
   "application/vnd.jupyter.widget-state+json": {
    "state": {},
    "version_major": 2,
    "version_minor": 0
   }
  }
=======
"widgets": {
"application/vnd.jupyter.widget-state+json": {
"state": {},
"version_major": 2,
"version_minor": 0
}
},
>>>>>>> 84445a50b93bf30ba36bc435057d46967fa87b93
 },
 "nbformat": 4,
 "nbformat_minor": 4
}
