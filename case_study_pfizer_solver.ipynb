{
 "cells": [
  {
   "cell_type": "code",
   "execution_count": null,
   "metadata": {
    "id": "cesGCjZjh1Q5"
   },
   "outputs": [],
   "source": [
    "%reset -f"
   ]
  },
  {
   "cell_type": "code",
   "execution_count": null,
   "metadata": {
    "colab": {
     "base_uri": "https://localhost:8080/"
    },
    "id": "2pwpiYG6YF2y",
    "outputId": "32029141-6e2e-4977-a39b-469b6da60810"
   },
   "outputs": [],
   "source": [
    "!pip install --quiet gurobipy scienceplots latex\n",
    "!apt-get install texlive-latex-extra texlive-fonts-recommended dvipng cm-super"
   ]
  },
  {
   "cell_type": "code",
   "execution_count": null,
   "metadata": {
    "id": "XM18NBdHqCwD"
   },
   "outputs": [],
   "source": [
    "import scienceplots\n",
    "\n",
    "import gurobipy as gp\n",
    "from gurobipy import GRB\n",
    "\n",
    "import matplotlib.pyplot as plt\n",
    "import pandas as pd\n",
    "import numpy as np\n",
    "import math\n",
    "import itertools\n",
    "from tqdm.notebook import tqdm\n",
    "\n",
    "import os\n",
    "\n",
    "os.makedirs(\"figures/\", exist_ok=True)"
   ]
  },
  {
   "cell_type": "code",
   "execution_count": null,
   "metadata": {
    "colab": {
     "base_uri": "https://localhost:8080/"
    },
    "id": "ZBA49bSlgH0-",
    "outputId": "0bd28ff7-cfb9-4d1a-f497-3ad23a355ec6"
   },
   "outputs": [],
   "source": [
    "params = {\n",
    "    \"WLSACCESSID\": os.environ[\"WLSACCESSID\"],\n",
    "    \"WLSSECRET\": os.environ[\"WLSSECRET\"],\n",
    "    \"LICENSEID\": os.environ[\"LICENSEID\"],\n",
    "}\n",
    "\n",
    "env = gp.Env(params=params)"
   ]
  },
  {
   "cell_type": "code",
   "execution_count": null,
   "metadata": {
    "id": "PG2FWqdXKa3N"
   },
   "outputs": [],
   "source": [
    "def convert_dict_to_binary_matrix(d):\n",
    "    df = pd.concat([pd.Series(v, name=k).astype(str) for k, v in d.items()], axis=1)\n",
    "    df = pd.get_dummies(df.stack()).groupby(level=1).sum().clip(upper=1)\n",
    "    df.columns = [int(c) for c in df.columns]\n",
    "    df = df.reindex(sorted(df.columns), axis=1)\n",
    "    return df.values\n",
    "\n",
    "\n",
    "def get_report(assignments):\n",
    "    \"\"\"This function takes the best optimal solution found by Gurobi\n",
    "    and generate a `smallish` report as to ease reading the results.\n",
    "    \"\"\"\n",
    "    t = assignments.argmax(axis=0) + 1\n",
    "\n",
    "    solution = {}\n",
    "    bricks = np.arange(1, num_bricks + 1)\n",
    "    for i in range(1, 4 + 1):\n",
    "        indices = np.nonzero(t == i)\n",
    "        solution[i] = (\n",
    "            distances[i - 1, indices].sum(),\n",
    "            index_values[indices].sum(),\n",
    "            bricks[indices],\n",
    "        )\n",
    "\n",
    "    print(\"Structure of Sales Territories:\")\n",
    "    for k, v in solution.items():\n",
    "        distance_per_sr, index_value_per_sr, assigned_bricks = v\n",
    "        print(\n",
    "            f\"SR{k} (iv:{index_value_per_sr:.3f} - distance:{distance_per_sr:.3f}):\",\n",
    "            assigned_bricks,\n",
    "        )\n",
    "\n",
    "    total_distance = np.sum(distances * assignments)\n",
    "    disruption = np.sum((assignments - x_current_structure) ** 2 * index_values / 2)\n",
    "\n",
    "    print(\"Disruption:\", disruption)\n",
    "    print(\"Total distance:\", total_distance)\n",
    "    return disruption, total_distance"
   ]
  },
  {
   "cell_type": "markdown",
   "metadata": {
    "id": "T8pL4wT9VI3J"
   },
   "source": [
    "# Parameters"
   ]
  },
  {
   "cell_type": "code",
   "execution_count": null,
   "metadata": {
    "id": "hkyxkNQuKFLR"
   },
   "outputs": [],
   "source": [
    "current_structure_of_sales_territories = {\n",
    "    1: [4, 5, 6, 7, 8, 15],\n",
    "    2: [10, 11, 12, 13, 14],\n",
    "    3: [9, 16, 17, 18],\n",
    "    4: [1, 2, 3, 19, 20, 21, 22],\n",
    "}\n",
    "\n",
    "x_current_structure = convert_dict_to_binary_matrix(current_structure_of_sales_territories)"
   ]
  },
  {
   "cell_type": "code",
   "execution_count": null,
   "metadata": {
    "id": "jxzZCJt_5g2H"
   },
   "outputs": [],
   "source": [
    "distances_df = pd.read_excel(\"/content/distances.xlsx\", index_col=1, header=1)\n",
    "distances_df.dropna(inplace=True, axis=1)\n",
    "distances = distances_df.values.T\n",
    "\n",
    "distances_between_bricks_df = pd.read_excel(\n",
    "    \"/content/distances.xlsx\", index_col=1, header=1, sheet_name=1\n",
    ")\n",
    "distances_between_bricks_df.dropna(inplace=True, axis=1)\n",
    "distances_between_bricks = distances_between_bricks_df.values\n",
    "\n",
    "index_values_df = pd.read_excel(\n",
    "    \"/content/indexValues.xlsx\",\n",
    "    header=None,\n",
    "    names=[\"brick\", \"index_value\"],\n",
    "    index_col=0,\n",
    ")\n",
    "index_values = index_values_df.values.squeeze(1)"
   ]
  },
  {
   "cell_type": "code",
   "execution_count": null,
   "metadata": {
    "colab": {
     "base_uri": "https://localhost:8080/"
    },
    "id": "MKbdyP0V-UZY",
    "outputId": "1a051972-77e7-4561-9f31-5b2762b4ac7f"
   },
   "outputs": [],
   "source": [
    "num_bricks = distances_df.shape[0]\n",
    "num_sr = distances_df.shape[1]\n",
    "\n",
    "print(\"Number of bricks:\", num_bricks)\n",
    "print(\"Number of sales representatives:\", num_sr)"
   ]
  },
  {
   "cell_type": "code",
   "execution_count": null,
   "metadata": {
    "id": "fkb43DXU6vwF"
   },
   "outputs": [],
   "source": [
    "results = {\n",
    "    \"disruption\": [],\n",
    "    \"total_distance\": [],\n",
    "}"
   ]
  },
  {
   "cell_type": "code",
   "execution_count": null,
   "metadata": {
    "colab": {
     "base_uri": "https://localhost:8080/"
    },
    "id": "91Kiqc7U3h5G",
    "outputId": "e07280dc-9db5-403f-f983-b1fe8dfad723"
   },
   "outputs": [],
   "source": [
    "# current structure\n",
    "disruption, total_distance = get_report(assignments=x_current_structure)\n",
    "\n",
    "results[\"disruption\"].append(disruption)\n",
    "results[\"total_distance\"].append(total_distance)"
   ]
  },
  {
   "cell_type": "markdown",
   "metadata": {
    "id": "-o3YTT2aU80h"
   },
   "source": [
    "# Mathematical Formulation"
   ]
  },
  {
   "cell_type": "code",
   "execution_count": null,
   "metadata": {
    "id": "POcIx8djU8b7"
   },
   "outputs": [],
   "source": [
    "def add_workload_balance_constraint(model, index_values, x, lb, ub, num_bricks, num_sr):\n",
    "    model.addConstrs(\n",
    "        (\n",
    "            lb <= gp.quicksum(index_values[j] * x[i][j] for j in range(num_bricks))\n",
    "            for i in range(num_sr)\n",
    "        ),\n",
    "        name=\"left_workload_balance\",\n",
    "    )\n",
    "\n",
    "    model.addConstrs(\n",
    "        (\n",
    "            gp.quicksum(index_values[j] * x[i][j] for j in range(num_bricks)) <= ub\n",
    "            for i in range(num_sr)\n",
    "        ),\n",
    "        name=\"right_workload_balance\",\n",
    "    )\n",
    "\n",
    "    return model\n",
    "\n",
    "\n",
    "def add_no_partial_assignment_cosntraint(model, x, num_bricks, num_sr):\n",
    "    model.addConstrs(\n",
    "        (gp.quicksum(x[i][j] for i in range(num_sr)) == 1 for j in range(num_bricks)),\n",
    "        name=\"no_partial_assignments\",\n",
    "    )\n",
    "\n",
    "    return model\n",
    "\n",
    "\n",
    "def add_constraints(model, index_values, x, lb, ub, num_bricks, num_sr):\n",
    "    model.update()\n",
    "    model = add_workload_balance_constraint(model, index_values, x, lb, ub, num_bricks, num_sr)\n",
    "    model = add_no_partial_assignment_cosntraint(model, x, num_bricks, num_sr)\n",
    "    return model"
   ]
  },
  {
   "cell_type": "code",
   "execution_count": null,
   "metadata": {
    "editable": true,
    "id": "AXfXHf60qInX",
    "slideshow": {
     "slide_type": ""
    },
    "tags": []
   },
   "outputs": [],
   "source": [
    "def get_ideal_nadir_point(\n",
    "    workload_balance_lower_bound: float,\n",
    "    workload_balance_upper_bound: float,\n",
    "):\n",
    "    model = gp.Model(\"pfizer\")\n",
    "    model.params.outputflag = 0\n",
    "\n",
    "    # Decision variables\n",
    "    x = model.addMVar((num_sr, num_bricks), vtype=GRB.BINARY)\n",
    "\n",
    "    # Add constraints\n",
    "    model = add_constraints(\n",
    "        model,\n",
    "        index_values,\n",
    "        x,\n",
    "        lb=workload_balance_lower_bound,\n",
    "        ub=workload_balance_upper_bound,\n",
    "        num_bricks=num_bricks,\n",
    "        num_sr=num_sr,\n",
    "    )\n",
    "\n",
    "    # Minimize the total distance\n",
    "    model.setObjective(\n",
    "        gp.quicksum(distances[i][j] * x[i][j] for i in range(num_sr) for j in range(num_bricks)),\n",
    "        GRB.MINIMIZE,\n",
    "    )\n",
    "\n",
    "    model.update()\n",
    "    model.optimize()\n",
    "    max_disruption, max_total_distance = get_report(assignments=x.x)\n",
    "    min_disruption, min_total_distance = get_report(assignments=x.x)\n",
    "\n",
    "    model = gp.Model(\"pfizer\")\n",
    "    model.params.outputflag = 0\n",
    "\n",
    "    # Decision variables\n",
    "    x = model.addMVar((num_sr, num_bricks), vtype=GRB.BINARY)\n",
    "\n",
    "    # Add constraints\n",
    "    model = add_constraints(\n",
    "        model,\n",
    "        index_values,\n",
    "        x,\n",
    "        lb=workload_balance_lower_bound,\n",
    "        ub=workload_balance_upper_bound,\n",
    "        num_bricks=num_bricks,\n",
    "        num_sr=num_sr,\n",
    "    )\n",
    "\n",
    "    # Minimize the total disruption between SRs\n",
    "    model.setObjective(\n",
    "        gp.quicksum(\n",
    "            index_values[j]\n",
    "            * (x[i][j] - x_current_structure[i][j])\n",
    "            * (x[i][j] - x_current_structure[i][j])\n",
    "            / 2\n",
    "            for i in range(num_sr)\n",
    "            for j in range(num_bricks)\n",
    "        ),\n",
    "        GRB.MINIMIZE,\n",
    "    )\n",
    "\n",
    "    model.update()\n",
    "    model.optimize()\n",
    "    disruption, total_distance = get_report(assignments=x.x)\n",
    "\n",
    "    min_disruption = min(min_disruption, disruption)\n",
    "    min_total_distance = min(min_total_distance, total_distance)\n",
    "\n",
    "    max_disruption = max(max_disruption, disruption)\n",
    "    max_total_distance = max(max_total_distance, total_distance)\n",
    "\n",
    "    return min_disruption, min_total_distance, max_disruption, max_total_distance"
   ]
  },
  {
   "cell_type": "markdown",
   "metadata": {
    "id": "XH1iRCZa1pOv"
   },
   "source": [
    "# Mono-objective problem"
   ]
  },
  {
   "cell_type": "markdown",
   "metadata": {
    "id": "zrrqts-q1Uyi"
   },
   "source": [
    "## Minimize the totale distance"
   ]
  },
  {
   "cell_type": "code",
   "execution_count": null,
   "metadata": {
    "id": "DxqydbYSXuW6"
   },
   "outputs": [],
   "source": [
    "lb = 0.8\n",
    "ub = 1.2"
   ]
  },
  {
   "cell_type": "code",
   "execution_count": null,
   "metadata": {
    "colab": {
     "base_uri": "https://localhost:8080/"
    },
    "id": "lArQuNwQ1bSy",
    "outputId": "aa07a093-ca32-4faa-cb0b-8e2f04f3caed"
   },
   "outputs": [],
   "source": [
    "model = gp.Model(\"pfizer\")\n",
    "\n",
    "# Decision variables\n",
    "x = model.addMVar((num_sr, num_bricks), vtype=GRB.BINARY)\n",
    "\n",
    "# Add constraints\n",
    "model = add_constraints(model, index_values, x, lb=lb, ub=ub, num_bricks=num_bricks, num_sr=num_sr)\n",
    "\n",
    "# Minimize the total distance\n",
    "model.setObjective(\n",
    "    gp.quicksum(distances[i][j] * x[i][j] for i in range(num_sr) for j in range(num_bricks)),\n",
    "    GRB.MINIMIZE,\n",
    ")\n",
    "\n",
    "model.update()\n",
    "model.optimize()"
   ]
  },
  {
   "cell_type": "code",
   "execution_count": null,
   "metadata": {
    "colab": {
     "base_uri": "https://localhost:8080/"
    },
    "id": "OnkU3D7-2a7D",
    "outputId": "e84c0b2b-8068-4348-a424-f437b700a7fd"
   },
   "outputs": [],
   "source": [
    "disruption, total_distance = get_report(assignments=x.x)\n",
    "\n",
    "results[\"disruption\"].append(disruption)\n",
    "results[\"total_distance\"].append(total_distance)"
   ]
  },
  {
   "cell_type": "markdown",
   "metadata": {
    "id": "BraG-_oQ1dC_"
   },
   "source": [
    "## Minimize the total disruption between SRs"
   ]
  },
  {
   "cell_type": "code",
   "execution_count": null,
   "metadata": {
    "colab": {
     "base_uri": "https://localhost:8080/"
    },
    "id": "rfxMiNFb2nrj",
    "outputId": "8d7e125e-537d-4e64-eea4-7cb2ec730007"
   },
   "outputs": [],
   "source": [
    "model = gp.Model(\"pfizer\")\n",
    "\n",
    "# Decision variables\n",
    "x = model.addMVar((num_sr, num_bricks), vtype=GRB.BINARY)\n",
    "\n",
    "# Add constraints\n",
    "model = add_constraints(\n",
    "    model, index_values, x, lb=0.8, ub=1.2, num_bricks=num_bricks, num_sr=num_sr\n",
    ")\n",
    "\n",
    "# Minimize the total disruption between SRs\n",
    "model.setObjective(\n",
    "    gp.quicksum(\n",
    "        index_values[j]\n",
    "        * (x[i][j] - x_current_structure[i][j])\n",
    "        * (x[i][j] - x_current_structure[i][j])\n",
    "        / 2\n",
    "        for i in range(num_sr)\n",
    "        for j in range(num_bricks)\n",
    "    ),\n",
    "    GRB.MINIMIZE,\n",
    ")\n",
    "\n",
    "model.update()\n",
    "model.optimize()"
   ]
  },
  {
   "cell_type": "code",
   "execution_count": null,
   "metadata": {
    "colab": {
     "base_uri": "https://localhost:8080/"
    },
    "id": "FqF12Hyu1ZII",
    "outputId": "c1519d6f-fb8d-43cd-febd-30cf6c00a7b6"
   },
   "outputs": [],
   "source": [
    "disruption, total_distance = get_report(assignments=x.x)\n",
    "\n",
    "results[\"disruption\"].append(disruption)\n",
    "results[\"total_distance\"].append(total_distance)"
   ]
  },
  {
   "cell_type": "code",
   "execution_count": null,
   "metadata": {
    "colab": {
     "base_uri": "https://localhost:8080/",
     "height": 143
    },
    "id": "JypPQWM-5KCk",
    "outputId": "0215ce54-2af6-4745-aecc-40374fdde163"
   },
   "outputs": [],
   "source": [
    "df = pd.DataFrame(\n",
    "    results,\n",
    "    index=[\n",
    "        \"Current structure\",\n",
    "        \"Minimizing the total distance\",\n",
    "        \"Minimizing the total disruption\",\n",
    "    ],\n",
    ")\n",
    "\n",
    "df.rename(\n",
    "    columns={\n",
    "        \"disruption\": \"Disruption\",\n",
    "        \"total_distance\": \"Total distance\",\n",
    "    },\n",
    "    inplace=True,\n",
    ")\n",
    "\n",
    "df"
   ]
  },
  {
   "cell_type": "code",
   "execution_count": null,
   "metadata": {
    "colab": {
     "base_uri": "https://localhost:8080/",
     "height": 475
    },
    "id": "cltpAcJD79jw",
    "outputId": "29c3f197-992c-4de0-a865-1b77d55f3563"
   },
   "outputs": [],
   "source": [
    "fig, axes = plt.subplots(1, 2, figsize=(15, 5))\n",
    "df.T.iloc[[0], :].plot(kind=\"bar\", ax=axes[0], legend=False, grid=True, rot=0)\n",
    "df.T.iloc[[1], :].plot(kind=\"bar\", ax=axes[1], legend=False, grid=True, rot=0)\n",
    "\n",
    "lines, labels = fig.axes[0].get_legend_handles_labels()\n",
    "fig.legend(lines, labels, loc=\"upper center\", ncol=3)"
   ]
  },
  {
   "cell_type": "markdown",
   "metadata": {
    "id": "KitvkGXC1uSl"
   },
   "source": [
    "# Multi-objective problem"
   ]
  },
  {
   "cell_type": "markdown",
   "metadata": {
    "id": "UHzZC4fQoY-N"
   },
   "source": [
    "## The $\\varepsilon$ - constraint method"
   ]
  },
  {
   "cell_type": "code",
   "execution_count": null,
   "metadata": {
    "id": "I3PXu4Z7d3dx"
   },
   "outputs": [],
   "source": [
    "def epsilon_constrain_method(\n",
    "    x_current_structure,\n",
    "    index_values,\n",
    "    error: float = 1e-3,\n",
    "    workload_balance_lower_bound: float = 0.8,\n",
    "    workload_balance_upper_bound: float = 1.2,\n",
    "):\n",
    "    F1, F2 = [], []\n",
    "    X = []\n",
    "\n",
    "    epsilon = math.inf\n",
    "\n",
    "    for i in tqdm(itertools.count(start=1)):\n",
    "        model = gp.Model(\"pfizer\", env=env)\n",
    "        model.params.outputflag = 0\n",
    "\n",
    "        # Decision variables\n",
    "        x = model.addMVar((num_sr, num_bricks), vtype=GRB.BINARY)\n",
    "\n",
    "        # Constraints\n",
    "        model = add_constraints(\n",
    "            model,\n",
    "            index_values,\n",
    "            x,\n",
    "            lb=workload_balance_lower_bound,\n",
    "            ub=workload_balance_upper_bound,\n",
    "            num_bricks=num_bricks,\n",
    "            num_sr=num_sr,\n",
    "        )\n",
    "\n",
    "        # The epsilon constraint\n",
    "        model.addConstr(\n",
    "            gp.quicksum(\n",
    "                index_values[j]\n",
    "                * (x[i][j] - x_current_structure[i][j])\n",
    "                * (x[i][j] - x_current_structure[i][j])\n",
    "                / 2\n",
    "                for i in range(num_sr)\n",
    "                for j in range(num_bricks)\n",
    "            )\n",
    "            <= epsilon,\n",
    "            name=\"disruption\",\n",
    "        )\n",
    "\n",
    "        # Minimize the total distance\n",
    "        model.setObjective(\n",
    "            gp.quicksum(\n",
    "                distances[i][j] * x[i][j] for i in range(num_sr) for j in range(num_bricks)\n",
    "            ),\n",
    "            GRB.MINIMIZE,\n",
    "        )\n",
    "\n",
    "        model.update()\n",
    "        model.optimize()\n",
    "\n",
    "        if model.status == 3:\n",
    "            print(\"Model was proven to be unbounded.\", \"No more non-dominated solutions.\")\n",
    "            break\n",
    "        else:\n",
    "            f1 = model.getObjective().getValue()\n",
    "            f2 = sum(\n",
    "                index_values[j] * (x.x[i][j] - x_current_structure[i][j]) ** 2 / 2\n",
    "                for i in range(num_sr)\n",
    "                for j in range(num_bricks)\n",
    "            )\n",
    "\n",
    "            F1.append(f1)\n",
    "            F2.append(f2)\n",
    "            X.append(x.x)\n",
    "\n",
    "            epsilon = f2 - error\n",
    "            print(f\"Iteration {i}: f1:{f1:.3f}, f2:{f2:.3f}\")\n",
    "\n",
    "    return F1, F2, X"
   ]
  },
  {
   "cell_type": "markdown",
   "metadata": {
    "id": "heITtLZXopyn"
   },
   "source": [
    "## The weighted sum"
   ]
  },
  {
   "cell_type": "code",
   "execution_count": null,
   "metadata": {
    "id": "ueaC43sHqG0e"
   },
   "outputs": [],
   "source": [
    "def weighted_sum_method(\n",
    "    x_current_structure,\n",
    "    index_values,\n",
    "    weights,\n",
    "    workload_balance_lower_bound: float = 0.8,\n",
    "    workload_balance_upper_bound: float = 1.2,\n",
    "):\n",
    "    F1, F2 = [], []\n",
    "    X = []\n",
    "\n",
    "    for w in tqdm(weights):\n",
    "        model = gp.Model(\"pfizer\", env=env)\n",
    "        model.params.outputflag = 0\n",
    "\n",
    "        # decision variables\n",
    "        x = model.addMVar((num_sr, num_bricks), vtype=GRB.BINARY)\n",
    "\n",
    "        # Constraints\n",
    "        model = add_constraints(\n",
    "            model,\n",
    "            index_values,\n",
    "            x,\n",
    "            lb=workload_balance_lower_bound,\n",
    "            ub=workload_balance_upper_bound,\n",
    "            num_bricks=num_bricks,\n",
    "            num_sr=num_sr,\n",
    "        )\n",
    "\n",
    "        # minimize the weighted sum between the total distance and the disruption\n",
    "        f1f2 = gp.quicksum(\n",
    "            distances[i][j] * x[i][j]\n",
    "            + w\n",
    "            * index_values[j]\n",
    "            * (x[i][j] - x_current_structure[i][j])\n",
    "            * (x[i][j] - x_current_structure[i][j])\n",
    "            / 2\n",
    "            for i in range(num_sr)\n",
    "            for j in range(num_bricks)\n",
    "        )\n",
    "\n",
    "        model.setObjective(f1f2, GRB.MINIMIZE)\n",
    "        model.update()\n",
    "        model.optimize()\n",
    "\n",
    "        f1 = sum(distances[i][j] * x.x[i][j] for i in range(num_sr) for j in range(num_bricks))\n",
    "        f2 = sum(\n",
    "            index_values[j] * (x.x[i][j] - x_current_structure[i][j]) ** 2 / 2\n",
    "            for i in range(num_sr)\n",
    "            for j in range(num_bricks)\n",
    "        )\n",
    "\n",
    "        F1.append(f1)\n",
    "        F2.append(f2)\n",
    "        X.append(x.x)\n",
    "\n",
    "    return F1, F2, X"
   ]
  },
  {
   "cell_type": "markdown",
   "metadata": {
    "id": "c7othoD-4d1T"
   },
   "source": [
    "## Summary"
   ]
  },
  {
   "cell_type": "code",
   "execution_count": null,
   "metadata": {
    "colab": {
     "base_uri": "https://localhost:8080/",
     "height": 810,
     "referenced_widgets": [
      "588cee82c2f3438bb5eb094db2b1ba1c",
      "3c572fc38e8545fb8b7e3640da639a17",
      "ed87948799d741b4a0e12f85939408c0",
      "2884bea4542142d5980134dfa52c7b53",
      "1cfc3260891b4f6d80f4c9e4e5c65d01",
      "5f04270c849847118c171941ae651f7a",
      "9c026f2aa18b4827b6fca2d8a7b02496",
      "b44145f9059c44a39c95f32e8a7f60e1",
      "c428db705c234f40a06b9dcb09f77bf1",
      "436cabd1e13140c895e785522b048192",
      "d7a003df208a47e39dff9c0a273a0dc6",
      "65f37f2943384498949958824830330e",
      "5760d571840c4bc88824a2b1103900e0",
      "e52afdfc621841eea79d896deb1b2ae8",
      "378580a5978741b7bb23b1dbf1ccf3d8",
      "00ee634812c947159592d453cd61996e",
      "f6483dd24dea455cb1627c4700949848",
      "d6b3ef832f9d48da955474047d3864ee",
      "84f158d619c146a8bd740a5c5e30b40f",
      "77689e2162104b41a181619dca339b38",
      "8fe94de7273f49999214da89826a9fdd",
      "f102e3318e894160934137ebb82959ab"
     ]
    },
    "id": "ud-ihs_Nw_E4",
    "outputId": "6190b4c0-f6bf-4741-b016-fa886af56618"
   },
   "outputs": [],
   "source": [
    "lb = 0.8\n",
    "ub = 1.2\n",
    "\n",
    "(\n",
    "    F1_epsilon_method_no_partial_assignement,\n",
    "    F2_epsilon_method_no_partial_assignement,\n",
    "    X,\n",
    ") = epsilon_constrain_method(\n",
    "    x_current_structure,\n",
    "    index_values=index_values,\n",
    "    error=1e-4,\n",
    "    workload_balance_lower_bound=lb,\n",
    "    workload_balance_upper_bound=ub,\n",
    ")\n",
    "\n",
    "weights = np.linspace(0.0, 200.0, 100)\n",
    "F1_weighted_no_partial_assignement, F2_weighted_no_partial_assignement, X = weighted_sum_method(\n",
    "    x_current_structure=x_current_structure,\n",
    "    index_values=index_values,\n",
    "    weights=weights,\n",
    "    workload_balance_lower_bound=lb,\n",
    "    workload_balance_upper_bound=ub,\n",
    ")\n",
    "\n",
    "logs = []\n",
    "logs.append(\n",
    "    [\n",
    "        f\"{lb}, {ub}\",\n",
    "        F1_weighted_no_partial_assignement,\n",
    "        F2_weighted_no_partial_assignement,\n",
    "    ]\n",
    ")\n",
    "\n",
    "# ideal and nadir point\n",
    "ideal_disruption, ideal_distance, nadir_disruption, nadir_distance = get_ideal_nadir_point(lb, ub)"
   ]
  },
  {
   "cell_type": "code",
   "execution_count": null,
   "metadata": {
    "colab": {
     "base_uri": "https://localhost:8080/",
     "height": 534
    },
    "id": "u7kdvjlueL7k",
    "outputId": "bc59fc65-1b6d-4ffa-f784-cfe8b68ee423"
   },
   "outputs": [],
   "source": [
    "with plt.style.context(\"science\"):\n",
    "    fig, ax = plt.subplots(1, 1, figsize=(6, 6))\n",
    "    # ax.scatter(F2_epsilon_method_no_partial_assignement, F1_epsilon_method_no_partial_assignement, marker=\"o\", c=\"k\", s=15, label=\"Non-dominated solution\")\n",
    "    ax.scatter(\n",
    "        F2_weighted_no_partial_assignement,\n",
    "        F1_weighted_no_partial_assignement,\n",
    "        marker=\"o\",\n",
    "        s=15,\n",
    "        c=\"r\",\n",
    "        zorder=2.5,\n",
    "        label=\"Supported non-dominated solution\",\n",
    "    )\n",
    "    ax.plot(\n",
    "        F2_weighted_no_partial_assignement,\n",
    "        F1_weighted_no_partial_assignement,\n",
    "        \"-or\",\n",
    "        zorder=2.5,\n",
    "    )\n",
    "\n",
    "    ax.scatter(ideal_disruption, ideal_distance, marker=\"*\", s=100, c=\"b\", label=\"Ideal point\")\n",
    "    ax.axvline(x=ideal_disruption, zorder=0, c=\"k\", linestyle=\"--\", alpha=0.8)\n",
    "    ax.axhline(y=ideal_distance, zorder=0, c=\"k\", linestyle=\"--\", alpha=0.8)\n",
    "\n",
    "    ax.scatter(nadir_disruption, nadir_distance, marker=\"*\", s=100, c=\"g\", label=\"Nadir point\")\n",
    "    ax.axvline(x=nadir_disruption, zorder=0, c=\"k\", linestyle=\"--\", alpha=0.8)\n",
    "    ax.axhline(y=nadir_distance, zorder=0, c=\"k\", linestyle=\"--\", alpha=0.8)\n",
    "\n",
    "    # ax.set_title(f\"{lb}, {ub}\")\n",
    "    ax.set_xlabel(\"Disruption\")\n",
    "    ax.set_ylabel(\"Distance\")\n",
    "    ax.grid()\n",
    "    ax.legend()\n",
    "\n",
    "fig.savefig(f\"figures/weighted_sum_method_{lb}_{ub}.pdf\", dpi=500)\n",
    "plt.show()"
   ]
  },
  {
   "cell_type": "code",
   "execution_count": null,
   "metadata": {
    "colab": {
     "base_uri": "https://localhost:8080/",
     "height": 534
    },
    "id": "sAXrf6syd_YO",
    "outputId": "0e9326ee-b655-46ac-c40f-8a5ec233cd43"
   },
   "outputs": [],
   "source": [
    "with plt.style.context(\"science\"):\n",
    "    fig, ax = plt.subplots(1, 1, figsize=(6, 6))\n",
    "    ax.plot(\n",
    "        F2_epsilon_method_no_partial_assignement,\n",
    "        F1_epsilon_method_no_partial_assignement,\n",
    "        \"-ok\",\n",
    "        label=\"Non-dominated solution\",\n",
    "    )\n",
    "    # ax.scatter(F2_weighted_no_partial_assignement, F1_weighted_no_partial_assignement, marker=\"o\", s=15, c=\"r\", zorder=2.5, label=\"Supported non-dominated solution\")\n",
    "    # ax.plot(F2_weighted_no_partial_assignement, F1_weighted_no_partial_assignement, \"-or\", zorder=2.5)\n",
    "\n",
    "    ax.scatter(ideal_disruption, ideal_distance, marker=\"*\", s=100, c=\"b\", label=\"Ideal point\")\n",
    "    ax.axvline(x=ideal_disruption, zorder=0, c=\"k\", linestyle=\"--\", alpha=0.8)\n",
    "    ax.axhline(y=ideal_distance, zorder=0, c=\"k\", linestyle=\"--\", alpha=0.8)\n",
    "\n",
    "    ax.scatter(nadir_disruption, nadir_distance, marker=\"*\", s=100, c=\"g\", label=\"Nadir point\")\n",
    "    ax.axvline(x=nadir_disruption, zorder=0, c=\"k\", linestyle=\"--\", alpha=0.8)\n",
    "    ax.axhline(y=nadir_distance, zorder=0, c=\"k\", linestyle=\"--\", alpha=0.8)\n",
    "\n",
    "    # ax.set_title(f\"{lb}, {ub}\")\n",
    "    ax.set_xlabel(\"Disruption\")\n",
    "    ax.set_ylabel(\"Distance\")\n",
    "    ax.grid()\n",
    "    ax.legend()\n",
    "\n",
    "fig.savefig(f\"figures/epsilon_constraint_method_{lb}_{ub}.pdf\", dpi=500)\n",
    "plt.show()"
   ]
  },
  {
   "cell_type": "code",
   "execution_count": null,
   "metadata": {
    "colab": {
     "base_uri": "https://localhost:8080/",
     "height": 534
    },
    "id": "p3lf7hPQHquE",
    "outputId": "becfbc10-8679-44da-8b62-ca32cdbd4583"
   },
   "outputs": [],
   "source": [
    "with plt.style.context(\"science\"):\n",
    "    fig, ax = plt.subplots(1, 1, figsize=(6, 6))\n",
    "    ax.plot(\n",
    "        F2_epsilon_method_no_partial_assignement,\n",
    "        F1_epsilon_method_no_partial_assignement,\n",
    "        \"-ok\",\n",
    "        label=\"Non-dominated solution\",\n",
    "    )\n",
    "    # ax.scatter(F2_epsilon_method_no_partial_assignement, F1_epsilon_method_no_partial_assignement, marker=\"o\", c=\"k\", s=15, label=\"Non-dominated solution\")\n",
    "    # ax.scatter(F2_weighted_no_partial_assignement, F1_weighted_no_partial_assignement, marker=\"o\", s=15, c=\"r\", zorder=2.5, label=\"Supported non-dominated solution\")\n",
    "    ax.plot(\n",
    "        F2_weighted_no_partial_assignement,\n",
    "        F1_weighted_no_partial_assignement,\n",
    "        \"-or\",\n",
    "        zorder=2.5,\n",
    "        label=\"Supported non-dominated solution\",\n",
    "    )\n",
    "\n",
    "    ax.scatter(ideal_disruption, ideal_distance, marker=\"*\", s=100, c=\"b\", label=\"Ideal point\")\n",
    "    ax.axvline(x=ideal_disruption, zorder=0, c=\"k\", linestyle=\"--\", alpha=0.8)\n",
    "    ax.axhline(y=ideal_distance, zorder=0, c=\"k\", linestyle=\"--\", alpha=0.8)\n",
    "\n",
    "    ax.scatter(nadir_disruption, nadir_distance, marker=\"*\", s=100, c=\"g\", label=\"Nadir point\")\n",
    "    ax.axvline(x=nadir_disruption, zorder=0, c=\"k\", linestyle=\"--\", alpha=0.8)\n",
    "    ax.axhline(y=nadir_distance, zorder=0, c=\"k\", linestyle=\"--\", alpha=0.8)\n",
    "\n",
    "    # ax.set_title(f\"{lb}, {ub}\")\n",
    "    ax.set_xlabel(\"Disruption\")\n",
    "    ax.set_ylabel(\"Distance\")\n",
    "    ax.grid()\n",
    "    ax.legend()\n",
    "\n",
    "fig.savefig(f\"figures/workload_balance_{lb}_{ub}.pdf\", dpi=500)\n",
    "plt.show()"
   ]
  },
  {
   "cell_type": "markdown",
   "metadata": {
    "id": "n64Q1RNT7Jb-"
   },
   "source": [
    "# Questions"
   ]
  },
  {
   "cell_type": "markdown",
   "metadata": {
    "id": "wF9bmUYzFI78"
   },
   "source": [
    "## How does varying the workload balance of each SR impact the solution?"
   ]
  },
  {
   "cell_type": "code",
   "execution_count": null,
   "metadata": {
    "colab": {
     "base_uri": "https://localhost:8080/",
     "height": 636,
     "referenced_widgets": [
      "ddc17cb00b6b43a2b240a54be3f5648e",
      "0df96f33a9dd4cdd975fb8764f39c051",
      "f107a24d1555479886878b267573dbdf",
      "6046dd1b65ff46ffb23a9d28a0a4905c",
      "f5d179dc421c469da47e150904edb7dd",
      "98ee5497e5c84f8cbecef58ff1f985b7",
      "4dba6da8b00b4bb5a584549933c2ca2e",
      "e022f76c7d1e42fc84f995ed4f7a0591",
      "88631fd9f0724fc7b04037456ec931c4",
      "1fbc67e87c6c46eaac785cf8f3137637",
      "18d975eeb00847cdaa04f9991cc5d6cc",
      "8f34b0e0eab64c18a7dba6367cdfcf90",
      "7c92d346bdb543818bcb124f9e62f5ff",
      "b473739503d24fa6beae880ad628d760",
      "244a4adb89304014ab791a98bf61c453",
      "1ebd1e001cf84bd890040c838257f80b",
      "c76b7ce6efe64e10aba7abe1f3f04129",
      "8bc6a6bbb3024e2daa15585f56e76c52",
      "7f99ee6496b5483b91067ff0c1fe4d57",
      "7c719872ccf44298a53e5608d71c55c4",
      "1f64c8d9f9dd4cf18572ba3df9176f1c",
      "a2d9771e0345414c8844037024e02732"
     ]
    },
    "id": "c1i3SHVgBt8P",
    "outputId": "d8efd962-2ac3-46de-9419-a3942c8c3b98"
   },
   "outputs": [],
   "source": [
    "lb = 0.9\n",
    "ub = 1.1\n",
    "\n",
    "F1_eps, F2_eps, X = epsilon_constrain_method(\n",
    "    x_current_structure,\n",
    "    error=1e-4,\n",
    "    index_values=index_values,\n",
    "    workload_balance_lower_bound=lb,\n",
    "    workload_balance_upper_bound=ub,\n",
    ")\n",
    "\n",
    "weights = np.linspace(0.0, 200.0, 100)\n",
    "F1, F2, X = weighted_sum_method(\n",
    "    x_current_structure=x_current_structure,\n",
    "    index_values=index_values,\n",
    "    weights=weights,\n",
    "    workload_balance_lower_bound=lb,\n",
    "    workload_balance_upper_bound=ub,\n",
    ")\n",
    "\n",
    "logs.append([f\"{lb}, {ub}\", F1, F2])\n",
    "\n",
    "# ideal and nadir point\n",
    "ideal_disruption, ideal_distance, nadir_disruption, nadir_distance = get_ideal_nadir_point(lb, ub)"
   ]
  },
  {
   "cell_type": "code",
   "execution_count": null,
   "metadata": {
    "colab": {
     "base_uri": "https://localhost:8080/",
     "height": 457
    },
    "id": "jVZf-J-3ezpL",
    "outputId": "0d3d4a5a-b1b8-4106-8b32-1df601003d65"
   },
   "outputs": [],
   "source": [
    "with plt.style.context(\"science\"):\n",
    "    fig, ax = plt.subplots(1, 1, figsize=(5, 5))\n",
    "\n",
    "    ax.plot(F2_eps, F1_eps, \"-ok\", label=\"Non-dominated solution\")\n",
    "    # ax.scatter(F2_eps, F1_eps, marker=\"o\", c=\"k\", s=15, label=\"Non-dominated solution\")\n",
    "    # ax.scatter(F2, F1, marker=\"o\", s=15, c=\"r\", zorder=2.5, label=\"Supported non-dominated solution\")\n",
    "    ax.plot(F2, F1, \"-or\", zorder=2.5, label=\"Supported non-dominated solution\")\n",
    "\n",
    "    ax.scatter(ideal_disruption, ideal_distance, marker=\"*\", s=100, c=\"b\", label=\"Ideal point\")\n",
    "    ax.axvline(x=ideal_disruption, zorder=0, c=\"k\", linestyle=\"--\", alpha=0.8)\n",
    "    ax.axhline(y=ideal_distance, zorder=0, c=\"k\", linestyle=\"--\", alpha=0.8)\n",
    "\n",
    "    ax.scatter(nadir_disruption, nadir_distance, marker=\"*\", s=100, c=\"g\", label=\"Nadir point\")\n",
    "    ax.axvline(x=nadir_disruption, zorder=0, c=\"k\", linestyle=\"--\", alpha=0.8)\n",
    "    ax.axhline(y=nadir_distance, zorder=0, c=\"k\", linestyle=\"--\", alpha=0.8)\n",
    "\n",
    "    # ax.set_title(f\"{lb}, {ub}\")\n",
    "    ax.set_xlabel(\"Disruption\")\n",
    "    ax.set_ylabel(\"Distance\")\n",
    "    ax.grid()\n",
    "    ax.legend()\n",
    "\n",
    "fig.savefig(f\"figures/workload_balance_{lb}_{ub}.pdf\", dpi=500)\n",
    "plt.show()"
   ]
  },
  {
   "cell_type": "code",
   "execution_count": null,
   "metadata": {
    "colab": {
     "base_uri": "https://localhost:8080/",
     "height": 931,
     "referenced_widgets": [
      "e6dbe919a58d4358886c36753c095552",
      "dbc4a70bc7814f919e09506b34cb32f9",
      "4e99dc4510314b12a59bfdd563ed9b47",
      "8dc6b9bf7fd2425b82e474b78b41cd2b",
      "a9185752d6784b3e98575387216b5a5e",
      "6109665f255848098415250907de35b4",
      "709aaa2fc95840dd81875431732bd063",
      "03ec252453334d83b1ee780231d8ff9c",
      "9c86a8def69743328f6961d9022eb679",
      "b1c446f590da4724828b4ced0f163350",
      "16b72c03409049e99f08f047a16e4042",
      "1df2d419244e4c3fb7ccccb5b046db00",
      "ce5ec8053a1f4591bb4038551c53bb5f",
      "344e13a5f4204dc089aac5bfd557a558",
      "cd7c8c365aa5499d9e04c58f36838055",
      "5659e46e5eca4b428e2bbd4e55ef7dcd",
      "c9c6f98fd4de44ec8cc72ea0ade5c86f",
      "baf5bf1f87dc4043b7c2ebb61caa51d2",
      "3967601a67654704a2657644740a9b86",
      "c8c0067522984157ae9cf216b013950e",
      "8985494c9ab84cadb1e5870c37000612",
      "794c65ddf2f44dd581556d8b0d681640"
     ]
    },
    "id": "_chYtey3GvU4",
    "outputId": "e7fad5cb-03fe-474f-b554-09a03609fa93"
   },
   "outputs": [],
   "source": [
    "lb = 0.7\n",
    "ub = 1.3\n",
    "\n",
    "F1_eps, F2_eps, X = epsilon_constrain_method(\n",
    "    x_current_structure,\n",
    "    error=1e-4,\n",
    "    index_values=index_values,\n",
    "    workload_balance_lower_bound=lb,\n",
    "    workload_balance_upper_bound=ub,\n",
    ")\n",
    "\n",
    "weights = np.linspace(0.0, 200.0, 100)\n",
    "F1, F2, X = weighted_sum_method(\n",
    "    x_current_structure=x_current_structure,\n",
    "    index_values=index_values,\n",
    "    weights=weights,\n",
    "    workload_balance_lower_bound=lb,\n",
    "    workload_balance_upper_bound=ub,\n",
    ")\n",
    "\n",
    "logs.append([f\"{lb}, {ub}\", F1, F2])\n",
    "\n",
    "# ideal and nadir point\n",
    "ideal_disruption, ideal_distance, nadir_disruption, nadir_distance = get_ideal_nadir_point(lb, ub)"
   ]
  },
  {
   "cell_type": "code",
   "execution_count": null,
   "metadata": {
    "colab": {
     "base_uri": "https://localhost:8080/",
     "height": 457
    },
    "id": "cSM_zx5PfPIg",
    "outputId": "78debbc3-1912-4e7f-e6bc-51eb86f6ee17"
   },
   "outputs": [],
   "source": [
    "with plt.style.context(\"science\"):\n",
    "    fig, ax = plt.subplots(1, 1, figsize=(5, 5))\n",
    "\n",
    "    ax.plot(F2_eps, F1_eps, \"-ok\", label=\"Non-dominated solution\")\n",
    "    # ax.scatter(F2_eps, F1_eps, marker=\"o\", c=\"k\", s=15, label=\"Non-dominated solution\")\n",
    "    # ax.scatter(F2, F1, marker=\"o\", s=15, c=\"r\", zorder=2.5, label=\"Supported non-dominated solution\")\n",
    "    ax.plot(F2, F1, \"-or\", zorder=2.5, label=\"Supported non-dominated solution\")\n",
    "\n",
    "    ax.scatter(ideal_disruption, ideal_distance, marker=\"*\", s=100, c=\"b\", label=\"Ideal point\")\n",
    "    ax.axvline(x=ideal_disruption, zorder=0, c=\"k\", linestyle=\"--\", alpha=0.8)\n",
    "    ax.axhline(y=ideal_distance, zorder=0, c=\"k\", linestyle=\"--\", alpha=0.8)\n",
    "\n",
    "    ax.scatter(nadir_disruption, nadir_distance, marker=\"*\", s=100, c=\"g\", label=\"Nadir point\")\n",
    "    ax.axvline(x=nadir_disruption, zorder=0, c=\"k\", linestyle=\"--\", alpha=0.8)\n",
    "    ax.axhline(y=nadir_distance, zorder=0, c=\"k\", linestyle=\"--\", alpha=0.8)\n",
    "\n",
    "    # ax.set_title(f\"{lb}, {ub}\")\n",
    "    ax.set_xlabel(\"Disruption\")\n",
    "    ax.set_ylabel(\"Distance\")\n",
    "    ax.grid()\n",
    "    ax.legend()\n",
    "\n",
    "fig.savefig(f\"figures/workload_balance_{lb}_{ub}.pdf\", dpi=500)\n",
    "plt.show()"
   ]
  },
  {
   "cell_type": "code",
   "execution_count": null,
   "metadata": {
    "colab": {
     "base_uri": "https://localhost:8080/",
     "height": 896,
     "referenced_widgets": [
      "cacd29773be34799a90365fbeb26f941",
      "03e8c3c72476458ea2358e360cc0076a",
      "4a203fd9b72e45e0b03156aec1ea68a9",
      "1a985898c1b74fe0afe6f68a51d2e0e7",
      "5624e07b851042e2b9a07b006155f42c",
      "d2ae3424c19b412587b4d55d4d992833",
      "c8c169e14c924198bc0b2e52c8e22a7f",
      "21eee9bd96814e8e98824a7748465674",
      "38c01f514fe64d04bcdb541c3275ccba",
      "5498b052b4574cc79c3ffd1fbcc1570b",
      "c5833fc5b93b4c68a523d6beff5eb30c",
      "6d00a3bab01246d898e4400b94b2df60",
      "5112134f5f764f2386ae47cd06e57569",
      "9bb393fbb6904b06900bcf4fe0b573ed",
      "ccac0d3f4e87467a9278bbffa1befa0b",
      "eb76baea79414937b96e47d8d4d20fd5",
      "35c1a7c03846431da7648b0969971a76",
      "369c18518d0b41f68b0e474f140a1d11",
      "a727b5cd7c484dd88f000a21e9a3f099",
      "c7ccb1b45ef54fd9b8b5d23de389d6bd",
      "5eea4aa93dc14bf1be3131ad72fe5f2a",
      "3ac812039f18458185ef655ed3066b58"
     ]
    },
    "id": "lo6hvEOXFezP",
    "outputId": "9626b896-902e-44fc-f675-40d989180313"
   },
   "outputs": [],
   "source": [
    "lb = 0.6\n",
    "ub = 1.4\n",
    "\n",
    "F1_eps, F2_eps, X = epsilon_constrain_method(\n",
    "    x_current_structure,\n",
    "    error=1e-4,\n",
    "    index_values=index_values,\n",
    "    workload_balance_lower_bound=lb,\n",
    "    workload_balance_upper_bound=ub,\n",
    ")\n",
    "\n",
    "weights = np.linspace(0.0, 200.0, 300)\n",
    "F1, F2, X = weighted_sum_method(\n",
    "    x_current_structure=x_current_structure,\n",
    "    index_values=index_values,\n",
    "    weights=weights,\n",
    "    workload_balance_lower_bound=lb,\n",
    "    workload_balance_upper_bound=ub,\n",
    ")\n",
    "\n",
    "logs.append([f\"{lb}, {ub}\", F1, F2])\n",
    "\n",
    "# ideal and nadir point\n",
    "ideal_disruption, ideal_distance, nadir_disruption, nadir_distance = get_ideal_nadir_point(lb, ub)"
   ]
  },
  {
   "cell_type": "code",
   "execution_count": null,
   "metadata": {
    "colab": {
     "base_uri": "https://localhost:8080/",
     "height": 457
    },
    "id": "VGzjajGTfVjI",
    "outputId": "03bd82e2-59d9-4093-a376-1ab99dd35902"
   },
   "outputs": [],
   "source": [
    "with plt.style.context(\"science\"):\n",
    "    fig, ax = plt.subplots(1, 1, figsize=(5, 5))\n",
    "\n",
    "    ax.plot(F2_eps, F1_eps, \"-ok\", label=\"Non-dominated solution\")\n",
    "    # ax.scatter(F2_eps, F1_eps, marker=\"o\", c=\"k\", s=15, label=\"Non-dominated solution\")\n",
    "    # ax.scatter(F2, F1, marker=\"o\", s=15, c=\"r\", zorder=2.5, label=\"Supported non-dominated solution\")\n",
    "    ax.plot(F2, F1, \"-or\", zorder=2.5, label=\"Supported non-dominated solution\")\n",
    "\n",
    "    ax.scatter(ideal_disruption, ideal_distance, marker=\"*\", s=100, c=\"b\", label=\"Ideal point\")\n",
    "    ax.axvline(x=ideal_disruption, zorder=0, c=\"k\", linestyle=\"--\", alpha=0.8)\n",
    "    ax.axhline(y=ideal_distance, zorder=0, c=\"k\", linestyle=\"--\", alpha=0.8)\n",
    "\n",
    "    ax.scatter(nadir_disruption, nadir_distance, marker=\"*\", s=100, c=\"g\", label=\"Nadir point\")\n",
    "    ax.axvline(x=nadir_disruption, zorder=0, c=\"k\", linestyle=\"--\", alpha=0.8)\n",
    "    ax.axhline(y=nadir_distance, zorder=0, c=\"k\", linestyle=\"--\", alpha=0.8)\n",
    "\n",
    "    # ax.set_title(f\"{lb}, {ub}\")\n",
    "    ax.set_xlabel(\"Disruption\")\n",
    "    ax.set_ylabel(\"Distance\")\n",
    "    ax.grid()\n",
    "    ax.legend()\n",
    "\n",
    "fig.savefig(f\"figures/workload_balance_{lb}_{ub}.pdf\", dpi=500)\n",
    "plt.show()"
   ]
  },
  {
   "cell_type": "code",
   "execution_count": null,
   "metadata": {
    "colab": {
     "base_uri": "https://localhost:8080/",
     "height": 1000,
     "referenced_widgets": [
      "804c14dcca764150bf28b28cef469839",
      "a2de17d7226c492f8e8512e5672e4d06",
      "f4ad50565ccb42a9a9fcebd3372676d2",
      "c7eaaaa71e8044c5809a2244dffed83b",
      "81132404ae494c00814aa73393c0bee0",
      "37bd6deb572a4ef6b0557500828d16e3",
      "e726b6d9ab7b493a857411f141da342c",
      "0a4e68f617744234b21bd36c2beda76b",
      "bab005b7a831496783ebc428424cb256",
      "ca508e26ed7c4a71a90a69fffff0459c",
      "e80a6e6dfd3e4b308513b1ca3320d187",
      "cd819533a8e74cb39b2ce9b31db3dd42",
      "8b12ef0eefa647b09fcd9fedee4201df",
      "5e6e66bc180e4fa58484710f4878c2b3",
      "d6691ea8008e4375a55e531c7fd8d2f7",
      "9bbdb3d3862a409289300e5ef4d43fdb",
      "613a38848c3042ecbcbc13fb07bf2cf8",
      "758f022832154e1299debb52a95a9af4",
      "ff74f9da5e8f439cb5b0cab8dfcc4940",
      "cb03f8b8916945e7850521fed895010e",
      "4fc23c02dd70402ca70a889798b9c080",
      "ca75159d4fe14d599c1bd6a9ff34f215"
     ]
    },
    "id": "r3Od7zH-um7l",
    "outputId": "8e565320-2b2a-4613-fe04-c36425f6a8d3"
   },
   "outputs": [],
   "source": [
    "lb = 0.0\n",
    "ub = 2.0\n",
    "\n",
    "F1_eps, F2_eps, X = epsilon_constrain_method(\n",
    "    x_current_structure,\n",
    "    error=1e-4,\n",
    "    index_values=index_values,\n",
    "    workload_balance_lower_bound=lb,\n",
    "    workload_balance_upper_bound=ub,\n",
    ")\n",
    "\n",
    "weights = np.linspace(0.0, 200.0, 100)\n",
    "F1, F2, X = weighted_sum_method(\n",
    "    x_current_structure=x_current_structure,\n",
    "    index_values=index_values,\n",
    "    weights=weights,\n",
    "    workload_balance_lower_bound=lb,\n",
    "    workload_balance_upper_bound=ub,\n",
    ")\n",
    "\n",
    "logs.append([f\"{lb}, {ub}\", F1, F2])\n",
    "\n",
    "# ideal and nadir point\n",
    "ideal_disruption, ideal_distance, nadir_disruption, nadir_distance = get_ideal_nadir_point(lb, ub)"
   ]
  },
  {
   "cell_type": "code",
   "execution_count": null,
   "metadata": {
    "colab": {
     "base_uri": "https://localhost:8080/",
     "height": 461
    },
    "id": "7BX0U7Syuqag",
    "outputId": "d63a9876-1998-4acc-9da7-b56a14553e91"
   },
   "outputs": [],
   "source": [
    "with plt.style.context(\"science\"):\n",
    "    fig, ax = plt.subplots(1, 1, figsize=(5, 5))\n",
    "\n",
    "    ax.plot(F2_eps, F1_eps, \"-ok\", label=\"Non-dominated solution\")\n",
    "    # ax.scatter(F2_eps, F1_eps, marker=\"o\", c=\"k\", s=15, label=\"Non-dominated solution\")\n",
    "    # ax.scatter(F2, F1, marker=\"o\", s=15, c=\"r\", zorder=2.5, label=\"Supported non-dominated solution\")\n",
    "    ax.plot(F2, F1, \"-or\", zorder=2.5, label=\"Supported non-dominated solution\")\n",
    "\n",
    "    ax.scatter(ideal_disruption, ideal_distance, marker=\"*\", s=100, c=\"b\", label=\"Ideal point\")\n",
    "    ax.axvline(x=ideal_disruption, zorder=0, c=\"k\", linestyle=\"--\", alpha=0.8)\n",
    "    ax.axhline(y=ideal_distance, zorder=0, c=\"k\", linestyle=\"--\", alpha=0.8)\n",
    "\n",
    "    ax.scatter(nadir_disruption, nadir_distance, marker=\"*\", s=100, c=\"g\", label=\"Nadir point\")\n",
    "    ax.axvline(x=nadir_disruption, zorder=0, c=\"k\", linestyle=\"--\", alpha=0.8)\n",
    "    ax.axhline(y=nadir_distance, zorder=0, c=\"k\", linestyle=\"--\", alpha=0.8)\n",
    "\n",
    "    # ax.set_title(f\"{lb}, {ub}\")\n",
    "    ax.set_xlabel(\"Disruption\")\n",
    "    ax.set_ylabel(\"Distance\")\n",
    "    ax.grid()\n",
    "    ax.legend()\n",
    "\n",
    "fig.savefig(f\"figures/workload_balance_{lb}_{ub}.pdf\", dpi=500)\n",
    "plt.show()"
   ]
  },
  {
   "cell_type": "code",
   "execution_count": null,
   "metadata": {
    "colab": {
     "base_uri": "https://localhost:8080/",
     "height": 457
    },
    "id": "Bzb_XO17gCNB",
    "outputId": "2a29b4fb-2327-4f85-ee24-fc6ae9150b9d"
   },
   "outputs": [],
   "source": [
    "with plt.style.context(\"science\"):\n",
    "    fig, ax = plt.subplots(1, 1, figsize=(5, 5))\n",
    "\n",
    "    for label, f1, f2 in logs:\n",
    "        ax.scatter(f2, f1, marker=\"o\", label=f\"[{label}]\")\n",
    "        ax.plot(f2, f1, \"-o\")\n",
    "\n",
    "    # ax.set_title(f\"{lb}, {ub}\")\n",
    "    ax.set_xlabel(\"Disruption\")\n",
    "    ax.set_ylabel(\"Distance\")\n",
    "    ax.grid()\n",
    "    ax.legend(title=\"Workload balance intervals\", ncol=2)\n",
    "\n",
    "fig.savefig(f\"figures/workload_balance_summary.pdf\", dpi=500)\n",
    "plt.show()"
   ]
  },
  {
   "cell_type": "markdown",
   "metadata": {
    "id": "Q27o62Bhts3O"
   },
   "source": [
    "## Would assigning a brick to multiple SRs improve the solution?"
   ]
  },
  {
   "cell_type": "code",
   "execution_count": null,
   "metadata": {
    "colab": {
     "base_uri": "https://localhost:8080/"
    },
    "id": "UskHl6AXa3CW",
    "outputId": "77a5453e-758d-4beb-b740-759e72eb6734"
   },
   "outputs": [],
   "source": [
    "# monoobjectiv problem\n",
    "model = gp.Model(\"pfizer\")\n",
    "\n",
    "workload_balance_lower_bound = 0.8\n",
    "workload_balance_upper_bound = 1.2\n",
    "\n",
    "xc = model.addMVar((num_sr, num_bricks), vtype=GRB.CONTINUOUS, lb=0.0, ub=1.0)\n",
    "xd = model.addMVar((num_sr, num_bricks), vtype=GRB.BINARY)\n",
    "\n",
    "# https://support.gurobi.com/hc/en-us/articles/4414392016529-How-do-I-model-conditional-statements-in-Gurobi-\n",
    "EPS = 1e-4\n",
    "model.addConstrs(\n",
    "    (xc[i][j] >= EPS - (1 - xd[i][j]) for i in range(num_sr) for j in range(num_bricks))\n",
    ")\n",
    "\n",
    "model.addConstrs((xc[i][j] <= xd[i][j] for i in range(num_sr) for j in range(num_bricks)))\n",
    "\n",
    "model.addConstrs(\n",
    "    (\n",
    "        workload_balance_lower_bound\n",
    "        <= gp.quicksum(index_values[j] * xc[i][j] for j in range(num_bricks))\n",
    "        for i in range(num_sr)\n",
    "    ),\n",
    "    name=\"left_workload_balance\",\n",
    ")\n",
    "\n",
    "model.addConstrs(\n",
    "    (\n",
    "        gp.quicksum(index_values[j] * xc[i][j] for j in range(num_bricks))\n",
    "        <= workload_balance_upper_bound\n",
    "        for i in range(num_sr)\n",
    "    ),\n",
    "    name=\"right_workload_balance\",\n",
    ")\n",
    "\n",
    "model.addConstrs(\n",
    "    (gp.quicksum(xc[i][j] for i in range(num_sr)) == 1 for j in range(num_bricks)),\n",
    "    name=\"no_partial_assignments\",\n",
    ")\n",
    "\n",
    "\n",
    "# # Minimize the total distance\n",
    "model.setObjective(\n",
    "    gp.quicksum(distances[i][j] * xd[i][j] for i in range(num_sr) for j in range(num_bricks)),\n",
    "    GRB.MINIMIZE,\n",
    ")\n",
    "\n",
    "# Minimize the total disruption between SRs\n",
    "# model.setObjective(\n",
    "#    gp.quicksum(\n",
    "#        index_values[j] * (xc[i][j] - x_current_structure[i][j]) * (xc[i][j] - x_current_structure[i][j]) / 2\n",
    "#        for i in range(num_sr)\n",
    "#        for j in range(num_bricks)\n",
    "#    ),\n",
    "#    GRB.MINIMIZE\n",
    "# )\n",
    "\n",
    "\n",
    "model.update()\n",
    "model.optimize()\n",
    "\n",
    "df = pd.DataFrame(\n",
    "    xd.x.T,\n",
    "    columns=[f\"SR{i}\" for i in range(num_sr)],\n",
    "    index=[f\"Br{i}\" for i in range(num_bricks)],\n",
    ")\n",
    "\n",
    "get_report(xc.x)"
   ]
  },
  {
   "cell_type": "code",
   "execution_count": null,
   "metadata": {
    "colab": {
     "base_uri": "https://localhost:8080/",
     "height": 49,
     "referenced_widgets": [
      "0b9d2413db964eb095c42b97e849f744",
      "ba98b1347ee44d41bfc5268505d29d8d",
      "e8cacdb606154dfb8ea4e91d31d93647",
      "2a86fe94025d48f4801a872dd97a8927",
      "c5f1d3d90a4440a1a6110ef35a057342",
      "02ffea0eda4b41508a6be61112a88bb6",
      "e1d0eea9974f479eb58a42314dfc322b",
      "98a0ee2f42a54ffb8267f655d5f327ff",
      "1da898d233484d6da99c3cecb48dd89f",
      "e56841b43d294cd9885dcb2d02c1c5bb",
      "e4c2c43e368c454ab2a817d7e55e6030"
     ]
    },
    "id": "p5Ee9aTX62yp",
    "outputId": "457b2624-a2d7-40b3-bab9-7973fe7f7299"
   },
   "outputs": [],
   "source": [
    "F1_with_partial_assignement, F2_with_partial_assignement = [], []\n",
    "XC, XD = [], []\n",
    "\n",
    "weights = np.linspace(0.0, 200.0, 100)\n",
    "\n",
    "for w in tqdm(weights):\n",
    "    model = gp.Model(\"pfizer\", env=env)\n",
    "    model.params.outputflag = 0\n",
    "\n",
    "    workload_balance_lower_bound = 0.8\n",
    "    workload_balance_upper_bound = 1.2\n",
    "\n",
    "    xc = model.addMVar((num_sr, num_bricks), vtype=GRB.CONTINUOUS, lb=0.0, ub=1.0)\n",
    "    xd = model.addMVar((num_sr, num_bricks), vtype=GRB.BINARY)\n",
    "\n",
    "    # https://support.gurobi.com/hc/en-us/articles/4414392016529-How-do-I-model-conditional-statements-in-Gurobi-\n",
    "    EPS = 1e-4\n",
    "    model.addConstrs(\n",
    "        (xc[i][j] >= EPS - (1 - xd[i][j]) for i in range(num_sr) for j in range(num_bricks))\n",
    "    )\n",
    "\n",
    "    model.addConstrs((xc[i][j] <= xd[i][j] for i in range(num_sr) for j in range(num_bricks)))\n",
    "\n",
    "    # Constraints\n",
    "    model = add_constraints(\n",
    "        model,\n",
    "        index_values,\n",
    "        xc,\n",
    "        lb=workload_balance_lower_bound,\n",
    "        ub=workload_balance_upper_bound,\n",
    "        num_bricks=num_bricks,\n",
    "        num_sr=num_sr,\n",
    "    )\n",
    "\n",
    "    # minimize the weighted sum between the total distance and the disruption\n",
    "    f1f2 = gp.quicksum(\n",
    "        distances[i][j] * xd[i][j]\n",
    "        + w\n",
    "        * index_values[j]\n",
    "        * (xc[i][j] - x_current_structure[i][j])\n",
    "        * (xc[i][j] - x_current_structure[i][j])\n",
    "        / 2\n",
    "        for i in range(num_sr)\n",
    "        for j in range(num_bricks)\n",
    "    )\n",
    "\n",
    "    model.setObjective(f1f2, GRB.MINIMIZE)\n",
    "    model.update()\n",
    "    model.optimize()\n",
    "\n",
    "    f1 = sum(distances[i][j] * xd.x[i][j] for i in range(num_sr) for j in range(num_bricks))\n",
    "    f2 = sum(\n",
    "        index_values[j] * (xc.x[i][j] - x_current_structure[i][j]) ** 2 / 2\n",
    "        for i in range(num_sr)\n",
    "        for j in range(num_bricks)\n",
    "    )\n",
    "\n",
    "    F1_with_partial_assignement.append(f1)\n",
    "    F2_with_partial_assignement.append(f2)\n",
    "    XC.append(xc.x)\n",
    "    XD.append(xd.x)"
   ]
  },
  {
   "cell_type": "code",
   "execution_count": null,
   "metadata": {
    "colab": {
     "base_uri": "https://localhost:8080/",
     "height": 534
    },
    "id": "mKK8R6JC_azJ",
    "outputId": "17b0b241-e06a-4bfd-aadf-3d8bbec27a6e"
   },
   "outputs": [],
   "source": [
    "# plt.plot(F2_with_partial_assignement, F1_with_partial_assignement, \"-or\", zorder=2.5, label=\"cont\")\n",
    "# plt.plot(F2_weighted_no_partial_assignement, F1_weighted_no_partial_assignement, \"-ok\", zorder=2.5, label=\"disc\")\n",
    "# plt.legend()\n",
    "\n",
    "with plt.style.context(\"science\"):\n",
    "    fig, ax = plt.subplots(1, 1, figsize=(6, 6))\n",
    "\n",
    "    # for label, f1, f2 in logs:\n",
    "    #     ax.scatter(f2, f1, marker=\"o\", label=f\"[{label}]\")\n",
    "    #     ax.plot(f2, f1, \"-o\")\n",
    "\n",
    "    ax.plot(\n",
    "        F2_with_partial_assignement,\n",
    "        F1_with_partial_assignement,\n",
    "        marker=\"o\",\n",
    "        zorder=2.5,\n",
    "        label=\"With partial assignements\",\n",
    "    )\n",
    "    ax.plot(\n",
    "        F2_weighted_no_partial_assignement,\n",
    "        F1_weighted_no_partial_assignement,\n",
    "        marker=\"o\",\n",
    "        zorder=2.5,\n",
    "        label=\"No partial assignements\",\n",
    "    )\n",
    "\n",
    "    # ax.set_title(f\"{lb}, {ub}\")\n",
    "    ax.set_xlabel(\"Disruption\")\n",
    "    ax.set_ylabel(\"Distance\")\n",
    "    ax.grid()\n",
    "    ax.legend(title=\"Workload balance intervals\", ncol=1)\n",
    "\n",
    "fig.savefig(f\"figures/cont_disc_comp.pdf\", dpi=500)\n",
    "plt.show()"
   ]
  },
  {
   "cell_type": "markdown",
   "metadata": {
    "id": "HULD8zmy5mBP"
   },
   "source": [
    "## What happens when the demand (i.e. the index value) of all bricks increases by 20%?"
   ]
  },
  {
   "cell_type": "code",
   "execution_count": null,
   "metadata": {
    "colab": {
     "base_uri": "https://localhost:8080/"
    },
    "id": "vg0qXdfdxHE1",
    "outputId": "ac962f28-30d6-485f-8bd7-5cbb3ad15e90"
   },
   "outputs": [],
   "source": [
    "# mono-objective problem\n",
    "lb = 0.8\n",
    "ub = 1.2\n",
    "\n",
    "iv = index_values + index_values * 0.2\n",
    "\n",
    "model = gp.Model(\"pfizer\")\n",
    "\n",
    "workload_balance_lower_bound = 0.8\n",
    "workload_balance_upper_bound = 1.2\n",
    "\n",
    "x = model.addMVar((num_sr, num_bricks), vtype=GRB.BINARY)\n",
    "\n",
    "# Add constraints\n",
    "model = add_constraints(model, iv, x, lb=0.8, ub=1.2, num_bricks=num_bricks, num_sr=num_sr)\n",
    "\n",
    "# Minimize the total distance\n",
    "model.setObjective(\n",
    "    gp.quicksum(distances[i][j] * x[i][j] for i in range(num_sr) for j in range(num_bricks)),\n",
    "    GRB.MINIMIZE,\n",
    ")\n",
    "\n",
    "model.update()\n",
    "model.optimize()"
   ]
  },
  {
   "cell_type": "markdown",
   "metadata": {
    "id": "Ho_i-2CEfhYR"
   },
   "source": [
    "##No feasible solution for the mono-objective problem considering +20% in the demand and without hiring new SR"
   ]
  },
  {
   "cell_type": "markdown",
   "metadata": {
    "id": "9juGNqz7EJaw"
   },
   "source": [
    "## Why 20% is the percentage from which we have to hire a new SR?"
   ]
  },
  {
   "cell_type": "code",
   "execution_count": null,
   "metadata": {
    "id": "90g0bbMLFVge"
   },
   "outputs": [],
   "source": [
    "percentages = np.linspace(0.0, 0.5, 100)\n",
    "\n",
    "lb = 0.8\n",
    "ub = 1.2\n",
    "\n",
    "all_non_dominated_solutions = []\n",
    "\n",
    "for p in tqdm(percentages):\n",
    "    iv = index_values + index_values * p\n",
    "\n",
    "    F1, F2, X = epsilon_constrain_method(\n",
    "        x_current_structure=x_current_structure,\n",
    "        index_values=iv,\n",
    "        workload_balance_lower_bound=lb,\n",
    "        workload_balance_upper_bound=ub,\n",
    "    )\n",
    "\n",
    "    # model = gp.Model(\"pfizer\", env=env)\n",
    "    # model.params.outputflag = 0\n",
    "\n",
    "    # # Decision variables\n",
    "    # x = model.addMVar((num_sr, num_bricks), vtype=GRB.BINARY)\n",
    "\n",
    "    # # Add constraints\n",
    "    # model = add_constraints(model, iv, x, lb=lb, ub=ub, num_bricks=num_bricks, num_sr=num_sr)\n",
    "\n",
    "    # # Minimize the total distance\n",
    "    # model.setObjective(\n",
    "    #     gp.quicksum(\n",
    "    #         distances[i][j] * x[i][j]\n",
    "    #         for i in range(num_sr)\n",
    "    #         for j in range(num_bricks)\n",
    "    #     ),\n",
    "    #     GRB.MINIMIZE\n",
    "    # )\n",
    "\n",
    "    # model.update()\n",
    "    # model.optimize()\n",
    "\n",
    "    # if model.status == 3:\n",
    "    #     print(f\"When demand increases by {p}:\", \"An optimal solution is available.\" if model.status == 2 else \"Model was proven to be infeasible.\")\n",
    "    #     break\n",
    "    print(f\"p={p * 100}%\", len(set(F1)))\n",
    "\n",
    "    all_non_dominated_solutions.append([p, len(set(F1))])"
   ]
  },
  {
   "cell_type": "code",
   "execution_count": null,
   "metadata": {
    "colab": {
     "base_uri": "https://localhost:8080/",
     "height": 534
    },
    "id": "ANs_YGY2F4Z5",
    "outputId": "986e5355-be95-4595-bf8a-28f8637304d2"
   },
   "outputs": [],
   "source": [
    "all_non_dominated_solutions = np.array(all_non_dominated_solutions)\n",
    "\n",
    "with plt.style.context(\"science\"):\n",
    "    fig, ax = plt.subplots(1, 1, figsize=(7, 6))\n",
    "\n",
    "    # plt.bar(q[:,0], q[:,1], width=0.8)\n",
    "    # plt.bar(np.linspace(20, 40, 100), np.zeros((100,)), width=0.4)\n",
    "\n",
    "    ax.bar(\n",
    "        all_non_dominated_solutions[:, 0],\n",
    "        all_non_dominated_solutions[:, 1],\n",
    "        width=3e-3,\n",
    "        label=\"Number of non-dominated solutions\",\n",
    "    )\n",
    "\n",
    "    # ax.set_title(f\"{lb}, {ub}\")\n",
    "    ax.set_xlabel(\"Disruption\")\n",
    "    ax.set_ylabel(\"Distance\")\n",
    "    ax.grid()\n",
    "    ax.legend()\n",
    "\n",
    "fig.savefig(f\"figures/increase_demand.pdf\", dpi=500)\n",
    "plt.show()"
   ]
  },
  {
   "cell_type": "markdown",
   "metadata": {
    "id": "ebWwWVudFPKW"
   },
   "source": [
    "## Would hiring a new SR solve this demand increase?"
   ]
  },
  {
   "cell_type": "code",
   "execution_count": null,
   "metadata": {
    "id": "ffp1wQ6wKDBX"
   },
   "outputs": [],
   "source": [
    "F1_hire_new_sr = []\n",
    "F2_hire_new_sr = []\n",
    "center_brick = []\n",
    "X = []\n",
    "\n",
    "iv = index_values + index_values * 0.2\n",
    "\n",
    "workload_balance_lower_bound = 0.8\n",
    "workload_balance_upper_bound = 1.2\n",
    "\n",
    "weights = np.linspace(0.0, 200.0, 100)\n",
    "\n",
    "for w in tqdm(weights):\n",
    "    model = gp.Model(\"pfizer\", env=env)\n",
    "    model.params.outputflag = 0\n",
    "\n",
    "    # Add the fifth SR\n",
    "    sr = num_sr + 1\n",
    "\n",
    "    x = model.addMVar((sr, num_bricks), vtype=GRB.BINARY)\n",
    "\n",
    "    # Center brick of the fifth SR\n",
    "    c = model.addMVar((num_bricks), vtype=GRB.BINARY)\n",
    "    model.addConstr((gp.quicksum(c[i] for i in range(num_bricks)) == 1))\n",
    "\n",
    "    # Add constraints\n",
    "    model = add_constraints(\n",
    "        model,\n",
    "        iv,\n",
    "        x,\n",
    "        lb=workload_balance_lower_bound,\n",
    "        ub=workload_balance_upper_bound,\n",
    "        num_bricks=num_bricks,\n",
    "        num_sr=sr,\n",
    "    )\n",
    "\n",
    "    # minimize the weighted sum between the total distance and the disruption\n",
    "    f1f2 = (\n",
    "        gp.quicksum(distances[i][j] * x[i][j] for i in range(sr - 1) for j in range(num_bricks))\n",
    "        + gp.quicksum(sum(distances_between_bricks[j, :] * c) * x[4][j] for j in range(num_bricks))\n",
    "        + w\n",
    "        * gp.quicksum(\n",
    "            index_values[j]\n",
    "            * (x[i][j] - x_current_structure[i][j])\n",
    "            * (x[i][j] - x_current_structure[i][j])\n",
    "            / 2\n",
    "            for i in range(num_sr)\n",
    "            for j in range(num_bricks)\n",
    "        )\n",
    "    )\n",
    "\n",
    "    model.setObjective(f1f2, GRB.MINIMIZE)\n",
    "    model.update()\n",
    "    model.optimize()\n",
    "\n",
    "    f1 = sum(distances[i][j] * x.x[i][j] for i in range(sr - 1) for j in range(num_bricks)) + sum(\n",
    "        sum(distances_between_bricks[j, :] * c.x) * x.x[4][j] for j in range(num_bricks)\n",
    "    )\n",
    "\n",
    "    f2 = sum(\n",
    "        index_values[j]\n",
    "        * (x.x[i][j] - x_current_structure[i][j])\n",
    "        * (x.x[i][j] - x_current_structure[i][j])\n",
    "        / 2\n",
    "        for i in range(num_sr)\n",
    "        for j in range(num_bricks)\n",
    "    )\n",
    "\n",
    "    F1_hire_new_sr.append(f1)\n",
    "    F2_hire_new_sr.append(f2)\n",
    "    center_brick.append(np.argmax(c.x) + 1)\n",
    "    X.append(x.x)\n",
    "    print(\"The center brick of the fifth SR is:\", np.argmax(c.x) + 1)"
   ]
  },
  {
   "cell_type": "code",
   "execution_count": null,
   "metadata": {
    "colab": {
     "base_uri": "https://localhost:8080/",
     "height": 611
    },
    "id": "BbRjB0-4OnrJ",
    "outputId": "d22cff01-2c77-4fa9-e1e7-ccd340f4ab02"
   },
   "outputs": [],
   "source": [
    "with plt.style.context(\"science\"):\n",
    "    fig, ax = plt.subplots(1, 1, figsize=(7, 7))\n",
    "\n",
    "    ax.plot(F2_hire_new_sr, F1_hire_new_sr, \"-or\", label=\"Supported non-dominated solution\")\n",
    "\n",
    "    for i, (a, b) in enumerate(zip(F2_hire_new_sr, F1_hire_new_sr)):\n",
    "        ax.text(a, b + 8e-1, f\"({center_brick[i]})\")\n",
    "\n",
    "    ax.set_xlabel(\"Disruption\")\n",
    "    ax.set_ylabel(\"Distance\")\n",
    "    ax.grid()\n",
    "    ax.legend()\n",
    "\n",
    "fig.savefig(f\"figures/center_brick_non_dominated.pdf\", dpi=500)\n",
    "plt.show()"
   ]
  },
  {
   "cell_type": "code",
   "execution_count": null,
   "metadata": {
    "colab": {
     "base_uri": "https://localhost:8080/"
    },
    "id": "x5A4aILeFVH4",
    "outputId": "5d3f9ab1-43c3-4477-833d-aacc5ba5ffac"
   },
   "outputs": [],
   "source": [
    "iv = index_values + index_values * 0.2\n",
    "\n",
    "model = gp.Model(\"pfizer\")\n",
    "\n",
    "workload_balance_lower_bound = 0.8\n",
    "workload_balance_upper_bound = 1.2\n",
    "\n",
    "# Add the fifth SR\n",
    "sr = num_sr + 1\n",
    "\n",
    "x = model.addMVar((sr, num_bricks), vtype=GRB.BINARY)\n",
    "\n",
    "# Center brick of the fifth SR\n",
    "c = model.addMVar((num_bricks), vtype=GRB.BINARY)\n",
    "model.addConstr((gp.quicksum(c[i] for i in range(num_bricks)) == 1))\n",
    "\n",
    "# Add constraints\n",
    "model = add_constraints(\n",
    "    model,\n",
    "    iv,\n",
    "    x,\n",
    "    lb=workload_balance_lower_bound,\n",
    "    ub=workload_balance_upper_bound,\n",
    "    num_bricks=num_bricks,\n",
    "    num_sr=sr,\n",
    ")\n",
    "\n",
    "# Minimize the total distance\n",
    "model.setObjective(\n",
    "    gp.quicksum(distances[i][j] * x[i][j] for i in range(sr - 1) for j in range(num_bricks))\n",
    "    + gp.quicksum(sum(distances_between_bricks[j, :] * c) * x[4][j] for j in range(num_bricks)),\n",
    "    GRB.MINIMIZE,\n",
    ")\n",
    "\n",
    "model.update()\n",
    "model.optimize()\n",
    "print(\"The center brick of the fifth SR is:\", np.argmax(c.x) + 1)"
   ]
  },
  {
   "cell_type": "code",
   "execution_count": null,
   "metadata": {
    "colab": {
     "base_uri": "https://localhost:8080/"
    },
    "id": "5ONJ3EYptWCc",
    "outputId": "2ef1b906-9580-4f27-99a9-74c269560d46"
   },
   "outputs": [],
   "source": [
    "print(\"The center brick of the fifth SR is:\", np.argmax(c.x) + 1)"
   ]
  },
  {
   "cell_type": "markdown",
   "metadata": {
    "id": "cJnnS43nEG2r"
   },
   "source": [
    "## What happens when we change the center bricks of all SRs?"
   ]
  },
  {
   "cell_type": "code",
   "execution_count": null,
   "metadata": {
    "colab": {
     "base_uri": "https://localhost:8080/"
    },
    "id": "AQJebfVJaggd",
    "outputId": "c57f7151-e5a0-4a97-d439-8ec3af83af92"
   },
   "outputs": [],
   "source": [
    "num_sr, num_bricks"
   ]
  },
  {
   "cell_type": "code",
   "execution_count": null,
   "metadata": {
    "colab": {
     "base_uri": "https://localhost:8080/",
     "height": 49,
     "referenced_widgets": [
      "9d998ec988704f7382d0ba5f68bc833f",
      "d01beba8f56044989b27feeac6a155b4",
      "2da8c5b8ea7341dabb43cea3e073a953",
      "2fc7131e1d1841ee829b7e8d19d76608",
      "cc73ad6f8860414b8da7c7f7aedbb7b5",
      "42fdf97b3a4f4824b29b396eb63758c2",
      "b362147fba1f491b8947b3fb9218910f",
      "40e81ec2670047129ea6881fe26254db",
      "675de70502b64b8f9f71b15d8c9f48a7",
      "3eb599daf6964a2480f914a4bac4c47b",
      "41573858d8c44a6dadf07e6eca5a3ec5"
     ]
    },
    "id": "BRjHK3PjSd3H",
    "outputId": "f6443e5d-e745-480e-bb38-47d3377fb042"
   },
   "outputs": [],
   "source": [
    "supp_nd_F1_relocate_all_new_sr = []\n",
    "supp_nd_F2_relocate_all_new_sr = []\n",
    "center_brick = []\n",
    "X = []\n",
    "\n",
    "workload_balance_lower_bound = 0.8\n",
    "workload_balance_upper_bound = 1.2\n",
    "\n",
    "weights = np.linspace(0.0, 200.0, 100)\n",
    "\n",
    "for w in tqdm(weights):\n",
    "    model = gp.Model(\"pfizer\", env=env)\n",
    "    model.params.outputflag = 0\n",
    "\n",
    "    x = model.addMVar((num_sr, num_bricks), vtype=GRB.BINARY)\n",
    "\n",
    "    c = model.addMVar((num_sr, num_bricks), vtype=GRB.BINARY)\n",
    "    model.addConstrs((gp.quicksum(c[i][j] for j in range(num_bricks)) == 1 for i in range(num_sr)))\n",
    "\n",
    "    # model.addConstrs((\n",
    "    #     gp.quicksum(c[i][j] for i in range(num_sr)) <= 1\n",
    "    #     for j in range(num_bricks)\n",
    "    # ))\n",
    "\n",
    "    # Constraints\n",
    "    model = add_constraints(\n",
    "        model,\n",
    "        index_values,\n",
    "        x,\n",
    "        lb=workload_balance_lower_bound,\n",
    "        ub=workload_balance_upper_bound,\n",
    "        num_bricks=num_bricks,\n",
    "        num_sr=num_sr,\n",
    "    )\n",
    "\n",
    "    # minimize the weighted sum between the total distance and the disruption\n",
    "    f1f2 = gp.quicksum(\n",
    "        gp.quicksum(distances_between_bricks[j, :] * c[i]) * x[i][j]\n",
    "        for i in range(num_sr)\n",
    "        for j in range(num_bricks)\n",
    "    ) + w * gp.quicksum(\n",
    "        index_values[j]\n",
    "        * (x[i][j] - x_current_structure[i][j])\n",
    "        * (x[i][j] - x_current_structure[i][j])\n",
    "        / 2\n",
    "        for i in range(num_sr)\n",
    "        for j in range(num_bricks)\n",
    "    )\n",
    "\n",
    "    model.setObjective(f1f2, GRB.MINIMIZE)\n",
    "    model.update()\n",
    "    model.optimize()\n",
    "\n",
    "    f1 = sum(\n",
    "        sum(distances_between_bricks[j, :] * c.x[i]) * x.x[i][j]\n",
    "        for i in range(num_sr)\n",
    "        for j in range(num_bricks)\n",
    "    )\n",
    "\n",
    "    f2 = sum(\n",
    "        index_values[j]\n",
    "        * (x.x[i][j] - x_current_structure[i][j])\n",
    "        * (x.x[i][j] - x_current_structure[i][j])\n",
    "        / 2\n",
    "        for i in range(num_sr)\n",
    "        for j in range(num_bricks)\n",
    "    )\n",
    "\n",
    "    supp_nd_F1_relocate_all_new_sr.append(f1)\n",
    "    supp_nd_F2_relocate_all_new_sr.append(f2)"
   ]
  },
  {
   "cell_type": "code",
   "execution_count": null,
   "metadata": {
    "colab": {
     "base_uri": "https://localhost:8080/",
     "height": 611
    },
    "id": "wHY2ETcAUhRr",
    "outputId": "6aa3a7c2-3a9c-434a-af45-ac9cef905434"
   },
   "outputs": [],
   "source": [
    "with plt.style.context(\"science\"):\n",
    "    fig, ax = plt.subplots(1, 1, figsize=(7, 7))\n",
    "\n",
    "    ax.plot(\n",
    "        supp_nd_F2_relocate_all_new_sr,\n",
    "        supp_nd_F1_relocate_all_new_sr,\n",
    "        \"-o\",\n",
    "        label=\"Relocating Sales Representatives' Offices\",\n",
    "    )\n",
    "    ax.plot(\n",
    "        F2_weighted_no_partial_assignement,\n",
    "        F1_weighted_no_partial_assignement,\n",
    "        \"-o\",\n",
    "        label=\"Fixed center bricks\",\n",
    "    )\n",
    "\n",
    "    ax.set_xlabel(\"Disruption\")\n",
    "    ax.set_ylabel(\"Distance\")\n",
    "    ax.grid()\n",
    "    ax.legend(title=\"Supported non-dominated solution\")\n",
    "\n",
    "fig.savefig(f\"figures/center_brick_non_dominated.pdf\", dpi=500)\n",
    "plt.show()"
   ]
  },
  {
   "cell_type": "code",
   "execution_count": null,
   "metadata": {
    "id": "GIlxiEg6EIBn"
   },
   "outputs": [],
   "source": [
    "lb = 0.8\n",
    "ub = 1.2\n",
    "\n",
    "iv = index_values\n",
    "\n",
    "model = gp.Model(\"pfizer\")\n",
    "\n",
    "workload_balance_lower_bound = 0.8\n",
    "workload_balance_upper_bound = 1.2\n",
    "\n",
    "x = model.addMVar((num_sr, num_bricks), vtype=GRB.BINARY)\n",
    "\n",
    "c = model.addMVar((num_sr, num_bricks), vtype=GRB.BINARY)\n",
    "model.addConstrs((gp.quicksum(c[i][j] for j in range(num_bricks)) == 1 for i in range(num_sr)))\n",
    "\n",
    "model.addConstrs((gp.quicksum(c[i][j] for i in range(num_sr)) <= 1 for j in range(num_bricks)))\n",
    "\n",
    "\n",
    "# Constraints\n",
    "model = add_constraints(\n",
    "    model,\n",
    "    index_values,\n",
    "    x,\n",
    "    lb=workload_balance_lower_bound,\n",
    "    ub=workload_balance_upper_bound,\n",
    "    num_bricks=num_bricks,\n",
    "    num_sr=num_sr,\n",
    ")\n",
    "\n",
    "# Minimize the total distance\n",
    "model.setObjective(\n",
    "    gp.quicksum(\n",
    "        sum(distances_between_bricks[j, :] * c[i]) * x[i][j]\n",
    "        for i in range(num_sr)\n",
    "        for j in range(num_bricks)\n",
    "    ),\n",
    "    GRB.MINIMIZE,\n",
    ")\n",
    "\n",
    "model.update()\n",
    "model.optimize()"
   ]
  },
  {
   "cell_type": "code",
   "execution_count": null,
   "metadata": {
    "id": "Ugaw3SHKuvC2"
   },
   "outputs": [],
   "source": [
    "np.argmax(c.x, axis=1) + 1"
   ]
  },
  {
   "cell_type": "code",
   "execution_count": null,
   "metadata": {
    "colab": {
     "base_uri": "https://localhost:8080/"
    },
    "id": "1J2qMERZumxG",
    "outputId": "a377fec5-6c07-4c27-bd21-6700104de03c"
   },
   "outputs": [],
   "source": [
    "get_report(x.x)"
   ]
  },
  {
   "cell_type": "code",
   "execution_count": null,
   "metadata": {
    "colab": {
     "base_uri": "https://localhost:8080/"
    },
    "id": "xieRAEA3WjVg",
    "outputId": "2346d963-9a8d-42ea-b7a8-c0ebe80cbd2d"
   },
   "outputs": [],
   "source": [
    "(\n",
    "    sum(\n",
    "        sum(distances_between_bricks[j, :] * c.x[i]) * x.x[i][j]\n",
    "        for i in range(num_sr)\n",
    "        for j in range(num_bricks)\n",
    "    ),\n",
    ")"
   ]
  },
  {
   "cell_type": "markdown",
   "metadata": {
    "id": "fe0yOCgfMVdL"
   },
   "source": [
    "## Fix % and number of SRs. Find p1 and p2"
   ]
  },
  {
   "cell_type": "code",
   "execution_count": null,
   "metadata": {
    "colab": {
     "base_uri": "https://localhost:8080/"
    },
    "id": "2oNEBuK4MbUw",
    "outputId": "27f92d89-e84c-4e98-aa6e-66f3570ae03e"
   },
   "outputs": [],
   "source": [
    "lb = 0.8\n",
    "ub = 1.2\n",
    "\n",
    "k = 0\n",
    "sr = num_sr + k\n",
    "iv = index_values + index_values * 0.3\n",
    "\n",
    "model = gp.Model(\"pfizer\", env=env)\n",
    "\n",
    "workload_balance_lower_bound = model.addMVar((1,), vtype=GRB.CONTINUOUS, lb=0.8)\n",
    "workload_balance_upper_bound = model.addMVar((1,), vtype=GRB.CONTINUOUS)\n",
    "\n",
    "x = model.addMVar((sr, num_bricks), vtype=GRB.BINARY)\n",
    "\n",
    "# c = model.addMVar((k, num_bricks), vtype=GRB.BINARY)\n",
    "# model.addConstrs((\n",
    "#     gp.quicksum(c[i][j] for j in range(num_bricks)) == 1\n",
    "#     for i in range(k)\n",
    "# ))\n",
    "\n",
    "\n",
    "# Constraints\n",
    "model = add_constraints(\n",
    "    model,\n",
    "    iv,\n",
    "    x,\n",
    "    lb=workload_balance_lower_bound,\n",
    "    ub=workload_balance_upper_bound,\n",
    "    num_bricks=num_bricks,\n",
    "    num_sr=sr,\n",
    ")\n",
    "\n",
    "# Minimize the total distance\n",
    "model.setObjective(\n",
    "    gp.quicksum(distances[i][j] * x[i][j] for i in range(num_sr) for j in range(num_bricks)),\n",
    "    GRB.MINIMIZE,\n",
    ")\n",
    "\n",
    "model.update()\n",
    "model.optimize()\n",
    "\n",
    "print(k, model.status)\n",
    "# if model.status == 3:\n",
    "#     print(f\"{k} don't work\")\n",
    "#     break"
   ]
  },
  {
   "cell_type": "code",
   "execution_count": null,
   "metadata": {
    "colab": {
     "base_uri": "https://localhost:8080/"
    },
    "id": "yLfiqsiWM2ts",
    "outputId": "86078f24-e624-4ca1-aa48-6add0914d3c6"
   },
   "outputs": [],
   "source": [
    "workload_balance_lower_bound.x, workload_balance_upper_bound.x"
   ]
  },
  {
   "cell_type": "markdown",
   "metadata": {
    "id": "hhmrXpsSQSWk"
   },
   "source": [
    "# Preference Learning"
   ]
  },
  {
   "cell_type": "markdown",
   "metadata": {
    "id": "OuooEDc8kzoV"
   },
   "source": [
    "## Preference in term of assignement of SRs"
   ]
  },
  {
   "cell_type": "code",
   "execution_count": null,
   "metadata": {
    "id": "RcgZsxXvktie"
   },
   "outputs": [],
   "source": [
    "weight_list = []\n",
    "dist_list = []\n",
    "disruption_list = []\n",
    "weights = np.arange(0, 4, 0.01)\n",
    "# weights = np.linspace(0,100,500)\n",
    "num_sr = 4\n",
    "num_bricks = 22\n",
    "workload_balance_lower_bound = 0.8\n",
    "workload_balance_upper_bound = 1.2\n",
    "pref1 = pd.read_csv(\"/content/preferences1.csv\")\n",
    "pref1 = np.array(pref1)\n",
    "pref = pref1\n",
    "for weight in weights:\n",
    "    model = gp.Model(\"pfizer\")\n",
    "    model.params.outputflag = 0\n",
    "    x = model.addMVar((num_sr, num_bricks), vtype=GRB.BINARY)\n",
    "    # model = add_constraints(model, index_values, x, lb=workload_balance_lower_bound, ub=workload_balance_upper_bound, num_bricks=num_bricks, num_sr=num_sr)\n",
    "    # obj = gp.quicksum(distances[i][j]*x[i][j] + weight*x[i][j]*pref[j][i] for i in range(num_sr) for j in range(num_bricks))\n",
    "\n",
    "    model.setObjective(\n",
    "        gp.quicksum(\n",
    "            distances[i][j] * x[i][j] + weight * x[i][j] * pref[j][i]\n",
    "            for i in range(num_sr)\n",
    "            for j in range(num_bricks)\n",
    "        ),\n",
    "        GRB.MINIMIZE,\n",
    "    )\n",
    "    model.update()\n",
    "    model.optimize()\n",
    "    # print(model.status)\n",
    "    if model.status == 2:\n",
    "        weight_list.append(weight)\n",
    "        dist = sum(distances[i][j] * x.x[i][j] for i in range(num_sr) for j in range(num_bricks))\n",
    "        dispution = sum(\n",
    "            index_values[j]\n",
    "            * (x.x[i][j] - x_current_structure[i][j])\n",
    "            * (x.x[i][j] - x_current_structure[i][j])\n",
    "            / 2\n",
    "            for i in range(num_sr)\n",
    "            for j in range(num_bricks)\n",
    "        )\n",
    "        dist_list.append(dist)\n",
    "        disruption_list.append(dispution)"
   ]
  },
  {
   "cell_type": "code",
   "execution_count": null,
   "metadata": {
    "id": "lwnpSF9EpJw_"
   },
   "outputs": [],
   "source": [
    "with plt.style.context(\"science\"):\n",
    "    fig, ax = plt.subplots(1, 1, figsize=(7, 7))\n",
    "\n",
    "    ax.plot(weights, dist_list, \"-o\", label=\"Relocating Sales Representatives' Offices\")\n",
    "    # ax.plot(F2_weighted_no_partial_assignement, F1_weighted_no_partial_assignement, \"-o\", label=\"Fixed center bricks\")\n",
    "\n",
    "    ax.set_xlabel(\"Weights\")\n",
    "    ax.set_ylabel(\"Distance\")\n",
    "    ax.grid()\n",
    "\n",
    "fig.savefig(f\"figures/weights_and_distances.pdf\", dpi=500)\n",
    "plt.show()"
   ]
  },
  {
   "cell_type": "markdown",
   "metadata": {
    "id": "2yR3FhdTku-Z"
   },
   "source": [
    "## Preference in terme of solution"
   ]
  },
  {
   "cell_type": "code",
   "execution_count": null,
   "metadata": {
    "id": "PXNQrMcSeiLM"
   },
   "outputs": [],
   "source": [
    "from gurobipy import *\n",
    "\n",
    "\n",
    "def rank(list_alternatives, partial_ranking, L):\n",
    "    nb_alternatives = len(partial_ranking)\n",
    "    nb_criteria = len(partial_ranking[0])\n",
    "\n",
    "    epsilon = 0.001\n",
    "\n",
    "    min_criterion = [np.min(list_alternatives[:, i]) for i in range(nb_criteria)]\n",
    "    max_criterion = [np.max(list_alternatives[:, i]) for i in range(nb_criteria)]\n",
    "\n",
    "    values = []\n",
    "    for i in range(nb_criteria):\n",
    "        values_criterion = []\n",
    "        for j in range(L + 1):\n",
    "            values_criterion.append(\n",
    "                min_criterion[i] + j * (max_criterion[i] - min_criterion[i]) / L\n",
    "            )\n",
    "        values.append(values_criterion)\n",
    "\n",
    "    m = Model(\"TD8-Ex2\")\n",
    "\n",
    "    # Variables de bruit :\n",
    "    noise_pos = {\n",
    "        i: m.addVar(vtype=GRB.CONTINUOUS, lb=0, name=f\"noise-pos_{i}\")\n",
    "        for i in range(nb_alternatives)\n",
    "    }\n",
    "    noise_neg = {\n",
    "        i: m.addVar(vtype=GRB.CONTINUOUS, lb=0, name=f\"noise-neg_{i}\")\n",
    "        for i in range(nb_alternatives)\n",
    "    }\n",
    "\n",
    "    # Variables de découpage linéaire sur la fonction de valeur des critères\n",
    "    s = {\n",
    "        (i, j): m.addVar(vtype=GRB.CONTINUOUS, name=f\"s_{i}_{j}\")\n",
    "        for j in range(L + 1)\n",
    "        for i in range(nb_criteria)\n",
    "    }\n",
    "\n",
    "    # estimated value of the evaluation of the alternatives\n",
    "    estimate = {\n",
    "        (i, j): m.addVar(vtype=GRB.CONTINUOUS, name=f\"estimate_{i}_{j}\")\n",
    "        for j in range(nb_criteria)\n",
    "        for i in range(nb_alternatives)\n",
    "    }\n",
    "\n",
    "    # Contraintes de normalisation\n",
    "    lower_bound = {\n",
    "        i: m.addConstr(s[i, 0] == 0, name=\"lower_bound_normalization\") for i in range(nb_criteria)\n",
    "    }\n",
    "    sum_to_one = m.addConstr(\n",
    "        (quicksum(s[i, L] for i in range(nb_criteria))) == 1, name=\"sum_to_one\"\n",
    "    )\n",
    "\n",
    "    # Contraintes de monotonie\n",
    "    monotonicity = {\n",
    "        i: {k: m.addConstr(s[i, k + 1] >= s[i, k], name=\"monotonicity\") for k in range(L)}\n",
    "        for i in range(nb_criteria)\n",
    "    }\n",
    "\n",
    "    # Contraintes de préférences\n",
    "    for i in range(nb_alternatives):\n",
    "        for j in range(nb_criteria):\n",
    "            for k in range(L):\n",
    "                if values[j][k] <= partial_ranking[i][j] <= values[j][k + 1]:\n",
    "                    m.addConstr(\n",
    "                        estimate[i, j]\n",
    "                        == s[j, k]\n",
    "                        + (\n",
    "                            (partial_ranking[i][j] - values[j][k])\n",
    "                            / (values[j][k + 1] - values[j][k])\n",
    "                        )\n",
    "                        * (s[j, k + 1] - s[j, k]),\n",
    "                        name=f\"estimate_{i}_{j}\",\n",
    "                    )\n",
    "    pref = {\n",
    "        i: m.addConstr(\n",
    "            quicksum([estimate[(i, j)] for j in range(nb_criteria)])\n",
    "            - quicksum(\n",
    "                [\n",
    "                    estimate[(l, j)]\n",
    "                    for j in range(nb_criteria)\n",
    "                    for l in range(nb_alternatives)\n",
    "                    if l == i + 1\n",
    "                ]\n",
    "            )\n",
    "            - noise_pos[i]\n",
    "            + noise_neg[i]\n",
    "            >= -noise_pos[i + 1] + noise_neg[i + 1] + epsilon\n",
    "        )\n",
    "        for i in range(nb_alternatives - 1)\n",
    "    }\n",
    "\n",
    "    # Fonction objectif\n",
    "    m.setObjective(sum(noise_pos[i] + noise_neg[i] for i in range(nb_alternatives)), GRB.MINIMIZE)\n",
    "\n",
    "    m.update()\n",
    "    # print(m.display())\n",
    "\n",
    "    # -- Choix d'un paramétrage d'affichage minimaliste --\n",
    "    m.params.outputflag = 0  # mode muet\n",
    "\n",
    "    # -- Résolution --\n",
    "    m.optimize()\n",
    "\n",
    "    # -- Vérification du statut et Affichage (le cas échéant) des solutions --\n",
    "    if m.status == GRB.INF_OR_UNBD:\n",
    "        m.setParam(GRB.Param.Presolve, 0)\n",
    "        m.optimize()\n",
    "\n",
    "    if m.status == GRB.INFEASIBLE:\n",
    "        print(m.display(), \"\\n\\tN'A PAS DE SOLUTION!!!\")\n",
    "        return None\n",
    "    elif m.status == GRB.UNBOUNDED:\n",
    "        print(m.display(), \"\\n\\tEST NON BORNÉ!!!\")\n",
    "        return None\n",
    "    else:\n",
    "        # Affichage des fonctions linéaires par morceaux :\n",
    "        # print(m.objVal)\n",
    "        # print()\n",
    "        # for i in range(nb_criteria):\n",
    "        #    for j in range(L):\n",
    "        #        print(s[i,j].x, end = \" \")\n",
    "        #    print(s[i,L].x)\n",
    "        # print()\n",
    "\n",
    "        final_evaluations = np.zeros(len(list_alternatives))\n",
    "        for i in range(len(list_alternatives)):\n",
    "            eval = 0\n",
    "            for j in range(nb_criteria):\n",
    "                eval_criterion = 0\n",
    "                for k in range(L):\n",
    "                    if values[j][k] <= list_alternatives[i][j] <= values[j][k + 1]:\n",
    "                        eval_criterion = s[j, k].x + (list_alternatives[i][j] - values[j][k]) / (\n",
    "                            values[j][k + 1] - values[j][k]\n",
    "                        ) * (s[j, k + 1].x - s[j, k].x)\n",
    "                eval = eval + eval_criterion\n",
    "            final_evaluations[i] = eval\n",
    "            # print(eval)\n",
    "\n",
    "        # Tri (et affichage) des tuples décrivant les évaluations des alternatives sur les différents critères en fonction de la fonction d'utilité linéaire par morceaux déduite\n",
    "        # zipped_lists = zip(final_evaluations,list_alternatives)\n",
    "        # sorted_zipped_lists = sorted(zipped_lists, key=lambda x: x[0], reverse=True)\n",
    "        # sorted_alternatives = [element for _, element in sorted_zipped_lists]\n",
    "        # print(sorted_alternatives)\n",
    "\n",
    "        # Output : l'ordre de préférence déduit sur les alternatives (les alternatives sont représentées par leur indice dans le tableau de départ)\n",
    "        return sorted(\n",
    "            range(len(final_evaluations)),\n",
    "            key=lambda k: final_evaluations[k],\n",
    "            reverse=True,\n",
    "        )\n",
    "\n",
    "\n",
    "# print(\"Le nouveau classement des universités est le suivant : \",rank(new_universities,reference_universities,4))\n",
    "# print(\"Le nouveau classement des voitures est le suivant : \",rank(new_cars,reference_cars,4))"
   ]
  },
  {
   "cell_type": "code",
   "execution_count": null,
   "metadata": {
    "id": "FXYLadxxCup5"
   },
   "outputs": [],
   "source": [
    "with plt.style.context(\"science\"):\n",
    "    fig, ax = plt.subplots(1, 1, figsize=(7, 7))\n",
    "\n",
    "    ax.scatter(\n",
    "        F2_weighted_no_partial_assignement,\n",
    "        F1_weighted_no_partial_assignement,\n",
    "        c=\"b\",\n",
    "        label=\"\",\n",
    "    )\n",
    "    ax.scatter(\n",
    "        F2_epsilon_method_no_partial_assignement,\n",
    "        F1_epsilon_method_no_partial_assignement,\n",
    "        c=\"b\",\n",
    "        label=\"\",\n",
    "    )\n",
    "\n",
    "    # for i, (a, b) in enumerate(zip(F2_epsilon_method_no_partial_assignement, F1_epsilon_method_no_partial_assignement)):\n",
    "    #     ax.text(a+1e-2, b+5e-1, i, size=15)\n",
    "\n",
    "    # plt.scatter(0.4996, 166.47, c=\"r\")\n",
    "\n",
    "    plt.scatter(A[:, 0], A[:, 1], c=\"r\")\n",
    "    for i, (a, b) in enumerate(zip(A[:, 0], A[:, 1])):\n",
    "        ax.text(a + 1e-2, b + 5e-1, i + 1, size=15)\n",
    "\n",
    "    ax.set_xlabel(\"Disruption\")\n",
    "    ax.set_ylabel(\"Distance\")\n",
    "    ax.grid()\n",
    "    # ax.legend()\n",
    "\n",
    "fig.savefig(f\"figures/preference_2.pdf\", dpi=500)\n",
    "plt.show()"
   ]
  },
  {
   "cell_type": "code",
   "execution_count": null,
   "metadata": {
    "id": "RJ4ThNsTkpJV"
   },
   "outputs": [],
   "source": []
  }
 ],
 "metadata": {
  "colab": {
   "provenance": []
  },
  "kernelspec": {
   "display_name": "Python 3 (ipykernel)",
   "language": "python",
   "name": "python3"
  },
  "language_info": {
   "codemirror_mode": {
    "name": "ipython",
    "version": 3
   },
   "file_extension": ".py",
   "mimetype": "text/x-python",
   "name": "python",
   "nbconvert_exporter": "python",
   "pygments_lexer": "ipython3",
   "version": "3.13.2"
  },
  "widgets": {
   "application/vnd.jupyter.widget-state+json": {
    "state": {},
    "version_major": 2,
    "version_minor": 0
   }
  }
 },
 "nbformat": 4,
 "nbformat_minor": 4
}
