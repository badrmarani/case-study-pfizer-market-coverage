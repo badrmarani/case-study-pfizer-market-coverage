{
  "cells": [
    {
      "cell_type": "markdown",
      "metadata": {
        "id": "view-in-github",
        "colab_type": "text"
      },
      "source": [
        "<a href=\"https://colab.research.google.com/github/badrmarani/case-study-pfizer-tr-market-coverage/blob/master/case_study_pfizer_solver.ipynb\" target=\"_parent\"><img src=\"https://colab.research.google.com/assets/colab-badge.svg\" alt=\"Open In Colab\"/></a>"
      ]
    },
    {
      "cell_type": "code",
      "execution_count": null,
      "metadata": {
        "id": "cesGCjZjh1Q5"
      },
      "outputs": [],
      "source": [
        "%reset -f"
      ]
    },
    {
      "cell_type": "code",
      "execution_count": null,
      "metadata": {
        "id": "2pwpiYG6YF2y"
      },
      "outputs": [],
      "source": [
        "!pip install --quiet gurobipy scienceplots latex"
      ]
    },
    {
      "cell_type": "code",
      "execution_count": null,
      "metadata": {
        "id": "1F7la-g5a6Pn"
      },
      "outputs": [],
      "source": [
        "!apt-get install texlive-latex-extra texlive-fonts-recommended dvipng cm-super"
      ]
    },
    {
      "cell_type": "code",
      "execution_count": null,
      "metadata": {
        "id": "XM18NBdHqCwD"
      },
      "outputs": [],
      "source": [
        "import scienceplots\n",
        "\n",
        "import gurobipy as gp\n",
        "from gurobipy import GRB\n",
        "\n",
        "import matplotlib.pyplot as plt\n",
        "import pandas as pd\n",
        "import numpy as np\n",
        "import math\n",
        "import itertools\n",
        "from tqdm.notebook import tqdm\n",
        "\n",
        "import os\n",
        "os.makedirs(\"figures/\", exist_ok=True)\n"
      ]
    },
    {
      "cell_type": "code",
      "execution_count": null,
      "metadata": {
        "id": "ZBA49bSlgH0-"
      },
      "outputs": [],
      "source": [
        "params = {\n",
        "    \"WLSACCESSID\": os.environ[\"WLSACCESSID\"],\n",
        "    \"WLSSECRET\": os.environ[\"WLSSECRET\"],\n",
        "    \"LICENSEID\": os.environ[\"LICENSEID\"],\n",
        "}\n",
        "\n",
        "env = gp.Env(params=params)\n"
      ]
    },
    {
      "cell_type": "code",
      "execution_count": null,
      "metadata": {
        "id": "PG2FWqdXKa3N"
      },
      "outputs": [],
      "source": [
        "def convert_dict_to_binary_matrix(d):\n",
        "    df = pd.concat([\n",
        "            pd.Series(v, name=k).astype(str) for k, v in d.items()\n",
        "        ],\n",
        "        axis=1\n",
        "    )\n",
        "    df = pd.get_dummies(df.stack()).groupby(level=1).sum().clip(upper=1)\n",
        "    df.columns = [int(c) for c in df.columns]\n",
        "    df = df.reindex(sorted(df.columns), axis=1)\n",
        "    return df.values\n",
        "\n",
        "def get_report(assignments):\n",
        "    \"\"\"This function takes the best optimal solution found by Gurobi\n",
        "    and generate a `smallish` report as to ease reading the results.\n",
        "    \"\"\"\n",
        "    t = assignments.argmax(axis=0) + 1\n",
        "\n",
        "    solution = {}\n",
        "    bricks = np.arange(1, num_bricks+1)\n",
        "    for i in range(1, 4+1):\n",
        "        indices = np.nonzero(t == i)\n",
        "        solution[i] = (\n",
        "            distances[i-1, indices].sum(),\n",
        "            index_values[indices].sum(),\n",
        "            bricks[indices]\n",
        "        )\n",
        "\n",
        "    print(\"Structure of Sales Territories:\")\n",
        "    for k, v in solution.items():\n",
        "        distance_per_sr, index_value_per_sr, assigned_bricks = v\n",
        "        print(f\"SR{k} (iv:{index_value_per_sr:.3f} - distance:{distance_per_sr:.3f}):\", assigned_bricks)\n",
        "\n",
        "    total_distance = np.sum(distances*assignments)\n",
        "    disruption = np.sum((assignments - x_current_structure)**2 * index_values / 2)\n",
        "\n",
        "    print(\"Disruption:\", disruption)\n",
        "    print(\"Total distance:\", total_distance)\n",
        "    return disruption, total_distance\n"
      ]
    },
    {
      "cell_type": "markdown",
      "metadata": {
        "id": "T8pL4wT9VI3J"
      },
      "source": [
        "# Parameters"
      ]
    },
    {
      "cell_type": "code",
      "execution_count": null,
      "metadata": {
        "id": "hkyxkNQuKFLR"
      },
      "outputs": [],
      "source": [
        "current_structure_of_sales_territories = {\n",
        "    1: [4, 5, 6, 7, 8, 15],\n",
        "    2: [10, 11, 12, 13, 14],\n",
        "    3: [9, 16, 17, 18],\n",
        "    4: [1, 2, 3, 19, 20, 21, 22]\n",
        "}\n",
        "\n",
        "x_current_structure = convert_dict_to_binary_matrix(current_structure_of_sales_territories)"
      ]
    },
    {
      "cell_type": "code",
      "execution_count": null,
      "metadata": {
        "id": "jxzZCJt_5g2H"
      },
      "outputs": [],
      "source": [
        "distances_df = pd.read_excel(\"/content/distances.xlsx\", index_col=1, header=1)\n",
        "distances_df.dropna(inplace=True, axis=1)\n",
        "distances = distances_df.values.T\n",
        "\n",
        "distances_between_bricks_df = pd.read_excel(\"/content/distances.xlsx\", index_col=1, header=1, sheet_name=1)\n",
        "distances_between_bricks_df.dropna(inplace=True, axis=1)\n",
        "distances_between_bricks = distances_between_bricks_df.values\n",
        "\n",
        "index_values_df = pd.read_excel(\n",
        "    \"/content/indexValues.xlsx\",\n",
        "    header=None,\n",
        "    names=[\"brick\", \"index_value\"],\n",
        "    index_col=0\n",
        ")\n",
        "index_values = index_values_df.values.squeeze(1)\n",
        "\n"
      ]
    },
    {
      "cell_type": "code",
      "execution_count": null,
      "metadata": {
        "id": "MKbdyP0V-UZY"
      },
      "outputs": [],
      "source": [
        "num_bricks = distances_df.shape[0]\n",
        "num_sr = distances_df.shape[1]\n",
        "\n",
        "print(\"Number of bricks:\", num_bricks)\n",
        "print(\"Number of sales representatives:\", num_sr)\n"
      ]
    },
    {
      "cell_type": "code",
      "execution_count": null,
      "metadata": {
        "id": "fkb43DXU6vwF"
      },
      "outputs": [],
      "source": [
        "results = {\n",
        "    \"disruption\": [],\n",
        "    \"total_distance\": [],\n",
        "}"
      ]
    },
    {
      "cell_type": "code",
      "execution_count": null,
      "metadata": {
        "id": "91Kiqc7U3h5G"
      },
      "outputs": [],
      "source": [
        "# current structure\n",
        "disruption, total_distance = get_report(assignments=x_current_structure)\n",
        "\n",
        "results[\"disruption\"].append(disruption)\n",
        "results[\"total_distance\"].append(total_distance)\n"
      ]
    },
    {
      "cell_type": "markdown",
      "metadata": {
        "id": "-o3YTT2aU80h"
      },
      "source": [
        "# Mathematical Formulation"
      ]
    },
    {
      "cell_type": "code",
      "execution_count": null,
      "metadata": {
        "id": "POcIx8djU8b7"
      },
      "outputs": [],
      "source": [
        "def add_workload_balance_constraint(model, index_values, x, lb, ub, num_bricks, num_sr):\n",
        "    model.addConstrs((\n",
        "        lb <= gp.quicksum(index_values[j] * x[i][j] for j in range(num_bricks))\n",
        "        for i in range(num_sr)\n",
        "    ), name=\"left_workload_balance\")\n",
        "\n",
        "    model.addConstrs((\n",
        "        gp.quicksum(index_values[j] * x[i][j] for j in range(num_bricks)) <= ub\n",
        "        for i in range(num_sr)\n",
        "    ), name=\"right_workload_balance\")\n",
        "\n",
        "    return model\n",
        "\n",
        "def add_no_partial_assignment_cosntraint(model, x, num_bricks, num_sr):\n",
        "    model.addConstrs((\n",
        "        gp.quicksum(x[i][j] for i in range(num_sr)) == 1\n",
        "        for j in range(num_bricks)\n",
        "    ), name=\"no_partial_assignments\")\n",
        "\n",
        "    return model\n",
        "\n",
        "def add_constraints(model, index_values, x, lb, ub, num_bricks, num_sr):\n",
        "    model.update()\n",
        "    model = add_workload_balance_constraint(model, index_values, x, lb, ub, num_bricks, num_sr)\n",
        "    model = add_no_partial_assignment_cosntraint(model, x, num_bricks, num_sr)\n",
        "    return model\n"
      ]
    },
    {
      "cell_type": "code",
      "execution_count": null,
      "metadata": {
        "id": "AXfXHf60qInX"
      },
      "outputs": [],
      "source": [
        "def get_ideal_nadir_point(\n",
        "    workload_balance_lower_bound: float,\n",
        "    workload_balance_upper_bound: float,\n",
        "):\n",
        "    model = gp.Model(\"pfizer\")\n",
        "    model.params.outputflag = 0\n",
        "\n",
        "    # Decision variables\n",
        "    x = model.addMVar((num_sr, num_bricks), vtype=GRB.BINARY)\n",
        "\n",
        "    # Add constraints\n",
        "    model = add_constraints(model, index_values, x, lb=workload_balance_lower_bound, ub=workload_balance_upper_bound, num_bricks=num_bricks, num_sr=num_sr)\n",
        "\n",
        "    # Minimize the total distance\n",
        "    model.setObjective(\n",
        "        gp.quicksum(\n",
        "            distances[i][j] * x[i][j]\n",
        "            for i in range(num_sr)\n",
        "            for j in range(num_bricks)\n",
        "        ),\n",
        "        GRB.MINIMIZE\n",
        "    )\n",
        "\n",
        "    model.update()\n",
        "    model.optimize()\n",
        "    max_disruption, max_total_distance = get_report(assignments=x.x)\n",
        "    min_disruption, min_total_distance = get_report(assignments=x.x)\n",
        "\n",
        "\n",
        "    model = gp.Model(\"pfizer\")\n",
        "    model.params.outputflag = 0\n",
        "\n",
        "    # Decision variables\n",
        "    x = model.addMVar((num_sr, num_bricks), vtype=GRB.BINARY)\n",
        "\n",
        "    # Add constraints\n",
        "    model = add_constraints(model, index_values, x, lb=workload_balance_lower_bound, ub=workload_balance_upper_bound, num_bricks=num_bricks, num_sr=num_sr)\n",
        "\n",
        "    # Minimize the total disruption between SRs\n",
        "    model.setObjective(\n",
        "        gp.quicksum(\n",
        "            index_values[j] * (x[i][j] - x_current_structure[i][j]) * (x[i][j] - x_current_structure[i][j]) / 2\n",
        "            for i in range(num_sr)\n",
        "            for j in range(num_bricks)\n",
        "        ),\n",
        "        GRB.MINIMIZE\n",
        "    )\n",
        "\n",
        "    model.update()\n",
        "    model.optimize()\n",
        "    disruption, total_distance = get_report(assignments=x.x)\n",
        "\n",
        "\n",
        "    min_disruption = min(min_disruption, disruption)\n",
        "    min_total_distance = min(min_total_distance, total_distance)\n",
        "\n",
        "    max_disruption = max(max_disruption, disruption)\n",
        "    max_total_distance = max(max_total_distance, total_distance)\n",
        "\n",
        "    return min_disruption, min_total_distance, max_disruption, max_total_distance"
      ]
    },
    {
      "cell_type": "markdown",
      "metadata": {
        "id": "XH1iRCZa1pOv"
      },
      "source": [
        "# Mono-objective problem"
      ]
    },
    {
      "cell_type": "markdown",
      "metadata": {
        "id": "zrrqts-q1Uyi"
      },
      "source": [
        "## Minimize the totale distance"
      ]
    },
    {
      "cell_type": "code",
      "execution_count": null,
      "metadata": {
        "id": "DxqydbYSXuW6"
      },
      "outputs": [],
      "source": [
        "lb = 0.8\n",
        "ub = 1.2"
      ]
    },
    {
      "cell_type": "code",
      "execution_count": null,
      "metadata": {
        "id": "lArQuNwQ1bSy"
      },
      "outputs": [],
      "source": [
        "model = gp.Model(\"pfizer\")\n",
        "\n",
        "# Decision variables\n",
        "x = model.addMVar((num_sr, num_bricks), vtype=GRB.BINARY)\n",
        "\n",
        "# Add constraints\n",
        "model = add_constraints(model, index_values, x, lb=lb, ub=ub, num_bricks=num_bricks, num_sr=num_sr)\n",
        "\n",
        "# Minimize the total distance\n",
        "model.setObjective(\n",
        "    gp.quicksum(\n",
        "        distances[i][j] * x[i][j]\n",
        "        for i in range(num_sr)\n",
        "        for j in range(num_bricks)\n",
        "    ),\n",
        "    GRB.MINIMIZE\n",
        ")\n",
        "\n",
        "model.update()\n",
        "model.optimize()\n"
      ]
    },
    {
      "cell_type": "code",
      "execution_count": null,
      "metadata": {
        "id": "OnkU3D7-2a7D"
      },
      "outputs": [],
      "source": [
        "disruption, total_distance = get_report(assignments=x.x)\n",
        "\n",
        "results[\"disruption\"].append(disruption)\n",
        "results[\"total_distance\"].append(total_distance)\n"
      ]
    },
    {
      "cell_type": "markdown",
      "metadata": {
        "id": "BraG-_oQ1dC_"
      },
      "source": [
        "## Minimize the total disruption between SRs"
      ]
    },
    {
      "cell_type": "code",
      "execution_count": null,
      "metadata": {
        "id": "rfxMiNFb2nrj"
      },
      "outputs": [],
      "source": [
        "model = gp.Model(\"pfizer\")\n",
        "\n",
        "# Decision variables\n",
        "x = model.addMVar((num_sr, num_bricks), vtype=GRB.BINARY)\n",
        "\n",
        "# Add constraints\n",
        "model = add_constraints(model, index_values, x, lb=0.8, ub=1.2, num_bricks=num_bricks, num_sr=num_sr)\n",
        "\n",
        "# Minimize the total disruption between SRs\n",
        "model.setObjective(\n",
        "    gp.quicksum(\n",
        "        index_values[j] * (x[i][j] - x_current_structure[i][j]) * (x[i][j] - x_current_structure[i][j]) / 2\n",
        "        for i in range(num_sr)\n",
        "        for j in range(num_bricks)\n",
        "    ),\n",
        "    GRB.MINIMIZE\n",
        ")\n",
        "\n",
        "model.update()\n",
        "model.optimize()\n"
      ]
    },
    {
      "cell_type": "code",
      "execution_count": null,
      "metadata": {
        "id": "FqF12Hyu1ZII"
      },
      "outputs": [],
      "source": [
        "disruption, total_distance = get_report(assignments=x.x)\n",
        "\n",
        "results[\"disruption\"].append(disruption)\n",
        "results[\"total_distance\"].append(total_distance)\n"
      ]
    },
    {
      "cell_type": "code",
      "execution_count": null,
      "metadata": {
        "id": "JypPQWM-5KCk"
      },
      "outputs": [],
      "source": [
        "df = pd.DataFrame(\n",
        "    results,\n",
        "    index=[\n",
        "        \"Current structure\",\n",
        "        \"Minimizing the total distance\",\n",
        "        \"Minimizing the total disruption\",\n",
        "    ]\n",
        ")\n",
        "\n",
        "df.rename(columns={\n",
        "    \"disruption\": \"Disruption\",\n",
        "    \"total_distance\": \"Total distance\",\n",
        "}, inplace=True)\n",
        "\n",
        "df"
      ]
    },
    {
      "cell_type": "code",
      "execution_count": null,
      "metadata": {
        "id": "cltpAcJD79jw"
      },
      "outputs": [],
      "source": [
        "fig, axes = plt.subplots(1, 2, figsize=(15, 5))\n",
        "df.T.iloc[[0], :].plot(kind=\"bar\", ax=axes[0], legend=False, grid=True, rot=0)\n",
        "df.T.iloc[[1], :].plot(kind=\"bar\", ax=axes[1], legend=False, grid=True, rot=0)\n",
        "\n",
        "lines, labels = fig.axes[0].get_legend_handles_labels()\n",
        "fig.legend(lines, labels, loc='upper center', ncol=3)"
      ]
    },
    {
      "cell_type": "markdown",
      "metadata": {
        "id": "KitvkGXC1uSl"
      },
      "source": [
        "# Multi-objective problem"
      ]
    },
    {
      "cell_type": "markdown",
      "metadata": {
        "id": "UHzZC4fQoY-N"
      },
      "source": [
        "## The $\\varepsilon$ - constraint method"
      ]
    },
    {
      "cell_type": "code",
      "execution_count": null,
      "metadata": {
        "id": "I3PXu4Z7d3dx"
      },
      "outputs": [],
      "source": [
        "def epsilon_constrain_method(\n",
        "    x_current_structure,\n",
        "    index_values,\n",
        "    error: float = 1e-3,\n",
        "    workload_balance_lower_bound: float = 0.8,\n",
        "    workload_balance_upper_bound: float = 1.2,\n",
        "):\n",
        "\n",
        "    F1, F2 = [], []\n",
        "    X = []\n",
        "\n",
        "    epsilon = math.inf\n",
        "\n",
        "    for i in tqdm(itertools.count(start=1)):\n",
        "        model = gp.Model(\"pfizer\", env=env)\n",
        "        model.params.outputflag = 0\n",
        "\n",
        "        # Decision variables\n",
        "        x = model.addMVar((num_sr, num_bricks), vtype=GRB.BINARY)\n",
        "\n",
        "        # Constraints\n",
        "        model = add_constraints(model, index_values, x, lb=workload_balance_lower_bound, ub=workload_balance_upper_bound, num_bricks=num_bricks, num_sr=num_sr)\n",
        "\n",
        "        # The epsilon constraint\n",
        "        model.addConstr(\n",
        "            gp.quicksum(\n",
        "                index_values[j] * (x[i][j] - x_current_structure[i][j])*(x[i][j] - x_current_structure[i][j]) / 2\n",
        "                for i in range(num_sr)\n",
        "                for j in range(num_bricks)\n",
        "            ) <= epsilon,\n",
        "            name=\"disruption\"\n",
        "        )\n",
        "\n",
        "        # Minimize the total distance\n",
        "        model.setObjective(\n",
        "            gp.quicksum(\n",
        "                distances[i][j] * x[i][j]\n",
        "                for i in range(num_sr)\n",
        "                for j in range(num_bricks)\n",
        "            ),\n",
        "            GRB.MINIMIZE\n",
        "        )\n",
        "\n",
        "        model.update()\n",
        "        model.optimize()\n",
        "\n",
        "        if model.status == 3:\n",
        "            print(\n",
        "                \"Model was proven to be unbounded.\",\n",
        "                \"No more non-dominated solutions.\"\n",
        "            )\n",
        "            break\n",
        "        else:\n",
        "            f1 = model.getObjective().getValue()\n",
        "            f2 =  sum(\n",
        "                index_values[j] * (x.x[i][j] - x_current_structure[i][j])**2 / 2\n",
        "                for i in range(num_sr)\n",
        "                for j in range(num_bricks)\n",
        "            )\n",
        "\n",
        "            F1.append(f1)\n",
        "            F2.append(f2)\n",
        "            X.append(x.x)\n",
        "\n",
        "            epsilon = f2 - error\n",
        "            print(f\"Iteration {i}: f1:{f1:.3f}, f2:{f2:.3f}\")\n",
        "\n",
        "    return F1, F2, X\n"
      ]
    },
    {
      "cell_type": "markdown",
      "metadata": {
        "id": "heITtLZXopyn"
      },
      "source": [
        "## The weighted sum"
      ]
    },
    {
      "cell_type": "code",
      "execution_count": null,
      "metadata": {
        "id": "ueaC43sHqG0e"
      },
      "outputs": [],
      "source": [
        "def weighted_sum_method(\n",
        "    x_current_structure,\n",
        "    index_values,\n",
        "    weights,\n",
        "    workload_balance_lower_bound: float = 0.8,\n",
        "    workload_balance_upper_bound: float = 1.2,\n",
        "):\n",
        "    F1, F2 = [], []\n",
        "    X = []\n",
        "\n",
        "    for w in tqdm(weights):\n",
        "        model = gp.Model(\"pfizer\", env=env)\n",
        "        model.params.outputflag = 0\n",
        "\n",
        "        # decision variables\n",
        "        x = model.addMVar((num_sr, num_bricks), vtype=GRB.BINARY)\n",
        "\n",
        "        # Constraints\n",
        "        model = add_constraints(model, index_values, x, lb=workload_balance_lower_bound, ub=workload_balance_upper_bound, num_bricks=num_bricks, num_sr=num_sr)\n",
        "\n",
        "        # minimize the weighted sum between the total distance and the disruption\n",
        "        f1f2 =  gp.quicksum(\n",
        "            distances[i][j] * x[i][j] + w * index_values[j] * (x[i][j] - x_current_structure[i][j]) * (x[i][j] - x_current_structure[i][j]) / 2\n",
        "            for i in range(num_sr)\n",
        "            for j in range(num_bricks)\n",
        "        )\n",
        "\n",
        "        model.setObjective(f1f2, GRB.MINIMIZE)\n",
        "        model.update()\n",
        "        model.optimize()\n",
        "\n",
        "        f1 = sum(\n",
        "            distances[i][j] * x.x[i][j]\n",
        "            for i in range(num_sr)\n",
        "            for j in range(num_bricks)\n",
        "        )\n",
        "        f2 = sum(\n",
        "            index_values[j] * (x.x[i][j] - x_current_structure[i][j])**2 / 2\n",
        "            for i in range(num_sr)\n",
        "            for j in range(num_bricks)\n",
        "        )\n",
        "\n",
        "        F1.append(f1)\n",
        "        F2.append(f2)\n",
        "        X.append(x.x)\n",
        "\n",
        "    return F1, F2, X\n"
      ]
    },
    {
      "cell_type": "markdown",
      "metadata": {
        "id": "c7othoD-4d1T"
      },
      "source": [
        "## Summary"
      ]
    },
    {
      "cell_type": "code",
      "execution_count": null,
      "metadata": {
        "id": "ud-ihs_Nw_E4"
      },
      "outputs": [],
      "source": [
        "lb = 0.8\n",
        "ub = 1.2\n",
        "\n",
        "F1_epsilon_method_no_partial_assignement, F2_epsilon_method_no_partial_assignement, X = epsilon_constrain_method(\n",
        "    x_current_structure,\n",
        "    index_values=index_values,\n",
        "    error=1e-4,\n",
        "    workload_balance_lower_bound=lb,\n",
        "    workload_balance_upper_bound=ub,\n",
        ")\n",
        "\n",
        "weights = np.linspace(0.0, 200.0, 100)\n",
        "F1_weighted_no_partial_assignement, F2_weighted_no_partial_assignement, X = weighted_sum_method(\n",
        "    x_current_structure=x_current_structure,\n",
        "    index_values=index_values,\n",
        "    weights=weights,\n",
        "    workload_balance_lower_bound=lb,\n",
        "    workload_balance_upper_bound=ub,\n",
        ")\n",
        "\n",
        "logs = []\n",
        "logs.append([f\"{lb}, {ub}\", F1_weighted_no_partial_assignement, F2_weighted_no_partial_assignement])\n",
        "\n",
        "# ideal and nadir point\n",
        "ideal_disruption, ideal_distance, nadir_disruption, nadir_distance = get_ideal_nadir_point(lb, ub)\n"
      ]
    },
    {
      "cell_type": "code",
      "execution_count": null,
      "metadata": {
        "id": "u7kdvjlueL7k"
      },
      "outputs": [],
      "source": [
        " with plt.style.context('science'):\n",
        "    fig, ax = plt.subplots(1, 1, figsize=(6, 6))\n",
        "    # ax.scatter(F2_epsilon_method_no_partial_assignement, F1_epsilon_method_no_partial_assignement, marker=\"o\", c=\"k\", s=15, label=\"Non-dominated solution\")\n",
        "    ax.scatter(F2_weighted_no_partial_assignement, F1_weighted_no_partial_assignement, marker=\"o\", s=15, c=\"r\", zorder=2.5, label=\"Supported non-dominated solution\")\n",
        "    ax.plot(F2_weighted_no_partial_assignement, F1_weighted_no_partial_assignement, \"-or\", zorder=2.5)\n",
        "\n",
        "    ax.scatter(ideal_disruption, ideal_distance, marker=\"*\", s=100, c=\"b\", label=\"Ideal point\")\n",
        "    ax.axvline(x=ideal_disruption, zorder=0, c=\"k\", linestyle=\"--\", alpha=0.8)\n",
        "    ax.axhline(y=ideal_distance, zorder=0, c=\"k\", linestyle=\"--\", alpha=0.8)\n",
        "\n",
        "    ax.scatter(nadir_disruption, nadir_distance, marker=\"*\", s=100, c=\"g\", label=\"Nadir point\")\n",
        "    ax.axvline(x=nadir_disruption, zorder=0, c=\"k\", linestyle=\"--\", alpha=0.8)\n",
        "    ax.axhline(y=nadir_distance, zorder=0, c=\"k\", linestyle=\"--\", alpha=0.8)\n",
        "\n",
        "    # ax.set_title(f\"{lb}, {ub}\")\n",
        "    ax.set_xlabel(\"Disruption\")\n",
        "    ax.set_ylabel(\"Distance\")\n",
        "    ax.grid()\n",
        "    ax.legend()\n",
        "\n",
        "fig.savefig(f\"figures/weighted_sum_method_{lb}_{ub}.pdf\", dpi=500)\n",
        "plt.show()"
      ]
    },
    {
      "cell_type": "code",
      "execution_count": null,
      "metadata": {
        "id": "sAXrf6syd_YO"
      },
      "outputs": [],
      "source": [
        " with plt.style.context('science'):\n",
        "    fig, ax = plt.subplots(1, 1, figsize=(6, 6))\n",
        "    ax.plot(F2_epsilon_method_no_partial_assignement, F1_epsilon_method_no_partial_assignement, \"-ok\", label=\"Non-dominated solution\")\n",
        "    # ax.scatter(F2_weighted_no_partial_assignement, F1_weighted_no_partial_assignement, marker=\"o\", s=15, c=\"r\", zorder=2.5, label=\"Supported non-dominated solution\")\n",
        "    # ax.plot(F2_weighted_no_partial_assignement, F1_weighted_no_partial_assignement, \"-or\", zorder=2.5)\n",
        "\n",
        "    ax.scatter(ideal_disruption, ideal_distance, marker=\"*\", s=100, c=\"b\", label=\"Ideal point\")\n",
        "    ax.axvline(x=ideal_disruption, zorder=0, c=\"k\", linestyle=\"--\", alpha=0.8)\n",
        "    ax.axhline(y=ideal_distance, zorder=0, c=\"k\", linestyle=\"--\", alpha=0.8)\n",
        "\n",
        "    ax.scatter(nadir_disruption, nadir_distance, marker=\"*\", s=100, c=\"g\", label=\"Nadir point\")\n",
        "    ax.axvline(x=nadir_disruption, zorder=0, c=\"k\", linestyle=\"--\", alpha=0.8)\n",
        "    ax.axhline(y=nadir_distance, zorder=0, c=\"k\", linestyle=\"--\", alpha=0.8)\n",
        "\n",
        "    # ax.set_title(f\"{lb}, {ub}\")\n",
        "    ax.set_xlabel(\"Disruption\")\n",
        "    ax.set_ylabel(\"Distance\")\n",
        "    ax.grid()\n",
        "    ax.legend()\n",
        "\n",
        "fig.savefig(f\"figures/epsilon_constraint_method_{lb}_{ub}.pdf\", dpi=500)\n",
        "plt.show()\n"
      ]
    },
    {
      "cell_type": "code",
      "execution_count": null,
      "metadata": {
        "id": "p3lf7hPQHquE"
      },
      "outputs": [],
      "source": [
        " with plt.style.context('science'):\n",
        "    fig, ax = plt.subplots(1, 1, figsize=(6, 6))\n",
        "    ax.plot(F2_epsilon_method_no_partial_assignement, F1_epsilon_method_no_partial_assignement, \"-ok\", label=\"Non-dominated solution\")\n",
        "    # ax.scatter(F2_epsilon_method_no_partial_assignement, F1_epsilon_method_no_partial_assignement, marker=\"o\", c=\"k\", s=15, label=\"Non-dominated solution\")\n",
        "    # ax.scatter(F2_weighted_no_partial_assignement, F1_weighted_no_partial_assignement, marker=\"o\", s=15, c=\"r\", zorder=2.5, label=\"Supported non-dominated solution\")\n",
        "    ax.plot(F2_weighted_no_partial_assignement, F1_weighted_no_partial_assignement, \"-or\", zorder=2.5, label=\"Supported non-dominated solution\")\n",
        "\n",
        "    ax.scatter(ideal_disruption, ideal_distance, marker=\"*\", s=100, c=\"b\", label=\"Ideal point\")\n",
        "    ax.axvline(x=ideal_disruption, zorder=0, c=\"k\", linestyle=\"--\", alpha=0.8)\n",
        "    ax.axhline(y=ideal_distance, zorder=0, c=\"k\", linestyle=\"--\", alpha=0.8)\n",
        "\n",
        "    ax.scatter(nadir_disruption, nadir_distance, marker=\"*\", s=100, c=\"g\", label=\"Nadir point\")\n",
        "    ax.axvline(x=nadir_disruption, zorder=0, c=\"k\", linestyle=\"--\", alpha=0.8)\n",
        "    ax.axhline(y=nadir_distance, zorder=0, c=\"k\", linestyle=\"--\", alpha=0.8)\n",
        "\n",
        "    # ax.set_title(f\"{lb}, {ub}\")\n",
        "    ax.set_xlabel(\"Disruption\")\n",
        "    ax.set_ylabel(\"Distance\")\n",
        "    ax.grid()\n",
        "    ax.legend()\n",
        "\n",
        "fig.savefig(f\"figures/workload_balance_{lb}_{ub}.pdf\", dpi=500)\n",
        "plt.show()\n"
      ]
    },
    {
      "cell_type": "markdown",
      "metadata": {
        "id": "n64Q1RNT7Jb-"
      },
      "source": [
        "# Questions"
      ]
    },
    {
      "cell_type": "markdown",
      "metadata": {
        "id": "wF9bmUYzFI78"
      },
      "source": [
        "## How does varying the workload balance of each SR impact the solution?"
      ]
    },
    {
      "cell_type": "code",
      "execution_count": null,
      "metadata": {
        "id": "c1i3SHVgBt8P"
      },
      "outputs": [],
      "source": [
        "lb = 0.9\n",
        "ub = 1.1\n",
        "\n",
        "F1_eps, F2_eps, X = epsilon_constrain_method(\n",
        "    x_current_structure,\n",
        "    error=1e-4,\n",
        "    index_values=index_values,\n",
        "    workload_balance_lower_bound=lb,\n",
        "    workload_balance_upper_bound=ub,\n",
        ")\n",
        "\n",
        "weights = np.linspace(0.0, 200.0, 100)\n",
        "F1, F2, X = weighted_sum_method(\n",
        "    x_current_structure=x_current_structure,\n",
        "    index_values=index_values,\n",
        "    weights=weights,\n",
        "    workload_balance_lower_bound=lb,\n",
        "    workload_balance_upper_bound=ub,\n",
        ")\n",
        "\n",
        "logs.append([f\"{lb}, {ub}\", F1, F2])\n",
        "\n",
        "# ideal and nadir point\n",
        "ideal_disruption, ideal_distance, nadir_disruption, nadir_distance = get_ideal_nadir_point(lb, ub)\n"
      ]
    },
    {
      "cell_type": "code",
      "execution_count": null,
      "metadata": {
        "id": "jVZf-J-3ezpL"
      },
      "outputs": [],
      "source": [
        "with plt.style.context('science'):\n",
        "    fig, ax = plt.subplots(1, 1, figsize=(5, 5))\n",
        "\n",
        "    ax.plot(F2_eps, F1_eps, \"-ok\", label=\"Non-dominated solution\")\n",
        "    # ax.scatter(F2_eps, F1_eps, marker=\"o\", c=\"k\", s=15, label=\"Non-dominated solution\")\n",
        "    # ax.scatter(F2, F1, marker=\"o\", s=15, c=\"r\", zorder=2.5, label=\"Supported non-dominated solution\")\n",
        "    ax.plot(F2, F1, \"-or\", zorder=2.5, label=\"Supported non-dominated solution\")\n",
        "\n",
        "    ax.scatter(ideal_disruption, ideal_distance, marker=\"*\", s=100, c=\"b\", label=\"Ideal point\")\n",
        "    ax.axvline(x=ideal_disruption, zorder=0, c=\"k\", linestyle=\"--\", alpha=0.8)\n",
        "    ax.axhline(y=ideal_distance, zorder=0, c=\"k\", linestyle=\"--\", alpha=0.8)\n",
        "\n",
        "    ax.scatter(nadir_disruption, nadir_distance, marker=\"*\", s=100, c=\"g\", label=\"Nadir point\")\n",
        "    ax.axvline(x=nadir_disruption, zorder=0, c=\"k\", linestyle=\"--\", alpha=0.8)\n",
        "    ax.axhline(y=nadir_distance, zorder=0, c=\"k\", linestyle=\"--\", alpha=0.8)\n",
        "\n",
        "    # ax.set_title(f\"{lb}, {ub}\")\n",
        "    ax.set_xlabel(\"Disruption\")\n",
        "    ax.set_ylabel(\"Distance\")\n",
        "    ax.grid()\n",
        "    ax.legend()\n",
        "\n",
        "fig.savefig(f\"figures/workload_balance_{lb}_{ub}.pdf\", dpi=500)\n",
        "plt.show()\n"
      ]
    },
    {
      "cell_type": "code",
      "execution_count": null,
      "metadata": {
        "id": "_chYtey3GvU4"
      },
      "outputs": [],
      "source": [
        "lb = 0.7\n",
        "ub = 1.3\n",
        "\n",
        "F1_eps, F2_eps, X = epsilon_constrain_method(\n",
        "    x_current_structure,\n",
        "    error=1e-4,\n",
        "    index_values=index_values,\n",
        "    workload_balance_lower_bound=lb,\n",
        "    workload_balance_upper_bound=ub,\n",
        ")\n",
        "\n",
        "weights = np.linspace(0.0, 200.0, 100)\n",
        "F1, F2, X = weighted_sum_method(\n",
        "    x_current_structure=x_current_structure,\n",
        "    index_values=index_values,\n",
        "    weights=weights,\n",
        "    workload_balance_lower_bound=lb,\n",
        "    workload_balance_upper_bound=ub,\n",
        ")\n",
        "\n",
        "logs.append([f\"{lb}, {ub}\", F1, F2])\n",
        "\n",
        "# ideal and nadir point\n",
        "ideal_disruption, ideal_distance, nadir_disruption, nadir_distance = get_ideal_nadir_point(lb, ub)\n"
      ]
    },
    {
      "cell_type": "code",
      "execution_count": null,
      "metadata": {
        "id": "cSM_zx5PfPIg"
      },
      "outputs": [],
      "source": [
        "with plt.style.context('science'):\n",
        "    fig, ax = plt.subplots(1, 1, figsize=(5, 5))\n",
        "\n",
        "    ax.plot(F2_eps, F1_eps, \"-ok\", label=\"Non-dominated solution\")\n",
        "    # ax.scatter(F2_eps, F1_eps, marker=\"o\", c=\"k\", s=15, label=\"Non-dominated solution\")\n",
        "    # ax.scatter(F2, F1, marker=\"o\", s=15, c=\"r\", zorder=2.5, label=\"Supported non-dominated solution\")\n",
        "    ax.plot(F2, F1, \"-or\", zorder=2.5, label=\"Supported non-dominated solution\")\n",
        "\n",
        "    ax.scatter(ideal_disruption, ideal_distance, marker=\"*\", s=100, c=\"b\", label=\"Ideal point\")\n",
        "    ax.axvline(x=ideal_disruption, zorder=0, c=\"k\", linestyle=\"--\", alpha=0.8)\n",
        "    ax.axhline(y=ideal_distance, zorder=0, c=\"k\", linestyle=\"--\", alpha=0.8)\n",
        "\n",
        "    ax.scatter(nadir_disruption, nadir_distance, marker=\"*\", s=100, c=\"g\", label=\"Nadir point\")\n",
        "    ax.axvline(x=nadir_disruption, zorder=0, c=\"k\", linestyle=\"--\", alpha=0.8)\n",
        "    ax.axhline(y=nadir_distance, zorder=0, c=\"k\", linestyle=\"--\", alpha=0.8)\n",
        "\n",
        "    # ax.set_title(f\"{lb}, {ub}\")\n",
        "    ax.set_xlabel(\"Disruption\")\n",
        "    ax.set_ylabel(\"Distance\")\n",
        "    ax.grid()\n",
        "    ax.legend()\n",
        "\n",
        "fig.savefig(f\"figures/workload_balance_{lb}_{ub}.pdf\", dpi=500)\n",
        "plt.show()\n"
      ]
    },
    {
      "cell_type": "code",
      "execution_count": null,
      "metadata": {
        "id": "lo6hvEOXFezP"
      },
      "outputs": [],
      "source": [
        "lb = 0.6\n",
        "ub = 1.4\n",
        "\n",
        "F1_eps, F2_eps, X = epsilon_constrain_method(\n",
        "    x_current_structure,\n",
        "    error=1e-4,\n",
        "    index_values=index_values,\n",
        "    workload_balance_lower_bound=lb,\n",
        "    workload_balance_upper_bound=ub,\n",
        ")\n",
        "\n",
        "weights = np.linspace(0.0, 200.0, 300)\n",
        "F1, F2, X = weighted_sum_method(\n",
        "    x_current_structure=x_current_structure,\n",
        "    index_values=index_values,\n",
        "    weights=weights,\n",
        "    workload_balance_lower_bound=lb,\n",
        "    workload_balance_upper_bound=ub,\n",
        ")\n",
        "\n",
        "logs.append([f\"{lb}, {ub}\", F1, F2])\n",
        "\n",
        "# ideal and nadir point\n",
        "ideal_disruption, ideal_distance, nadir_disruption, nadir_distance = get_ideal_nadir_point(lb, ub)\n"
      ]
    },
    {
      "cell_type": "code",
      "execution_count": null,
      "metadata": {
        "id": "VGzjajGTfVjI"
      },
      "outputs": [],
      "source": [
        "with plt.style.context('science'):\n",
        "    fig, ax = plt.subplots(1, 1, figsize=(5, 5))\n",
        "\n",
        "    ax.plot(F2_eps, F1_eps, \"-ok\", label=\"Non-dominated solution\")\n",
        "    # ax.scatter(F2_eps, F1_eps, marker=\"o\", c=\"k\", s=15, label=\"Non-dominated solution\")\n",
        "    # ax.scatter(F2, F1, marker=\"o\", s=15, c=\"r\", zorder=2.5, label=\"Supported non-dominated solution\")\n",
        "    ax.plot(F2, F1, \"-or\", zorder=2.5, label=\"Supported non-dominated solution\")\n",
        "\n",
        "    ax.scatter(ideal_disruption, ideal_distance, marker=\"*\", s=100, c=\"b\", label=\"Ideal point\")\n",
        "    ax.axvline(x=ideal_disruption, zorder=0, c=\"k\", linestyle=\"--\", alpha=0.8)\n",
        "    ax.axhline(y=ideal_distance, zorder=0, c=\"k\", linestyle=\"--\", alpha=0.8)\n",
        "\n",
        "    ax.scatter(nadir_disruption, nadir_distance, marker=\"*\", s=100, c=\"g\", label=\"Nadir point\")\n",
        "    ax.axvline(x=nadir_disruption, zorder=0, c=\"k\", linestyle=\"--\", alpha=0.8)\n",
        "    ax.axhline(y=nadir_distance, zorder=0, c=\"k\", linestyle=\"--\", alpha=0.8)\n",
        "\n",
        "    # ax.set_title(f\"{lb}, {ub}\")\n",
        "    ax.set_xlabel(\"Disruption\")\n",
        "    ax.set_ylabel(\"Distance\")\n",
        "    ax.grid()\n",
        "    ax.legend()\n",
        "\n",
        "fig.savefig(f\"figures/workload_balance_{lb}_{ub}.pdf\", dpi=500)\n",
        "plt.show()\n"
      ]
    },
    {
      "cell_type": "code",
      "execution_count": null,
      "metadata": {
        "id": "r3Od7zH-um7l"
      },
      "outputs": [],
      "source": [
        "lb = 0.0\n",
        "ub = 2.0\n",
        "\n",
        "F1_eps, F2_eps, X = epsilon_constrain_method(\n",
        "    x_current_structure,\n",
        "    error=1e-4,\n",
        "    index_values=index_values,\n",
        "    workload_balance_lower_bound=lb,\n",
        "    workload_balance_upper_bound=ub,\n",
        ")\n",
        "\n",
        "weights = np.linspace(0.0, 200.0, 100)\n",
        "F1, F2, X = weighted_sum_method(\n",
        "    x_current_structure=x_current_structure,\n",
        "    index_values=index_values,\n",
        "    weights=weights,\n",
        "    workload_balance_lower_bound=lb,\n",
        "    workload_balance_upper_bound=ub,\n",
        ")\n",
        "\n",
        "logs.append([f\"{lb}, {ub}\", F1, F2])\n",
        "\n",
        "# ideal and nadir point\n",
        "ideal_disruption, ideal_distance, nadir_disruption, nadir_distance = get_ideal_nadir_point(lb, ub)\n"
      ]
    },
    {
      "cell_type": "code",
      "execution_count": null,
      "metadata": {
        "id": "7BX0U7Syuqag"
      },
      "outputs": [],
      "source": [
        "with plt.style.context('science'):\n",
        "    fig, ax = plt.subplots(1, 1, figsize=(5, 5))\n",
        "\n",
        "    ax.plot(F2_eps, F1_eps, \"-ok\", label=\"Non-dominated solution\")\n",
        "    # ax.scatter(F2_eps, F1_eps, marker=\"o\", c=\"k\", s=15, label=\"Non-dominated solution\")\n",
        "    # ax.scatter(F2, F1, marker=\"o\", s=15, c=\"r\", zorder=2.5, label=\"Supported non-dominated solution\")\n",
        "    ax.plot(F2, F1, \"-or\", zorder=2.5, label=\"Supported non-dominated solution\")\n",
        "\n",
        "    ax.scatter(ideal_disruption, ideal_distance, marker=\"*\", s=100, c=\"b\", label=\"Ideal point\")\n",
        "    ax.axvline(x=ideal_disruption, zorder=0, c=\"k\", linestyle=\"--\", alpha=0.8)\n",
        "    ax.axhline(y=ideal_distance, zorder=0, c=\"k\", linestyle=\"--\", alpha=0.8)\n",
        "\n",
        "    ax.scatter(nadir_disruption, nadir_distance, marker=\"*\", s=100, c=\"g\", label=\"Nadir point\")\n",
        "    ax.axvline(x=nadir_disruption, zorder=0, c=\"k\", linestyle=\"--\", alpha=0.8)\n",
        "    ax.axhline(y=nadir_distance, zorder=0, c=\"k\", linestyle=\"--\", alpha=0.8)\n",
        "\n",
        "    # ax.set_title(f\"{lb}, {ub}\")\n",
        "    ax.set_xlabel(\"Disruption\")\n",
        "    ax.set_ylabel(\"Distance\")\n",
        "    ax.grid()\n",
        "    ax.legend()\n",
        "\n",
        "fig.savefig(f\"figures/workload_balance_{lb}_{ub}.pdf\", dpi=500)\n",
        "plt.show()\n"
      ]
    },
    {
      "cell_type": "code",
      "execution_count": null,
      "metadata": {
        "id": "Bzb_XO17gCNB"
      },
      "outputs": [],
      "source": [
        "with plt.style.context('science'):\n",
        "    fig, ax = plt.subplots(1, 1, figsize=(5, 5))\n",
        "\n",
        "    for label, f1, f2 in logs:\n",
        "        ax.scatter(f2, f1, marker=\"o\", label=f\"[{label}]\")\n",
        "        ax.plot(f2, f1, \"-o\")\n",
        "\n",
        "    # ax.set_title(f\"{lb}, {ub}\")\n",
        "    ax.set_xlabel(\"Disruption\")\n",
        "    ax.set_ylabel(\"Distance\")\n",
        "    ax.grid()\n",
        "    ax.legend(title=\"Workload balance intervals\", ncol=2)\n",
        "\n",
        "fig.savefig(f\"figures/workload_balance_summary.pdf\", dpi=500)\n",
        "plt.show()\n"
      ]
    },
    {
      "cell_type": "markdown",
      "metadata": {
        "id": "Q27o62Bhts3O"
      },
      "source": [
        "## Would assigning a brick to multiple SRs improve the solution?"
      ]
    },
    {
      "cell_type": "code",
      "execution_count": null,
      "metadata": {
        "id": "UskHl6AXa3CW"
      },
      "outputs": [],
      "source": [
        "#monoobjectiv problem\n",
        "model = gp.Model(\"pfizer\")\n",
        "\n",
        "workload_balance_lower_bound = 0.8\n",
        "workload_balance_upper_bound = 1.2\n",
        "\n",
        "xc = model.addMVar((num_sr, num_bricks), vtype=GRB.CONTINUOUS, lb=0.0, ub=1.0)\n",
        "xd = model.addMVar((num_sr, num_bricks), vtype=GRB.BINARY)\n",
        "\n",
        "# https://support.gurobi.com/hc/en-us/articles/4414392016529-How-do-I-model-conditional-statements-in-Gurobi-\n",
        "EPS = 1e-4\n",
        "model.addConstrs((\n",
        "    xc[i][j] >= EPS - (1-xd[i][j])\n",
        "    for i in range(num_sr)\n",
        "    for j in range(num_bricks)\n",
        "))\n",
        "\n",
        "model.addConstrs((\n",
        "    xc[i][j] <= xd[i][j]\n",
        "    for i in range(num_sr)\n",
        "    for j in range(num_bricks)\n",
        "))\n",
        "\n",
        "model.addConstrs((\n",
        "    workload_balance_lower_bound <= gp.quicksum(index_values[j] * xc[i][j] for j in range(num_bricks))\n",
        "    for i in range(num_sr)\n",
        "), name=\"left_workload_balance\")\n",
        "\n",
        "model.addConstrs((\n",
        "    gp.quicksum(index_values[j] * xc[i][j] for j in range(num_bricks)) <= workload_balance_upper_bound\n",
        "    for i in range(num_sr)\n",
        "), name=\"right_workload_balance\")\n",
        "\n",
        "model.addConstrs((\n",
        "    gp.quicksum(xc[i][j] for i in range(num_sr)) == 1\n",
        "    for j in range(num_bricks)\n",
        "), name=\"no_partial_assignments\")\n",
        "\n",
        "\n",
        "# # Minimize the total distance\n",
        "model.setObjective(\n",
        "     gp.quicksum(\n",
        "         distances[i][j] * xd[i][j]\n",
        "         for i in range(num_sr)\n",
        "         for j in range(num_bricks)\n",
        "     ),\n",
        "     GRB.MINIMIZE\n",
        ")\n",
        "\n",
        "# Minimize the total disruption between SRs\n",
        "#model.setObjective(\n",
        "#    gp.quicksum(\n",
        "#        index_values[j] * (xc[i][j] - x_current_structure[i][j]) * (xc[i][j] - x_current_structure[i][j]) / 2\n",
        "#        for i in range(num_sr)\n",
        "#        for j in range(num_bricks)\n",
        "#    ),\n",
        "#    GRB.MINIMIZE\n",
        "#)\n",
        "\n",
        "\n",
        "model.update()\n",
        "model.optimize()\n",
        "\n",
        "df = pd.DataFrame(\n",
        "    xd.x.T,\n",
        "    columns=[f\"SR{i}\" for i in range(num_sr)],\n",
        "    index=[f\"Br{i}\" for i in range(num_bricks)]\n",
        ")\n",
        "\n",
        "get_report(xc.x)\n"
      ]
    },
    {
      "cell_type": "code",
      "execution_count": null,
      "metadata": {
        "id": "3laydiPFZXqZ"
      },
      "outputs": [],
      "source": [
        "# distance (1.7207999999999997, 189.42999999999998)\n",
        "# disruption (0.010099369797734022, 194.44958456021917)"
      ]
    },
    {
      "cell_type": "code",
      "execution_count": null,
      "metadata": {
        "id": "p5Ee9aTX62yp"
      },
      "outputs": [],
      "source": [
        "F1_with_partial_assignement, F2_with_partial_assignement = [], []\n",
        "XC, XD = [], []\n",
        "\n",
        "weights = np.linspace(0.0, 200.0, 100)\n",
        "\n",
        "for w in tqdm(weights):\n",
        "    model = gp.Model(\"pfizer\", env=env)\n",
        "    model.params.outputflag = 0\n",
        "\n",
        "    workload_balance_lower_bound = 0.8\n",
        "    workload_balance_upper_bound = 1.2\n",
        "\n",
        "    xc = model.addMVar((num_sr, num_bricks), vtype=GRB.CONTINUOUS, lb=0.0, ub=1.0)\n",
        "    xd = model.addMVar((num_sr, num_bricks), vtype=GRB.BINARY)\n",
        "\n",
        "    # https://support.gurobi.com/hc/en-us/articles/4414392016529-How-do-I-model-conditional-statements-in-Gurobi-\n",
        "    EPS = 1e-4\n",
        "    model.addConstrs((\n",
        "        xc[i][j] >= EPS - (1-xd[i][j])\n",
        "        for i in range(num_sr)\n",
        "        for j in range(num_bricks)\n",
        "    ))\n",
        "\n",
        "    model.addConstrs((\n",
        "        xc[i][j] <= xd[i][j]\n",
        "        for i in range(num_sr)\n",
        "        for j in range(num_bricks)\n",
        "    ))\n",
        "\n",
        "    # Constraints\n",
        "    model = add_constraints(model, index_values, xc, lb=workload_balance_lower_bound, ub=workload_balance_upper_bound, num_bricks=num_bricks, num_sr=num_sr)\n",
        "\n",
        "    # minimize the weighted sum between the total distance and the disruption\n",
        "    f1f2 =  gp.quicksum(\n",
        "        distances[i][j] * xd[i][j] + w * index_values[j] * (xc[i][j] - x_current_structure[i][j]) * (xc[i][j] - x_current_structure[i][j]) / 2\n",
        "        for i in range(num_sr)\n",
        "        for j in range(num_bricks)\n",
        "    )\n",
        "\n",
        "    model.setObjective(f1f2, GRB.MINIMIZE)\n",
        "    model.update()\n",
        "    model.optimize()\n",
        "\n",
        "    f1 = sum(\n",
        "        distances[i][j] * xd.x[i][j]\n",
        "        for i in range(num_sr)\n",
        "        for j in range(num_bricks)\n",
        "    )\n",
        "    f2 = sum(\n",
        "        index_values[j] * (xc.x[i][j] - x_current_structure[i][j])**2 / 2\n",
        "        for i in range(num_sr)\n",
        "        for j in range(num_bricks)\n",
        "    )\n",
        "\n",
        "    F1_with_partial_assignement.append(f1)\n",
        "    F2_with_partial_assignement.append(f2)\n",
        "    XC.append(xc.x)\n",
        "    XD.append(xd.x)\n"
      ]
    },
    {
      "cell_type": "code",
      "execution_count": null,
      "metadata": {
        "id": "mKK8R6JC_azJ"
      },
      "outputs": [],
      "source": [
        "# plt.plot(F2_with_partial_assignement, F1_with_partial_assignement, \"-or\", zorder=2.5, label=\"cont\")\n",
        "# plt.plot(F2_weighted_no_partial_assignement, F1_weighted_no_partial_assignement, \"-ok\", zorder=2.5, label=\"disc\")\n",
        "# plt.legend()\n",
        "\n",
        "with plt.style.context('science'):\n",
        "    fig, ax = plt.subplots(1, 1, figsize=(6, 6))\n",
        "\n",
        "    # for label, f1, f2 in logs:\n",
        "    #     ax.scatter(f2, f1, marker=\"o\", label=f\"[{label}]\")\n",
        "    #     ax.plot(f2, f1, \"-o\")\n",
        "\n",
        "    ax.plot(F2_with_partial_assignement, F1_with_partial_assignement, marker=\"o\", zorder=2.5, label=\"With partial assignements\")\n",
        "    ax.plot(F2_weighted_no_partial_assignement, F1_weighted_no_partial_assignement, marker=\"o\", zorder=2.5, label=\"No partial assignements\")\n",
        "\n",
        "    # ax.set_title(f\"{lb}, {ub}\")\n",
        "    ax.set_xlabel(\"Disruption\")\n",
        "    ax.set_ylabel(\"Distance\")\n",
        "    ax.grid()\n",
        "    ax.legend(title=\"Workload balance intervals\", ncol=1)\n",
        "\n",
        "fig.savefig(f\"figures/cont_disc_comp.pdf\", dpi=500)\n",
        "plt.show()\n"
      ]
    },
    {
      "cell_type": "markdown",
      "metadata": {
        "id": "HULD8zmy5mBP"
      },
      "source": [
        "## What happens when the demand (i.e. the index value) of all bricks increases by 20%?"
      ]
    },
    {
      "cell_type": "code",
      "execution_count": null,
      "metadata": {
        "id": "vg0qXdfdxHE1"
      },
      "outputs": [],
      "source": [
        "#mono-objective problem\n",
        "lb = 0.8\n",
        "ub = 1.2\n",
        "\n",
        "iv = index_values + index_values*0.2\n",
        "\n",
        "model = gp.Model(\"pfizer\")\n",
        "\n",
        "workload_balance_lower_bound = 0.8\n",
        "workload_balance_upper_bound = 1.2\n",
        "\n",
        "x = model.addMVar((num_sr, num_bricks), vtype=GRB.BINARY)\n",
        "\n",
        "# Add constraints\n",
        "model = add_constraints(model, iv, x, lb=0.8, ub=1.2, num_bricks=num_bricks, num_sr=num_sr)\n",
        "\n",
        "# Minimize the total distance\n",
        "model.setObjective(\n",
        "    gp.quicksum(\n",
        "        distances[i][j] * x[i][j]\n",
        "        for i in range(num_sr)\n",
        "        for j in range(num_bricks)\n",
        "    ),\n",
        "    GRB.MINIMIZE\n",
        ")\n",
        "\n",
        "model.update()\n",
        "model.optimize()\n"
      ]
    },
    {
      "cell_type": "markdown",
      "metadata": {
        "id": "Ho_i-2CEfhYR"
      },
      "source": [
        "##No feasible solution for the mono-objective problem considering +20% in the demand and without hiring new SR"
      ]
    },
    {
      "cell_type": "markdown",
      "metadata": {
        "id": "9juGNqz7EJaw"
      },
      "source": [
        "## Why 20% is the percentage from which we have to hire a new SR?"
      ]
    },
    {
      "cell_type": "code",
      "execution_count": null,
      "metadata": {
        "id": "90g0bbMLFVge"
      },
      "outputs": [],
      "source": [
        "percentages = np.linspace(0.0, 0.5, 100)\n",
        "\n",
        "lb = 0.8\n",
        "ub = 1.2\n",
        "\n",
        "all_non_dominated_solutions = []\n",
        "\n",
        "for p in tqdm(percentages):\n",
        "    iv = index_values + index_values*p\n",
        "\n",
        "    F1, F2, X = epsilon_constrain_method(\n",
        "        x_current_structure=x_current_structure,\n",
        "        index_values=iv,\n",
        "        workload_balance_lower_bound=lb,\n",
        "        workload_balance_upper_bound=ub,\n",
        "    )\n",
        "\n",
        "\n",
        "    # model = gp.Model(\"pfizer\", env=env)\n",
        "    # model.params.outputflag = 0\n",
        "\n",
        "    # # Decision variables\n",
        "    # x = model.addMVar((num_sr, num_bricks), vtype=GRB.BINARY)\n",
        "\n",
        "    # # Add constraints\n",
        "    # model = add_constraints(model, iv, x, lb=lb, ub=ub, num_bricks=num_bricks, num_sr=num_sr)\n",
        "\n",
        "    # # Minimize the total distance\n",
        "    # model.setObjective(\n",
        "    #     gp.quicksum(\n",
        "    #         distances[i][j] * x[i][j]\n",
        "    #         for i in range(num_sr)\n",
        "    #         for j in range(num_bricks)\n",
        "    #     ),\n",
        "    #     GRB.MINIMIZE\n",
        "    # )\n",
        "\n",
        "    # model.update()\n",
        "    # model.optimize()\n",
        "\n",
        "    # if model.status == 3:\n",
        "    #     print(f\"When demand increases by {p}:\", \"An optimal solution is available.\" if model.status == 2 else \"Model was proven to be infeasible.\")\n",
        "    #     break\n",
        "    print(f\"p={p*100}%\", len(set(F1)))\n",
        "\n",
        "    all_non_dominated_solutions.append([p, len(set(F1))])\n",
        "\n"
      ]
    },
    {
      "cell_type": "code",
      "execution_count": null,
      "metadata": {
        "id": "ANs_YGY2F4Z5"
      },
      "outputs": [],
      "source": [
        "all_non_dominated_solutions = np.array(all_non_dominated_solutions)\n",
        "\n",
        "with plt.style.context('science'):\n",
        "    fig, ax = plt.subplots(1, 1, figsize=(7, 6))\n",
        "\n",
        "    # plt.bar(q[:,0], q[:,1], width=0.8)\n",
        "    # plt.bar(np.linspace(20, 40, 100), np.zeros((100,)), width=0.4)\n",
        "\n",
        "    ax.bar(all_non_dominated_solutions[:, 0], all_non_dominated_solutions[:, 1], width=3e-3, label=\"Number of non-dominated solutions\")\n",
        "\n",
        "    # ax.set_title(f\"{lb}, {ub}\")\n",
        "    ax.set_xlabel(\"Disruption\")\n",
        "    ax.set_ylabel(\"Distance\")\n",
        "    ax.grid()\n",
        "    ax.legend()\n",
        "\n",
        "fig.savefig(f\"figures/increase_demand.pdf\", dpi=500)\n",
        "plt.show()\n"
      ]
    },
    {
      "cell_type": "markdown",
      "metadata": {
        "id": "ebWwWVudFPKW"
      },
      "source": [
        "## Would hiring a new SR solve this demand increase?"
      ]
    },
    {
      "cell_type": "code",
      "execution_count": null,
      "metadata": {
        "id": "ffp1wQ6wKDBX"
      },
      "outputs": [],
      "source": [
        "F1_hire_new_sr = []\n",
        "F2_hire_new_sr = []\n",
        "center_brick = []\n",
        "X = []\n",
        "\n",
        "iv = index_values + index_values*0.2\n",
        "\n",
        "workload_balance_lower_bound = 0.8\n",
        "workload_balance_upper_bound = 1.2\n",
        "\n",
        "weights = np.linspace(0.0, 200.0, 100)\n",
        "\n",
        "for w in tqdm(weights):\n",
        "    model = gp.Model(\"pfizer\", env=env)\n",
        "    model.params.outputflag = 0\n",
        "\n",
        "    # Add the fifth SR\n",
        "    sr = num_sr + 1\n",
        "\n",
        "    x = model.addMVar((sr, num_bricks), vtype=GRB.BINARY)\n",
        "\n",
        "    # Center brick of the fifth SR\n",
        "    c = model.addMVar((num_bricks), vtype=GRB.BINARY)\n",
        "    model.addConstr((\n",
        "        gp.quicksum(c[i] for i in range(num_bricks)) == 1\n",
        "    ))\n",
        "\n",
        "    # Add constraints\n",
        "    model = add_constraints(model, iv, x, lb=workload_balance_lower_bound, ub=workload_balance_upper_bound, num_bricks=num_bricks, num_sr=sr)\n",
        "\n",
        "    # minimize the weighted sum between the total distance and the disruption\n",
        "    f1f2 =  (\n",
        "        gp.quicksum(\n",
        "            distances[i][j] * x[i][j]\n",
        "            for i in range(sr-1)\n",
        "            for j in range(num_bricks)\n",
        "        ) +\\\n",
        "        gp.quicksum(\n",
        "            sum(distances_between_bricks[j, :] * c) * x[4][j]\n",
        "            for j in range(num_bricks)\n",
        "        ) +\\\n",
        "        w * gp.quicksum(\n",
        "            index_values[j] * (x[i][j] - x_current_structure[i][j]) * (x[i][j] - x_current_structure[i][j]) / 2\n",
        "            for i in range(num_sr)\n",
        "            for j in range(num_bricks)\n",
        "        )\n",
        "    )\n",
        "\n",
        "    model.setObjective(f1f2, GRB.MINIMIZE)\n",
        "    model.update()\n",
        "    model.optimize()\n",
        "\n",
        "    f1 = sum(\n",
        "        distances[i][j] * x.x[i][j]\n",
        "        for i in range(sr-1)\n",
        "        for j in range(num_bricks)\n",
        "    )+\\\n",
        "    sum(\n",
        "        sum(distances_between_bricks[j, :] * c.x) * x.x[4][j]\n",
        "        for j in range(num_bricks)\n",
        "    )\n",
        "\n",
        "    f2 = sum(\n",
        "        index_values[j] * (x.x[i][j] - x_current_structure[i][j]) * (x.x[i][j] - x_current_structure[i][j]) / 2\n",
        "        for i in range(num_sr)\n",
        "        for j in range(num_bricks)\n",
        "    )\n",
        "\n",
        "    F1_hire_new_sr.append(f1)\n",
        "    F2_hire_new_sr.append(f2)\n",
        "    center_brick.append(np.argmax(c.x) +1)\n",
        "    X.append(x.x)\n",
        "    print(\"The center brick of the fifth SR is:\", np.argmax(c.x) +1)\n"
      ]
    },
    {
      "cell_type": "code",
      "execution_count": null,
      "metadata": {
        "id": "BbRjB0-4OnrJ"
      },
      "outputs": [],
      "source": [
        "with plt.style.context('science'):\n",
        "    fig, ax = plt.subplots(1, 1, figsize=(7, 7))\n",
        "\n",
        "    ax.plot(F2_hire_new_sr, F1_hire_new_sr, \"-or\", label=\"Supported non-dominated solution\")\n",
        "\n",
        "    for i, (a, b) in enumerate(zip(F2_hire_new_sr, F1_hire_new_sr)):\n",
        "        ax.text(a, b+8e-1, f\"({center_brick[i]})\")\n",
        "\n",
        "    ax.set_xlabel(\"Disruption\")\n",
        "    ax.set_ylabel(\"Distance\")\n",
        "    ax.grid()\n",
        "    ax.legend()\n",
        "\n",
        "fig.savefig(f\"figures/center_brick_non_dominated.pdf\", dpi=500)\n",
        "plt.show()\n"
      ]
    },
    {
      "cell_type": "code",
      "execution_count": null,
      "metadata": {
        "id": "x5A4aILeFVH4"
      },
      "outputs": [],
      "source": [
        "iv = index_values + index_values*0.2\n",
        "\n",
        "model = gp.Model(\"pfizer\")\n",
        "\n",
        "workload_balance_lower_bound = 0.8\n",
        "workload_balance_upper_bound = 1.2\n",
        "\n",
        "# Add the fifth SR\n",
        "sr = num_sr + 1\n",
        "\n",
        "x = model.addMVar((sr, num_bricks), vtype=GRB.BINARY)\n",
        "\n",
        "# Center brick of the fifth SR\n",
        "c = model.addMVar((num_bricks), vtype=GRB.BINARY)\n",
        "model.addConstr((\n",
        "    gp.quicksum(c[i] for i in range(num_bricks)) == 1\n",
        "))\n",
        "\n",
        "# Add constraints\n",
        "model = add_constraints(model, iv, x, lb=workload_balance_lower_bound, ub=workload_balance_upper_bound, num_bricks=num_bricks, num_sr=sr)\n",
        "\n",
        "# Minimize the total distance\n",
        "model.setObjective(\n",
        "    gp.quicksum(\n",
        "        distances[i][j] * x[i][j]\n",
        "        for i in range(sr-1)\n",
        "        for j in range(num_bricks)\n",
        "    ) +\\\n",
        "    gp.quicksum(\n",
        "        sum(distances_between_bricks[j, :] * c) * x[4][j]\n",
        "        for j in range(num_bricks)\n",
        "    ),\n",
        "    GRB.MINIMIZE\n",
        ")\n",
        "\n",
        "model.update()\n",
        "model.optimize()\n",
        "print(\"The center brick of the fifth SR is:\", np.argmax(c.x) +1)\n"
      ]
    },
    {
      "cell_type": "code",
      "execution_count": null,
      "metadata": {
        "id": "5ONJ3EYptWCc"
      },
      "outputs": [],
      "source": [
        "print(\"The center brick of the fifth SR is:\", np.argmax(c.x) +1)"
      ]
    },
    {
      "cell_type": "markdown",
      "metadata": {
        "id": "cJnnS43nEG2r"
      },
      "source": [
        "## What happens when we change the center bricks of all SRs?"
      ]
    },
    {
      "cell_type": "code",
      "execution_count": null,
      "metadata": {
        "id": "AQJebfVJaggd"
      },
      "outputs": [],
      "source": [
        "num_sr, num_bricks"
      ]
    },
    {
      "cell_type": "code",
      "execution_count": null,
      "metadata": {
        "id": "BRjHK3PjSd3H"
      },
      "outputs": [],
      "source": [
        "supp_nd_F1_relocate_all_new_sr = []\n",
        "supp_nd_F2_relocate_all_new_sr = []\n",
        "center_brick = []\n",
        "X = []\n",
        "\n",
        "workload_balance_lower_bound = 0.8\n",
        "workload_balance_upper_bound = 1.2\n",
        "\n",
        "weights = np.linspace(0.0, 200.0, 100)\n",
        "\n",
        "for w in tqdm(weights):\n",
        "    model = gp.Model(\"pfizer\", env=env)\n",
        "    model.params.outputflag = 0\n",
        "\n",
        "    x = model.addMVar((num_sr, num_bricks), vtype=GRB.BINARY)\n",
        "\n",
        "    c = model.addMVar((num_sr, num_bricks), vtype=GRB.BINARY)\n",
        "    model.addConstrs((\n",
        "        gp.quicksum(c[i][j] for j in range(num_bricks)) == 1\n",
        "        for i in range(num_sr)\n",
        "    ))\n",
        "\n",
        "    # model.addConstrs((\n",
        "    #     gp.quicksum(c[i][j] for i in range(num_sr)) <= 1\n",
        "    #     for j in range(num_bricks)\n",
        "    # ))\n",
        "\n",
        "    # Constraints\n",
        "    model = add_constraints(model, index_values, x, lb=workload_balance_lower_bound, ub=workload_balance_upper_bound, num_bricks=num_bricks, num_sr=num_sr)\n",
        "\n",
        "    # minimize the weighted sum between the total distance and the disruption\n",
        "    f1f2 =  (\n",
        "        gp.quicksum(\n",
        "            gp.quicksum(distances_between_bricks[j, :] * c[i]) * x[i][j]\n",
        "            for i in range(num_sr)\n",
        "            for j in range(num_bricks)\n",
        "        ) +\\\n",
        "        w * gp.quicksum(\n",
        "            index_values[j] * (x[i][j] - x_current_structure[i][j]) * (x[i][j] - x_current_structure[i][j]) / 2\n",
        "            for i in range(num_sr)\n",
        "            for j in range(num_bricks)\n",
        "        )\n",
        "    )\n",
        "\n",
        "    model.setObjective(f1f2, GRB.MINIMIZE)\n",
        "    model.update()\n",
        "    model.optimize()\n",
        "\n",
        "    f1 = sum(\n",
        "        sum(distances_between_bricks[j, :] * c.x[i]) * x.x[i][j]\n",
        "        for i in range(num_sr)\n",
        "        for j in range(num_bricks)\n",
        "    )\n",
        "\n",
        "    f2 = sum(\n",
        "        index_values[j] * (x.x[i][j] - x_current_structure[i][j]) * (x.x[i][j] - x_current_structure[i][j]) / 2\n",
        "        for i in range(num_sr)\n",
        "        for j in range(num_bricks)\n",
        "    )\n",
        "\n",
        "    supp_nd_F1_relocate_all_new_sr.append(f1)\n",
        "    supp_nd_F2_relocate_all_new_sr.append(f2)\n"
      ]
    },
    {
      "cell_type": "code",
      "execution_count": null,
      "metadata": {
        "id": "wHY2ETcAUhRr"
      },
      "outputs": [],
      "source": [
        "with plt.style.context('science'):\n",
        "    fig, ax = plt.subplots(1, 1, figsize=(7, 7))\n",
        "\n",
        "    ax.plot(supp_nd_F2_relocate_all_new_sr, supp_nd_F1_relocate_all_new_sr, \"-o\", label=\"Relocating Sales Representatives' Offices\")\n",
        "    ax.plot(F2_weighted_no_partial_assignement, F1_weighted_no_partial_assignement, \"-o\", label=\"Fixed center bricks\")\n",
        "\n",
        "    ax.set_xlabel(\"Disruption\")\n",
        "    ax.set_ylabel(\"Distance\")\n",
        "    ax.grid()\n",
        "    ax.legend(title=\"Supported non-dominated solution\")\n",
        "\n",
        "fig.savefig(f\"figures/center_brick_non_dominated.pdf\", dpi=500)\n",
        "plt.show()\n"
      ]
    },
    {
      "cell_type": "code",
      "execution_count": null,
      "metadata": {
        "id": "GIlxiEg6EIBn"
      },
      "outputs": [],
      "source": [
        "lb = 0.8\n",
        "ub = 1.2\n",
        "\n",
        "iv = index_values\n",
        "\n",
        "model = gp.Model(\"pfizer\")\n",
        "\n",
        "workload_balance_lower_bound = 0.8\n",
        "workload_balance_upper_bound = 1.2\n",
        "\n",
        "x = model.addMVar((num_sr, num_bricks), vtype=GRB.BINARY)\n",
        "\n",
        "c = model.addMVar((num_sr, num_bricks), vtype=GRB.BINARY)\n",
        "model.addConstrs((\n",
        "    gp.quicksum(c[i][j] for j in range(num_bricks)) == 1\n",
        "    for i in range(num_sr)\n",
        "))\n",
        "\n",
        "model.addConstrs((\n",
        "    gp.quicksum(c[i][j] for i in range(num_sr)) <= 1\n",
        "    for j in range(num_bricks)\n",
        "))\n",
        "\n",
        "\n",
        "# Constraints\n",
        "model = add_constraints(model, index_values, x, lb=workload_balance_lower_bound, ub=workload_balance_upper_bound, num_bricks=num_bricks, num_sr=num_sr)\n",
        "\n",
        "# Minimize the total distance\n",
        "model.setObjective(\n",
        "    gp.quicksum(\n",
        "        sum(distances_between_bricks[j, :] * c[i]) * x[i][j]\n",
        "        for i in range(num_sr)\n",
        "        for j in range(num_bricks)\n",
        "    ),\n",
        "    GRB.MINIMIZE\n",
        ")\n",
        "\n",
        "model.update()\n",
        "model.optimize()\n"
      ]
    },
    {
      "cell_type": "code",
      "execution_count": null,
      "metadata": {
        "id": "Ugaw3SHKuvC2"
      },
      "outputs": [],
      "source": [
        "np.argmax(c.x, axis=1)+1"
      ]
    },
    {
      "cell_type": "code",
      "execution_count": null,
      "metadata": {
        "id": "1J2qMERZumxG"
      },
      "outputs": [],
      "source": [
        "get_report(x.x)"
      ]
    },
    {
      "cell_type": "code",
      "execution_count": null,
      "metadata": {
        "id": "xieRAEA3WjVg"
      },
      "outputs": [],
      "source": [
        "sum(\n",
        "    sum(distances_between_bricks[j, :] * c.x[i]) * x.x[i][j]\n",
        "    for i in range(num_sr)\n",
        "    for j in range(num_bricks)\n",
        "),\n"
      ]
    },
    {
      "cell_type": "markdown",
      "metadata": {
        "id": "fe0yOCgfMVdL"
      },
      "source": [
        "## Fix % and number of SRs. Find p1 and p2"
      ]
    },
    {
      "cell_type": "code",
      "execution_count": null,
      "metadata": {
        "id": "2oNEBuK4MbUw"
      },
      "outputs": [],
      "source": [
        "lb = 0.8\n",
        "ub = 1.2\n",
        "\n",
        "k = 0\n",
        "sr = num_sr + k\n",
        "iv = index_values + index_values*0.3\n",
        "\n",
        "model = gp.Model(\"pfizer\", env=env)\n",
        "\n",
        "workload_balance_lower_bound = model.addMVar((1,), vtype=GRB.CONTINUOUS, lb=0.8)\n",
        "workload_balance_upper_bound = model.addMVar((1,), vtype=GRB.CONTINUOUS)\n",
        "\n",
        "x = model.addMVar((sr, num_bricks), vtype=GRB.BINARY)\n",
        "\n",
        "# c = model.addMVar((k, num_bricks), vtype=GRB.BINARY)\n",
        "# model.addConstrs((\n",
        "#     gp.quicksum(c[i][j] for j in range(num_bricks)) == 1\n",
        "#     for i in range(k)\n",
        "# ))\n",
        "\n",
        "\n",
        "# Constraints\n",
        "model = add_constraints(model, iv, x, lb=workload_balance_lower_bound, ub=workload_balance_upper_bound, num_bricks=num_bricks, num_sr=sr)\n",
        "\n",
        "# Minimize the total distance\n",
        "model.setObjective(\n",
        "    gp.quicksum(\n",
        "        distances[i][j] * x[i][j]\n",
        "        for i in range(num_sr)\n",
        "        for j in range(num_bricks)\n",
        "    ),\n",
        "    GRB.MINIMIZE\n",
        ")\n",
        "\n",
        "model.update()\n",
        "model.optimize()\n",
        "\n",
        "print(k, model.status)\n",
        "# if model.status == 3:\n",
        "#     print(f\"{k} don't work\")\n",
        "#     break\n"
      ]
    },
    {
      "cell_type": "code",
      "execution_count": null,
      "metadata": {
        "id": "yLfiqsiWM2ts"
      },
      "outputs": [],
      "source": [
        "workload_balance_lower_bound.x, workload_balance_upper_bound.x"
      ]
    },
    {
      "cell_type": "markdown",
      "metadata": {
        "id": "hhmrXpsSQSWk"
      },
      "source": [
        "# Preference Learning"
      ]
    },
    {
      "cell_type": "markdown",
      "metadata": {
        "id": "OuooEDc8kzoV"
      },
      "source": [
        "##Preference in term of assignement of SRs"
      ]
    },
    {
      "cell_type": "code",
      "execution_count": null,
      "metadata": {
        "id": "RcgZsxXvktie"
      },
      "outputs": [],
      "source": [
        "weight_list=[]\n",
        "dist_list=[]\n",
        "disruption_list = []\n",
        "weights = np.arange(0,4,0.01)\n",
        "#weights = np.linspace(0,100,500)\n",
        "num_sr = 4\n",
        "num_bricks = 22\n",
        "workload_balance_lower_bound = 0.8\n",
        "workload_balance_upper_bound = 1.2\n",
        "pref1 = pd.read_csv(\"/content/preferences1.csv\")\n",
        "pref1 = np.array(pref1)\n",
        "pref = pref1\n",
        "for weight in weights:\n",
        "  model = gp.Model(\"pfizer\")\n",
        "  model.params.outputflag = 0\n",
        "  x = model.addMVar((num_sr, num_bricks), vtype=GRB.BINARY)\n",
        "  #model = add_constraints(model, index_values, x, lb=workload_balance_lower_bound, ub=workload_balance_upper_bound, num_bricks=num_bricks, num_sr=num_sr)\n",
        "  #obj = gp.quicksum(distances[i][j]*x[i][j] + weight*x[i][j]*pref[j][i] for i in range(num_sr) for j in range(num_bricks))\n",
        "\n",
        "  model.setObjective(gp.quicksum(\n",
        "        distances[i][j] * x[i][j] + weight*x[i][j]*pref[j][i]\n",
        "        for i in range(num_sr)\n",
        "        for j in range(num_bricks)\n",
        "    ), GRB.MINIMIZE)\n",
        "  model.update()\n",
        "  model.optimize()\n",
        "  #print(model.status)\n",
        "  if model.status == 2:\n",
        "    weight_list.append(weight)\n",
        "    dist = sum(\n",
        "            distances[i][j] * x.x[i][j]\n",
        "            for i in range(num_sr)\n",
        "            for j in range(num_bricks)\n",
        "        )\n",
        "    dispution = sum(\n",
        "        index_values[j] * (x.x[i][j] - x_current_structure[i][j]) * (x.x[i][j] - x_current_structure[i][j]) / 2\n",
        "        for i in range(num_sr)\n",
        "        for j in range(num_bricks)\n",
        "    )\n",
        "    dist_list.append(dist)\n",
        "    disruption_list.append(dispution)"
      ]
    },
    {
      "cell_type": "code",
      "execution_count": null,
      "metadata": {
        "id": "lwnpSF9EpJw_"
      },
      "outputs": [],
      "source": [
        "with plt.style.context('science'):\n",
        "    fig, ax = plt.subplots(1, 1, figsize=(7, 7))\n",
        "\n",
        "    ax.plot(weights, dist_list, \"-o\", label=\"Relocating Sales Representatives' Offices\")\n",
        "    #ax.plot(F2_weighted_no_partial_assignement, F1_weighted_no_partial_assignement, \"-o\", label=\"Fixed center bricks\")\n",
        "\n",
        "    ax.set_xlabel(\"Weights\")\n",
        "    ax.set_ylabel(\"Distance\")\n",
        "    ax.grid()\n",
        "\n",
        "fig.savefig(f\"figures/weights_and_distances.pdf\", dpi=500)\n",
        "plt.show()"
      ]
    },
    {
      "cell_type": "markdown",
      "metadata": {
        "id": "2yR3FhdTku-Z"
      },
      "source": [
        "##Preference in terme of solution"
      ]
    },
    {
      "cell_type": "code",
      "execution_count": null,
      "metadata": {
        "id": "PXNQrMcSeiLM"
      },
      "outputs": [],
      "source": [
        "from gurobipy import *\n",
        "\n",
        "def rank(list_alternatives,partial_ranking,L):\n",
        "\n",
        "    nb_alternatives = len(partial_ranking)\n",
        "    nb_criteria = len(partial_ranking[0])\n",
        "\n",
        "    epsilon = 0.001\n",
        "\n",
        "    min_criterion = [np.min(list_alternatives[:,i]) for i in range(nb_criteria)]\n",
        "    max_criterion = [np.max(list_alternatives[:,i]) for i in range(nb_criteria)]\n",
        "\n",
        "    values = []\n",
        "    for i in range(nb_criteria):\n",
        "        values_criterion = []\n",
        "        for j in range(L+1):\n",
        "            values_criterion.append(min_criterion[i] + j * (max_criterion[i] - min_criterion[i]) / L)\n",
        "        values.append(values_criterion)\n",
        "\n",
        "    m = Model(\"TD8-Ex2\")\n",
        "\n",
        "    # Variables de bruit :\n",
        "    noise_pos = {i : m.addVar(vtype=GRB.CONTINUOUS, lb = 0, name=f'noise-pos_{i}') for i in range(nb_alternatives)}\n",
        "    noise_neg = {i : m.addVar(vtype=GRB.CONTINUOUS, lb = 0, name=f'noise-neg_{i}') for i in range(nb_alternatives)}\n",
        "\n",
        "    # Variables de découpage linéaire sur la fonction de valeur des critères\n",
        "    s = {(i, j) : m.addVar(vtype = GRB.CONTINUOUS, name=f's_{i}_{j}') for j in range(L+1) for i in range(nb_criteria)}\n",
        "\n",
        "    # estimated value of the evaluation of the alternatives\n",
        "    estimate = {(i, j) : m.addVar(vtype = GRB.CONTINUOUS, name=f'estimate_{i}_{j}') for j in range(nb_criteria) for i in range(nb_alternatives)}\n",
        "\n",
        "    # Contraintes de normalisation\n",
        "    lower_bound = {i : m.addConstr(s[i,0] == 0, name = \"lower_bound_normalization\") for i in range(nb_criteria)}\n",
        "    sum_to_one = m.addConstr((quicksum(s[i,L] for i in range(nb_criteria))) == 1, name = \"sum_to_one\")\n",
        "\n",
        "    # Contraintes de monotonie\n",
        "    monotonicity = {i : {k : m.addConstr(s[i,k+1] >= s[i,k], name = \"monotonicity\") for k in range(L)} for i in range(nb_criteria)}\n",
        "\n",
        "    # Contraintes de préférences\n",
        "    for i in range(nb_alternatives):\n",
        "        for j in range(nb_criteria):\n",
        "            for k in range(L):\n",
        "                if values[j][k] <= partial_ranking[i][j] <= values[j][k+1]:\n",
        "                    m.addConstr(estimate[i,j] == s[j,k] + ((partial_ranking[i][j] - values[j][k]) / (values[j][k+1] - values[j][k])) * (s[j,k+1] - s[j,k]), name = f'estimate_{i}_{j}')\n",
        "    pref = {i : m.addConstr(\n",
        "        quicksum([estimate[(i, j)] for j in range(nb_criteria)]) - quicksum([estimate[(l, j)] for j in range(nb_criteria) for l in range(nb_alternatives) if l == i+1]) - noise_pos[i] + noise_neg[i] >=  - noise_pos[i+1] + noise_neg[i+1] + epsilon) for i in range(nb_alternatives-1)}\n",
        "\n",
        "    # Fonction objectif\n",
        "    m.setObjective(sum(noise_pos[i] + noise_neg[i] for i in range(nb_alternatives)), GRB.MINIMIZE)\n",
        "\n",
        "    m.update()\n",
        "    #print(m.display())\n",
        "\n",
        "    # -- Choix d'un paramétrage d'affichage minimaliste --\n",
        "    m.params.outputflag = 0 # mode muet\n",
        "\n",
        "    # -- Résolution --\n",
        "    m.optimize()\n",
        "\n",
        "    # -- Vérification du statut et Affichage (le cas échéant) des solutions --\n",
        "    if m.status == GRB.INF_OR_UNBD:\n",
        "        m.setParam(GRB.Param.Presolve, 0)\n",
        "        m.optimize()\n",
        "\n",
        "    if m.status == GRB.INFEASIBLE:\n",
        "        print(m.display(), \"\\n\\tN'A PAS DE SOLUTION!!!\")\n",
        "        return None\n",
        "    elif m.status == GRB.UNBOUNDED:\n",
        "        print(m.display(), \"\\n\\tEST NON BORNÉ!!!\")\n",
        "        return None\n",
        "    else:\n",
        "        # Affichage des fonctions linéaires par morceaux :\n",
        "        #print(m.objVal)\n",
        "        #print()\n",
        "        #for i in range(nb_criteria):\n",
        "        #    for j in range(L):\n",
        "        #        print(s[i,j].x, end = \" \")\n",
        "        #    print(s[i,L].x)\n",
        "        #print()\n",
        "\n",
        "\n",
        "        final_evaluations = np.zeros(len(list_alternatives))\n",
        "        for i in range(len(list_alternatives)):\n",
        "            eval = 0\n",
        "            for j in range(nb_criteria):\n",
        "                eval_criterion = 0\n",
        "                for k in range(L):\n",
        "                    if values[j][k] <= list_alternatives[i][j] <= values[j][k+1]:\n",
        "                        eval_criterion = s[j,k].x + (list_alternatives[i][j] - values[j][k]) / (values[j][k+1] - values[j][k]) * (s[j,k+1].x - s[j,k].x)\n",
        "                eval = eval + eval_criterion\n",
        "            final_evaluations[i] = eval\n",
        "            #print(eval)\n",
        "\n",
        "        # Tri (et affichage) des tuples décrivant les évaluations des alternatives sur les différents critères en fonction de la fonction d'utilité linéaire par morceaux déduite\n",
        "        #zipped_lists = zip(final_evaluations,list_alternatives)\n",
        "        #sorted_zipped_lists = sorted(zipped_lists, key=lambda x: x[0], reverse=True)\n",
        "        #sorted_alternatives = [element for _, element in sorted_zipped_lists]\n",
        "        #print(sorted_alternatives)\n",
        "\n",
        "        # Output : l'ordre de préférence déduit sur les alternatives (les alternatives sont représentées par leur indice dans le tableau de départ)\n",
        "        return sorted(range(len(final_evaluations)), key=lambda k: final_evaluations[k], reverse=True)\n",
        "\n",
        "\n",
        "# print(\"Le nouveau classement des universités est le suivant : \",rank(new_universities,reference_universities,4))\n",
        "# print(\"Le nouveau classement des voitures est le suivant : \",rank(new_cars,reference_cars,4))"
      ]
    },
    {
      "cell_type": "code",
      "execution_count": null,
      "metadata": {
        "id": "eaZlNvh2gyB3"
      },
      "outputs": [],
      "source": [
        "F21 = np.array([\n",
        "    [1.2055e+00, 1.5460e+02],\n",
        "    [1.1227e+00, 1.5463e+02],\n",
        "    [9.9670e-01, 1.5504e+02],\n",
        "    [9.6250e-01, 1.6063e+02],\n",
        "    [8.9700e-01, 1.6076e+02],\n",
        "    [8.4250e-01, 1.6342e+02],\n",
        "    [8.2780e-01, 1.6467e+02],\n",
        "    [7.9580e-01, 1.6468e+02],\n",
        "    # [5.8640e-01, 1.6596e+02],\n",
        "    # [4.9960e-01, 1.6647e+02],\n",
        "    # [4.5690e-01, 1.6725e+02],\n",
        "    # [4.3100e-01, 1.6819e+02],\n",
        "    [3.7360e-01, 1.6896e+02],\n",
        "    # [3.5720e-01, 1.7297e+02],\n",
        "    [3.3130e-01, 1.7391e+02],\n",
        "    [2.7390e-01, 1.7468e+02],\n",
        "    # [2.6930e-01, 1.8323e+02],\n",
        "    # [2.5290e-01, 1.8724e+02],\n",
        "    [2.2700e-01, 1.8818e+02],\n",
        "    [1.6960e-01, 1.8895e+02]\n",
        "])\n",
        "\n",
        "train = np.array([\n",
        "    [  0.4569, 167.25  ],\n",
        "    [  0.431 , 168.19  ],\n",
        "    [  0.4996, 166.47  ],\n",
        "    [  0.5864, 165.96  ],\n",
        "    [3.5720e-01, 1.7297e+02],\n",
        "    [  0.2693, 183.23  ],\n",
        "    [  0.2529, 187.24  ],\n",
        "    # [  0.227 , 188.18  ],\n",
        "    [1.2055e+00, 1.5460e+02],\n",
        "])\n",
        "\n",
        "indices = rank(F21, train, 10)\n",
        "F21[indices, ...]\n"
      ]
    },
    {
      "cell_type": "code",
      "execution_count": null,
      "metadata": {
        "id": "FXYLadxxCup5"
      },
      "outputs": [],
      "source": [
        "with plt.style.context('science'):\n",
        "    fig, ax = plt.subplots(1, 1, figsize=(7, 7))\n",
        "\n",
        "    ax.scatter(F2_weighted_no_partial_assignement, F1_weighted_no_partial_assignement, c=\"b\", label=\"\")\n",
        "    ax.scatter(F2_epsilon_method_no_partial_assignement, F1_epsilon_method_no_partial_assignement, c=\"b\", label=\"\")\n",
        "\n",
        "    # for i, (a, b) in enumerate(zip(F2_epsilon_method_no_partial_assignement, F1_epsilon_method_no_partial_assignement)):\n",
        "    #     ax.text(a+1e-2, b+5e-1, i, size=15)\n",
        "\n",
        "    # plt.scatter(0.4996, 166.47, c=\"r\")\n",
        "\n",
        "    plt.scatter(A[:, 0], A[:, 1], c=\"r\")\n",
        "    for i, (a, b) in enumerate(zip(A[:, 0], A[:, 1])):\n",
        "        ax.text(a+1e-2, b+5e-1, i+1, size=15)\n",
        "\n",
        "\n",
        "    ax.set_xlabel(\"Disruption\")\n",
        "    ax.set_ylabel(\"Distance\")\n",
        "    ax.grid()\n",
        "    # ax.legend()\n",
        "\n",
        "fig.savefig(f\"figures/preference_2.pdf\", dpi=500)\n",
        "plt.show()\n"
      ]
    },
    {
      "cell_type": "code",
      "execution_count": null,
      "metadata": {
        "id": "ye5wpNvYekGt"
      },
      "outputs": [],
      "source": [
        "F21 = np.array([\n",
        "    [2.5290e-01, 1.8724e+02],\n",
        "    [4.9960e-01, 1.6647e+02],\n",
        "    [2.6930e-01, 1.8323e+02],\n",
        "    [4.5690e-01, 1.6725e+02],\n",
        "    [4.3100e-01, 1.6819e+02],\n",
        "    [3.5720e-01, 1.7297e+02],\n",
        "    [5.8640e-01, 1.6596e+02],\n",
        "])\n",
        "\n",
        "train = np.array([\n",
        "    [9.6250e-01, 1.6063e+02], # 4\n",
        "\n",
        "    [2.7390e-01, 1.7468e+02],\n",
        "    [9.9670e-01, 1.5504e+02],\n",
        "    [2.2700e-01, 1.8818e+02],\n",
        "    [1.1227e+00, 1.5463e+02],\n",
        "    [1.6960e-01, 1.8895e+02],\n",
        "    [1.2055e+00, 1.5460e+02],\n",
        "\n",
        "\n",
        "\n",
        "    # [8.9700e-01, 1.6076e+02],\n",
        "    # [8.4250e-01, 1.6342e+02],\n",
        "    # [8.2780e-01, 1.6467e+02],\n",
        "    # [7.9580e-01, 1.6468e+02],\n",
        "    # [3.3130e-01, 1.7391e+02],\n",
        "    # [2.7390e-01, 1.7468e+02],\n",
        "    # [3.3130e-01, 1.7391e+02],\n",
        "    # [2.7390e-01, 1.7468e+02],\n",
        "    # [2.2700e-01, 1.8818e+02],\n",
        "    # [3.3130e-01, 1.7391e+02],\n",
        "])\n",
        "\n",
        "indices = rank(F21, train, 10)[:5]\n",
        "A = F21[indices, ...]\n"
      ]
    },
    {
      "cell_type": "code",
      "execution_count": null,
      "metadata": {
        "id": "RJ4ThNsTkpJV"
      },
      "outputs": [],
      "source": []
    }
  ],
  "metadata": {
    "colab": {
      "provenance": [],
      "include_colab_link": true
    },
    "kernelspec": {
      "display_name": "Python 3",
      "name": "python3"
    },
    "language_info": {
      "codemirror_mode": {
        "name": "ipython",
        "version": 3
      },
      "file_extension": ".py",
      "mimetype": "text/x-python",
      "name": "python",
      "nbconvert_exporter": "python",
      "pygments_lexer": "ipython3",
      "version": "3.13.2"
    }
  },
  "nbformat": 4,
  "nbformat_minor": 0
}